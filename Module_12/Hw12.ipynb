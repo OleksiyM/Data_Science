{
  "cells": [
    {
      "cell_type": "markdown",
      "metadata": {
        "id": "n2RkwtXP-fhE"
      },
      "source": [
        "# Text summarization with NLP libraries: nltk and SpaCy (bonus - phi3 model from Microsoft)"
      ]
    },
    {
      "cell_type": "markdown",
      "metadata": {
        "id": "kSTkZMbl-fhG"
      },
      "source": [
        "## Imports"
      ]
    },
    {
      "cell_type": "code",
      "execution_count": 86,
      "metadata": {
        "colab": {
          "base_uri": "https://localhost:8080/"
        },
        "id": "7s_YY2Th-fhG",
        "outputId": "32836698-c2d3-4fcd-f363-881137409ef3"
      },
      "outputs": [
        {
          "name": "stderr",
          "output_type": "stream",
          "text": [
            "[nltk_data] Downloading package punkt to /root/nltk_data...\n",
            "[nltk_data]   Package punkt is already up-to-date!\n",
            "[nltk_data] Downloading package stopwords to /root/nltk_data...\n",
            "[nltk_data]   Package stopwords is already up-to-date!\n"
          ]
        },
        {
          "data": {
            "text/plain": [
              "True"
            ]
          },
          "execution_count": 86,
          "metadata": {},
          "output_type": "execute_result"
        }
      ],
      "source": [
        "import spacy\n",
        "import nltk\n",
        "from nltk.corpus import stopwords\n",
        "from nltk.tokenize import word_tokenize, sent_tokenize\n",
        "from string import punctuation\n",
        "from heapq import nlargest\n",
        "\n",
        "nltk.download('punkt')\n",
        "nltk.download('stopwords')"
      ]
    },
    {
      "cell_type": "code",
      "execution_count": 87,
      "metadata": {
        "colab": {
          "base_uri": "https://localhost:8080/"
        },
        "id": "BxfVrxuZ-fhH",
        "outputId": "af0be244-cef8-4143-9bf0-a8be64db8216"
      },
      "outputs": [
        {
          "name": "stdout",
          "output_type": "stream",
          "text": [
            "Original text:\n",
            "Chars: 2906\n"
          ]
        }
      ],
      "source": [
        "# Text for processing\n",
        "# text = \"This is an example sentence for tokenization and lemmatization.\"\n",
        "text = \"The Orbiter Discovery, OV-103, is considered eligible for listing in the National Register of Historic Places (NRHP) in the context of the U.S. Space Shuttle Program (1969-2011) under Criterion A in the areas of Space Exploration and Transportation and under Criterion C in the area of Engineering. Because it has achieved significance within the past fifty years, Criteria Consideration G applies. Under Criterion A, Discovery is significant as the oldest of the three extant orbiter vehicles constructed for the Space Shuttle Program (SSP), the longest running American space program to date; she was the third of five orbiters built by NASA. Unlike the Mercury, Gemini, and Apollo programs, the SSP’s emphasis was on cost effectiveness and reusability, and eventually the construction of a space station. Including her maiden voyage (launched August 30, 1984), Discovery flew to space thirty-nine times, more than any of the other four orbiters; she was also the first orbiter to fly twenty missions. She had the honor of being chosen as the Return to Flight vehicle after both the Challenger and Columbia accidents. Discovery was the first shuttle to fly with the redesigned SRBs, a result of the Challenger accident, and the first shuttle to fly with the Phase II and Block I SSME. Discovery also carried the Hubble Space Telescope to orbit and performed two of the five servicing missions to the observatory. She flew the first and last dedicated Department of Defense (DoD) missions, as well as the first unclassified defense-related mission. In addition, Discovery was vital to the construction of the International Space Station (ISS); she flew thirteen of the thirty-seven total missions flown to the station by a U.S. Space Shuttle. She was the first orbiter to dock to the ISS, and the first to perform an exchange of a resident crew. Under Criterion C, Discovery is significant as a feat of engineering. According to Wayne Hale, a flight director from Johnson Space Center, the Space Shuttle orbiter represents a “huge technological leap from expendable rockets and capsules to a reusable, winged, hypersonic, cargo-carrying spacecraft.” Although her base structure followed a conventional aircraft design, she used advanced materials that both minimized her weight for cargo-carrying purposes and featured low thermal expansion ratios, which provided a stable base for her Thermal Protection System (TPS) materials. The Space Shuttle orbiter also featured the first reusable TPS; all previous spaceflight vehicles had a single-use, ablative heat shield. Other notable engineering achievements of the orbiter included the first reusable orbital propulsion system, and the first two-fault-tolerant Integrated Avionics System. As Hale stated, the Space Shuttle remains “the largest, fastest, winged hypersonic aircraft in history,” having regularly flown at twenty-five times the speed of sound.\"\n",
        "\n",
        "print(f'Original text:\\nChars: {len(text)}')\n",
        "\n",
        "# % sentences\n",
        "percent_centenses = 0.4"
      ]
    },
    {
      "cell_type": "markdown",
      "metadata": {
        "id": "kEXQ9lF8CvmS"
      },
      "source": [
        "## NLTK Summarization"
      ]
    },
    {
      "cell_type": "code",
      "execution_count": 88,
      "metadata": {
        "colab": {
          "base_uri": "https://localhost:8080/"
        },
        "id": "hIMcy04X-fhH",
        "outputId": "95daa340-e4e7-4ddf-d0cf-9926f80913da"
      },
      "outputs": [
        {
          "name": "stdout",
          "output_type": "stream",
          "text": [
            "NLTK summary:\n",
            "Sentences: 6 Chars: 842\n",
            "Other notable engineering achievements of the orbiter included the first reusable orbital propulsion system, and the first two-fault-tolerant Integrated Avionics System. The Space Shuttle orbiter also featured the first reusable TPS; all previous spaceflight vehicles had a single-use, ablative heat shield. She flew the first and last dedicated Department of Defense (DoD) missions, as well as the first unclassified defense-related mission. She was the first orbiter to dock to the ISS, and the first to perform an exchange of a resident crew. As Hale stated, the Space Shuttle remains “the largest, fastest, winged hypersonic aircraft in history,” having regularly flown at twenty-five times the speed of sound. Discovery also carried the Hubble Space Telescope to orbit and performed two of the five servicing missions to the observatory.\n"
          ]
        }
      ],
      "source": [
        "# NLTK summarization\n",
        "stop_words = set(stopwords.words('english'))\n",
        "\n",
        "# Tokenization\n",
        "sentences = sent_tokenize(text)\n",
        "\n",
        "word_frequencies = {}\n",
        "for word in word_tokenize(text):\n",
        "    if word.lower() not in stop_words and word.lower() not in punctuation:\n",
        "        if word not in word_frequencies:\n",
        "            word_frequencies[word] = 1\n",
        "        else:\n",
        "            word_frequencies[word] += 1\n",
        "\n",
        "maximum_frequency = max(word_frequencies.values())\n",
        "\n",
        "# Normalize word frequencies\n",
        "for word in word_frequencies:\n",
        "    word_frequencies[word] = word_frequencies[word] / maximum_frequency\n",
        "\n",
        "# Compute sentence scores\n",
        "sentence_scores = {}\n",
        "for sentence in sentences:\n",
        "    for word in word_tokenize(sentence.lower()):\n",
        "        if word in word_frequencies:\n",
        "            if len(sentence.split(' ')) < 30:\n",
        "                if sentence not in sentence_scores:\n",
        "                    sentence_scores[sentence] = word_frequencies[word]\n",
        "                else:\n",
        "                    sentence_scores[sentence] += word_frequencies[word]\n",
        "\n",
        "# % sentences for summarization\n",
        "select_length = int(len(sentences) * percent_centenses)\n",
        "nltk_summary_sentences = nlargest(select_length, sentence_scores, key=sentence_scores.get)\n",
        "nltk_summary = ' '.join(nltk_summary_sentences)\n",
        "print(f'NLTK summary:\\nSentences: {len(nltk_summary_sentences)} Chars: {len(nltk_summary)}\\n{nltk_summary}')"
      ]
    },
    {
      "cell_type": "markdown",
      "metadata": {
        "id": "814C3T1aC3X6"
      },
      "source": [
        "## SpaCy Summarization"
      ]
    },
    {
      "cell_type": "code",
      "execution_count": 89,
      "metadata": {
        "colab": {
          "base_uri": "https://localhost:8080/"
        },
        "id": "8UQL-MKtC45n",
        "outputId": "29d54dac-7c9e-451e-e395-42e6b81e7d19"
      },
      "outputs": [
        {
          "name": "stdout",
          "output_type": "stream",
          "text": [
            "SpaCy summary:\n",
            "Sentences: 6 Chars: 842\n",
            "Other notable engineering achievements of the orbiter included the first reusable orbital propulsion system, and the first two-fault-tolerant Integrated Avionics System. The Space Shuttle orbiter also featured the first reusable TPS; all previous spaceflight vehicles had a single-use, ablative heat shield. She flew the first and last dedicated Department of Defense (DoD) missions, as well as the first unclassified defense-related mission. As Hale stated, the Space Shuttle remains “the largest, fastest, winged hypersonic aircraft in history,” having regularly flown at twenty-five times the speed of sound. She was the first orbiter to dock to the ISS, and the first to perform an exchange of a resident crew. Discovery also carried the Hubble Space Telescope to orbit and performed two of the five servicing missions to the observatory.\n"
          ]
        }
      ],
      "source": [
        "# SpaCy summarization\n",
        "nlp = spacy.load('en_core_web_sm')\n",
        "\n",
        "doc = nlp(text)\n",
        "\n",
        "# Extract sentences\n",
        "sentences = [sent.text for sent in doc.sents]\n",
        "\n",
        "punctuation = punctuation + '\\n'\n",
        "\n",
        "# Tokenize words and remove stop words and punctuation\n",
        "word_frequencies = {}\n",
        "for word in doc:\n",
        "    if word.text.lower() not in stop_words and word.text.lower() not in punctuation:\n",
        "        if word.text not in word_frequencies:\n",
        "            word_frequencies[word.text] = 1\n",
        "        else:\n",
        "            word_frequencies[word.text] += 1\n",
        "\n",
        "maximum_frequency = max(word_frequencies.values())\n",
        "\n",
        "# Normalize word frequencies\n",
        "for word in word_frequencies:\n",
        "    word_frequencies[word] = word_frequencies[word] / maximum_frequency\n",
        "\n",
        "# Compute sentence scores\n",
        "sentence_scores = {}\n",
        "for sentence in sentences:\n",
        "    for word in nlp(sentence.lower()):\n",
        "        if word.text in word_frequencies:\n",
        "            if len(sentence.split(' ')) < 30:\n",
        "                if sentence not in sentence_scores:\n",
        "                    sentence_scores[sentence] = word_frequencies[word.text]\n",
        "                else:\n",
        "                    sentence_scores[sentence] += word_frequencies[word.text]\n",
        "\n",
        "# % sentences for summarization\n",
        "select_length = int(len(sentences) * percent_centenses)\n",
        "spacy_summary_sentences = nlargest(select_length, sentence_scores, key=sentence_scores.get)\n",
        "spacy_summary = ' '.join(spacy_summary_sentences)\n",
        "print(f'SpaCy summary:\\nSentences: {len(spacy_summary_sentences)} Chars: {len(spacy_summary)}\\n{spacy_summary}')"
      ]
    },
    {
      "cell_type": "markdown",
      "metadata": {
        "id": "mvmHSo4iSscs"
      },
      "source": [
        "## Local phi3:latest model installed via ollama Summarization\n",
        "* install ollama from https://ollama.com/ for you OS\n",
        "* run in the console `ollama run phi3:latest`\n",
        "* run cell below"
      ]
    },
    {
      "cell_type": "code",
      "execution_count": 2,
      "metadata": {
        "id": "Tdl1ZVAqSuCv"
      },
      "outputs": [
        {
          "name": "stdout",
          "output_type": "stream",
          "text": [
            "Phi3 summary:\n",
            "Chars: 726\n",
            "The Orbiter Discovery (OV-103) is eligible for listing on the National Register of Historic Places due to its significance within the U.S. Space Shuttle Program, highlighting it as the oldest orbiter constructed and achieving notable milestones such as first flight in 1984, twenty missions, Hubble servicing, ISS construction contributions, and engineering innovations like reusable TPS and two-fault tolerant avionics system. It was also involved after Challenger/Columbia disasters, with the redesigned SRBs and SSME enhancements. Discovery flew thirty-nine times, surpassing other orbiters, making it a valuable candidate for historic preservation under Criteria A (Space Exploration & Transportation) and C (Engineering).\n"
          ]
        }
      ],
      "source": [
        "#ollama run phi3:latest\n",
        "import requests\n",
        "import json\n",
        "\n",
        "\n",
        "OLLAMA_ENDPOINT = \"http://localhost:11434/api/generate\"\n",
        "system_prompt = 'Your goal is to summarize the text given to you in roughly less than 900 chars. Only output the summary without any additional text. Focus on providing a summary in freeform text with what people said and the action items coming out of it. Text: '\n",
        "text = \"The Orbiter Discovery, OV-103, is considered eligible for listing in the National Register of Historic Places (NRHP) in the context of the U.S. Space Shuttle Program (1969-2011) under Criterion A in the areas of Space Exploration and Transportation and under Criterion C in the area of Engineering. Because it has achieved significance within the past fifty years, Criteria Consideration G applies. Under Criterion A, Discovery is significant as the oldest of the three extant orbiter vehicles constructed for the Space Shuttle Program (SSP), the longest running American space program to date; she was the third of five orbiters built by NASA. Unlike the Mercury, Gemini, and Apollo programs, the SSP’s emphasis was on cost effectiveness and reusability, and eventually the construction of a space station. Including her maiden voyage (launched August 30, 1984), Discovery flew to space thirty-nine times, more than any of the other four orbiters; she was also the first orbiter to fly twenty missions. She had the honor of being chosen as the Return to Flight vehicle after both the Challenger and Columbia accidents. Discovery was the first shuttle to fly with the redesigned SRBs, a result of the Challenger accident, and the first shuttle to fly with the Phase II and Block I SSME. Discovery also carried the Hubble Space Telescope to orbit and performed two of the five servicing missions to the observatory. She flew the first and last dedicated Department of Defense (DoD) missions, as well as the first unclassified defense-related mission. In addition, Discovery was vital to the construction of the International Space Station (ISS); she flew thirteen of the thirty-seven total missions flown to the station by a U.S. Space Shuttle. She was the first orbiter to dock to the ISS, and the first to perform an exchange of a resident crew. Under Criterion C, Discovery is significant as a feat of engineering. According to Wayne Hale, a flight director from Johnson Space Center, the Space Shuttle orbiter represents a “huge technological leap from expendable rockets and capsules to a reusable, winged, hypersonic, cargo-carrying spacecraft.” Although her base structure followed a conventional aircraft design, she used advanced materials that both minimized her weight for cargo-carrying purposes and featured low thermal expansion ratios, which provided a stable base for her Thermal Protection System (TPS) materials. The Space Shuttle orbiter also featured the first reusable TPS; all previous spaceflight vehicles had a single-use, ablative heat shield. Other notable engineering achievements of the orbiter included the first reusable orbital propulsion system, and the first two-fault-tolerant Integrated Avionics System. As Hale stated, the Space Shuttle remains “the largest, fastest, winged hypersonic aircraft in history,” having regularly flown at twenty-five times the speed of sound.\"\n",
        "\n",
        "\n",
        "OLLAMA_PROMPT = f\"{system_prompt}: {text}\"\n",
        "OLLAMA_DATA = {\n",
        "     \"model\": \"phi3:latest\",\n",
        "     \"prompt\": OLLAMA_PROMPT,\n",
        "     \"stream\": False,\n",
        "     \"keep_alive\": \"1m\",\n",
        "  }\n",
        "\n",
        "response = requests.post(OLLAMA_ENDPOINT, json=OLLAMA_DATA)\n",
        "ollama_summary = response.json()[\"response\"]\n",
        "\n",
        "print(f'Phi3 summary:\\nChars: {len(ollama_summary)}\\n{ollama_summary}')\n"
      ]
    },
    {
      "cell_type": "markdown",
      "metadata": {},
      "source": [
        "## Text Summarization Project Summary\n",
        "\n",
        "This project compared three different approaches to text summarization: NLTK, SpaCy, and phi3 (accesed via Ollama model from Microsoft). The goal was to summarize a given text snippet about the Space Shuttle Orbiter Discovery.\n",
        "\n",
        "**Text:**\n",
        "\n",
        "The passage  discussed the Space Shuttle Orbiter Discovery (OV-103) and its eligibility for listing on the National Register of Historic Places. It highlighted Discovery's role in the U.S. Space Shuttle Program, including its construction, missions flown, and engineering advancements. \n",
        "\n",
        "**Desired Summary Length:**\n",
        "\n",
        "Approximately 6 sentences and under 900 characters.\n",
        "\n",
        "**Comparison of Results:**\n",
        "\n",
        "| Summarization Technique | Summary | Character Count |\n",
        "|---|---|---|\n",
        "| NLTK | Focused on the engineering achievements of Discovery, including the reusable TPS and first two-fault-tolerant avionics system. Also mentioned Discovery's role in DoD missions and the ISS. (6 sentences, 842 characters) | 842 |\n",
        "| SpaCy | Identical to NLTK summary. (6 sentences, 842 characters) | 842 |\n",
        "| phi3 | Provided a broader summary including Discovery's construction, notable milestones (first flight, missions, Hubble servicing, ISS contributions), engineering innovations, and involvement after the Challenger and Columbia accidents. (**726 characters**) | 726 |\n",
        "\n",
        "**Observations:**\n",
        "\n",
        "* NLTK and SpaCy produced identical summaries, focusing on the engineering aspects and involvement with the DoD and ISS.\n",
        "* phi3 generated a more concise summary that captured the key points of Discovery's significance, including its historical role, achievements, and engineering advancements.\n",
        "\n",
        "**Overall:**\n",
        "\n",
        "phi3 achieved the desired summary length while providing a more comprehensive overview of the text compared to NLTK and SpaCy. While NLTK and SpaCy are good options for extractive summarization based on word frequencies, phi3 demonstrates the capabilities of large language models for abstractive summarization that captures the overall meaning and key points of the text, but requires additional setup.\n",
        "\n"
      ]
    }
  ],
  "metadata": {
    "colab": {
      "provenance": []
    },
    "kernelspec": {
      "display_name": "Python 3",
      "language": "python",
      "name": "python3"
    },
    "language_info": {
      "codemirror_mode": {
        "name": "ipython",
        "version": 3
      },
      "file_extension": ".py",
      "mimetype": "text/x-python",
      "name": "python",
      "nbconvert_exporter": "python",
      "pygments_lexer": "ipython3",
      "version": "3.11.9"
    }
  },
  "nbformat": 4,
  "nbformat_minor": 0
}
