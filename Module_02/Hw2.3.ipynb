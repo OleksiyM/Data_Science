{
  "nbformat": 4,
  "nbformat_minor": 0,
  "metadata": {
    "colab": {
      "provenance": []
    },
    "kernelspec": {
      "name": "python3",
      "display_name": "Python 3"
    },
    "language_info": {
      "name": "python"
    }
  },
  "cells": [
    {
      "cell_type": "markdown",
      "source": [
        "# Частина третя: Аналіз датасет c `Kaggle.com` - [link](https://www.kaggle.com/datasets/sootersaalu/amazon-top-50-bestselling-books-2009-2019/data)"
      ],
      "metadata": {
        "id": "XOrSwYR-VhGZ"
      }
    },
    {
      "cell_type": "code",
      "source": [
        "import numpy as np\n",
        "import pandas as pd\n",
        "\n",
        "from IPython.display import Markdown as md"
      ],
      "metadata": {
        "id": "PHzVcIDjVo00"
      },
      "execution_count": 194,
      "outputs": []
    },
    {
      "cell_type": "markdown",
      "source": [
        "## Необхідно виконати:\n",
        "* Прочитайте csv файл (використовуйте функцію `read_csv`)\n",
        "* Виведіть перші п'ять рядків (використовується функція `head`)\n",
        "* Виведіть розміри датасету (використовуйте атрибут `shape`)\n"
      ],
      "metadata": {
        "id": "QGq90H2LW8QU"
      }
    },
    {
      "cell_type": "code",
      "source": [
        "#\n",
        "df = pd.read_csv('bestsellers with categories.csv')"
      ],
      "metadata": {
        "id": "X_w_byS5YkV8"
      },
      "execution_count": 195,
      "outputs": []
    },
    {
      "cell_type": "code",
      "source": [
        "df.head()"
      ],
      "metadata": {
        "id": "UWE26_56Ck7l",
        "colab": {
          "base_uri": "https://localhost:8080/",
          "height": 206
        },
        "outputId": "94086877-926d-4547-dcee-73561aa760d2"
      },
      "execution_count": 196,
      "outputs": [
        {
          "output_type": "execute_result",
          "data": {
            "text/plain": [
              "                                                Name  \\\n",
              "0                      10-Day Green Smoothie Cleanse   \n",
              "1                                  11/22/63: A Novel   \n",
              "2            12 Rules for Life: An Antidote to Chaos   \n",
              "3                             1984 (Signet Classics)   \n",
              "4  5,000 Awesome Facts (About Everything!) (Natio...   \n",
              "\n",
              "                     Author  User Rating  Reviews  Price  Year        Genre  \n",
              "0                  JJ Smith          4.7    17350      8  2016  Non Fiction  \n",
              "1              Stephen King          4.6     2052     22  2011      Fiction  \n",
              "2        Jordan B. Peterson          4.7    18979     15  2018  Non Fiction  \n",
              "3             George Orwell          4.7    21424      6  2017      Fiction  \n",
              "4  National Geographic Kids          4.8     7665     12  2019  Non Fiction  "
            ],
            "text/html": [
              "\n",
              "  <div id=\"df-96c20c8a-8077-4795-8020-4a0264225d12\" class=\"colab-df-container\">\n",
              "    <div>\n",
              "<style scoped>\n",
              "    .dataframe tbody tr th:only-of-type {\n",
              "        vertical-align: middle;\n",
              "    }\n",
              "\n",
              "    .dataframe tbody tr th {\n",
              "        vertical-align: top;\n",
              "    }\n",
              "\n",
              "    .dataframe thead th {\n",
              "        text-align: right;\n",
              "    }\n",
              "</style>\n",
              "<table border=\"1\" class=\"dataframe\">\n",
              "  <thead>\n",
              "    <tr style=\"text-align: right;\">\n",
              "      <th></th>\n",
              "      <th>Name</th>\n",
              "      <th>Author</th>\n",
              "      <th>User Rating</th>\n",
              "      <th>Reviews</th>\n",
              "      <th>Price</th>\n",
              "      <th>Year</th>\n",
              "      <th>Genre</th>\n",
              "    </tr>\n",
              "  </thead>\n",
              "  <tbody>\n",
              "    <tr>\n",
              "      <th>0</th>\n",
              "      <td>10-Day Green Smoothie Cleanse</td>\n",
              "      <td>JJ Smith</td>\n",
              "      <td>4.7</td>\n",
              "      <td>17350</td>\n",
              "      <td>8</td>\n",
              "      <td>2016</td>\n",
              "      <td>Non Fiction</td>\n",
              "    </tr>\n",
              "    <tr>\n",
              "      <th>1</th>\n",
              "      <td>11/22/63: A Novel</td>\n",
              "      <td>Stephen King</td>\n",
              "      <td>4.6</td>\n",
              "      <td>2052</td>\n",
              "      <td>22</td>\n",
              "      <td>2011</td>\n",
              "      <td>Fiction</td>\n",
              "    </tr>\n",
              "    <tr>\n",
              "      <th>2</th>\n",
              "      <td>12 Rules for Life: An Antidote to Chaos</td>\n",
              "      <td>Jordan B. Peterson</td>\n",
              "      <td>4.7</td>\n",
              "      <td>18979</td>\n",
              "      <td>15</td>\n",
              "      <td>2018</td>\n",
              "      <td>Non Fiction</td>\n",
              "    </tr>\n",
              "    <tr>\n",
              "      <th>3</th>\n",
              "      <td>1984 (Signet Classics)</td>\n",
              "      <td>George Orwell</td>\n",
              "      <td>4.7</td>\n",
              "      <td>21424</td>\n",
              "      <td>6</td>\n",
              "      <td>2017</td>\n",
              "      <td>Fiction</td>\n",
              "    </tr>\n",
              "    <tr>\n",
              "      <th>4</th>\n",
              "      <td>5,000 Awesome Facts (About Everything!) (Natio...</td>\n",
              "      <td>National Geographic Kids</td>\n",
              "      <td>4.8</td>\n",
              "      <td>7665</td>\n",
              "      <td>12</td>\n",
              "      <td>2019</td>\n",
              "      <td>Non Fiction</td>\n",
              "    </tr>\n",
              "  </tbody>\n",
              "</table>\n",
              "</div>\n",
              "    <div class=\"colab-df-buttons\">\n",
              "\n",
              "  <div class=\"colab-df-container\">\n",
              "    <button class=\"colab-df-convert\" onclick=\"convertToInteractive('df-96c20c8a-8077-4795-8020-4a0264225d12')\"\n",
              "            title=\"Convert this dataframe to an interactive table.\"\n",
              "            style=\"display:none;\">\n",
              "\n",
              "  <svg xmlns=\"http://www.w3.org/2000/svg\" height=\"24px\" viewBox=\"0 -960 960 960\">\n",
              "    <path d=\"M120-120v-720h720v720H120Zm60-500h600v-160H180v160Zm220 220h160v-160H400v160Zm0 220h160v-160H400v160ZM180-400h160v-160H180v160Zm440 0h160v-160H620v160ZM180-180h160v-160H180v160Zm440 0h160v-160H620v160Z\"/>\n",
              "  </svg>\n",
              "    </button>\n",
              "\n",
              "  <style>\n",
              "    .colab-df-container {\n",
              "      display:flex;\n",
              "      gap: 12px;\n",
              "    }\n",
              "\n",
              "    .colab-df-convert {\n",
              "      background-color: #E8F0FE;\n",
              "      border: none;\n",
              "      border-radius: 50%;\n",
              "      cursor: pointer;\n",
              "      display: none;\n",
              "      fill: #1967D2;\n",
              "      height: 32px;\n",
              "      padding: 0 0 0 0;\n",
              "      width: 32px;\n",
              "    }\n",
              "\n",
              "    .colab-df-convert:hover {\n",
              "      background-color: #E2EBFA;\n",
              "      box-shadow: 0px 1px 2px rgba(60, 64, 67, 0.3), 0px 1px 3px 1px rgba(60, 64, 67, 0.15);\n",
              "      fill: #174EA6;\n",
              "    }\n",
              "\n",
              "    .colab-df-buttons div {\n",
              "      margin-bottom: 4px;\n",
              "    }\n",
              "\n",
              "    [theme=dark] .colab-df-convert {\n",
              "      background-color: #3B4455;\n",
              "      fill: #D2E3FC;\n",
              "    }\n",
              "\n",
              "    [theme=dark] .colab-df-convert:hover {\n",
              "      background-color: #434B5C;\n",
              "      box-shadow: 0px 1px 3px 1px rgba(0, 0, 0, 0.15);\n",
              "      filter: drop-shadow(0px 1px 2px rgba(0, 0, 0, 0.3));\n",
              "      fill: #FFFFFF;\n",
              "    }\n",
              "  </style>\n",
              "\n",
              "    <script>\n",
              "      const buttonEl =\n",
              "        document.querySelector('#df-96c20c8a-8077-4795-8020-4a0264225d12 button.colab-df-convert');\n",
              "      buttonEl.style.display =\n",
              "        google.colab.kernel.accessAllowed ? 'block' : 'none';\n",
              "\n",
              "      async function convertToInteractive(key) {\n",
              "        const element = document.querySelector('#df-96c20c8a-8077-4795-8020-4a0264225d12');\n",
              "        const dataTable =\n",
              "          await google.colab.kernel.invokeFunction('convertToInteractive',\n",
              "                                                    [key], {});\n",
              "        if (!dataTable) return;\n",
              "\n",
              "        const docLinkHtml = 'Like what you see? Visit the ' +\n",
              "          '<a target=\"_blank\" href=https://colab.research.google.com/notebooks/data_table.ipynb>data table notebook</a>'\n",
              "          + ' to learn more about interactive tables.';\n",
              "        element.innerHTML = '';\n",
              "        dataTable['output_type'] = 'display_data';\n",
              "        await google.colab.output.renderOutput(dataTable, element);\n",
              "        const docLink = document.createElement('div');\n",
              "        docLink.innerHTML = docLinkHtml;\n",
              "        element.appendChild(docLink);\n",
              "      }\n",
              "    </script>\n",
              "  </div>\n",
              "\n",
              "\n",
              "<div id=\"df-08f510bf-9ac5-4b1b-a7dd-23d088ffbece\">\n",
              "  <button class=\"colab-df-quickchart\" onclick=\"quickchart('df-08f510bf-9ac5-4b1b-a7dd-23d088ffbece')\"\n",
              "            title=\"Suggest charts\"\n",
              "            style=\"display:none;\">\n",
              "\n",
              "<svg xmlns=\"http://www.w3.org/2000/svg\" height=\"24px\"viewBox=\"0 0 24 24\"\n",
              "     width=\"24px\">\n",
              "    <g>\n",
              "        <path d=\"M19 3H5c-1.1 0-2 .9-2 2v14c0 1.1.9 2 2 2h14c1.1 0 2-.9 2-2V5c0-1.1-.9-2-2-2zM9 17H7v-7h2v7zm4 0h-2V7h2v10zm4 0h-2v-4h2v4z\"/>\n",
              "    </g>\n",
              "</svg>\n",
              "  </button>\n",
              "\n",
              "<style>\n",
              "  .colab-df-quickchart {\n",
              "      --bg-color: #E8F0FE;\n",
              "      --fill-color: #1967D2;\n",
              "      --hover-bg-color: #E2EBFA;\n",
              "      --hover-fill-color: #174EA6;\n",
              "      --disabled-fill-color: #AAA;\n",
              "      --disabled-bg-color: #DDD;\n",
              "  }\n",
              "\n",
              "  [theme=dark] .colab-df-quickchart {\n",
              "      --bg-color: #3B4455;\n",
              "      --fill-color: #D2E3FC;\n",
              "      --hover-bg-color: #434B5C;\n",
              "      --hover-fill-color: #FFFFFF;\n",
              "      --disabled-bg-color: #3B4455;\n",
              "      --disabled-fill-color: #666;\n",
              "  }\n",
              "\n",
              "  .colab-df-quickchart {\n",
              "    background-color: var(--bg-color);\n",
              "    border: none;\n",
              "    border-radius: 50%;\n",
              "    cursor: pointer;\n",
              "    display: none;\n",
              "    fill: var(--fill-color);\n",
              "    height: 32px;\n",
              "    padding: 0;\n",
              "    width: 32px;\n",
              "  }\n",
              "\n",
              "  .colab-df-quickchart:hover {\n",
              "    background-color: var(--hover-bg-color);\n",
              "    box-shadow: 0 1px 2px rgba(60, 64, 67, 0.3), 0 1px 3px 1px rgba(60, 64, 67, 0.15);\n",
              "    fill: var(--button-hover-fill-color);\n",
              "  }\n",
              "\n",
              "  .colab-df-quickchart-complete:disabled,\n",
              "  .colab-df-quickchart-complete:disabled:hover {\n",
              "    background-color: var(--disabled-bg-color);\n",
              "    fill: var(--disabled-fill-color);\n",
              "    box-shadow: none;\n",
              "  }\n",
              "\n",
              "  .colab-df-spinner {\n",
              "    border: 2px solid var(--fill-color);\n",
              "    border-color: transparent;\n",
              "    border-bottom-color: var(--fill-color);\n",
              "    animation:\n",
              "      spin 1s steps(1) infinite;\n",
              "  }\n",
              "\n",
              "  @keyframes spin {\n",
              "    0% {\n",
              "      border-color: transparent;\n",
              "      border-bottom-color: var(--fill-color);\n",
              "      border-left-color: var(--fill-color);\n",
              "    }\n",
              "    20% {\n",
              "      border-color: transparent;\n",
              "      border-left-color: var(--fill-color);\n",
              "      border-top-color: var(--fill-color);\n",
              "    }\n",
              "    30% {\n",
              "      border-color: transparent;\n",
              "      border-left-color: var(--fill-color);\n",
              "      border-top-color: var(--fill-color);\n",
              "      border-right-color: var(--fill-color);\n",
              "    }\n",
              "    40% {\n",
              "      border-color: transparent;\n",
              "      border-right-color: var(--fill-color);\n",
              "      border-top-color: var(--fill-color);\n",
              "    }\n",
              "    60% {\n",
              "      border-color: transparent;\n",
              "      border-right-color: var(--fill-color);\n",
              "    }\n",
              "    80% {\n",
              "      border-color: transparent;\n",
              "      border-right-color: var(--fill-color);\n",
              "      border-bottom-color: var(--fill-color);\n",
              "    }\n",
              "    90% {\n",
              "      border-color: transparent;\n",
              "      border-bottom-color: var(--fill-color);\n",
              "    }\n",
              "  }\n",
              "</style>\n",
              "\n",
              "  <script>\n",
              "    async function quickchart(key) {\n",
              "      const quickchartButtonEl =\n",
              "        document.querySelector('#' + key + ' button');\n",
              "      quickchartButtonEl.disabled = true;  // To prevent multiple clicks.\n",
              "      quickchartButtonEl.classList.add('colab-df-spinner');\n",
              "      try {\n",
              "        const charts = await google.colab.kernel.invokeFunction(\n",
              "            'suggestCharts', [key], {});\n",
              "      } catch (error) {\n",
              "        console.error('Error during call to suggestCharts:', error);\n",
              "      }\n",
              "      quickchartButtonEl.classList.remove('colab-df-spinner');\n",
              "      quickchartButtonEl.classList.add('colab-df-quickchart-complete');\n",
              "    }\n",
              "    (() => {\n",
              "      let quickchartButtonEl =\n",
              "        document.querySelector('#df-08f510bf-9ac5-4b1b-a7dd-23d088ffbece button');\n",
              "      quickchartButtonEl.style.display =\n",
              "        google.colab.kernel.accessAllowed ? 'block' : 'none';\n",
              "    })();\n",
              "  </script>\n",
              "</div>\n",
              "    </div>\n",
              "  </div>\n"
            ],
            "application/vnd.google.colaboratory.intrinsic+json": {
              "type": "dataframe",
              "variable_name": "df",
              "summary": "{\n  \"name\": \"df\",\n  \"rows\": 550,\n  \"fields\": [\n    {\n      \"column\": \"Name\",\n      \"properties\": {\n        \"dtype\": \"string\",\n        \"num_unique_values\": 351,\n        \"samples\": [\n          \"Life\",\n          \"Where the Crawdads Sing\",\n          \"Thinking, Fast and Slow\"\n        ],\n        \"semantic_type\": \"\",\n        \"description\": \"\"\n      }\n    },\n    {\n      \"column\": \"Author\",\n      \"properties\": {\n        \"dtype\": \"category\",\n        \"num_unique_values\": 248,\n        \"samples\": [\n          \"Jeff Kinney\",\n          \"Amor Towles\",\n          \"Stieg Larsson\"\n        ],\n        \"semantic_type\": \"\",\n        \"description\": \"\"\n      }\n    },\n    {\n      \"column\": \"User Rating\",\n      \"properties\": {\n        \"dtype\": \"number\",\n        \"std\": 0.2269803650251963,\n        \"min\": 3.3,\n        \"max\": 4.9,\n        \"num_unique_values\": 14,\n        \"samples\": [\n          3.8,\n          4.0,\n          4.7\n        ],\n        \"semantic_type\": \"\",\n        \"description\": \"\"\n      }\n    },\n    {\n      \"column\": \"Reviews\",\n      \"properties\": {\n        \"dtype\": \"number\",\n        \"std\": 11731,\n        \"min\": 37,\n        \"max\": 87841,\n        \"num_unique_values\": 346,\n        \"samples\": [\n          5972,\n          1884,\n          49288\n        ],\n        \"semantic_type\": \"\",\n        \"description\": \"\"\n      }\n    },\n    {\n      \"column\": \"Price\",\n      \"properties\": {\n        \"dtype\": \"number\",\n        \"std\": 10,\n        \"min\": 0,\n        \"max\": 105,\n        \"num_unique_values\": 40,\n        \"samples\": [\n          0,\n          24,\n          9\n        ],\n        \"semantic_type\": \"\",\n        \"description\": \"\"\n      }\n    },\n    {\n      \"column\": \"Year\",\n      \"properties\": {\n        \"dtype\": \"number\",\n        \"std\": 3,\n        \"min\": 2009,\n        \"max\": 2019,\n        \"num_unique_values\": 11,\n        \"samples\": [\n          2014,\n          2016,\n          2013\n        ],\n        \"semantic_type\": \"\",\n        \"description\": \"\"\n      }\n    },\n    {\n      \"column\": \"Genre\",\n      \"properties\": {\n        \"dtype\": \"category\",\n        \"num_unique_values\": 2,\n        \"samples\": [\n          \"Fiction\",\n          \"Non Fiction\"\n        ],\n        \"semantic_type\": \"\",\n        \"description\": \"\"\n      }\n    }\n  ]\n}"
            }
          },
          "metadata": {},
          "execution_count": 196
        }
      ]
    },
    {
      "cell_type": "code",
      "source": [
        "df.shape"
      ],
      "metadata": {
        "id": "EUIt4g8ZCxSM",
        "colab": {
          "base_uri": "https://localhost:8080/"
        },
        "outputId": "465705df-c86c-4af5-f115-1d5d764f7446"
      },
      "execution_count": 197,
      "outputs": [
        {
          "output_type": "execute_result",
          "data": {
            "text/plain": [
              "(550, 7)"
            ]
          },
          "metadata": {},
          "execution_count": 197
        }
      ]
    },
    {
      "cell_type": "markdown",
      "source": [
        "### Про скільки книг зберігає дані датасет?"
      ],
      "metadata": {
        "id": "HHWZrKOPYmAx"
      }
    },
    {
      "cell_type": "code",
      "source": [
        "# print('Відповідь:')\n",
        "# print(f'* Про скільки книг зберігає дані датасет?\\nВідповідь: {df.shape[0]} книг')\n",
        "num_unique_books = df.Name.nunique()\n",
        "md(f'* Про скільки книг зберігає дані датасет?\\\\\\n **Відповідь**: {num_unique_books} книг')"
      ],
      "metadata": {
        "colab": {
          "base_uri": "https://localhost:8080/",
          "height": 64
        },
        "id": "-32SheEkXUFd",
        "outputId": "7b1e6563-f692-4d45-ca06-e8c117d9b6fb"
      },
      "execution_count": 198,
      "outputs": [
        {
          "output_type": "execute_result",
          "data": {
            "text/plain": [
              "<IPython.core.display.Markdown object>"
            ],
            "text/markdown": "* Про скільки книг зберігає дані датасет?\\\n **Відповідь**: 351 книг"
          },
          "metadata": {},
          "execution_count": 198
        }
      ]
    },
    {
      "cell_type": "markdown",
      "source": [
        "## Нові назви змінних"
      ],
      "metadata": {
        "id": "9hZai6mHYCdX"
      }
    },
    {
      "cell_type": "code",
      "source": [
        "df.columns = df.columns.str.lower()\n",
        "df.columns = df.columns.str.replace(' ', '_')\n",
        "df.columns\n",
        "# df.columns = ['name', 'author', 'user_rating', 'reviews', 'price', 'year', 'genre']"
      ],
      "metadata": {
        "id": "uRSMw6lAYKmR",
        "colab": {
          "base_uri": "https://localhost:8080/"
        },
        "outputId": "f51766c0-7977-48ab-cafd-43ba7d1dc06c"
      },
      "execution_count": 199,
      "outputs": [
        {
          "output_type": "execute_result",
          "data": {
            "text/plain": [
              "Index(['name', 'author', 'user_rating', 'reviews', 'price', 'year', 'genre'], dtype='object')"
            ]
          },
          "metadata": {},
          "execution_count": 199
        }
      ]
    },
    {
      "cell_type": "markdown",
      "source": [
        "## Первинне дослідження даних\n",
        "* Чи є в якихось змінних пропуски? (Так / ні)\n",
        "* Які є унікальні жанри?\n",
        "* Максимальна ціна?\n",
        "* Мінімальна ціна?\n",
        "* Середня ціна?\n",
        "* Медіанна ціна?"
      ],
      "metadata": {
        "id": "-ZvJH2pNYPEq"
      }
    },
    {
      "cell_type": "code",
      "source": [
        "print('кількість пропусків:')\n",
        "df.isna().sum()"
      ],
      "metadata": {
        "colab": {
          "base_uri": "https://localhost:8080/"
        },
        "id": "n3iidgg_7swM",
        "outputId": "8e06049b-fe63-4b12-d445-40527dbd68c5"
      },
      "execution_count": 200,
      "outputs": [
        {
          "output_type": "stream",
          "name": "stdout",
          "text": [
            "кількість пропусків:\n"
          ]
        },
        {
          "output_type": "execute_result",
          "data": {
            "text/plain": [
              "name           0\n",
              "author         0\n",
              "user_rating    0\n",
              "reviews        0\n",
              "price          0\n",
              "year           0\n",
              "genre          0\n",
              "dtype: int64"
            ]
          },
          "metadata": {},
          "execution_count": 200
        }
      ]
    },
    {
      "cell_type": "code",
      "source": [
        "is_na = \"Так\" if df.isna().sum().sum() else \"ні\"\n",
        "md(f'* Чи є в якихось змінних пропуски? \\\\\\n  Відповідь: {is_na}')"
      ],
      "metadata": {
        "id": "ELuPskmhZE0e",
        "colab": {
          "base_uri": "https://localhost:8080/",
          "height": 64
        },
        "outputId": "82ef28fe-ae75-42c9-a4ba-a2057dec1f2c"
      },
      "execution_count": 201,
      "outputs": [
        {
          "output_type": "execute_result",
          "data": {
            "text/plain": [
              "<IPython.core.display.Markdown object>"
            ],
            "text/markdown": "* Чи є в якихось змінних пропуски? \\\n  Відповідь: ні"
          },
          "metadata": {},
          "execution_count": 201
        }
      ]
    },
    {
      "cell_type": "code",
      "source": [
        "unique_genres = [g for g in df['genre'].unique()]\n",
        "genres_str = ', '.join(unique_genres)\n",
        "md(f'* Які є унікальні жанри?\\\\\\n **Відповідь**: {genres_str}')"
      ],
      "metadata": {
        "colab": {
          "base_uri": "https://localhost:8080/",
          "height": 64
        },
        "id": "qODK9k3d8OkJ",
        "outputId": "3b92afbe-3ac4-4a1e-f0a9-e7fc46d4b18f"
      },
      "execution_count": 202,
      "outputs": [
        {
          "output_type": "execute_result",
          "data": {
            "text/plain": [
              "<IPython.core.display.Markdown object>"
            ],
            "text/markdown": "* Які є унікальні жанри?\\\n **Відповідь**: Non Fiction, Fiction"
          },
          "metadata": {},
          "execution_count": 202
        }
      ]
    },
    {
      "cell_type": "code",
      "source": [
        "max_price = df['price'].max()\n",
        "md(f'* Максимальна ціна?\\\\\\n **Відповідь**: {max_price}')"
      ],
      "metadata": {
        "colab": {
          "base_uri": "https://localhost:8080/",
          "height": 64
        },
        "id": "Ep6ChviU9-sb",
        "outputId": "29685491-6ee7-4067-e975-b3627602e394"
      },
      "execution_count": 203,
      "outputs": [
        {
          "output_type": "execute_result",
          "data": {
            "text/plain": [
              "<IPython.core.display.Markdown object>"
            ],
            "text/markdown": "* Максимальна ціна?\\\n **Відповідь**: 105"
          },
          "metadata": {},
          "execution_count": 203
        }
      ]
    },
    {
      "cell_type": "code",
      "source": [
        "min_price = df['price'].min()\n",
        "md(f'* Мінімальна ціна?\\\\\\n **Відповідь**: {min_price}')"
      ],
      "metadata": {
        "colab": {
          "base_uri": "https://localhost:8080/",
          "height": 64
        },
        "id": "DS6Pj5K-_Fce",
        "outputId": "9dd8e608-cc45-4584-be30-651f811f6b23"
      },
      "execution_count": 204,
      "outputs": [
        {
          "output_type": "execute_result",
          "data": {
            "text/plain": [
              "<IPython.core.display.Markdown object>"
            ],
            "text/markdown": "* Мінімальна ціна?\\\n **Відповідь**: 0"
          },
          "metadata": {},
          "execution_count": 204
        }
      ]
    },
    {
      "cell_type": "code",
      "source": [
        "mean_price = df['price'].mean()\n",
        "md(f'* Середня ціна?\\\\\\n **Відповідь**: {mean_price}')"
      ],
      "metadata": {
        "colab": {
          "base_uri": "https://localhost:8080/",
          "height": 64
        },
        "id": "eUMYHtmG_XYJ",
        "outputId": "a2056371-ae27-4e43-9d83-8eda2675dfbc"
      },
      "execution_count": 205,
      "outputs": [
        {
          "output_type": "execute_result",
          "data": {
            "text/plain": [
              "<IPython.core.display.Markdown object>"
            ],
            "text/markdown": "* Середня ціна?\\\n **Відповідь**: 13.1"
          },
          "metadata": {},
          "execution_count": 205
        }
      ]
    },
    {
      "cell_type": "code",
      "source": [
        "median_price = df['price'].median()\n",
        "md(f'* Медіанна ціна?\\\\\\n **Відповідь**: {median_price}')"
      ],
      "metadata": {
        "colab": {
          "base_uri": "https://localhost:8080/",
          "height": 64
        },
        "id": "JUTID_NP_3g3",
        "outputId": "dd39420a-2b71-4e71-e3f4-c752e041ebf9"
      },
      "execution_count": 206,
      "outputs": [
        {
          "output_type": "execute_result",
          "data": {
            "text/plain": [
              "<IPython.core.display.Markdown object>"
            ],
            "text/markdown": "* Медіанна ціна?\\\n **Відповідь**: 11.0"
          },
          "metadata": {},
          "execution_count": 206
        }
      ]
    },
    {
      "cell_type": "markdown",
      "source": [
        "## Пошук та сортування даних\n",
        "* Який рейтинг у датасеті найвищий?\n",
        "* Скільки книг мають такий рейтинг?\n",
        "* Яка книга має найбільше відгуків?\n",
        "* З тих книг, що потрапили до Топ-50 у 2015 році, яка книга найдорожча?\n",
        "* Скільки книг жанру Fiction потрапили до Топ-50 у 2010 році?\n",
        "* Скільки книг з рейтингом 4.9 потрапило до рейтингу у 2010 та 2011 роках?\n",
        "* Яка книга остання у відсортованому списку?"
      ],
      "metadata": {
        "id": "1hANui6MZPgg"
      }
    },
    {
      "cell_type": "code",
      "source": [
        "#\n",
        "\n",
        "\n",
        "\n",
        "\n",
        "\n",
        "md(f'* Скільки книг з рейтингом 4.9 потрапило до рейтингу у 2010 та 2011 роках?\\\\\\n **Відповідь**:')\n",
        "md(f'* Яка книга остання у відсортованому списку?\\\\\\n **Відповідь**:')"
      ],
      "metadata": {
        "id": "zONVnGkcalx4",
        "colab": {
          "base_uri": "https://localhost:8080/",
          "height": 64
        },
        "outputId": "f27353af-ca79-4aad-c00a-1ae6e0fe5b2b"
      },
      "execution_count": 207,
      "outputs": [
        {
          "output_type": "execute_result",
          "data": {
            "text/plain": [
              "<IPython.core.display.Markdown object>"
            ],
            "text/markdown": "* Яка книга остання у відсортованому списку?\\\n **Відповідь**:"
          },
          "metadata": {},
          "execution_count": 207
        }
      ]
    },
    {
      "cell_type": "code",
      "source": [
        "max_rating = df['user_rating'].max()\n",
        "md(f'* Який рейтинг у датасеті найвищий?\\\\\\n **Відповідь**: {max_rating}')"
      ],
      "metadata": {
        "colab": {
          "base_uri": "https://localhost:8080/",
          "height": 64
        },
        "id": "2q5ubrz3BPEm",
        "outputId": "2d5f9d11-c5f2-4b64-bc94-aeae6cf685dd"
      },
      "execution_count": 208,
      "outputs": [
        {
          "output_type": "execute_result",
          "data": {
            "text/plain": [
              "<IPython.core.display.Markdown object>"
            ],
            "text/markdown": "* Який рейтинг у датасеті найвищий?\\\n **Відповідь**: 4.9"
          },
          "metadata": {},
          "execution_count": 208
        }
      ]
    },
    {
      "cell_type": "code",
      "source": [
        "max_rating_count = len(df.query(f'user_rating == {max_rating}'))\n",
        "md(f'* Скільки книг мають такий рейтинг?\\\\\\n **Відповідь**: {max_rating_count}')"
      ],
      "metadata": {
        "colab": {
          "base_uri": "https://localhost:8080/",
          "height": 64
        },
        "id": "IqqBKUp-BrZw",
        "outputId": "90595e99-843e-4b43-e06b-1d4aac623e69"
      },
      "execution_count": 209,
      "outputs": [
        {
          "output_type": "execute_result",
          "data": {
            "text/plain": [
              "<IPython.core.display.Markdown object>"
            ],
            "text/markdown": "* Скільки книг мають такий рейтинг?\\\n **Відповідь**: 52"
          },
          "metadata": {},
          "execution_count": 209
        }
      ]
    },
    {
      "cell_type": "code",
      "source": [
        "book_most_revieved_idx = df['reviews'].idxmax()\n",
        "book_most_revieved = df.loc[book_most_revieved_idx]\n",
        "md(f'* Яка книга має найбільше відгуків?\\\\\\n **Відповідь**: _Назва_ - {book_most_revieved[\"name\"]}, _автор_ - {book_most_revieved.author}')"
      ],
      "metadata": {
        "colab": {
          "base_uri": "https://localhost:8080/",
          "height": 64
        },
        "id": "sEmMUM16DvjX",
        "outputId": "9f931117-0b88-4fde-8ad4-aa9d66c1ca4e"
      },
      "execution_count": 210,
      "outputs": [
        {
          "output_type": "execute_result",
          "data": {
            "text/plain": [
              "<IPython.core.display.Markdown object>"
            ],
            "text/markdown": "* Яка книга має найбільше відгуків?\\\n **Відповідь**: _Назва_ - Where the Crawdads Sing, _автор_ - Delia Owens"
          },
          "metadata": {},
          "execution_count": 210
        }
      ]
    },
    {
      "cell_type": "code",
      "source": [
        "df_2015 = df[(df['year'] == 2015)]\n",
        "df_2015_max_price_idx = df_2015['price'].idxmax()\n",
        "book_in_2015_max_price = df_2015.loc[df_2015_max_price_idx]\n",
        "md(f'* З тих книг, що потрапили до Топ-50 у 2015 році, яка книга найдорожча?\\\\\\n **Відповідь**: \\\\\\n \\\n",
        "_Назва_ - {book_in_2015_max_price[\"name\"]} \\\\\\n \\\n",
        "_автор_ - {book_in_2015_max_price.author}  \\\\\\n \\\n",
        "_ціна_ - {book_in_2015_max_price.price}')"
      ],
      "metadata": {
        "colab": {
          "base_uri": "https://localhost:8080/",
          "height": 116
        },
        "id": "4rfHCr0PGxB6",
        "outputId": "eb009063-8efd-4d54-f61b-e60cee4cf86f"
      },
      "execution_count": 211,
      "outputs": [
        {
          "output_type": "execute_result",
          "data": {
            "text/plain": [
              "<IPython.core.display.Markdown object>"
            ],
            "text/markdown": "* З тих книг, що потрапили до Топ-50 у 2015 році, яка книга найдорожча?\\\n **Відповідь**: \\\n _Назва_ - Publication Manual of the American Psychological Association, 6th Edition \\\n _автор_ - American Psychological Association  \\\n _ціна_ - 46"
          },
          "metadata": {},
          "execution_count": 211
        }
      ]
    },
    {
      "cell_type": "code",
      "source": [
        "df_fiction_2010 = df[(df['year'] == 2010) & (df['genre'] == 'Fiction')]\n",
        "md(f'* Скільки книг жанру Fiction потрапили до Топ-50 у 2010 році?\\\\\\n **Відповідь**: {df_fiction_2010.shape[0]}')\n"
      ],
      "metadata": {
        "colab": {
          "base_uri": "https://localhost:8080/",
          "height": 64
        },
        "id": "zJhjcxQlMBkr",
        "outputId": "0530cad0-a6ac-43cf-9876-b0d7b764b2a4"
      },
      "execution_count": 212,
      "outputs": [
        {
          "output_type": "execute_result",
          "data": {
            "text/plain": [
              "<IPython.core.display.Markdown object>"
            ],
            "text/markdown": "* Скільки книг жанру Fiction потрапили до Топ-50 у 2010 році?\\\n **Відповідь**: 20"
          },
          "metadata": {},
          "execution_count": 212
        }
      ]
    },
    {
      "cell_type": "markdown",
      "source": [
        "## Агрегування даних та з'єднання таблиць\n",
        "* Максимальна ціна для жанру Fiction: Відповідь:\n",
        "* Мінімальна ціна для жанру Fiction: Відповідь:\n",
        "* Максимальна ціна для жанру Non Fiction: Відповідь:\n",
        "* Мінімальна ціна для жанру Non Fiction: Відповідь:\n",
        "* Якої розмірності вийшла таблиця? Відповідь:\n",
        "* Який автор має найбільше книг? Відповідь:\n",
        "* Скільки книг цього автора? Відповідь:\n",
        "* У якого автора середній рейтинг мінімальний? Відповідь:\n",
        "* Який у цього автора середній рейтинг? Відповідь:\n",
        "* Який автор перший у списку? Відповідь:"
      ],
      "metadata": {
        "id": "pj19jOF4bHM3"
      }
    },
    {
      "cell_type": "code",
      "source": [
        "#\n",
        "print(f'* Максимальна ціна для жанру Fiction: Відповідь:')\n",
        "print(f'* Мінімальна ціна для жанру Fiction: Відповідь:')\n",
        "print(f'* Максимальна ціна для жанру Non Fiction: Відповідь:')\n",
        "print(f'* Мінімальна ціна для жанру Non Fiction: Відповідь:')\n",
        "print(f'* Якої розмірності вийшла таблиця? Відповідь:')\n",
        "print(f'* Який автор має найбільше книг? Відповідь:')\n",
        "print(f'* Скільки книг цього автора? Відповідь:')\n",
        "print(f'* У якого автора середній рейтинг мінімальний? Відповідь:')\n",
        "print(f'* Який у цього автора середній рейтинг? Відповідь:')\n",
        "print(f'* Який автор перший у списку? Відповідь:')"
      ],
      "metadata": {
        "id": "m1hjBLE5bwk8",
        "colab": {
          "base_uri": "https://localhost:8080/"
        },
        "outputId": "f2828020-b576-4c75-98e9-b75609371693"
      },
      "execution_count": 213,
      "outputs": [
        {
          "output_type": "stream",
          "name": "stdout",
          "text": [
            "* Максимальна ціна для жанру Fiction: Відповідь:\n",
            "* Мінімальна ціна для жанру Fiction: Відповідь:\n",
            "* Максимальна ціна для жанру Non Fiction: Відповідь:\n",
            "* Мінімальна ціна для жанру Non Fiction: Відповідь:\n",
            "* Якої розмірності вийшла таблиця? Відповідь:\n",
            "* Який автор має найбільше книг? Відповідь:\n",
            "* Скільки книг цього автора? Відповідь:\n",
            "* У якого автора середній рейтинг мінімальний? Відповідь:\n",
            "* Який у цього автора середній рейтинг? Відповідь:\n",
            "* Який автор перший у списку? Відповідь:\n"
          ]
        }
      ]
    }
  ]
}