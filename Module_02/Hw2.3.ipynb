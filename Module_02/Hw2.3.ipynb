{
  "nbformat": 4,
  "nbformat_minor": 0,
  "metadata": {
    "colab": {
      "provenance": []
    },
    "kernelspec": {
      "name": "python3",
      "display_name": "Python 3"
    },
    "language_info": {
      "name": "python"
    }
  },
  "cells": [
    {
      "cell_type": "markdown",
      "source": [
        "# Частина третя: Аналіз датасет c `Kaggle.com`"
      ],
      "metadata": {
        "id": "XOrSwYR-VhGZ"
      }
    },
    {
      "cell_type": "code",
      "source": [
        "import numpy ans np\n",
        "import pandas as pd"
      ],
      "metadata": {
        "id": "PHzVcIDjVo00"
      },
      "execution_count": null,
      "outputs": []
    },
    {
      "cell_type": "markdown",
      "source": [
        "## Необхідно виконати:\n",
        "* Прочитайте csv файл (використовуйте функцію read_csv)\n",
        "* Виведіть перші п'ять рядків (використовується функція head)\n",
        "* Виведіть розміри датасету (використовуйте атрибут shape)\n"
      ],
      "metadata": {
        "id": "QGq90H2LW8QU"
      }
    },
    {
      "cell_type": "code",
      "source": [
        "#"
      ],
      "metadata": {
        "id": "X_w_byS5YkV8"
      },
      "execution_count": null,
      "outputs": []
    },
    {
      "cell_type": "markdown",
      "source": [
        "### Про скільки книг зберігає дані датасет?"
      ],
      "metadata": {
        "id": "HHWZrKOPYmAx"
      }
    },
    {
      "cell_type": "code",
      "source": [
        "# print('Відповідь:')\n",
        "print(f'* Про скільки книг зберігає дані датасет?\\nВідповідь: {} книг')"
      ],
      "metadata": {
        "colab": {
          "base_uri": "https://localhost:8080/",
          "height": 108
        },
        "id": "-32SheEkXUFd",
        "outputId": "fec87c14-6516-42d1-8f92-31a2ea63388a"
      },
      "execution_count": 3,
      "outputs": [
        {
          "output_type": "error",
          "ename": "SyntaxError",
          "evalue": "f-string: empty expression not allowed (<ipython-input-3-137f2d0e7ef0>, line 2)",
          "traceback": [
            "\u001b[0;36m  File \u001b[0;32m\"<ipython-input-3-137f2d0e7ef0>\"\u001b[0;36m, line \u001b[0;32m2\u001b[0m\n\u001b[0;31m    print(f'Про {} книг зберігає дані датасет?')\u001b[0m\n\u001b[0m                                               ^\u001b[0m\n\u001b[0;31mSyntaxError\u001b[0m\u001b[0;31m:\u001b[0m f-string: empty expression not allowed\n"
          ]
        }
      ]
    },
    {
      "cell_type": "markdown",
      "source": [
        "## Нові назви змінних"
      ],
      "metadata": {
        "id": "9hZai6mHYCdX"
      }
    },
    {
      "cell_type": "code",
      "source": [
        "df.columns = ['name', 'author', 'user_rating', 'reviews', 'price', 'year', 'genre']"
      ],
      "metadata": {
        "id": "uRSMw6lAYKmR"
      },
      "execution_count": null,
      "outputs": []
    },
    {
      "cell_type": "markdown",
      "source": [
        "## Первинне дослідження даних\n",
        "* Чи є в якихось змінних пропуски? (Так / ні)\n",
        "* Які є унікальні жанри?\n",
        "* Максимальна ціна?\n",
        "* Мінімальна ціна?\n",
        "* Середня ціна?\n",
        "* Медіанна ціна?"
      ],
      "metadata": {
        "id": "-ZvJH2pNYPEq"
      }
    },
    {
      "cell_type": "code",
      "source": [
        "#\n",
        "print(f'* Чи є в якихось змінних пропуски?\\n Відповідь:')\n",
        "print(f'* Які є унікальні жанри?\\n Відповідь:')\n",
        "print(f'* Максимальна ціна?\\n Відповідь:')\n",
        "print(f'* Мінімальна ціна?\\n Відповідь:')\n",
        "print(f'* Середня ціна?\\nВідповідь:')\n",
        "print(f'* Медіанна ціна?\\n Відповідь:')"
      ],
      "metadata": {
        "id": "ELuPskmhZE0e"
      },
      "execution_count": null,
      "outputs": []
    },
    {
      "cell_type": "markdown",
      "source": [
        "## Пошук та сортування даних\n",
        "* Який рейтинг у датасеті найвищий?\n",
        "* Скільки книг мають такий рейтинг?\n",
        "* Яка книга має найбільше відгуків?\n",
        "* З тих книг, що потрапили до Топ-50 у 2015 році, яка книга найдорожча?\n",
        "* Скільки книг жанру Fiction потрапили до Топ-50 у 2010 році?\n",
        "* Скільки книг з рейтингом 4.9 потрапило до рейтингу у 2010 та 2011 роках?\n",
        "* Яка книга остання у відсортованому списку?"
      ],
      "metadata": {
        "id": "1hANui6MZPgg"
      }
    },
    {
      "cell_type": "code",
      "source": [
        "#\n",
        "print(f'* Який рейтинг у датасеті найвищий? Відповідь:')\n",
        "print(f'* Скільки книг мають такий рейтинг? Відповідь:')\n",
        "print(f'* Яка книга має найбільше відгуків? Відповідь:')\n",
        "print(f'* З тих книг, що потрапили до Топ-50 у 2015 році, яка книга найдорожча? Відповідь:')\n",
        "print(f'* Скільки книг жанру Fiction потрапили до Топ-50 у 2010 році? Відповідь:')\n",
        "print(f'* Скільки книг з рейтингом 4.9 потрапило до рейтингу у 2010 та 2011 роках? Відповідь:')\n",
        "print(f'* Яка книга остання у відсортованому списку? Відповідь:')"
      ],
      "metadata": {
        "id": "zONVnGkcalx4"
      },
      "execution_count": null,
      "outputs": []
    },
    {
      "cell_type": "markdown",
      "source": [
        "## Агрегування даних та з'єднання таблиць\n",
        "* Максимальна ціна для жанру Fiction: Відповідь:\n",
        "* Мінімальна ціна для жанру Fiction: Відповідь:\n",
        "* Максимальна ціна для жанру Non Fiction: Відповідь:\n",
        "* Мінімальна ціна для жанру Non Fiction: Відповідь:\n",
        "* Якої розмірності вийшла таблиця? Відповідь:\n",
        "* Який автор має найбільше книг? Відповідь:\n",
        "* Скільки книг цього автора? Відповідь:\n",
        "* У якого автора середній рейтинг мінімальний? Відповідь:\n",
        "* Який у цього автора середній рейтинг? Відповідь:\n",
        "* Який автор перший у списку? Відповідь:"
      ],
      "metadata": {
        "id": "pj19jOF4bHM3"
      }
    },
    {
      "cell_type": "code",
      "source": [
        "#\n",
        "print(f'* Максимальна ціна для жанру Fiction: Відповідь:')\n",
        "print(f'* Мінімальна ціна для жанру Fiction: Відповідь:')\n",
        "print(f'* Максимальна ціна для жанру Non Fiction: Відповідь:')\n",
        "print(f'* Мінімальна ціна для жанру Non Fiction: Відповідь:')\n",
        "print(f'* Якої розмірності вийшла таблиця? Відповідь:')\n",
        "print(f'* Який автор має найбільше книг? Відповідь:')\n",
        "print(f'* Скільки книг цього автора? Відповідь:')\n",
        "print(f'* У якого автора середній рейтинг мінімальний? Відповідь:')\n",
        "print(f'* Який у цього автора середній рейтинг? Відповідь:')\n",
        "print(f'* Який автор перший у списку? Відповідь:')"
      ],
      "metadata": {
        "id": "m1hjBLE5bwk8"
      },
      "execution_count": null,
      "outputs": []
    }
  ]
}