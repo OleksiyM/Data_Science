{
  "nbformat": 4,
  "nbformat_minor": 0,
  "metadata": {
    "colab": {
      "provenance": []
    },
    "kernelspec": {
      "name": "python3",
      "display_name": "Python 3"
    },
    "language_info": {
      "name": "python"
    }
  },
  "cells": [
    {
      "cell_type": "markdown",
      "source": [
        "# В чому проблема SimpleRNN?"
      ],
      "metadata": {
        "id": "y4CQjbTAM0AX"
      }
    },
    {
      "cell_type": "markdown",
      "source": [
        "1. Затухання та вибухання градієнту\n",
        "2. Коротка \"пам'ять\"\n",
        "3. Довге навчання"
      ],
      "metadata": {
        "id": "OTcZNlUtV7VY"
      }
    },
    {
      "cell_type": "markdown",
      "source": [
        "![alt text](https://i.pinimg.com/originals/f2/03/83/f2038357b32e6ad4cd8b74381255bedd.png)"
      ],
      "metadata": {
        "id": "3c4wRqWbhcrN"
      }
    },
    {
      "cell_type": "code",
      "source": [
        "print(0.99**365)\n",
        "print(1.00**365)\n",
        "print(1.01**365)"
      ],
      "metadata": {
        "id": "wDYgpmDkOap5",
        "colab": {
          "base_uri": "https://localhost:8080/"
        },
        "outputId": "ac7e427d-c340-4a78-be2c-72999aaa0a84"
      },
      "execution_count": 1,
      "outputs": [
        {
          "output_type": "stream",
          "name": "stdout",
          "text": [
            "0.025517964452291125\n",
            "1.0\n",
            "37.78343433288728\n"
          ]
        }
      ]
    },
    {
      "cell_type": "markdown",
      "source": [
        "## Проблема зникаючого градієнта в РНМ"
      ],
      "metadata": {
        "id": "vgAtxaopiZCk"
      }
    },
    {
      "cell_type": "markdown",
      "source": [
        "https://plainenglish.io/community/vanishing-gradient-problem-in-rnns-9d8e14#recurrent-structure"
      ],
      "metadata": {
        "id": "N4Mwbb6Zih4J"
      }
    },
    {
      "cell_type": "markdown",
      "source": [
        "RNN мають рекурентну (циклічну) структуру, яка дозволяє їм обробляти послідовності даних один крок за раз. На кожному кроці вони оновлюють свій внутрішній стан і роблять прогнози на основі цього стану.\n",
        "\n",
        "Під час навчання RNN використовують градієнтний спуск, щоб налаштувати свої параметри (ваги та зміщення), щоб мінімізувати помилку передбачення. Це включає в себе обчислення градієнтів, які вказують, наскільки кожен параметр повинен бути скоригований, щоб зменшити помилку.\n",
        "\n"
      ],
      "metadata": {
        "id": "TddMvZRUil-g"
      }
    },
    {
      "cell_type": "markdown",
      "source": [
        "![alt text](https://miro.medium.com/v2/resize:fit:875/1*f-D1eoDirGtLzOXEPQ3r0g.png)"
      ],
      "metadata": {
        "id": "24zLFbugifoC"
      }
    },
    {
      "cell_type": "markdown",
      "source": [
        "Для обчислення цих градієнтів RNN використовують техніку, яка називається зворотним поширенням у часі (BPTT). BPTT — це варіант стандартного алгоритму зворотного поширення, призначений для послідовних даних. Він передбачає розгортання RNN через часові кроки та обчислення градієнтів крок за кроком, від кінця послідовності назад до початку.\n",
        "\n",
        "Ось де виникає проблема. Оскільки BPTT розраховує градієнти назад у часі, він включає в себе похідні втрат щодо параметрів моделі на кожному часовому кроці. Ці похідні множаться разом, коли вони поширюються назад.\n",
        "\n",
        "Оскільки градієнти перемножуються разом, якщо градієнти на кожному часовому кроці менші за 1 (наприклад, через використання функцій активації, таких як sigmoid або tanh, які зміщують значення між 0 і 1), це множення призводить до ефекту зведення. У міру того, як ви повертаєтеся далі в часі, градієнти стають дедалі меншими.\n",
        "\n"
      ],
      "metadata": {
        "id": "wEjJjbKuiwz2"
      }
    },
    {
      "cell_type": "markdown",
      "source": [
        "![alt text](https://miro.medium.com/v2/resize:fit:875/1*XGWnnsUS310HN4TUFDnfRw.png)"
      ],
      "metadata": {
        "id": "yicc7EIJiLDi"
      }
    },
    {
      "cell_type": "markdown",
      "source": [
        "**Вплив градієнтів, що зникають**\n",
        "\n",
        "1. Повільна конвергенція\n",
        "\n",
        "Навчання нейронних мереж зі зникаючими градієнтами, як правило, відбувається повільно. Оскільки градієнти дуже малі, оновлення параметрів незначні, і потрібно багато ітерацій (епох), щоб модель наблизилася до прийнятного рішення. Цей розширений час навчання може бути дорогим з обчислювальної точки зору.\n",
        "\n",
        "2. Труднощі з вивченням довгострокових залежностей\n",
        "\n",
        "Основний вплив полягає в тому, що моделям, на які впливають зникаючі градієнти, важко вловити та вивчити довгострокові залежності в послідовних даних. У таких програмах, як обробка природної мови, розпізнавання мовлення або прогнозування часових рядів, розуміння контексту або шаблонів у довгій послідовності даних має вирішальне значення. Проблема зникнення градієнта ускладнює для моделі збереження інформації з кроків далекого минулого, що призводить до нижчої продуктивності завдань, які потребують такої пам’яті.\n",
        "\n",
        "3. Застряг у місцевих мінімумах\n",
        "\n",
        "Невеликі градієнти іноді можуть призвести до того, що процес оптимізації застряє в локальних мінімумах. Це означає, що модель може не досягти найкращого можливого рішення, оскільки їй важко вийти з областей функції втрат, де градієнт майже дорівнює нулю.\n",
        "\n",
        "4. Нестабільність моделі\n",
        "\n",
        "Зникнення градієнтів може призвести до нестабільності моделі. Незначні збурення у вхідних даних або параметрах моделі можуть призвести до суттєво відмінних прогнозів, роблячи модель менш стійкою та надійною.\n",
        "\n",
        "5. Надмірний акцент на останніх даних\n",
        "\n",
        "Моделі, на які впливає проблема зникнення градієнта, як правило, надають більшої ваги останнім даним і нехтують інформацією з минулого. Це упередження щодо останніх даних може призвести до неоптимальних прогнозів і відсутності історичного контексту в результатах моделі.\n",
        "\n",
        "6. Труднощі в навчанні глибоких мереж\n",
        "\n",
        "Проблема зникнення градієнта більш виражена в глибоких нейронних мережах з багатьма шарами. Навчання глибоких мереж стає дедалі складнішим, особливо коли використовуються стандартні функції активації, такі як sigmoid або tanh, оскільки вони збивають значення між 0 і 1, роблячи градієнти ще меншими.\n"
      ],
      "metadata": {
        "id": "2QJU4wAiOwRA"
      }
    },
    {
      "cell_type": "markdown",
      "source": [
        "![alt text](https://miro.medium.com/v2/resize:fit:1400/1*Pd-jyEsefH0ILRbY-_zWJw.png)"
      ],
      "metadata": {
        "id": "Ulj571LEQn2z"
      }
    },
    {
      "cell_type": "markdown",
      "source": [
        "**Методи зменшення градієнта, що зникає**\n",
        "\n",
        "1. Ініціалізація ваги\n",
        "\n",
        "Ініціалізуйте ваги RNN ретельно підібраними значеннями, як ініціалізація Xavier/Glorot, щоб гарантувати, що градієнти спочатку не будуть надто малими.\n",
        "\n",
        "2. Градієнтне відсікання (Gradient Clipping)\n",
        "\n",
        "Обмежте розмір градієнтів під час навчання. Якщо градієнт перевищує певне порогове значення, зменшіть його масштаб, щоб запобігти тому, щоб він став занадто малим або вибухнув.\n",
        "\n",
        "3. Використання функцій активації\n",
        "\n",
        "Використовуйте функції активації, які менш схильні до зникнення градієнтів, наприклад ReLU (Rectified Linear Unit) або такі варіанти, як Leaky ReLU та Parametric ReLU (PReLU).\n",
        "\n",
        "4. Пропустити підключення (Skip Connections)\n",
        "\n",
        "Реалізуйте з'єднання пропуску або залишкові з'єднання між шарами RNN. Це допомагає градієнтам легше проходити через мережу.\n",
        "\n",
        "5. Довга короткочасна пам'ять (LSTM)\n",
        "\n",
        "Замініть стандартні комірки RNN на комірки LSTM, які розроблені для кращого охоплення довгострокових залежностей і пом’якшення проблеми зникнення градієнта.\n",
        "\n",
        "6. Закритий рекурентний блок (GRU)\n",
        "\n",
        "Подібно до LSTM, GRU є ще одним типом осередку RNN, який вирішує проблему зникнення градієнта за допомогою механізмів стробування для керування потоком інформації.\n",
        "\n",
        "7. Механізми уваги\n",
        "\n",
        "Інтегруйте механізми уваги в свою архітектуру RNN. Механізми звернення уваги дозволяють мережі зосереджуватися на відповідних частинах вхідної послідовності, зменшуючи залежність від довготривалих залежностей."
      ],
      "metadata": {
        "id": "k-Cklc4CPr8k"
      }
    },
    {
      "cell_type": "markdown",
      "source": [
        "https://medium.com/hackernoon/understanding-architecture-of-lstm-cell-from-scratch-with-code-8da40f0b71f4"
      ],
      "metadata": {
        "id": "3FRWUFpVQ49_"
      }
    },
    {
      "cell_type": "markdown",
      "source": [
        "# Long Short-Term Memory (LSTM)"
      ],
      "metadata": {
        "id": "dpOjqP35M4wE"
      }
    },
    {
      "cell_type": "markdown",
      "source": [
        "![alt text](https://miro.medium.com/v2/resize:fit:1400/1*7cMfenu76BZCzdKWCfBABA.png)"
      ],
      "metadata": {
        "id": "CSD_gmagVuE1"
      }
    },
    {
      "cell_type": "markdown",
      "source": [
        "\n",
        "**LSTM, або Long Short-Term Memory**, є типом рекурентних нейронних мереж, який був спроектований для вирішення проблеми зникнення та вибуху градієнтів у традиційних рекурентних нейронних мережах (RNNs).\n",
        "\n",
        "Особливістю LSTM є здатність зберігати та використовувати інформацію на тривалий термін, уникати проблеми \"зникнення градієнту\" та дозволяти моделі зосередитися на важливих сигналах у вхідних даних.\n",
        "\n",
        "Термін \"Long Short-Term Memory\" (LSTM) з'явився в літературі в роботі Хохрейтера і Шмідхубера (Hochreiter & Schmidhuber) **у 1997 році**.\n",
        "\n",
        "Вони представили LSTM як вдосконалення традиційних рекурентних нейронних мереж (RNNs), яке дозволяє моделі зберігати та використовувати інформацію на тривалий термін, уникаючи проблеми \"зникнення градієнту\".\n",
        "\n",
        "https://en.wikipedia.org/wiki/Long_short-term_memory\n",
        "https://en.wikipedia.org/wiki/Sepp_Hochreiter\n",
        "https://en.wikipedia.org/wiki/J%C3%BCrgen_Schmidhuber"
      ],
      "metadata": {
        "id": "kpp5lvdlUXSZ"
      }
    },
    {
      "cell_type": "markdown",
      "source": [
        "![alt text](https://av-eks-blogoptimized.s3.amazonaws.com/Screenshot-from-2021-03-16-13-41-03.png)"
      ],
      "metadata": {
        "id": "O6V38RLMVjo9"
      }
    },
    {
      "cell_type": "markdown",
      "source": [
        "Основною ідеєю за LSTM є введення спеціальних комірок пам'яті, які можуть зберігати, забувати та читати інформацію. Ці комірки мають три основні компоненти:\n",
        "\n",
        "- **Функція забування (Forget Gate):**\n",
        "\n",
        " Вона визначає, яку інформацію в поточній станції пам'яті слід забути або ігнорувати. Вона відбирає, яка частина інформації в комірці пам'яті буде оновлена.\n",
        "\n",
        "- **Функція входу (Input Gate):**\n",
        "\n",
        " Ця функція визначає, яка нова інформація буде додана до стану пам'яті. Вона визначає, які значення ми оновлюємо в пам'яті.\n",
        "\n",
        "- **Функція виходу (Output Gate):**\n",
        "\n",
        " Вона визначає, який вихід мережі буде заснований на пам'яті. Вона допомагає визначити, яка частина пам'яті буде використовуватися для прогнозування."
      ],
      "metadata": {
        "id": "ahcM-PHRVZ-_"
      }
    },
    {
      "cell_type": "markdown",
      "source": [
        "![alt text](https://miro.medium.com/v2/resize:fit:1039/1*QiLYco0hB8EterWYTyyv4g.png)"
      ],
      "metadata": {
        "id": "E3Feeu-CWM2N"
      }
    },
    {
      "cell_type": "markdown",
      "source": [
        "## Алгоритм роботи"
      ],
      "metadata": {
        "id": "s_iakwyGr8Jt"
      }
    },
    {
      "cell_type": "markdown",
      "source": [
        "\n",
        "\n",
        "1. **Вхід LSTM (Input).**\n",
        "\n",
        "Припустимо, що в кожен момент часу $t$ LSTM отримує вхідний вектор $x_t$.Означимо вектор входу на момент часу $t$ як $x_t$\n",
        "\n",
        "2. **Внутрішній стан (Cell State).**\n",
        "\n",
        "Внутрішній стан LSTM на момент часу t позначається $c_t$.Він відображає стан пам'яті LSTM і може зберігати інформацію на тривалий термін.\n",
        "3. **Вихідний стан LSTM (Output).**\n",
        "\n",
        "Вихідний стан LSTM на момент часу t позначається $ℎ_t$.Він є вихідним сигналом LSTM для поточного часового кроку.\n",
        "\n",
        "4. **Функція забування (Forget Gate).**\n",
        "\n",
        "Forget gate визначає, яка частина інформації з попереднього внутрішнього стану $c_{t-1}$ повинна бути забута.Вихід forget gate на момент часу t позначається $f_t$. Формула forget gate:\n",
        "\n",
        "$$f_t = σ(W_f ⋅ [h_{t-1}, x_t] + b_f)$$\n",
        "$f_t$ - вихід Forget Gate на момент часу\n",
        "\n",
        "$σ$ - сигмоїдна функція активації\n",
        "\n",
        "$W_f$ - вагова матриця\n",
        "\n",
        "$h_{t-1}$ - вихід LSTM на попередньому часовому кроці\n",
        "\n",
        "$x_t$ - вхід LSTM на поточному часовому кроці\n",
        "\n",
        "$b_f$ -  зміщення (bias)\n",
        "5. **Функція входу (Input Gate).**\n",
        "\n",
        "Input gate визначає, яка нова інформація повинна бути збережена во внутрішньому стані $c_t$. Вихід input gate на момент часу t позначається $i_t$.\n",
        "Формула input gate:\n",
        "$$i_t = σ(W_i ⋅ [h_{t-1}, x_t] + b_i)$$\n",
        "6. **Оновлення внутрішнього стану (Cell State Update).**\n",
        "Після визначення forget gate, input gate та отримання нового вхідного вектора, оновлення внутрішнього стану відбувається згідно наступної формули:\n",
        "\n",
        "$$\\tilde{c}_t = \\tanh(W_c \\cdot [h_{t-1}, x_t] + b_c)$$\n",
        "$$c_t = f_t\\cdot c_{t-1} + i_{t-1}\\cdot \\tilde{c}_t$$\n",
        "\n",
        "7. **Вихідний gate (Output Gate).**\n",
        "\n",
        "Output gate визначає, яка частина внутрішнього стану $c_t$ буде використана для вихідного сигналу $h_t$. Вихід output gate на момент часу t позначається $o_t$.\n",
        "Формула output gate:\n",
        "$$o_t = σ(W_o ⋅ [h_{t-1}, x_t] + b_o)$$\n",
        "\n",
        "6. **Тренування.**\n",
        "\n",
        "LSTM, як і інші нейронні мережі, піддаються тренуванню шляхом оптимізації вагових коефіцієнтів за допомогою методів зворотного поширення помилки."
      ],
      "metadata": {
        "id": "uMuNTevTWg-M"
      }
    },
    {
      "cell_type": "markdown",
      "source": [
        "![alt text](https://miro.medium.com/v2/resize:fit:1032/0*O_TqfQ4537oM4MH0.gif)"
      ],
      "metadata": {
        "id": "xZAVNoohr5V2"
      }
    },
    {
      "cell_type": "markdown",
      "source": [
        "## Підсумок"
      ],
      "metadata": {
        "id": "iiwoa1dXse52"
      }
    },
    {
      "cell_type": "markdown",
      "source": [
        "LSTM вирішує проблему зникаючого градієнту, зберігаючи стару інформацію в стані клітини, що дозволяє використовувати її пізніше. Ворота забування вирішують, яку інформацію варто відкинути зі стану клітини, ворота оновлення вирішують, яку нову інформацію додати, а вихідні ворота вирішують, що виводити на основі стану клітини. Ці механізми управління допомагають LSTM вловлювати довгострокові залежності в послідовних даних."
      ],
      "metadata": {
        "id": "SE9MwE-nsf_i"
      }
    },
    {
      "cell_type": "markdown",
      "source": [
        "## Практика"
      ],
      "metadata": {
        "id": "y4ogT-gLspz0"
      }
    },
    {
      "cell_type": "markdown",
      "source": [
        "https://www.tensorflow.org/api_docs/python/tf/keras/layers/LSTM"
      ],
      "metadata": {
        "id": "NgkFxAqjs_oJ"
      }
    },
    {
      "cell_type": "code",
      "source": [
        "import matplotlib.pyplot as plt\n",
        "from keras.datasets import imdb\n",
        "from keras.utils import pad_sequences\n",
        "from keras.models import Sequential\n",
        "from keras.layers import Embedding, LSTM, Dense"
      ],
      "metadata": {
        "id": "NqnB6exMsr_v"
      },
      "execution_count": 2,
      "outputs": []
    },
    {
      "cell_type": "code",
      "source": [
        "max_features = 10000  # кількість слів, що розглядаються як особливості\n",
        "maxlen = 500  # обмеження кількості слів в тексті\n",
        "batch_size = 32\n",
        "\n",
        "# Завантаження тренувальних та тестових даних зі вказанням обмеження на кількість слів\n",
        "(input_train, y_train), (input_test, y_test) = imdb.load_data(num_words=max_features)\n",
        "\n",
        "# Застосування заздалегідь обраної максимальної довжини до послідовних даних тренувального та тестового наборів\n",
        "input_train = pad_sequences(input_train, maxlen=maxlen)\n",
        "input_test = pad_sequences(input_test, maxlen=maxlen)"
      ],
      "metadata": {
        "id": "OvICLFsWssCJ"
      },
      "execution_count": 3,
      "outputs": []
    },
    {
      "cell_type": "code",
      "source": [
        "model = Sequential()\n",
        "model.add(Embedding(max_features, 32)) # Додавання Embedding шару для перетворення слів в вектори фіксованої довжини\n",
        "                                       # Параметри: кількість слів для розгляду як особливості та розмір вектора, що представляє кожне слово\n",
        "model.add(LSTM(32))\n",
        "model.add(Dense(1, activation='sigmoid'))\n",
        "model.compile(optimizer='rmsprop', loss='binary_crossentropy', metrics=['acc'])\n",
        "model.summary()"
      ],
      "metadata": {
        "colab": {
          "base_uri": "https://localhost:8080/"
        },
        "id": "Jts0F08ysznh",
        "outputId": "6c50654c-63f8-43d1-9809-66db76a428c1"
      },
      "execution_count": 4,
      "outputs": [
        {
          "output_type": "stream",
          "name": "stdout",
          "text": [
            "Model: \"sequential\"\n",
            "_________________________________________________________________\n",
            " Layer (type)                Output Shape              Param #   \n",
            "=================================================================\n",
            " embedding (Embedding)       (None, None, 32)          320000    \n",
            "                                                                 \n",
            " lstm (LSTM)                 (None, 32)                8320      \n",
            "                                                                 \n",
            " dense (Dense)               (None, 1)                 33        \n",
            "                                                                 \n",
            "=================================================================\n",
            "Total params: 328353 (1.25 MB)\n",
            "Trainable params: 328353 (1.25 MB)\n",
            "Non-trainable params: 0 (0.00 Byte)\n",
            "_________________________________________________________________\n"
          ]
        }
      ]
    },
    {
      "cell_type": "code",
      "source": [
        "history = model.fit(input_train,\n",
        "                    y_train,\n",
        "                    epochs=5,\n",
        "                    batch_size=128,\n",
        "                    validation_split=0.3)"
      ],
      "metadata": {
        "colab": {
          "base_uri": "https://localhost:8080/"
        },
        "id": "Rd4dH3OFszvb",
        "outputId": "625bb8cc-b194-40ec-913c-2754bc7cf575"
      },
      "execution_count": 5,
      "outputs": [
        {
          "output_type": "stream",
          "name": "stdout",
          "text": [
            "Epoch 1/5\n",
            "137/137 [==============================] - 37s 244ms/step - loss: 0.6318 - acc: 0.6317 - val_loss: 0.4650 - val_acc: 0.8040\n",
            "Epoch 2/5\n",
            "137/137 [==============================] - 27s 196ms/step - loss: 0.3884 - acc: 0.8386 - val_loss: 0.3298 - val_acc: 0.8675\n",
            "Epoch 3/5\n",
            "137/137 [==============================] - 28s 201ms/step - loss: 0.2858 - acc: 0.8874 - val_loss: 0.3235 - val_acc: 0.8703\n",
            "Epoch 4/5\n",
            "137/137 [==============================] - 27s 200ms/step - loss: 0.2434 - acc: 0.9083 - val_loss: 0.2968 - val_acc: 0.8735\n",
            "Epoch 5/5\n",
            "137/137 [==============================] - 27s 195ms/step - loss: 0.2064 - acc: 0.9253 - val_loss: 0.3039 - val_acc: 0.8700\n"
          ]
        }
      ]
    },
    {
      "cell_type": "code",
      "source": [
        "acc = history.history['acc']\n",
        "val_acc = history.history['val_acc']\n",
        "loss = history.history['loss']\n",
        "val_loss = history.history['val_loss']\n",
        "\n",
        "epochs = range(1, len(acc) + 1)\n",
        "\n",
        "plt.plot(epochs, acc, 'bo', label='Точність на тренуванні')  # Графік точності на тренувальних данних\n",
        "plt.plot(epochs, val_acc, 'b', label='Точність на валідації')  # Графік точності на валідаційних данних\n",
        "plt.title('Точність тренування і валідації')  # Заголовок графіку\n",
        "plt.legend()  # Показати легенду\n",
        "\n",
        "plt.figure()\n",
        "\n",
        "plt.plot(epochs, loss, 'bo', label='Втрати на тренуванні')  # Графік втрат на тренувальних данних\n",
        "plt.plot(epochs, val_loss, 'b', label='Втрати на валідації')  # Графік втрат на валідаційних данних\n",
        "plt.title('Втрати тренування і валідації')  # Заголовок графіку\n",
        "plt.legend()  # Показати легенду\n",
        "\n",
        "plt.show()  # Відобразити графіки"
      ],
      "metadata": {
        "colab": {
          "base_uri": "https://localhost:8080/",
          "height": 887
        },
        "id": "K4bweTBGsz0Z",
        "outputId": "f429f84e-89c6-4b6d-ace0-29cf6f095e3d"
      },
      "execution_count": 6,
      "outputs": [
        {
          "output_type": "display_data",
          "data": {
            "text/plain": [
              "<Figure size 640x480 with 1 Axes>"
            ],
            "image/png": "[encoded data removed]"
          },
          "metadata": {}
        },
        {
          "output_type": "display_data",
          "data": {
            "text/plain": [
              "<Figure size 640x480 with 1 Axes>"
            ],
            "image/png": "[encoded data removed]"
          },
          "metadata": {}
        }
      ]
    },
    {
      "cell_type": "code",
      "source": [
        "predictions = model.predict(input_test)\n",
        "\n",
        "# Для отримання зрозумілішого вигляду прогнозів, їх можна перетворити в бінарний формат:\n",
        "binary_predictions = [1 if pred > 0.5 else 0 for pred in predictions]\n",
        "\n",
        "# Для порівняння можна вивести деякі прогнозовані значення поряд з фактичними значеннями\n",
        "for i in range(10):\n",
        "    print(f\"Прогнозоване: {binary_predictions[i]}, Фактичне: {y_test[i]}\")\n",
        "\n",
        "# Додатковий крок: Оцінка моделі\n",
        "# Це дасть загальну точність моделі на тестових даних\n",
        "test_loss, test_acc = model.evaluate(input_test, y_test)\n",
        "print('Test Loss: {}'.format(test_loss))\n",
        "print('Test Accuracy: {}'.format(test_acc))"
      ],
      "metadata": {
        "colab": {
          "base_uri": "https://localhost:8080/"
        },
        "id": "nYmtx1_asz2m",
        "outputId": "add79997-d58b-466c-b3b7-4bacfec2ef38"
      },
      "execution_count": 7,
      "outputs": [
        {
          "output_type": "stream",
          "name": "stdout",
          "text": [
            "782/782 [==============================] - 20s 25ms/step\n",
            "Прогнозоване: 0, Фактичне: 0\n",
            "Прогнозоване: 1, Фактичне: 1\n",
            "Прогнозоване: 1, Фактичне: 1\n",
            "Прогнозоване: 0, Фактичне: 0\n",
            "Прогнозоване: 1, Фактичне: 1\n",
            "Прогнозоване: 1, Фактичне: 1\n",
            "Прогнозоване: 1, Фактичне: 1\n",
            "Прогнозоване: 0, Фактичне: 0\n",
            "Прогнозоване: 1, Фактичне: 0\n",
            "Прогнозоване: 1, Фактичне: 1\n",
            "782/782 [==============================] - 20s 25ms/step - loss: 0.3177 - acc: 0.8634\n",
            "Test Loss: 0.31774282455444336\n",
            "Test Accuracy: 0.8633599877357483\n"
          ]
        }
      ]
    },
    {
      "cell_type": "markdown",
      "source": [
        "# Gated Recurrent Unit (GRU)"
      ],
      "metadata": {
        "id": "ggX-A-pyT_jZ"
      }
    },
    {
      "cell_type": "markdown",
      "source": [
        "![alt text](https://miro.medium.com/v2/resize:fit:1194/1*B0q2ZLsUUw31eEImeVf3PQ.png)"
      ],
      "metadata": {
        "id": "g-L7EvKIvdwK"
      }
    },
    {
      "cell_type": "markdown",
      "source": [
        "GRU (Gated Recurrent Unit) - це інша архітектура рекурентної нейронної мережі (RNN), яка призначена для обробки послідовних даних. Вона є альтернативою LSTM і також дозволяє моделі зберігати та використовувати інформацію на тривалий термін, уникаючи проблеми \"зникнення градієнту\".\n",
        "\n",
        "Основні відмінності GRU від LSTM полягають у спрощеній структурі та меншій кількості параметрів. У GRU відсутні окремі комірки пам'яті, як у LSTM, замість цього вона використовує два типи воріт: ворота оновлення (Update Gate) і ворота перезавантаження (Reset Gate).\n",
        "\n",
        "Архітектура GRU (Gated Recurrent Unit) була запропонована Кьун Чунгом та його колегами у 2014 році у статті \"Empirical Evaluation of Gated Recurrent Neural Networks on Sequence Modeling\". Вони використали GRU для різних завдань з обробки послідовних даних і показали, що ця архітектура може конкурувати з LSTM за ефективністю, при цьому вона має меншу складність та кількість параметрів. Відтоді GRU став широко використовуваним варіантом для моделювання послідовних даних у глибокому навчанні.\n",
        "\n",
        "\n",
        "https://en.wikipedia.org/wiki/Gated_recurrent_unit\n",
        "\n",
        "https://scholar.google.ca/citations?user=2HE7cTEAAAAJ&hl=en\n",
        "\n",
        "\n"
      ],
      "metadata": {
        "id": "5ckoRAPP9uhU"
      }
    },
    {
      "cell_type": "markdown",
      "source": [
        "![alt text](https://miro.medium.com/v2/resize:fit:1200/1*LfH52lSd1mq-UrWuejzO8g.png)"
      ],
      "metadata": {
        "id": "SVWQSukB9pfW"
      }
    },
    {
      "cell_type": "markdown",
      "source": [
        "Основні компоненти GRU включають:\n",
        "\n",
        "1. **Ворота оновлення (Update Gate)**\n",
        "\n",
        "Відповідає за визначення того, якою мірою внутрішній стан має оновлюватися на кожному кроці часу.Контролює, яка частина попереднього внутрішнього стану слід передавати наступному кроку.\n",
        "\n",
        "2. **Ворота перезавантаження (Reset Gate)**\n",
        "\n",
        "Відповідає за вирішення того, якою мірою інформація з вхідного сигналу та попереднього стану має бути ігнорована.\n",
        "\n",
        "3. **Оновлений внутрішній стан:**\n",
        "\n",
        "Застосовується формула, що використовує ворота оновлення для оновлення внутрішнього стану.\n",
        "\n",
        "4. **Вихід GRU:**\n",
        "\n",
        "Відповідає за вироблення вихідного сигналу на кожному кроці часу."
      ],
      "metadata": {
        "id": "v6CeXY-h-9Lx"
      }
    },
    {
      "cell_type": "markdown",
      "source": [
        "## Алгоритм роботи GRU"
      ],
      "metadata": {
        "id": "JT8DIVKE-9nn"
      }
    },
    {
      "cell_type": "markdown",
      "source": [
        "1. **Вхід ГРУ (Input):**\n",
        "\n",
        "На кожному кроці часу $t$, GRU отримує вхідний вектор $x_t$.\n",
        "\n",
        "2. **Внутрішній стан (Hidden State):**\n",
        "\n",
        "Внутрішній стан ГРУ на кроці часу $t$ позначається $h_t$.Він представляє собою інформацію, яка передається від попередніх кроків часу.\n",
        "\n",
        "3. **Ворота оновлення (Update Gate):**\n",
        "\n",
        "Ворота оновлення регулює, яка частина попереднього внутрішнього стану $h_{t-1}$ буде оновлена. Виражається формулою:\n",
        "$$z_t = σ(W_z ⋅ [h_{t-1}, x_t] + b_z)$$\n",
        "\n",
        "4. **Ворота перезавантаження (Reset Gate):**\n",
        "\n",
        "Ворота перезавантаження визначають, яка частина попереднього внутрішнього стану $h_{t-1}$  буде ігноруватися.Виражається формулою:\n",
        "$$r_t = σ(W_r ⋅ [h_{t-1}, x_t] + b_r)$$\n",
        "\n",
        "5. **Оновлення внутрішнього стану:**\n",
        "\n",
        "Використовуючи ворота оновлення та ворота перезавантаження, внутрішній стан оновлюється:\n",
        "$$\\tilde{h}_t = \\tanh(W \\cdot [r_t ⊙ h_{t-1}, x_t] + b)$$\n",
        "$$h_t = (1-z_t)⊙ h_{t-1} + z_{t} ⊙ \\tilde{h}_t$$\n",
        "\n",
        "$⊙$ - це покомпонентне множення\n",
        "\n",
        "$\\tilde{h}_t$ - тимчасовий вектор оновленого стану\n",
        "\n",
        "6. **Вихід ГРУ:**\n",
        "\n",
        "Вихід ГРУ на кроці часу $t$ виражається просто як $h_t$ ."
      ],
      "metadata": {
        "id": "wYHt-nbSDl3J"
      }
    },
    {
      "cell_type": "markdown",
      "source": [
        "![alt text](https://miro.medium.com/v2/resize:fit:1192/1*njZq0whNShGO-ejGb0JQpQ.gif)"
      ],
      "metadata": {
        "id": "16a0_Qir-9p7"
      }
    },
    {
      "cell_type": "markdown",
      "source": [
        "## Підсумок"
      ],
      "metadata": {
        "id": "0XlnUXXyGWFk"
      }
    },
    {
      "cell_type": "markdown",
      "source": [
        "\n",
        "Основна перевага GRU полягає у тому, що вона має менше параметрів, оскільки не використовує окремі комірки пам'яті. Це може робити її привабливішою для завдань, де обмежені ресурси, або для моделей, яким потрібно менше часу на тренування. GRU також може бути корисним в ситуаціях, де немає потреби в складних моделях з багатьма параметрами, і вона може продемонструвати аналогічну чи навіть кращу ефективність порівняно з LSTM."
      ],
      "metadata": {
        "id": "SABd5rbo-9sH"
      }
    },
    {
      "cell_type": "markdown",
      "source": [
        "## Практика"
      ],
      "metadata": {
        "id": "3jdp9TZ6GYf0"
      }
    },
    {
      "cell_type": "markdown",
      "source": [
        "https://www.tensorflow.org/api_docs/python/tf/keras/layers/GRU"
      ],
      "metadata": {
        "id": "IVzneQl2IDkI"
      }
    },
    {
      "cell_type": "code",
      "source": [
        "import matplotlib.pyplot as plt\n",
        "from keras.datasets import imdb\n",
        "from keras.utils import pad_sequences\n",
        "from keras.models import Sequential\n",
        "from keras.layers import Embedding, GRU, Dense"
      ],
      "metadata": {
        "id": "MJG2V6KaGbM7"
      },
      "execution_count": 8,
      "outputs": []
    },
    {
      "cell_type": "code",
      "source": [
        "max_features = 10000  # кількість слів, що розглядаються як особливості\n",
        "maxlen = 500  # обмеження кількості слів в тексті\n",
        "batch_size = 32\n",
        "\n",
        "# Завантаження тренувальних та тестових даних зі вказанням обмеження на кількість слів\n",
        "(input_train, y_train), (input_test, y_test) = imdb.load_data(num_words=max_features)\n",
        "\n",
        "# Застосування заздалегідь обраної максимальної довжини до послідовних даних тренувального та тестового наборів\n",
        "input_train = pad_sequences(input_train, maxlen=maxlen)\n",
        "input_test = pad_sequences(input_test, maxlen=maxlen)"
      ],
      "metadata": {
        "id": "PC8S7FysGbPe"
      },
      "execution_count": 9,
      "outputs": []
    },
    {
      "cell_type": "code",
      "source": [
        "model = Sequential()\n",
        "model.add(Embedding(max_features, 32)) # Додавання Embedding шару для перетворення слів в вектори фіксованої довжини\n",
        "                                       # Параметри: кількість слів для розгляду як особливості та розмір вектора, що представляє кожне слово\n",
        "model.add(GRU(32))\n",
        "model.add(Dense(1, activation='sigmoid'))\n",
        "\n",
        "model.compile(optimizer='rmsprop', loss='binary_crossentropy', metrics=['acc'])\n",
        "\n",
        "model.summary()"
      ],
      "metadata": {
        "colab": {
          "base_uri": "https://localhost:8080/"
        },
        "id": "c7p49T-RGbWe",
        "outputId": "d47822a9-fd90-428e-aa4d-6361684faa8d"
      },
      "execution_count": 10,
      "outputs": [
        {
          "output_type": "stream",
          "name": "stdout",
          "text": [
            "Model: \"sequential_1\"\n",
            "_________________________________________________________________\n",
            " Layer (type)                Output Shape              Param #   \n",
            "=================================================================\n",
            " embedding_1 (Embedding)     (None, None, 32)          320000    \n",
            "                                                                 \n",
            " gru (GRU)                   (None, 32)                6336      \n",
            "                                                                 \n",
            " dense_1 (Dense)             (None, 1)                 33        \n",
            "                                                                 \n",
            "=================================================================\n",
            "Total params: 326369 (1.24 MB)\n",
            "Trainable params: 326369 (1.24 MB)\n",
            "Non-trainable params: 0 (0.00 Byte)\n",
            "_________________________________________________________________\n"
          ]
        }
      ]
    },
    {
      "cell_type": "code",
      "source": [
        "history = model.fit(input_train,\n",
        "                    y_train,\n",
        "                    epochs=5,\n",
        "                    batch_size=128,\n",
        "                    validation_split=0.3)"
      ],
      "metadata": {
        "colab": {
          "base_uri": "https://localhost:8080/"
        },
        "id": "uq9ivr9zGbdE",
        "outputId": "43c5b217-d63b-4e73-d43c-b8c39b1a1439"
      },
      "execution_count": 11,
      "outputs": [
        {
          "output_type": "stream",
          "name": "stdout",
          "text": [
            "Epoch 1/5\n",
            "137/137 [==============================] - 28s 189ms/step - loss: 0.6567 - acc: 0.5995 - val_loss: 0.4688 - val_acc: 0.7797\n",
            "Epoch 2/5\n",
            "137/137 [==============================] - 25s 179ms/step - loss: 0.3891 - acc: 0.8297 - val_loss: 0.3632 - val_acc: 0.8437\n",
            "Epoch 3/5\n",
            "137/137 [==============================] - 25s 181ms/step - loss: 0.2934 - acc: 0.8798 - val_loss: 0.3453 - val_acc: 0.8604\n",
            "Epoch 4/5\n",
            "137/137 [==============================] - 25s 183ms/step - loss: 0.2438 - acc: 0.9051 - val_loss: 0.3428 - val_acc: 0.8599\n",
            "Epoch 5/5\n",
            "137/137 [==============================] - 25s 179ms/step - loss: 0.2134 - acc: 0.9191 - val_loss: 0.3206 - val_acc: 0.8736\n"
          ]
        }
      ]
    },
    {
      "cell_type": "code",
      "source": [
        "acc = history.history['acc']\n",
        "val_acc = history.history['val_acc']\n",
        "loss = history.history['loss']\n",
        "val_loss = history.history['val_loss']\n",
        "\n",
        "epochs = range(1, len(acc) + 1)\n",
        "\n",
        "plt.plot(epochs, acc, 'bo', label='Точність на тренуванні')  # Графік точності на тренувальних данних\n",
        "plt.plot(epochs, val_acc, 'b', label='Точність на валідації')  # Графік точності на валідаційних данних\n",
        "plt.title('Точність тренування і валідації')  # Заголовок графіку\n",
        "plt.legend()  # Показати легенду\n",
        "\n",
        "plt.figure()\n",
        "\n",
        "plt.plot(epochs, loss, 'bo', label='Втрати на тренуванні')  # Графік втрат на тренувальних данних\n",
        "plt.plot(epochs, val_loss, 'b', label='Втрати на валідації')  # Графік втрат на валідаційних данних\n",
        "plt.title('Втрати тренування і валідації')  # Заголовок графіку\n",
        "plt.legend()  # Показати легенду\n",
        "\n",
        "plt.show()  # Відобразити графіки"
      ],
      "metadata": {
        "colab": {
          "base_uri": "https://localhost:8080/",
          "height": 887
        },
        "id": "n1DprLlIGbfT",
        "outputId": "b31d37e6-0cc6-4c98-fb9d-a7c3dbef6251"
      },
      "execution_count": 12,
      "outputs": [
        {
          "output_type": "display_data",
          "data": {
            "text/plain": [
              "<Figure size 640x480 with 1 Axes>"
            ],
            "image/png": "[encoded data removed]"
          },
          "metadata": {}
        },
        {
          "output_type": "display_data",
          "data": {
            "text/plain": [
              "<Figure size 640x480 with 1 Axes>"
            ],
            "image/png": "[encoded data removed]"
          },
          "metadata": {}
        }
      ]
    },
    {
      "cell_type": "code",
      "source": [
        "predictions = model.predict(input_test)\n",
        "\n",
        "# Для отримання зрозумілішого вигляду прогнозів, їх можна перетворити в бінарний формат:\n",
        "binary_predictions = [1 if pred > 0.5 else 0 for pred in predictions]\n",
        "\n",
        "# Для порівняння можна вивести деякі прогнозовані значення поряд з фактичними значеннями\n",
        "for i in range(10):\n",
        "    print(f\"Прогнозоване: {binary_predictions[i]}, Фактичне: {y_test[i]}\")\n",
        "\n",
        "# Додатковий крок: Оцінка моделі\n",
        "# Це дасть загальну точність моделі на тестових даних\n",
        "test_loss, test_acc = model.evaluate(input_test, y_test)\n",
        "print('Test Loss: {}'.format(test_loss))\n",
        "print('Test Accuracy: {}'.format(test_acc))"
      ],
      "metadata": {
        "colab": {
          "base_uri": "https://localhost:8080/"
        },
        "id": "r10uSladGlT9",
        "outputId": "a4198a0a-7d8d-49a5-f425-4849b2491a8e"
      },
      "execution_count": 13,
      "outputs": [
        {
          "output_type": "stream",
          "name": "stdout",
          "text": [
            "782/782 [==============================] - 18s 23ms/step\n",
            "Прогнозоване: 0, Фактичне: 0\n",
            "Прогнозоване: 1, Фактичне: 1\n",
            "Прогнозоване: 1, Фактичне: 1\n",
            "Прогнозоване: 1, Фактичне: 0\n",
            "Прогнозоване: 1, Фактичне: 1\n",
            "Прогнозоване: 1, Фактичне: 1\n",
            "Прогнозоване: 1, Фактичне: 1\n",
            "Прогнозоване: 0, Фактичне: 0\n",
            "Прогнозоване: 1, Фактичне: 0\n",
            "Прогнозоване: 1, Фактичне: 1\n",
            "782/782 [==============================] - 18s 23ms/step - loss: 0.3338 - acc: 0.8688\n",
            "Test Loss: 0.3337754011154175\n",
            "Test Accuracy: 0.8687599897384644\n"
          ]
        }
      ]
    },
    {
      "cell_type": "markdown",
      "source": [
        "# Bidirectional Recurrent Neural Network (BRNN)"
      ],
      "metadata": {
        "id": "2R1wPqAqUAvG"
      }
    },
    {
      "cell_type": "markdown",
      "source": [
        "![alt text](https://i.ytimg.com/vi/GWHvat80nEM/maxresdefault.jpg)"
      ],
      "metadata": {
        "id": "JrthYbjVH51B"
      }
    },
    {
      "cell_type": "markdown",
      "source": [
        "**BRNN (Bidirectional Recurrent Neural Network)** - це архітектура рекурентної нейронної мережі, яка дозволяє моделювати послідовні дані в обох напрямках, враховуючи інформацію як з минулого, так і з майбутнього.\n",
        "\n",
        "Основна ідея BRNN полягає в тому, щоб мати дві незалежні частини мережі, які працюють в протилежних напрямках. Одна частина обробляє послідовність даних з початку до кінця (зліва направо), тоді як інша частина обробляє послідовність даних з кінця до початку (справа наліво). Результати обох частин потім комбінуються, зазвичай шляхом конкатенації, для отримання остаточного вихідного сигналу.\n",
        "\n",
        "Архітектура BRNN (Bidirectional Recurrent Neural Network) була запропонована Шерманом та Пломером (Schuster & Paliwal) у 1997 році в статті \"Bidirectional recurrent neural networks\". В їхній роботі вони розглядали проблеми контекстної залежності в рекурентних нейронних мережах і запропонували BRNN як спосіб моделювання інформації в обох напрямках послідовності. Відтоді BRNN стали важливим інструментом у глибокому навчанні для роботи з послідовними даними.\n",
        "\n",
        "https://www.researchgate.net/publication/3316656_Bidirectional_recurrent_neural_networks\n"
      ],
      "metadata": {
        "id": "pLVUxICuH53f"
      }
    },
    {
      "cell_type": "markdown",
      "source": [
        "![alt text](https://miro.medium.com/v2/resize:fit:680/1*sf4vCzcyycSe7GC3dZ2u2w.png)"
      ],
      "metadata": {
        "id": "dSgcRgpQH552"
      }
    },
    {
      "cell_type": "markdown",
      "source": [
        "Особливість.\n",
        "\n",
        "1. Перша частина BRNN обробляє послідовність даних в прямому напрямку, від початку до кінця (зліва направо)\n",
        "2. Друга частина BRNN обробляє ту саму послідовність даних у зворотному напрямку, від кінця до початку (справа наліво).\n",
        "3. Виходи з обох напрямків об'єднуються, зазвичай шляхом конкатенації, для отримання остаточного вихідного сигналу."
      ],
      "metadata": {
        "id": "ABLLr0akH58Q"
      }
    },
    {
      "cell_type": "markdown",
      "source": [
        "## Алгоритм дії"
      ],
      "metadata": {
        "id": "uESI7V2TS1ze"
      }
    },
    {
      "cell_type": "markdown",
      "source": [
        "1. **Прямий прохід (Forward Pass):**\n",
        "\n",
        "$$h_{t}^{(f)} = f(W\\cdot x_{t} + U\\cdot h_{t-1}^{(f)} + b)$$\n",
        "\n",
        "$x_t$ - вхід на часовому кроці t\n",
        "\n",
        "$h_t^f$ - $прямий прихований стан на часовому кроці t\n",
        "\n",
        "$h_{t-1}^f$ - прямий прихований стан на часовому кроці t-1\n",
        "\n",
        "W, U - матриці ваг\n",
        "\n",
        "b - вектор зміщення\n",
        "\n",
        "f - функція активації\n",
        "\n",
        "2. **Зворотний прохід (Backward Pass):**\n",
        "\n",
        "$$h_{t}^{(b)} = f(W\\cdot x_{t} + U\\cdot h_{t-1}^{(b)} + b)$$\n",
        "\n",
        "$h_t^b$ - зворотний прихований стан на часовому кроці t\n",
        "\n",
        "$h_{t-1}^b$ - зворотний прихований стан на часовому кроці t+1\n",
        "3. **Об'єднання виходів:**\n",
        "\n",
        "$$y_{t} = g(V \\cdot [h_{t}^{(f)} ; h_{t}^{(b)}] + c)$$"
      ],
      "metadata": {
        "id": "1esukz5vTkly"
      }
    },
    {
      "cell_type": "markdown",
      "source": [
        "![alt text](https://files.codingninjas.in/article_images/bidirectional-lstm-2-1644656900.webp)"
      ],
      "metadata": {
        "id": "_NSYeXCUS8OU"
      }
    },
    {
      "cell_type": "markdown",
      "source": [
        "## Висновки"
      ],
      "metadata": {
        "id": "BRrptDZGWQjL"
      }
    },
    {
      "cell_type": "markdown",
      "source": [
        "BRNN корисний у випадках, коли для кращого розуміння послідовних даних важлива інформація із контексту як з минулого, так і з майбутнього. Він може бути застосований у багатьох областях, таких як обробка природної мови, розпізнавання мови, машинний переклад, аналіз тексту та інші задачі, де важливий контекст у всіх напрямках послідовності.\n",
        "\n",
        "Одним з недоліків BRNN є те, що вам потрібна повна послідовність даних перед тим, як робити прогнози будь-де, що означає, що вони не підходять для прогнозування в реальному часі.\n",
        "\n",
        "Крім того, BRNN можуть додати додаткову складність до вашої моделі, що може призвести до повільнішого часу навчання та збільшеного ризику перенавчання, особливо на менших наборах даних.\n",
        "\n",
        "BRNN знайшли широке застосування в таких задачах, як машинний переклад, класифікація документів, розпізнавання мови, а навіть у деяких аспектах обробки зображень, де послідовні або тимчасові залежності є критичними."
      ],
      "metadata": {
        "id": "u7NdoId_H5-h"
      }
    },
    {
      "cell_type": "markdown",
      "source": [
        "https://machinelearningmastery.com/develop-bidirectional-lstm-sequence-classification-python-keras/"
      ],
      "metadata": {
        "id": "Ub2VgRttYj3o"
      }
    },
    {
      "cell_type": "markdown",
      "source": [
        "## Практика"
      ],
      "metadata": {
        "id": "SMYN2IpgXQod"
      }
    },
    {
      "cell_type": "markdown",
      "source": [
        "https://www.tensorflow.org/api_docs/python/tf/keras/layers/Bidirectional"
      ],
      "metadata": {
        "id": "ZJq_KmZdYGM7"
      }
    },
    {
      "cell_type": "code",
      "source": [
        "import matplotlib.pyplot as plt\n",
        "from keras.datasets import imdb\n",
        "from keras.utils import pad_sequences\n",
        "from keras.models import Sequential\n",
        "from keras.layers import Embedding, Bidirectional, LSTM, Dense"
      ],
      "metadata": {
        "id": "ObWxrTJeXVS3"
      },
      "execution_count": 14,
      "outputs": []
    },
    {
      "cell_type": "code",
      "source": [
        "max_features = 10000  # кількість слів, що розглядаються як особливості\n",
        "maxlen = 500  # обмеження кількості слів в тексті\n",
        "batch_size = 32\n",
        "\n",
        "# Завантаження тренувальних та тестових даних зі вказанням обмеження на кількість слів\n",
        "(input_train, y_train), (input_test, y_test) = imdb.load_data(num_words=max_features)\n",
        "\n",
        "# Застосування заздалегідь обраної максимальної довжини до послідовних даних тренувального та тестового наборів\n",
        "input_train = pad_sequences(input_train, maxlen=maxlen)\n",
        "input_test = pad_sequences(input_test, maxlen=maxlen)"
      ],
      "metadata": {
        "id": "Rti2EWvcXVVX"
      },
      "execution_count": 15,
      "outputs": []
    },
    {
      "cell_type": "code",
      "source": [
        "model = Sequential()\n",
        "\n",
        "\n",
        "model.add(Embedding(max_features, 32))# Додавання Embedding шару для перетворення слів в вектори фіксованої довжини\n",
        "                                      # Параметри: кількість слів для розгляду як особливості та розмір вектора, що представляє кожне слово\n",
        "model.add(Bidirectional(LSTM(32)))\n",
        "model.add(Dense(1, activation='sigmoid'))\n",
        "\n",
        "model.compile(optimizer='rmsprop', loss='binary_crossentropy', metrics=['acc'])\n",
        "\n",
        "model.summary()"
      ],
      "metadata": {
        "colab": {
          "base_uri": "https://localhost:8080/"
        },
        "id": "3zMOjXD-XVc2",
        "outputId": "7a1c3122-00a1-4e3e-dd60-6110b6db9581"
      },
      "execution_count": 16,
      "outputs": [
        {
          "output_type": "stream",
          "name": "stdout",
          "text": [
            "Model: \"sequential_2\"\n",
            "_________________________________________________________________\n",
            " Layer (type)                Output Shape              Param #   \n",
            "=================================================================\n",
            " embedding_2 (Embedding)     (None, None, 32)          320000    \n",
            "                                                                 \n",
            " bidirectional (Bidirection  (None, 64)                16640     \n",
            " al)                                                             \n",
            "                                                                 \n",
            " dense_2 (Dense)             (None, 1)                 65        \n",
            "                                                                 \n",
            "=================================================================\n",
            "Total params: 336705 (1.28 MB)\n",
            "Trainable params: 336705 (1.28 MB)\n",
            "Non-trainable params: 0 (0.00 Byte)\n",
            "_________________________________________________________________\n"
          ]
        }
      ]
    },
    {
      "cell_type": "code",
      "source": [
        "history = model.fit(input_train,\n",
        "                    y_train,\n",
        "                    epochs=5,\n",
        "                    batch_size=128,\n",
        "                    validation_split=0.3)"
      ],
      "metadata": {
        "colab": {
          "base_uri": "https://localhost:8080/"
        },
        "id": "kXxrFasRXVkP",
        "outputId": "a7c1c9a9-3291-4853-c612-ac5ceff662a3"
      },
      "execution_count": 17,
      "outputs": [
        {
          "output_type": "stream",
          "name": "stdout",
          "text": [
            "Epoch 1/5\n",
            "137/137 [==============================] - 49s 340ms/step - loss: 0.6490 - acc: 0.6086 - val_loss: 0.4911 - val_acc: 0.7912\n",
            "Epoch 2/5\n",
            "137/137 [==============================] - 46s 337ms/step - loss: 0.4036 - acc: 0.8322 - val_loss: 0.3855 - val_acc: 0.8347\n",
            "Epoch 3/5\n",
            "137/137 [==============================] - 46s 335ms/step - loss: 0.3024 - acc: 0.8822 - val_loss: 0.2964 - val_acc: 0.8804\n",
            "Epoch 4/5\n",
            "137/137 [==============================] - 46s 334ms/step - loss: 0.2438 - acc: 0.9090 - val_loss: 0.2977 - val_acc: 0.8792\n",
            "Epoch 5/5\n",
            "137/137 [==============================] - 46s 337ms/step - loss: 0.2147 - acc: 0.9199 - val_loss: 0.2859 - val_acc: 0.8843\n"
          ]
        }
      ]
    },
    {
      "cell_type": "code",
      "source": [
        "acc = history.history['acc']\n",
        "val_acc = history.history['val_acc']\n",
        "loss = history.history['loss']\n",
        "val_loss = history.history['val_loss']\n",
        "\n",
        "epochs = range(1, len(acc) + 1)\n",
        "\n",
        "plt.plot(epochs, acc, 'bo', label='Точність на тренуванні')  # Графік точності на тренувальних данних\n",
        "plt.plot(epochs, val_acc, 'b', label='Точність на валідації')  # Графік точності на валідаційних данних\n",
        "plt.title('Точність тренування і валідації')  # Заголовок графіку\n",
        "plt.legend()  # Показати легенду\n",
        "\n",
        "plt.figure()\n",
        "\n",
        "plt.plot(epochs, loss, 'bo', label='Втрати на тренуванні')  # Графік втрат на тренувальних данних\n",
        "plt.plot(epochs, val_loss, 'b', label='Втрати на валідації')  # Графік втрат на валідаційних данних\n",
        "plt.title('Втрати тренування і валідації')  # Заголовок графіку\n",
        "plt.legend()  # Показати легенду\n",
        "\n",
        "plt.show()  # Відобразити графіки"
      ],
      "metadata": {
        "colab": {
          "base_uri": "https://localhost:8080/",
          "height": 887
        },
        "id": "92cwzCwrYCM6",
        "outputId": "1170299b-e948-4fd5-951d-3b379125d0d3"
      },
      "execution_count": 18,
      "outputs": [
        {
          "output_type": "display_data",
          "data": {
            "text/plain": [
              "<Figure size 640x480 with 1 Axes>"
            ],
            "image/png": "[encoded data removed]"
          },
          "metadata": {}
        },
        {
          "output_type": "display_data",
          "data": {
            "text/plain": [
              "<Figure size 640x480 with 1 Axes>"
            ],
            "image/png": "[encoded data removed]"
          },
          "metadata": {}
        }
      ]
    },
    {
      "cell_type": "code",
      "source": [
        "predictions = model.predict(input_test)\n",
        "\n",
        "# Для отримання зрозумілішого вигляду прогнозів, їх можна перетворити в бінарний формат:\n",
        "binary_predictions = [1 if pred > 0.5 else 0 for pred in predictions]\n",
        "\n",
        "# Для порівняння можна вивести деякі прогнозовані значення поряд з фактичними значеннями\n",
        "for i in range(10):\n",
        "    print(f\"Прогнозоване: {binary_predictions[i]}, Фактичне: {y_test[i]}\")\n",
        "\n",
        "# Додатковий крок: Оцінка моделі\n",
        "# Це дасть загальну точність моделі на тестових даних\n",
        "test_loss, test_acc = model.evaluate(input_test, y_test)\n",
        "print('Test Loss: {}'.format(test_loss))\n",
        "print('Test Accuracy: {}'.format(test_acc))"
      ],
      "metadata": {
        "colab": {
          "base_uri": "https://localhost:8080/"
        },
        "id": "SXFTXRo1YCPP",
        "outputId": "0d2aff71-457a-4d0d-ddb5-bf094c4bc96c"
      },
      "execution_count": 19,
      "outputs": [
        {
          "output_type": "stream",
          "name": "stdout",
          "text": [
            "782/782 [==============================] - 32s 40ms/step\n",
            "Прогнозоване: 0, Фактичне: 0\n",
            "Прогнозоване: 1, Фактичне: 1\n",
            "Прогнозоване: 0, Фактичне: 1\n",
            "Прогнозоване: 0, Фактичне: 0\n",
            "Прогнозоване: 1, Фактичне: 1\n",
            "Прогнозоване: 1, Фактичне: 1\n",
            "Прогнозоване: 1, Фактичне: 1\n",
            "Прогнозоване: 0, Фактичне: 0\n",
            "Прогнозоване: 1, Фактичне: 0\n",
            "Прогнозоване: 1, Фактичне: 1\n",
            "782/782 [==============================] - 31s 40ms/step - loss: 0.3040 - acc: 0.8777\n",
            "Test Loss: 0.3040231764316559\n",
            "Test Accuracy: 0.8776800036430359\n"
          ]
        }
      ]
    },
    {
      "cell_type": "markdown",
      "source": [
        "# Deep RNN"
      ],
      "metadata": {
        "id": "MhiptFHVUBof"
      }
    },
    {
      "cell_type": "markdown",
      "source": [
        "![alt text](https://textbook.edu.goit.global/python/data-science-remaster/v1/img/module-11/example16.png)"
      ],
      "metadata": {
        "id": "a6TmlOt4YyE0"
      }
    },
    {
      "cell_type": "markdown",
      "source": [
        "**Deep RNN (Deep Recurrent Neural Network)** - це варіант рекурентної нейронної мережі (RNN), який має більше одного рекурентного шару. У Deep RNN кожен рекурентний шар передає свій вихід як вхід до наступного рекурентного шару.\n",
        "\n",
        "Основна ідея Deep RNN полягає в тому, щоб дозволити моделі вивчати більш складні та абстрактні залежності в послідовних даних за допомогою більш глибокої архітектури. Кожен додатковий рекурентний шар дозволяє моделі узагальнювати більш складні функції, що може бути корисно для завдань, де важлива висока рівень абстракції."
      ],
      "metadata": {
        "id": "rGMjLVz7bPJR"
      }
    },
    {
      "cell_type": "markdown",
      "source": [
        "В загальному випадку значення прихованого шару $h^[l]_t$ на часовому кроці $t$ і в рівні $l$ вираховується за формулою:\n",
        "\n",
        "$$h_{t}^{(l)} = f(W^{(l)} \\cdot x_{t} + U^{(l)} \\cdot h_{t-1}^{(l)} + V^{(l)} \\cdot h_{t}^{(l-1)} + b^{(l)})$$\n",
        "\n",
        "Вихід $y_t$ на кожному часовому кроці генерується шляхом проходження прихованого стану кінцевого шару через інший лінійний перетворення:\n",
        "\n",
        "$$y_t = g(W^{o}\\cdot h_t^{L} +b^{o})$$\n",
        "$W^{o}, b^{o}$- це вага та зміщення для вихідного шару\n",
        "\n",
        "$g$- це функція активації для вихідного шару\n",
        "\n",
        "$L$- загальна кількість шарів\n"
      ],
      "metadata": {
        "id": "JXEnfGmAbsbw"
      }
    },
    {
      "cell_type": "markdown",
      "source": [
        "## Висновки"
      ],
      "metadata": {
        "id": "gQL3INFGbsg0"
      }
    },
    {
      "cell_type": "markdown",
      "source": [
        "Використання Deep RNN має свої власні виклики. Навчання їх може бути важким через проблему \"зникаючого градієнта\", коли градієнти, які передаються назад через мережу під час навчання, стають дуже малими і змушують ваги мережі оновлюватися дуже повільно. Деякі варіанти Deep RNN, такі як LSTM або GRU, були розроблені для вирішення цієї проблеми.\n",
        "\n",
        "Також, оскільки Deep RNN має більше параметрів, вони можуть займати більше часу для тренування і бути схильними до перенавчання, особливо при використанні невеликих наборів даних."
      ],
      "metadata": {
        "id": "u8bT14WObsjd"
      }
    },
    {
      "cell_type": "markdown",
      "source": [
        "## Практика"
      ],
      "metadata": {
        "id": "-mJujp0aNN8e"
      }
    },
    {
      "cell_type": "code",
      "source": [
        "import matplotlib.pyplot as plt\n",
        "from keras.datasets import imdb\n",
        "from keras.utils import pad_sequences\n",
        "from keras.models import Sequential\n",
        "from keras.layers import Embedding, Bidirectional, LSTM, Dense"
      ],
      "metadata": {
        "id": "Dui_hlp4M3s0"
      },
      "execution_count": 20,
      "outputs": []
    },
    {
      "cell_type": "code",
      "source": [
        "max_features = 10000  # кількість слів, що розглядаються як особливості\n",
        "maxlen = 500  # обмеження кількості слів в тексті\n",
        "batch_size = 32\n",
        "\n",
        "# Завантаження тренувальних та тестових даних зі вказанням обмеження на кількість слів\n",
        "(input_train, y_train), (input_test, y_test) = imdb.load_data(num_words=max_features)\n",
        "\n",
        "# Застосування заздалегідь обраної максимальної довжини до послідовних даних тренувального та тестового наборів\n",
        "input_train = pad_sequences(input_train, maxlen=maxlen)\n",
        "input_test = pad_sequences(input_test, maxlen=maxlen)"
      ],
      "metadata": {
        "id": "sAAB8nb3dKmp"
      },
      "execution_count": 21,
      "outputs": []
    },
    {
      "cell_type": "code",
      "source": [
        "model = Sequential()\n",
        "model.add(Embedding(max_features, 32)) # Додавання Embedding шару для перетворення слів в вектори фіксованої довжини\n",
        "                                        # Параметри: кількість слів для розгляду як особливості та розмір вектора, що представляє кожне слово\n",
        "model.add(Bidirectional(LSTM(32, return_sequences=True)))\n",
        "model.add(Bidirectional(LSTM(32)))\n",
        "model.add(Dense(1, activation='sigmoid'))\n",
        "\n",
        "model.compile(optimizer='rmsprop', loss='binary_crossentropy', metrics=['acc'])\n",
        "\n",
        "model.summary()"
      ],
      "metadata": {
        "colab": {
          "base_uri": "https://localhost:8080/"
        },
        "id": "q3NmOUTodKt_",
        "outputId": "e08005ec-c118-49f2-bf00-ba43560969e0"
      },
      "execution_count": 22,
      "outputs": [
        {
          "output_type": "stream",
          "name": "stdout",
          "text": [
            "Model: \"sequential_3\"\n",
            "_________________________________________________________________\n",
            " Layer (type)                Output Shape              Param #   \n",
            "=================================================================\n",
            " embedding_3 (Embedding)     (None, None, 32)          320000    \n",
            "                                                                 \n",
            " bidirectional_1 (Bidirecti  (None, None, 64)          16640     \n",
            " onal)                                                           \n",
            "                                                                 \n",
            " bidirectional_2 (Bidirecti  (None, 64)                24832     \n",
            " onal)                                                           \n",
            "                                                                 \n",
            " dense_3 (Dense)             (None, 1)                 65        \n",
            "                                                                 \n",
            "=================================================================\n",
            "Total params: 361537 (1.38 MB)\n",
            "Trainable params: 361537 (1.38 MB)\n",
            "Non-trainable params: 0 (0.00 Byte)\n",
            "_________________________________________________________________\n"
          ]
        }
      ]
    },
    {
      "cell_type": "code",
      "source": [
        "history = model.fit(input_train,\n",
        "                    y_train,\n",
        "                    epochs=5,\n",
        "                    batch_size=128,\n",
        "                    validation_split=0.3)"
      ],
      "metadata": {
        "colab": {
          "base_uri": "https://localhost:8080/"
        },
        "id": "H-KX8uxOdK1d",
        "outputId": "a0a677a6-1259-4459-d612-beefded4f5c6"
      },
      "execution_count": 23,
      "outputs": [
        {
          "output_type": "stream",
          "name": "stdout",
          "text": [
            "Epoch 1/5\n",
            "137/137 [==============================] - 110s 766ms/step - loss: 0.6366 - acc: 0.6020 - val_loss: 0.4427 - val_acc: 0.8107\n",
            "Epoch 2/5\n",
            "137/137 [==============================] - 112s 815ms/step - loss: 0.3745 - acc: 0.8428 - val_loss: 0.3101 - val_acc: 0.8760\n",
            "Epoch 3/5\n",
            "137/137 [==============================] - 103s 755ms/step - loss: 0.2742 - acc: 0.8941 - val_loss: 0.3582 - val_acc: 0.8415\n",
            "Epoch 4/5\n",
            "137/137 [==============================] - 112s 816ms/step - loss: 0.2230 - acc: 0.9153 - val_loss: 0.3634 - val_acc: 0.8528\n",
            "Epoch 5/5\n",
            "137/137 [==============================] - 111s 811ms/step - loss: 0.1863 - acc: 0.9329 - val_loss: 0.3110 - val_acc: 0.8751\n"
          ]
        }
      ]
    },
    {
      "cell_type": "code",
      "source": [
        "acc = history.history['acc']\n",
        "val_acc = history.history['val_acc']\n",
        "loss = history.history['loss']\n",
        "val_loss = history.history['val_loss']\n",
        "\n",
        "epochs = range(1, len(acc) + 1)\n",
        "\n",
        "plt.plot(epochs, acc, 'bo', label='Точність на тренуванні')  # Графік точності на тренувальних данних\n",
        "plt.plot(epochs, val_acc, 'b', label='Точність на валідації')  # Графік точності на валідаційних данних\n",
        "plt.title('Точність тренування і валідації')  # Заголовок графіку\n",
        "plt.legend()  # Показати легенду\n",
        "\n",
        "plt.figure()\n",
        "\n",
        "plt.plot(epochs, loss, 'bo', label='Втрати на тренуванні')  # Графік втрат на тренувальних данних\n",
        "plt.plot(epochs, val_loss, 'b', label='Втрати на валідації')  # Графік втрат на валідаційних данних\n",
        "plt.title('Втрати тренування і валідації')  # Заголовок графіку\n",
        "plt.legend()  # Показати легенду\n",
        "\n",
        "plt.show()  # Відобразити графіки"
      ],
      "metadata": {
        "colab": {
          "base_uri": "https://localhost:8080/",
          "height": 887
        },
        "id": "0Ohy7kPedK33",
        "outputId": "a3ad01aa-7878-48ff-a723-8f74a809f1ea"
      },
      "execution_count": 24,
      "outputs": [
        {
          "output_type": "display_data",
          "data": {
            "text/plain": [
              "<Figure size 640x480 with 1 Axes>"
            ],
            "image/png": "[encoded data removed]"
          },
          "metadata": {}
        },
        {
          "output_type": "display_data",
          "data": {
            "text/plain": [
              "<Figure size 640x480 with 1 Axes>"
            ],
            "image/png": "[encoded data removed]"
          },
          "metadata": {}
        }
      ]
    },
    {
      "cell_type": "code",
      "source": [
        "predictions = model.predict(input_test)\n",
        "\n",
        "# Для отримання зрозумілішого вигляду прогнозів, їх можна перетворити в бінарний формат:\n",
        "binary_predictions = [1 if pred > 0.5 else 0 for pred in predictions]\n",
        "\n",
        "# Для порівняння можна вивести деякі прогнозовані значення поряд з фактичними значеннями\n",
        "for i in range(10):\n",
        "    print(f\"Прогнозоване: {binary_predictions[i]}, Фактичне: {y_test[i]}\")\n",
        "\n",
        "# Додатковий крок: Оцінка моделі\n",
        "# Це дасть загальну точність моделі на тестових даних\n",
        "test_loss, test_acc = model.evaluate(input_test, y_test)\n",
        "print('Test Loss: {}'.format(test_loss))\n",
        "print('Test Accuracy: {}'.format(test_acc))"
      ],
      "metadata": {
        "colab": {
          "base_uri": "https://localhost:8080/"
        },
        "id": "A9aLgWtkdK6Y",
        "outputId": "e83f7085-5c23-4836-f989-0b24ec56e237"
      },
      "execution_count": 25,
      "outputs": [
        {
          "output_type": "stream",
          "name": "stdout",
          "text": [
            "782/782 [==============================] - 67s 85ms/step\n",
            "Прогнозоване: 0, Фактичне: 0\n",
            "Прогнозоване: 1, Фактичне: 1\n",
            "Прогнозоване: 1, Фактичне: 1\n",
            "Прогнозоване: 0, Фактичне: 0\n",
            "Прогнозоване: 1, Фактичне: 1\n",
            "Прогнозоване: 1, Фактичне: 1\n",
            "Прогнозоване: 1, Фактичне: 1\n",
            "Прогнозоване: 0, Фактичне: 0\n",
            "Прогнозоване: 1, Фактичне: 0\n",
            "Прогнозоване: 1, Фактичне: 1\n",
            "782/782 [==============================] - 66s 85ms/step - loss: 0.3180 - acc: 0.8738\n",
            "Test Loss: 0.3179740905761719\n",
            "Test Accuracy: 0.8737999796867371\n"
          ]
        }
      ]
    },
    {
      "cell_type": "markdown",
      "source": [
        "# Практика"
      ],
      "metadata": {
        "id": "BDhKocq3dcSz"
      }
    },
    {
      "cell_type": "markdown",
      "source": [
        "1. NY Stock Price Prediction RNN LSTM GRU\n",
        "\n",
        "https://www.kaggle.com/code/raoulma/ny-stock-price-prediction-rnn-lstm-gru\n",
        "\n",
        "2. Covid-19 Forecasting with an RNN\n",
        "\n",
        "https://www.kaggle.com/code/frlemarchand/covid-19-forecasting-with-an-rnn\n",
        "\n",
        "3. Fake News Detection Using RNN\n",
        "\n",
        "https://www.kaggle.com/code/therealcyberlord/fake-news-detection-using-rnn\n",
        "\n",
        "3. Poetry Generator\n",
        "\n",
        "https://www.kaggle.com/code/paultimothymooney/poetry-generator-rnn-markov"
      ],
      "metadata": {
        "id": "iPgHv3LbdjwO"
      }
    }
  ]
}