{
  "nbformat": 4,
  "nbformat_minor": 0,
  "metadata": {
    "colab": {
      "provenance": [],
      "collapsed_sections": [
        "UiaBX0ptdkFG",
        "mpPbCsEFd8sO",
        "sV26ZDhXeA5e",
        "pco59nBsrOgn",
        "zy76Gm0LvqOo",
        "CfV89X9pPcvW"
      ]
    },
    "kernelspec": {
      "name": "python3",
      "display_name": "Python 3"
    },
    "language_info": {
      "name": "python"
    }
  },
  "cells": [
    {
      "cell_type": "markdown",
      "source": [
        "# Дослідницький Аналіз Даних (Exploratory Data Analysis, EDA)"
      ],
      "metadata": {
        "id": "FVYbF6OtYTGz"
      }
    },
    {
      "cell_type": "markdown",
      "source": [
        "![alt text](https://fiverr-res.cloudinary.com/images/q_auto,f_auto/gigs/300605739/original/bd47276c0ea4848c2e43e89247ce3c237fd48fc6/do-exploratory-data-analysis-and-data-visualization-with-python.jpg)"
      ],
      "metadata": {
        "id": "N7-vhlpWbxgh"
      }
    },
    {
      "cell_type": "markdown",
      "source": [
        "**Дослідницький аналіз даних** - це процес вивчення та інтерпретації даних з метою відкриття нових знань, розуміння тенденцій та виявлення взаємозв'язків. Це важлива складова дослідницької роботи в багатьох галузях, включаючи науку, медицину, соціологію, економіку та інші.\n",
        "\n",
        "У процесі дослідницького аналізу даних дослідник зазвичай використовує різноманітні\n",
        "- статистичні методи,\n",
        "- візуалізації даних\n",
        "- та інші інструменти для виявлення патернів, трендів або непередбачених залежностей в даних.\n",
        "\n",
        "Це може включати аналіз великих обсягів даних, роботу з нерегулярними або шумними даними, а також використання різноманітних моделей для прогнозування та класифікації.\n",
        "\n",
        "**Метою дослідницького аналізу даних** є зробити висновки на основі отриманих даних, що може сприяти вирішенню конкретних проблем або розробці нових технологій, продуктів чи послуг."
      ],
      "metadata": {
        "id": "8tmITdrfb08s"
      }
    },
    {
      "cell_type": "markdown",
      "source": [
        "![alt text](https://media.dev.to/cdn-cgi/image/width=1000,height=420,fit=cover,gravity=auto,format=auto/https%3A%2F%2Fdev-to-uploads.s3.amazonaws.com%2Fuploads%2Farticles%2Fpvphmhqyjkb9xxmqzlwz.jpg)"
      ],
      "metadata": {
        "id": "gzPGnr_6clsM"
      }
    },
    {
      "cell_type": "markdown",
      "source": [
        "Обов'язковим пунктом перед достілдженням данних є їх підготовка.\n",
        "\n",
        "**Підготовка даних** - це ключовий етап дослідницького аналізу даних, оскільки якість та чистота даних безпосередньо впливають на результати аналізу. Ось деякі деталізовані кроки, які можуть включатися до цього етапу:\n",
        "\n",
        "1. **Очищення даних**: Це включає видалення або корекцію неправильних або неактуальних даних. Наприклад, видалення дублікатів, виправлення помилково введених значень або корекція даних з помилками.\n",
        "\n",
        "2. **Обробка відсутніх значень**: Деякі дані можуть бути відсутніми для певних спостережень. Вирішення цієї проблеми може включати заповнення відсутніх значень за допомогою середніх значень, медіан або інших методів, або виключення цих спостережень з аналізу.\n",
        "\n",
        "3. **Нормалізація даних**: Цей процес включає приведення даних до одного масштабу, що допомагає уникнути спотворення результатів аналізу через різницю в розмахах значень між різними змінними.\n",
        "\n",
        "4. **Кодування категоріальних даних**: Якщо ваші дані містять категоріальні змінні (наприклад, кольори або категорії), вони можуть бути закодовані у числовий формат для використання у статистичних моделях.\n",
        "\n",
        "5. **Розбиття на тренувальний та тестовий набори**: Якщо ви плануєте використовувати модель машинного навчання, зазвичай рекомендується розділити дані на тренувальний набір для навчання моделі і тестовий набір для оцінки її ефективності."
      ],
      "metadata": {
        "id": "wloRNjPqYxH8"
      }
    },
    {
      "cell_type": "markdown",
      "source": [
        "![alt text](https://assets-global.website-files.com/63119622d2a6edf1d171e0bc/65d3a069871456bd33730869_GC2xT1oWgAA1rAC.jpeg)"
      ],
      "metadata": {
        "id": "3pvASwBKZl99"
      }
    },
    {
      "cell_type": "markdown",
      "source": [
        "**EDA** - це процес дослідження та вивчення структури та властивостей набору даних без застосування передвідомих гіпотез чи моделей. Це дозволяє отримати загальне уявлення про дані, виявити патерни, аномалії, а також сформулювати гіпотези, які можна перевірити на наступних етапах аналізу. Ось детальніші кроки, які можна виконати під час експлораторного аналізу даних:\n",
        "\n",
        "1. **Статистичне описове аналіз**: Розрахунок основних статистичних показників, таких як середнє значення, медіана, стандартне відхилення, мінімальне та максимальне значення. Це дозволяє отримати загальне уявлення про розподіл даних.\n",
        "\n",
        "2. **Візуалізація даних**: Створення графіків та діаграм для візуалізації даних, таких як гістограми, діаграми розсіювання, ящики з вусами та інші. Це допомагає виявити патерни, кореляції та аномалії у даних.\n",
        "\n",
        "3. **Дослідження розподілу змінних**: Аналіз розподілу кожної змінної відносно цільової змінної або інших змінних у наборі даних. Це може включати порівняння розподілів, розгляд розподілу за категоріями тощо.\n",
        "\n",
        "4. **Дослідження взаємозв'язків між змінними**: Вивчення кореляцій між змінними та виявлення залежностей між ними за допомогою матриць кореляції, графіків розсіювання та інших методів.\n",
        "\n",
        "5. **Виявлення аномалій та виключних значень**: Пошук та аналіз незвичайних значень або виключень у даних, які можуть впливати на результати аналізу.\n",
        "\n",
        "6. **Сформулювання гіпотез:** На основі отриманих результатів формулюються потенційні гіпотези або припущення, які можуть бути подальше перевірені за допомогою статистичних методів або моделей.\n",
        "\n"
      ],
      "metadata": {
        "id": "cbDJXSZLc5lf"
      }
    },
    {
      "cell_type": "markdown",
      "source": [
        "Є три підходи до вивчення і дослідження данних.\n",
        "1. Ваші очі\n",
        "2. Статистика\n",
        "3. Візуалізація"
      ],
      "metadata": {
        "id": "_pfSnm-CedwH"
      }
    },
    {
      "cell_type": "markdown",
      "source": [
        "# Статистика"
      ],
      "metadata": {
        "id": "_4C2iV-leGSV"
      }
    },
    {
      "cell_type": "markdown",
      "source": [
        "#### Задачка. Чому статистика так потрібна? Приклад. Вам дається набір даних із 10 млн строк і 10 колонок. Форма таблиці (10e6, 10). Cкільки потрібно часу щоб людина передивилась очима всі дані? Допустимо на 1 строчку людина витратить 1 секунду."
      ],
      "metadata": {
        "id": "Mnqg2tMIepYk"
      }
    },
    {
      "cell_type": "code",
      "source": [
        "records_per_second = 1\n",
        "records_per_minute = records_per_second * 60\n",
        "records_per_hour = records_per_minute * 60\n",
        "records_per_day = records_per_hour * 24\n",
        "\n",
        "print('Кількість переглянутих записів за 24 години (без перерв, їжі, сну і відпочинку) ', records_per_day)\n",
        "all_records = int(10e6) #10 000 000\n",
        "print(f'Скільки часу займе перегляд {all_records} якщо за 1 день Ви перегладаєте {records_per_day} записів?')\n",
        "print(f'Відповідь: {round(all_records/records_per_day, 2)} днів')"
      ],
      "metadata": {
        "id": "RSouL2RYdrRx",
        "colab": {
          "base_uri": "https://localhost:8080/"
        },
        "outputId": "d4f9e768-621b-40ec-f8d4-6e868569caa8"
      },
      "execution_count": 1,
      "outputs": [
        {
          "output_type": "stream",
          "name": "stdout",
          "text": [
            "Кількість переглянутих записів за 24 години (без перерв, їжі, сну і відпочинку)  86400\n",
            "Скільки часу займе перегляд 10000000 якщо за 1 день Ви перегладаєте 86400 записів?\n",
            "Відповідь: 115.74 днів\n"
          ]
        }
      ]
    },
    {
      "cell_type": "markdown",
      "source": [
        "#### Що таке статистика?"
      ],
      "metadata": {
        "id": "higtLxnMgynN"
      }
    },
    {
      "cell_type": "markdown",
      "source": [
        "**Статистика** - це наука про збір, аналіз та інтерпретацію даних. Вона дозволяє вивчати явища, які можуть бути виміряні та порівняні за допомогою кількісних методів, таких як розрахунок середнього значення, медіани, стандартного відхилення, кореляції, регресії та інших показників."
      ],
      "metadata": {
        "id": "5cuqtgmPhB10"
      }
    },
    {
      "cell_type": "markdown",
      "source": [
        "**Об'єктом досліджень є випадкова величина** - величина, можливими значеннями якої є результати випробувань чи спостережень явищ або процесів, що носять випадковий характер, наприклад, результати\n",
        "- підкидання монети,\n",
        "- кубика із числовими позначеннями на його гранях,\n",
        "- значення довжини стрибків спортсмена у послідовних спробах\n",
        "- тощо.\n",
        "\n",
        "Для нас це буде будь-яка змінна величина у наших даних. Наведемо декілька прикладів\n",
        "\n",
        "- кількість кліків на рекламний банер на веб-сайті (залежить від багатьох факторів, таких як зміст банера, місце розташування на сторінці, аудиторія, яка відвідує сайт та інші)\n",
        "- витрати на рекламну кампанію\n",
        "- ціна на нерухомість\n"
      ],
      "metadata": {
        "id": "o82lIaU5imXr"
      }
    },
    {
      "cell_type": "markdown",
      "source": [
        "Ми можемо обчислити багато статистичних показників для випадкової величини\n",
        "- максимальне та мінімальне значення,\n",
        "- мода,\n",
        "- медіанне значення,\n",
        "- математичне очікування(середнє значення),\n",
        "- дисперсію,\n",
        "- середньоквадратичне відхилення,\n",
        "- коваріацію та кореляцію між двома різними випадковими величинами\n",
        "- та інші."
      ],
      "metadata": {
        "id": "B8FC1yJ7i9bC"
      }
    },
    {
      "cell_type": "markdown",
      "source": [
        "## Базові елементи статистики"
      ],
      "metadata": {
        "id": "Mxizs77mlHsZ"
      }
    },
    {
      "cell_type": "markdown",
      "source": [
        "**Генеральною сукупністю** називають сукупність об'єктів, з яких проводиться вибірка.\n",
        "\n",
        "**Вибірковою сукупністю** або вибіркою називають сукупність випадково відібраних об'єктів (характеристик цих об'єктів).\n",
        "\n",
        "**Об'ємом сукупності** називають кількість об'єктів даної сукупності. n — обсяг вибіркової сукупності, N — обсяг генеральної сукупності."
      ],
      "metadata": {
        "id": "YzkrQhddmfby"
      }
    },
    {
      "cell_type": "markdown",
      "source": [
        "\n",
        "**Репрезентативність** - це властивість вибірки, яка відображає основні характеристики та властивості популяції, з якої вона була взята. Якщо вибірка репрезентативна, це означає, що вона відображає реальний розподіл ознак і характеристик у всій популяції, з якої вона була взята, і може бути використана для роблення узагальнень про цю популяцію."
      ],
      "metadata": {
        "id": "FD9zn9n0obUP"
      }
    },
    {
      "cell_type": "markdown",
      "source": [
        "![image.png](data:image/png;base64,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)"
      ],
      "metadata": {
        "id": "QBhY3K_6oKWk"
      }
    },
    {
      "cell_type": "markdown",
      "source": [
        "Наприклад, якщо ви досліджуєте вплив дефіциту сну на академічні досягнення серед студентів в університеті, репрезентативна вибірка студентів буде відображати реальний розподіл студентів за такими характеристиками, як вік, стать, рівень академічних досягнень, спеціальність, етнічний склад тощо. Якщо ваша вибірка не репрезентативна, наприклад, якщо вона складається виключно зі студентів одного факультету чи лише з одного віку, ви не зможете зробити узагальнення про всю популяцію студентів університету"
      ],
      "metadata": {
        "id": "Dp7xtofYoirv"
      }
    },
    {
      "cell_type": "markdown",
      "source": [
        "## Типи даних"
      ],
      "metadata": {
        "id": "ceGucmxalLsQ"
      }
    },
    {
      "cell_type": "markdown",
      "source": [
        "**Кількісні** -- це дані, які вимірюються або підраховуються за числовою шкалою, де значення мають числовий сенс. Наприклад, вік, вага, дохід, кількість дітей і т.д. Кількісні дані можуть бути дискретними (цілі числа, кількість дітей) або неперервними (дійсні числа, зріст).\n",
        "\n",
        "**Номінальні** -- це дані, що вказують на категорії без впорядкованості. Наприклад, кольори автомобілів (червоний, синій, зелений), типи товарів (електроніка, одяг, харчові продукти) або статуси цивільного стану (одружений, неодружений, розлучений). У номінальних даних відсутня будь-яка ієрархія або порядок.\n",
        "\n",
        "**Рангові** --  це дані, що впорядковані, але різниці між категоріями не мають чіткого числового значення. Наприклад, рейтинги фільмів (1-5 зірок), рівні задоволеності (низький, середній, високий), рівні болю (слабкий, помірний, сильний). Хоча дані впорядковані, але відсутня інформація про точні різниці між категоріями.\n"
      ],
      "metadata": {
        "id": "cbEUn4r9mEMj"
      }
    },
    {
      "cell_type": "markdown",
      "source": [
        "## Статистичні показники. Міри центральної тенденції"
      ],
      "metadata": {
        "id": "BaHC12cylPjp"
      }
    },
    {
      "cell_type": "markdown",
      "source": [
        "**Міри центральної тенденції** - це числові характеристики, які використовуються для опису центрального або \"типового\" значення в масиві даних. Основні міри центральної тенденції включають:\n",
        "\n",
        "1. **Середнє (середнє арифметичне)**: Це сума всіх значень у масиві даних, поділена на їх кількість. Середнє арифметичне є однією з найбільш поширених мір центральної тенденції. Воно чутливе до викидів або екстремальних значень.\n",
        "\n",
        "$$x̄ = (1/n) Σ_{i=1}^{n} x_i$$\n",
        "2. **Медіана**: Це значення, яке розділяє впорядкований набір даних на дві рівні частини, при якому половина значень знаходиться вище, а інша половина - нижче. Медіана менше чутлива до викидів, ніж середнє арифметичне.\n",
        "\n",
        "\n",
        "Якщо n - непарне число:\n",
        "$$Медіана = x_{((n+1)/2)}$$\n",
        "Якщо n - парне число:\n",
        "$$Медіана = (x_{(n/2)} + x_{(n/2+1)}) / 2$$\n",
        "\n",
        "3. Мода: Це значення, яке найчастіше зустрічається у наборі даних. Мода використовується для опису найбільш типового або \"популярного\" значення в масиві даних.\n",
        "\n",
        "4. Математичне очікування -- це середнє значення випадкової величини, яке можна очікувати на основі її розподілу і ймовірностей, пов'язаних з цим розподілом.\n",
        "\n",
        "$$E[X] = Σ_{i} x_i ⋅ P(X = x_i)$$\n",
        "\n",
        "де $E[X]$ - математичне очікування,\n",
        "\n",
        "$x_i$ - значення випадкової величини,\n",
        "\n",
        "$P(X = x_i) = \\frac{\\text{Кількість спостережень коли X=$x_i$}}{\n",
        "\\text{Загальна кількість спостережень}}$ - ймовірність випадіння $x_i$."
      ],
      "metadata": {
        "id": "MjiIRnG4sCJ0"
      }
    },
    {
      "cell_type": "code",
      "source": [
        "import numpy as np\n",
        "from scipy import stats\n",
        "np.set_printoptions(suppress=True)\n",
        "\n",
        "# Набір даних -- зарплата пасажира трамваю\n",
        "salary_in_thousands = np.array([28, 6.5, 6.5, 6.5, 50, 11, 10, 35, 25, 25, 6.5, 120, 6.5, 50, 50, 55, 0.1], dtype = float)\n",
        "salary_sorted = np.sort(salary_in_thousands)\n",
        "print(f'Data {salary_in_thousands}')\n",
        "print(f'Sorted data {salary_sorted}')\n",
        "\n",
        "print(f'Mean {np.mean(salary_in_thousands)}')\n",
        "data, counts = np.unique(salary_in_thousands, return_counts=True)\n",
        "probabilities = counts / counts.sum()\n",
        "exp_value = np.sum(data * probabilities)\n",
        "print(f'Expected value {exp_value}')\n",
        "print(f'Median {np.median(salary_in_thousands)}')\n",
        "print(f'Mode {stats.mode(salary_in_thousands)}')"
      ],
      "metadata": {
        "id": "wlfDKaQylqps",
        "colab": {
          "base_uri": "https://localhost:8080/"
        },
        "outputId": "283c221f-e2ef-4e48-8825-e88eac39269e"
      },
      "execution_count": 2,
      "outputs": [
        {
          "output_type": "stream",
          "name": "stdout",
          "text": [
            "Data [ 28.    6.5   6.5   6.5  50.   11.   10.   35.   25.   25.    6.5 120.\n",
            "   6.5  50.   50.   55.    0.1]\n",
            "Sorted data [  0.1   6.5   6.5   6.5   6.5   6.5  10.   11.   25.   25.   28.   35.\n",
            "  50.   50.   50.   55.  120. ]\n",
            "Mean 28.91764705882353\n",
            "Expected value 28.91764705882353\n",
            "Median 25.0\n",
            "Mode ModeResult(mode=6.5, count=5)\n"
          ]
        }
      ]
    },
    {
      "cell_type": "code",
      "source": [
        "# Випадково до трамваю зайшов мільйонер\n",
        "salary_in_thousands_new = np.append(salary_in_thousands, [1000])\n",
        "salary_sorted_new = np.sort(salary_in_thousands_new)\n",
        "print(f'Data {salary_in_thousands_new}')\n",
        "print(f'Sorted data {salary_sorted_new}')\n",
        "\n",
        "print(f'Mean {np.mean(salary_in_thousands_new)}')\n",
        "data, counts = np.unique(salary_in_thousands_new, return_counts=True)\n",
        "probabilities = counts / counts.sum()\n",
        "exp_value = np.sum(data * probabilities)\n",
        "print(f'Expected value {exp_value}')\n",
        "print(f'Median {np.median(salary_in_thousands_new)}')\n",
        "print(f'Mode {stats.mode(salary_in_thousands_new)}')"
      ],
      "metadata": {
        "id": "rGvyY2chl8XH",
        "colab": {
          "base_uri": "https://localhost:8080/"
        },
        "outputId": "43f4e101-716d-44b2-e1f3-12b28b7965e5"
      },
      "execution_count": 4,
      "outputs": [
        {
          "output_type": "stream",
          "name": "stdout",
          "text": [
            "Data [  28.     6.5    6.5    6.5   50.    11.    10.    35.    25.    25.\n",
            "    6.5  120.     6.5   50.    50.    55.     0.1 1000. ]\n",
            "Sorted data [   0.1    6.5    6.5    6.5    6.5    6.5   10.    11.    25.    25.\n",
            "   28.    35.    50.    50.    50.    55.   120.  1000. ]\n",
            "Mean 82.86666666666666\n",
            "Expected value 82.86666666666666\n",
            "Median 25.0\n",
            "Mode ModeResult(mode=6.5, count=5)\n"
          ]
        }
      ]
    },
    {
      "cell_type": "code",
      "source": [
        "# Toy data\n",
        "data_toy = np.array([2, 4, 6, 8, 10, 12, 14, 16], dtype=float)\n",
        "probabilities_toy = np.array([0.2, 0.2, 0.2, 0.1, 0.1, 0.1, 0.05, 0.05])\n",
        "# [2,2,2,2,4,4,4,4,6,6,6,6,8,8,10,10,12,12,14,16]\n",
        "print(\"Cереднє аріфм.:\", np.mean(data_toy))\n",
        "print(\"Математичне очікування:\", np.sum(data_toy * probabilities_toy))"
      ],
      "metadata": {
        "id": "hNzNUmN92jhy",
        "colab": {
          "base_uri": "https://localhost:8080/"
        },
        "outputId": "17b4296d-60ba-42de-a4d9-7d811dc60179"
      },
      "execution_count": 5,
      "outputs": [
        {
          "output_type": "stream",
          "name": "stdout",
          "text": [
            "Cереднє аріфм.: 9.0\n",
            "Математичне очікування: 6.9\n"
          ]
        }
      ]
    },
    {
      "cell_type": "markdown",
      "source": [
        "## Статистичні показники. Міри мінливості"
      ],
      "metadata": {
        "id": "iC74lNQslPmg"
      }
    },
    {
      "cell_type": "markdown",
      "source": [
        "**Міри мінливості** це міри які використовуються для визначення рівня розподілу чи дисперсії даних. Вони дають уявлення про рівень варіації або розсіювання значень у наборі даних. Ось кілька основних мір мінливості\n",
        "\n",
        "Діапазон: Це різниця між найбільшим та найменшим значеннями в наборі даних. Він вказує на величину варіації між найекстремальнішими значеннями.\n",
        "\n",
        "Дисперсія: Це середній квадрат відхилення кожного значення від середнього. Вона вимірює ступінь варіації або розсіювання даних.\n",
        "\n",
        "Стандартне відхилення: Це квадратний корінь з дисперсії. Воно вказує на середню відстань між кожним значенням та середнім значенням.\n",
        "\n",
        "\n",
        "Варіаційний коефіцієнт: Це відношення стандартного відхилення до середнього значення. Він дозволяє порівнювати ступінь варіації в різних наборах даних, незалежно від їх масштабу"
      ],
      "metadata": {
        "id": "czVt_ZQEu_0F"
      }
    },
    {
      "cell_type": "markdown",
      "source": [
        "**Квантилі** - числова характеристика випадкових величин, що відсікає в межах ряду певну частину його членів.\n",
        "\n",
        "**Децилі** – відсікає десяту часть\n",
        "\n",
        "**Вентилі** – 20-ту часть\n",
        "\n",
        "**Перцентилі** – 100-ту часть\n",
        "\n",
        "**Міжквартильний діапазон (IQR)** - це різниця між значеннями 75-го та 25-го перцентилів. Він вказує на розмах, в якому знаходиться центральна половина значень набору даних.\n"
      ],
      "metadata": {
        "id": "lqeHGO8GvaPh"
      }
    },
    {
      "cell_type": "markdown",
      "source": [
        "![alt text](https://encrypted-tbn0.gstatic.com/images?q=tbn:ANd9GcRDo2hdiTANBi7YFelG0IzPKds8wOOJn6FLmrX1sBJ3&s)"
      ],
      "metadata": {
        "id": "WNZPHzxUxUk4"
      }
    },
    {
      "cell_type": "code",
      "source": [
        "list(range(25, 100, 15))"
      ],
      "metadata": {
        "colab": {
          "base_uri": "https://localhost:8080/"
        },
        "id": "_apqZJTr1MGL",
        "outputId": "01a8ff6b-5530-4d18-af1c-141d6eb1dd2b"
      },
      "execution_count": 9,
      "outputs": [
        {
          "output_type": "execute_result",
          "data": {
            "text/plain": [
              "[25, 40, 55, 70, 85]"
            ]
          },
          "metadata": {},
          "execution_count": 9
        }
      ]
    },
    {
      "cell_type": "code",
      "source": [
        "import numpy as np\n",
        "\n",
        "salary_in_thousands_new = np.array([28, 6.5, 6.5, 6.5, 50, 11, 10, 35, 25, 25, 6.5, 120, 6.5, 50, 50, 55, 0.1, 1000], dtype = float)\n",
        "print(f'Data is \\n{salary_in_thousands_new}')\n",
        "\n",
        "q1 = np.percentile(salary_in_thousands_new, 25)\n",
        "q2 = np.percentile(salary_in_thousands_new, 50)\n",
        "q3 = np.percentile(salary_in_thousands_new, 75)\n",
        "\n",
        "print('Перший квартиль (Q1):', q1)\n",
        "print('Медиана (Q2), другий квартиль:', q2)\n",
        "print('Третій квартиль (Q3):', q3)\n",
        "\n",
        "q_25s = np.percentile(salary_in_thousands_new, [range(25, 100, 25)])\n",
        "q_10s = np.percentile(salary_in_thousands_new, [range(10, 100, 10)])\n",
        "q_5s = np.percentile(salary_in_thousands_new, [range(5, 100, 5)])\n",
        "q_1s = np.percentile(salary_in_thousands_new, [range(1, 100, 1)])\n",
        "\n",
        "print('Квартилі:', q_25s)\n",
        "print('Децилі:', q_10s)\n",
        "print('Вентилі:', q_5s)\n",
        "print('Перцентилі:', q_1s)"
      ],
      "metadata": {
        "id": "_WZMeDZE21tz",
        "colab": {
          "base_uri": "https://localhost:8080/"
        },
        "outputId": "daef33ef-c107-4808-90ac-0a967a617d57"
      },
      "execution_count": 7,
      "outputs": [
        {
          "output_type": "stream",
          "name": "stdout",
          "text": [
            "Data is \n",
            "[  28.     6.5    6.5    6.5   50.    11.    10.    35.    25.    25.\n",
            "    6.5  120.     6.5   50.    50.    55.     0.1 1000. ]\n",
            "Перший квартиль (Q1): 6.5\n",
            "Медиана (Q2), другий квартиль: 25.0\n",
            "Третій квартиль (Q3): 50.0\n",
            "Квартилі: [[ 6.5 25.  50. ]]\n",
            "Децилі: [[ 6.5   6.5   6.85 10.8  25.   29.4  48.5  50.   74.5 ]]\n",
            "Вентилі: [[  5.54    6.5     6.5     6.5     6.5     6.85    9.825  10.8    20.1\n",
            "   25.     26.05   29.4    35.75   48.5    50.     50.     52.25   74.5\n",
            "  252.   ]]\n",
            "Перцентилі: [[  1.188   2.276   3.364   4.452   5.54    6.5     6.5     6.5     6.5\n",
            "    6.5     6.5     6.5     6.5     6.5     6.5     6.5     6.5     6.5\n",
            "    6.5     6.5     6.5     6.5     6.5     6.5     6.5     6.5     6.5\n",
            "    6.5     6.5     6.85    7.445   8.04    8.635   9.23    9.825  10.12\n",
            "   10.29   10.46   10.63   10.8    10.97   12.96   15.34   17.72   20.1\n",
            "   22.48   24.86   25.     25.     25.     25.     25.     25.03   25.54\n",
            "   26.05   26.56   27.07   27.58   28.21   29.4    30.59   31.78   32.97\n",
            "   34.16   35.75   38.3    40.85   43.4    45.95   48.5    50.     50.\n",
            "   50.     50.     50.     50.     50.     50.     50.     50.     50.\n",
            "   50.     50.55   51.4    52.25   53.1    53.95   54.8    63.45   74.5\n",
            "   85.55   96.6   107.65  118.7   252.    401.6   551.2   700.8   850.4  ]]\n"
          ]
        }
      ]
    },
    {
      "cell_type": "markdown",
      "source": [
        "\n",
        "**Мінімум** - найменьше значення у вибірці.\n",
        "\n",
        "**Максимум** -  найбільше значення у вибірці.\n",
        "\n",
        "**Розмах** – різниця між максимумом і мінімумом виборки.\n",
        "\n",
        "**Дисперсія** -  це міра розсіяння значень випадкової величини відносно середнього значення розподілу. Вона вимірює ступінь розподілу значень навколо їх середнього значення.\n",
        "\n",
        "$$Var = \\sigma^2 = \\frac{\\sum_{i=1}^{n} (x_i - \\bar{x})^2}{n}$$\n",
        "\n",
        "**Стандартне відхилення** - це міра розсіювання або рівень варіації в наборі даних. Воно показує, наскільки відстань кожного значення від середнього значення. Чим більше стандартне відхилення, тим більша варіація в даних.\n",
        "\n",
        "$$\\sigma = \\sqrt{\\frac{\\sum_{i=1}^{n} (x_i - \\bar{x})^2}{n}}$$\n",
        "\n",
        "де\n",
        "\n",
        "$σ$ - стандартне відхилення,\n",
        "\n",
        "$\\bar{x}$ - середнє арифметичне (середнє),\n",
        "\n",
        "$x_i$ - кожне значення в наборі даних,\n",
        "\n",
        "$n$ - кількість значень."
      ],
      "metadata": {
        "id": "WvlnBjcMxZQC"
      }
    },
    {
      "cell_type": "markdown",
      "source": [
        "![alt text](https://upload.wikimedia.org/wikipedia/commons/thumb/3/37/Standard_deviation_diagram_%28decimal_comma%29.svg/1920px-Standard_deviation_diagram_%28decimal_comma%29.svg.png)"
      ],
      "metadata": {
        "id": "kE02YFMXz4vZ"
      }
    },
    {
      "cell_type": "markdown",
      "source": [
        "Порівнювати дві вибірки між собою можно за допомогою **коваріації** та **кореляції**.\n",
        "\n",
        "**Коваріа́ція** — це міра спільної мінливості двох випадкових змінних. Якщо більші значення однієї змінної здебільшого відповідають більшим значенням іншої, й те саме виконується для менших значень, тобто змінні схильні демонструвати подібну поведінку, то коваріація є додатною.\n",
        "\n",
        "\n",
        "$$cov(X, Y) = \\frac{Σ(x_i - x̄)(y_i - ȳ)}{n}$$\n",
        "\n",
        "Числове значення коваріації досить складно інтерпретувати, тому ми можемо поділити коваріацію на стандартні відхилення випадкових величин X та Y - тоді ми отримаємо **кореляцію** між цими величинами.\n",
        "\n",
        "**Кореля́ція** — це будь-яка статистична пов'язаність, хоча насправді вона стосується ступеню лінійності взаємозв'язку пари змінних. [-1 1]\n",
        "$$ρ(X, Y) = \\frac{cov(X, Y)}{(σ_X * σ_Y)}$$"
      ],
      "metadata": {
        "id": "hZllYizn0GiE"
      }
    },
    {
      "cell_type": "code",
      "source": [
        "import numpy as np\n",
        "\n",
        "salary_in_thousands_new = np.array([28, 6.5, 6.5, 6.5, 50, 11, 10, 35, 25, 25, 6.5, 120, 6.5, 50, 50, 55, 0.1, 1000], dtype = float)\n",
        "print(f'Data is \\n{salary_in_thousands_new}')\n",
        "\n",
        "print(f'Мінімальне значення:{np.min(salary_in_thousands_new)}')\n",
        "print(f'Максимальне значення:{np.max(salary_in_thousands_new)}')\n",
        "print(f'Розмах значення:{np.ptp(salary_in_thousands_new)}')\n",
        "print(f'Дисперсія (середньо квадратичне відхилення) значення:{np.var(salary_in_thousands_new)}')\n",
        "print(f'Стандартне відхилення значення:{np.std(salary_in_thousands_new)}')\n",
        "\n",
        "age = np.array([28.0, 24.0, 50.1, 34.2, 21.0, 16.8, 65.7, 54.8, 43.33, 31.1, 27.7, 51.4, 18.0, 22.2, 34.6, 71.1, 22.9, 34.0], dtype=float)\n",
        "print(f'Data is \\n{age}')\n",
        "print(f'Коваріація значення:\\n{np.cov(salary_in_thousands_new, age)}')\n",
        "print(f'Коореляція значення:\\n{np.corrcoef(salary_in_thousands_new, age)}')"
      ],
      "metadata": {
        "id": "Ea3L_WUcmBNG",
        "colab": {
          "base_uri": "https://localhost:8080/"
        },
        "outputId": "fbdb5f1a-8907-4357-ae0f-c06b711e5f5c"
      },
      "execution_count": 14,
      "outputs": [
        {
          "output_type": "stream",
          "name": "stdout",
          "text": [
            "Data is \n",
            "[  28.     6.5    6.5    6.5   50.    11.    10.    35.    25.    25.\n",
            "    6.5  120.     6.5   50.    50.    55.     0.1 1000. ]\n",
            "Мінімальне значення:0.1\n",
            "Максимальне значення:1000.0\n",
            "Розмах значення:999.9\n",
            "Дисперсія (середньо квадратичне відхилення) значення:50278.46333333333\n",
            "Стандартне відхилення значення:224.22859615431153\n",
            "Data is \n",
            "[28.   24.   50.1  34.2  21.   16.8  65.7  54.8  43.33 31.1  27.7  51.4\n",
            " 18.   22.2  34.6  71.1  22.9  34.  ]\n",
            "Коваріація значення:\n",
            "[[53236.02          25.64356863]\n",
            " [   25.64356863   267.44423301]]\n",
            "Коореляція значення:\n",
            "[[1.         0.00679609]\n",
            " [0.00679609 1.        ]]\n"
          ]
        }
      ]
    },
    {
      "cell_type": "markdown",
      "source": [
        "Додаткова інформація\n",
        "\n",
        "1. [Статистичні_ряди_розподілу](https://uk.wikipedia.org/wiki/%D0%A1%D1%82%D0%B0%D1%82%D0%B8%D1%81%D1%82%D0%B8%D1%87%D0%BD%D1%96_%D1%80%D1%8F%D0%B4%D0%B8_%D1%80%D0%BE%D0%B7%D0%BF%D0%BE%D0%B4%D1%96%D0%BB%D1%83)\n",
        "\n",
        "2. [Нормальний розподіл](https://uk.wikipedia.org/wiki/%D0%9D%D0%BE%D1%80%D0%BC%D0%B0%D0%BB%D1%8C%D0%BD%D0%B8%D0%B9_%D1%80%D0%BE%D0%B7%D0%BF%D0%BE%D0%B4%D1%96%D0%BB)\n",
        "\n",
        "3. [t-розподіл Стьюдента](https://uk.wikipedia.org/wiki/T-%D1%80%D0%BE%D0%B7%D0%BF%D0%BE%D0%B4%D1%96%D0%BB_%D0%A1%D1%82%D1%8C%D1%8E%D0%B4%D0%B5%D0%BD%D1%82%D0%B0)\n",
        "4. [Центральна гранична теорема](https://uk.wikipedia.org/wiki/%D0%A6%D0%B5%D0%BD%D1%82%D1%80%D0%B0%D0%BB%D1%8C%D0%BD%D0%B0_%D0%B3%D1%80%D0%B0%D0%BD%D0%B8%D1%87%D0%BD%D0%B0_%D1%82%D0%B5%D0%BE%D1%80%D0%B5%D0%BC%D0%B0)"
      ],
      "metadata": {
        "id": "S1qCqfxmOdtd"
      }
    },
    {
      "cell_type": "markdown",
      "source": [
        "# Pandas"
      ],
      "metadata": {
        "id": "UiaBX0ptdkFG"
      }
    },
    {
      "cell_type": "markdown",
      "source": [
        "https://pandas.pydata.org/Pandas_Cheat_Sheet.pdf"
      ],
      "metadata": {
        "id": "ggKgXsU0VgT9"
      }
    },
    {
      "cell_type": "code",
      "source": [
        "# https://pandas.pydata.org/\n",
        "# pip install pandas==2.0.3\n",
        "import pandas as pd #panel data\n",
        "pd.__version__"
      ],
      "metadata": {
        "id": "fx1doa6v3Fa0",
        "colab": {
          "base_uri": "https://localhost:8080/",
          "height": 36
        },
        "outputId": "f9127b3a-36ee-4047-fd69-e515e86914bf"
      },
      "execution_count": 15,
      "outputs": [
        {
          "output_type": "execute_result",
          "data": {
            "text/plain": [
              "'2.0.3'"
            ],
            "application/vnd.google.colaboratory.intrinsic+json": {
              "type": "string"
            }
          },
          "metadata": {},
          "execution_count": 15
        }
      ]
    },
    {
      "cell_type": "markdown",
      "source": [
        "## Series"
      ],
      "metadata": {
        "id": "mpPbCsEFd8sO"
      }
    },
    {
      "cell_type": "markdown",
      "source": [
        "![alt text](https://www.metasnake.com/static/img/pandas2/04-series.png)"
      ],
      "metadata": {
        "id": "X9Qkwj91L-3S"
      }
    },
    {
      "cell_type": "code",
      "source": [
        "# Ініціалізація об'єкта Series\n",
        "import pandas as pd\n",
        "import numpy as np\n",
        "\n",
        "salary_in_thousands = np.array([28, 6.5, 6.5, 6.5, 50, 11, 10, 35, 25, 25, 6.5, 120, 6.5, 50, 50, 55, 0.1, 1000], dtype = float)\n",
        "salary_series = pd.Series(salary_in_thousands)\n",
        "\n",
        "print(salary_series)\n",
        "print(f'Ім\\'я об\\'єкта Series {salary_series.name}')\n",
        "print(f'Кількість вимірів (dimensions) {salary_series.ndim}')\n",
        "print(f'Shape {salary_series.shape}')\n",
        "print(f'Size {salary_series.size}')\n",
        "print(f'Dtype {salary_series.dtype}')\n",
        "print(f'Indexes {salary_series.index}')\n",
        "print(f'Values {salary_series.values}')"
      ],
      "metadata": {
        "id": "MLG3W7m3NdfC",
        "colab": {
          "base_uri": "https://localhost:8080/"
        },
        "outputId": "abbe8269-112b-400c-e590-f6f070bb23f1"
      },
      "execution_count": 16,
      "outputs": [
        {
          "output_type": "stream",
          "name": "stdout",
          "text": [
            "0       28.0\n",
            "1        6.5\n",
            "2        6.5\n",
            "3        6.5\n",
            "4       50.0\n",
            "5       11.0\n",
            "6       10.0\n",
            "7       35.0\n",
            "8       25.0\n",
            "9       25.0\n",
            "10       6.5\n",
            "11     120.0\n",
            "12       6.5\n",
            "13      50.0\n",
            "14      50.0\n",
            "15      55.0\n",
            "16       0.1\n",
            "17    1000.0\n",
            "dtype: float64\n",
            "Ім'я об'єкта Series None\n",
            "Кількість вимірів (dimensions) 1\n",
            "Shape (18,)\n",
            "Size 18\n",
            "Dtype float64\n",
            "Indexes RangeIndex(start=0, stop=18, step=1)\n",
            "Values [  28.     6.5    6.5    6.5   50.    11.    10.    35.    25.    25.\n",
            "    6.5  120.     6.5   50.    50.    55.     0.1 1000. ]\n"
          ]
        }
      ]
    },
    {
      "cell_type": "code",
      "source": [
        "# Налаштування об'єкта\n",
        "\n",
        "salary_series.name = 'My_series'\n",
        "salary_series.index = range(2, 20, 1)\n",
        "\n",
        "print(salary_series, '\\n')\n",
        "print(f'Name of Series {salary_series.name}')\n",
        "print(f'Indexes {salary_series.index}')"
      ],
      "metadata": {
        "id": "BBtz_T8mNod6",
        "colab": {
          "base_uri": "https://localhost:8080/"
        },
        "outputId": "787c74f3-fa8c-4c51-f47f-0b8fea56f491"
      },
      "execution_count": 18,
      "outputs": [
        {
          "output_type": "stream",
          "name": "stdout",
          "text": [
            "2       28.0\n",
            "3        6.5\n",
            "4        6.5\n",
            "5        6.5\n",
            "6       50.0\n",
            "7       11.0\n",
            "8       10.0\n",
            "9       35.0\n",
            "10      25.0\n",
            "11      25.0\n",
            "12       6.5\n",
            "13     120.0\n",
            "14       6.5\n",
            "15      50.0\n",
            "16      50.0\n",
            "17      55.0\n",
            "18       0.1\n",
            "19    1000.0\n",
            "Name: My_series, dtype: float64 \n",
            "\n",
            "Name of Series My_series\n",
            "Indexes RangeIndex(start=2, stop=20, step=1)\n"
          ]
        }
      ]
    },
    {
      "cell_type": "code",
      "source": [
        "# Детальна ініціалізація\n",
        "import pandas as pd\n",
        "import numpy as np\n",
        "\n",
        "salary_in_thousands = np.array([28, 6.5, 6.5, 6.5, 50, 11, 10, 35, 25, 25, 6.5, 120, 6.5, 50, 50, 55, 0.1, 1000], dtype = float)\n",
        "salary_series = pd.Series(salary_in_thousands,\n",
        "                          index = range(2, 20, 1),\n",
        "                          name = 'My_series',\n",
        "                          dtype = float\n",
        "                          )\n",
        "salary_series"
      ],
      "metadata": {
        "id": "u43FVl-6NxYK",
        "colab": {
          "base_uri": "https://localhost:8080/"
        },
        "outputId": "45c01a17-7f68-476b-a790-431d7404ecc8"
      },
      "execution_count": 19,
      "outputs": [
        {
          "output_type": "execute_result",
          "data": {
            "text/plain": [
              "2       28.0\n",
              "3        6.5\n",
              "4        6.5\n",
              "5        6.5\n",
              "6       50.0\n",
              "7       11.0\n",
              "8       10.0\n",
              "9       35.0\n",
              "10      25.0\n",
              "11      25.0\n",
              "12       6.5\n",
              "13     120.0\n",
              "14       6.5\n",
              "15      50.0\n",
              "16      50.0\n",
              "17      55.0\n",
              "18       0.1\n",
              "19    1000.0\n",
              "Name: My_series, dtype: float64"
            ]
          },
          "metadata": {},
          "execution_count": 19
        }
      ]
    },
    {
      "cell_type": "code",
      "source": [
        "# Cлайсування та індексація\n",
        "import pandas as pd\n",
        "import numpy as np\n",
        "\n",
        "mountains_height = pd.Series(\n",
        "    data=[2061, 2035.8, 2028.5, np.nan, np.nan],\n",
        "    index=[\"Goverla\", \"Brebenskyl\", \"Pip_Ivan\", \"Petros\", \"Gutin_Tomnatik\"],\n",
        "    name=\"Height, m\",\n",
        "    dtype=float,\n",
        ")\n",
        "\n",
        "print('Початкові дані:\\n', mountains_height)\n",
        "print('-'*50)\n",
        "print('Дані першого рядка:\\n', mountains_height[0])\n",
        "print('-'*50)\n",
        "print('Дані рядка з індексом \"Goverla\"\\n', mountains_height[\"Goverla\"])\n",
        "print('-'*50)\n",
        "print('Дані рядків з індексами \"Pip_Ivan\", \"Goverla\", \"Gutin_Tomnatik\"\\n', mountains_height[[\"Pip_Ivan\", \"Goverla\", \"Gutin_Tomnatik\"]])\n",
        "print('-'*50)\n",
        "print('Дані рядків з другого по третій індекс\\n', mountains_height[1:3])\n",
        "print('-'*50)\n",
        "print('Дані рядків з Brebenskyl по Petros індекси\\n', mountains_height[\"Brebenskyl\":\"Petros\"])\n",
        "print('-'*50)\n",
        "print('Petros дані\\n', mountains_height.Petros)\n",
        "print('-'*50)\n",
        "print('Brebenskyl дані\\n', mountains_height.Brebenskyl)\n",
        "print('-'*50)"
      ],
      "metadata": {
        "id": "57XVtVvRQxyj",
        "colab": {
          "base_uri": "https://localhost:8080/"
        },
        "outputId": "b3b1dc15-3cba-47ed-946b-84b713a3137d"
      },
      "execution_count": 20,
      "outputs": [
        {
          "output_type": "stream",
          "name": "stdout",
          "text": [
            "Початкові дані:\n",
            " Goverla           2061.0\n",
            "Brebenskyl        2035.8\n",
            "Pip_Ivan          2028.5\n",
            "Petros               NaN\n",
            "Gutin_Tomnatik       NaN\n",
            "Name: Height, m, dtype: float64\n",
            "--------------------------------------------------\n",
            "Дані першого рядка:\n",
            " 2061.0\n",
            "--------------------------------------------------\n",
            "Дані рядка з індексом \"Goverla\"\n",
            " 2061.0\n",
            "--------------------------------------------------\n",
            "Дані рядків з індексами \"Pip_Ivan\", \"Goverla\", \"Gutin_Tomnatik\"\n",
            " Pip_Ivan          2028.5\n",
            "Goverla           2061.0\n",
            "Gutin_Tomnatik       NaN\n",
            "Name: Height, m, dtype: float64\n",
            "--------------------------------------------------\n",
            "Дані рядків з другого по третій індекс\n",
            " Brebenskyl    2035.8\n",
            "Pip_Ivan      2028.5\n",
            "Name: Height, m, dtype: float64\n",
            "--------------------------------------------------\n",
            "Дані рядків з Brebenskyl по Petros індекси\n",
            " Brebenskyl    2035.8\n",
            "Pip_Ivan      2028.5\n",
            "Petros           NaN\n",
            "Name: Height, m, dtype: float64\n",
            "--------------------------------------------------\n",
            "Petros дані\n",
            " nan\n",
            "--------------------------------------------------\n",
            "Brebenskyl дані\n",
            " 2035.8\n",
            "--------------------------------------------------\n"
          ]
        }
      ]
    },
    {
      "cell_type": "code",
      "source": [
        "# Фільтрування та \"мАски\"\n",
        "print('Маска об\\'єктів які більше за 2030:\\n', mountains_height > 2030)\n",
        "print('-'*50)\n",
        "print('Результат використанної маски\\n', mountains_height[mountains_height > 2030]) # Результат використанної маски\n",
        "print('-'*50)\n",
        "print('Перевірка, чи є \"Goverla\" в об\\'єкті mountains_height\\n', \"Goverla\" in mountains_height)"
      ],
      "metadata": {
        "id": "0ctcNbDdR1Vb",
        "colab": {
          "base_uri": "https://localhost:8080/"
        },
        "outputId": "ddab4f32-4a47-4fdf-ec56-91ffcdf7819d"
      },
      "execution_count": 21,
      "outputs": [
        {
          "output_type": "stream",
          "name": "stdout",
          "text": [
            "Маска об'єктів які більше за 2030:\n",
            " Goverla            True\n",
            "Brebenskyl         True\n",
            "Pip_Ivan          False\n",
            "Petros            False\n",
            "Gutin_Tomnatik    False\n",
            "Name: Height, m, dtype: bool\n",
            "--------------------------------------------------\n",
            "Результат використанної маски\n",
            " Goverla       2061.0\n",
            "Brebenskyl    2035.8\n",
            "Name: Height, m, dtype: float64\n",
            "--------------------------------------------------\n",
            "Перевірка, чи є \"Goverla\" в об'єкті mountains_height\n",
            " True\n"
          ]
        }
      ]
    },
    {
      "cell_type": "code",
      "source": [
        "# https://pandas.pydata.org/docs/reference/api/pandas.DataFrame.sort_values.html\n",
        "# Cортування\n",
        "sort_index = mountains_height.sort_index()\n",
        "print('Серія даних відсортована за індексом (на збільшення)\\n',sort_index)\n",
        "print('-'*50)\n",
        "\n",
        "mountains_height.sort_values(inplace=True, ascending=True)\n",
        "print('Серія даних відсортована за значенням (на збільшення)\\n',mountains_height)\n",
        "print('-'*50)"
      ],
      "metadata": {
        "id": "TrPndLcpf-ig",
        "colab": {
          "base_uri": "https://localhost:8080/"
        },
        "outputId": "de5a15ec-b084-471f-aa9b-d8f528d2492e"
      },
      "execution_count": 22,
      "outputs": [
        {
          "output_type": "stream",
          "name": "stdout",
          "text": [
            "Серія даних відсортована за індексом (на збільшення)\n",
            " Brebenskyl        2035.8\n",
            "Goverla           2061.0\n",
            "Gutin_Tomnatik       NaN\n",
            "Petros               NaN\n",
            "Pip_Ivan          2028.5\n",
            "Name: Height, m, dtype: float64\n",
            "--------------------------------------------------\n",
            "Серія даних відсортована за значенням (на збільшення)\n",
            " Pip_Ivan          2028.5\n",
            "Brebenskyl        2035.8\n",
            "Goverla           2061.0\n",
            "Petros               NaN\n",
            "Gutin_Tomnatik       NaN\n",
            "Name: Height, m, dtype: float64\n",
            "--------------------------------------------------\n"
          ]
        }
      ]
    },
    {
      "cell_type": "code",
      "source": [
        "# Заповнення даних\n",
        "print('Початкові дані:\\n', mountains_height)\n",
        "print('-'*50)\n",
        "\n",
        "mountains_height.fillna(0, inplace=True)\n",
        "print('Дані з заповненими пропусками:\\n', mountains_height)\n",
        "print('-'*50)"
      ],
      "metadata": {
        "id": "7sE_0I5lf-k3",
        "colab": {
          "base_uri": "https://localhost:8080/"
        },
        "outputId": "229be896-470a-4899-acbb-1ae094635926"
      },
      "execution_count": 23,
      "outputs": [
        {
          "output_type": "stream",
          "name": "stdout",
          "text": [
            "Початкові дані:\n",
            " Pip_Ivan          2028.5\n",
            "Brebenskyl        2035.8\n",
            "Goverla           2061.0\n",
            "Petros               NaN\n",
            "Gutin_Tomnatik       NaN\n",
            "Name: Height, m, dtype: float64\n",
            "--------------------------------------------------\n",
            "Дані з заповненими пропусками:\n",
            " Pip_Ivan          2028.5\n",
            "Brebenskyl        2035.8\n",
            "Goverla           2061.0\n",
            "Petros               0.0\n",
            "Gutin_Tomnatik       0.0\n",
            "Name: Height, m, dtype: float64\n",
            "--------------------------------------------------\n"
          ]
        }
      ]
    },
    {
      "cell_type": "markdown",
      "source": [
        "## DataFrames"
      ],
      "metadata": {
        "id": "sV26ZDhXeA5e"
      }
    },
    {
      "cell_type": "markdown",
      "source": [
        "![alt text](https://hossainlab.github.io/pandas/_images/pandas.png)"
      ],
      "metadata": {
        "id": "b_tmfz1CL8c-"
      }
    },
    {
      "cell_type": "code",
      "source": [
        "contacts = pd.DataFrame(\n",
        "    {\n",
        "        \"name\": [\n",
        "            \"Allen Raymond\",\n",
        "            \"Chaim Lewis\",\n",
        "            \"Kennedy Lane\",\n",
        "            \"Wylie Pope\",\n",
        "            \"Cyrus Jackson\",\n",
        "        ],\n",
        "        \"email\": [\n",
        "            \"nulla.ante@vestibul.co.uk\",\n",
        "            \"dui.in@egetlacus.ca\",\n",
        "            \"mattis.Cras@nonenimMauris.net\",\n",
        "            \"est@utquamvel.net\",\n",
        "            \"nibh@semsempererat.com\",\n",
        "        ],\n",
        "        \"phone\": [\n",
        "            \"(992) 914-3792\",\n",
        "            \"(294) 840-6685\",\n",
        "            \"(542) 451-7038\",\n",
        "            \"(692) 802-2949\",\n",
        "            \"(501) 472-5218\",\n",
        "        ],\n",
        "        \"favorite\": [False, False, True, False, True],\n",
        "    },\n",
        "    index=[1, 2, 3, 4, 5],\n",
        ")\n",
        "\n",
        "contacts"
      ],
      "metadata": {
        "id": "HOQWuDGQR_KC",
        "colab": {
          "base_uri": "https://localhost:8080/",
          "height": 206
        },
        "outputId": "89ecac76-0255-4159-92eb-bc41c22ef01f"
      },
      "execution_count": 24,
      "outputs": [
        {
          "output_type": "execute_result",
          "data": {
            "text/plain": [
              "            name                          email           phone  favorite\n",
              "1  Allen Raymond      nulla.ante@vestibul.co.uk  (992) 914-3792     False\n",
              "2    Chaim Lewis            dui.in@egetlacus.ca  (294) 840-6685     False\n",
              "3   Kennedy Lane  mattis.Cras@nonenimMauris.net  (542) 451-7038      True\n",
              "4     Wylie Pope              est@utquamvel.net  (692) 802-2949     False\n",
              "5  Cyrus Jackson         nibh@semsempererat.com  (501) 472-5218      True"
            ],
            "text/html": [
              "\n",
              "  <div id=\"df-b031f04a-1ad9-49ad-b847-585bb3c96c2a\" class=\"colab-df-container\">\n",
              "    <div>\n",
              "<style scoped>\n",
              "    .dataframe tbody tr th:only-of-type {\n",
              "        vertical-align: middle;\n",
              "    }\n",
              "\n",
              "    .dataframe tbody tr th {\n",
              "        vertical-align: top;\n",
              "    }\n",
              "\n",
              "    .dataframe thead th {\n",
              "        text-align: right;\n",
              "    }\n",
              "</style>\n",
              "<table border=\"1\" class=\"dataframe\">\n",
              "  <thead>\n",
              "    <tr style=\"text-align: right;\">\n",
              "      <th></th>\n",
              "      <th>name</th>\n",
              "      <th>email</th>\n",
              "      <th>phone</th>\n",
              "      <th>favorite</th>\n",
              "    </tr>\n",
              "  </thead>\n",
              "  <tbody>\n",
              "    <tr>\n",
              "      <th>1</th>\n",
              "      <td>Allen Raymond</td>\n",
              "      <td>nulla.ante@vestibul.co.uk</td>\n",
              "      <td>(992) 914-3792</td>\n",
              "      <td>False</td>\n",
              "    </tr>\n",
              "    <tr>\n",
              "      <th>2</th>\n",
              "      <td>Chaim Lewis</td>\n",
              "      <td>dui.in@egetlacus.ca</td>\n",
              "      <td>(294) 840-6685</td>\n",
              "      <td>False</td>\n",
              "    </tr>\n",
              "    <tr>\n",
              "      <th>3</th>\n",
              "      <td>Kennedy Lane</td>\n",
              "      <td>mattis.Cras@nonenimMauris.net</td>\n",
              "      <td>(542) 451-7038</td>\n",
              "      <td>True</td>\n",
              "    </tr>\n",
              "    <tr>\n",
              "      <th>4</th>\n",
              "      <td>Wylie Pope</td>\n",
              "      <td>est@utquamvel.net</td>\n",
              "      <td>(692) 802-2949</td>\n",
              "      <td>False</td>\n",
              "    </tr>\n",
              "    <tr>\n",
              "      <th>5</th>\n",
              "      <td>Cyrus Jackson</td>\n",
              "      <td>nibh@semsempererat.com</td>\n",
              "      <td>(501) 472-5218</td>\n",
              "      <td>True</td>\n",
              "    </tr>\n",
              "  </tbody>\n",
              "</table>\n",
              "</div>\n",
              "    <div class=\"colab-df-buttons\">\n",
              "\n",
              "  <div class=\"colab-df-container\">\n",
              "    <button class=\"colab-df-convert\" onclick=\"convertToInteractive('df-b031f04a-1ad9-49ad-b847-585bb3c96c2a')\"\n",
              "            title=\"Convert this dataframe to an interactive table.\"\n",
              "            style=\"display:none;\">\n",
              "\n",
              "  <svg xmlns=\"http://www.w3.org/2000/svg\" height=\"24px\" viewBox=\"0 -960 960 960\">\n",
              "    <path d=\"M120-120v-720h720v720H120Zm60-500h600v-160H180v160Zm220 220h160v-160H400v160Zm0 220h160v-160H400v160ZM180-400h160v-160H180v160Zm440 0h160v-160H620v160ZM180-180h160v-160H180v160Zm440 0h160v-160H620v160Z\"/>\n",
              "  </svg>\n",
              "    </button>\n",
              "\n",
              "  <style>\n",
              "    .colab-df-container {\n",
              "      display:flex;\n",
              "      gap: 12px;\n",
              "    }\n",
              "\n",
              "    .colab-df-convert {\n",
              "      background-color: #E8F0FE;\n",
              "      border: none;\n",
              "      border-radius: 50%;\n",
              "      cursor: pointer;\n",
              "      display: none;\n",
              "      fill: #1967D2;\n",
              "      height: 32px;\n",
              "      padding: 0 0 0 0;\n",
              "      width: 32px;\n",
              "    }\n",
              "\n",
              "    .colab-df-convert:hover {\n",
              "      background-color: #E2EBFA;\n",
              "      box-shadow: 0px 1px 2px rgba(60, 64, 67, 0.3), 0px 1px 3px 1px rgba(60, 64, 67, 0.15);\n",
              "      fill: #174EA6;\n",
              "    }\n",
              "\n",
              "    .colab-df-buttons div {\n",
              "      margin-bottom: 4px;\n",
              "    }\n",
              "\n",
              "    [theme=dark] .colab-df-convert {\n",
              "      background-color: #3B4455;\n",
              "      fill: #D2E3FC;\n",
              "    }\n",
              "\n",
              "    [theme=dark] .colab-df-convert:hover {\n",
              "      background-color: #434B5C;\n",
              "      box-shadow: 0px 1px 3px 1px rgba(0, 0, 0, 0.15);\n",
              "      filter: drop-shadow(0px 1px 2px rgba(0, 0, 0, 0.3));\n",
              "      fill: #FFFFFF;\n",
              "    }\n",
              "  </style>\n",
              "\n",
              "    <script>\n",
              "      const buttonEl =\n",
              "        document.querySelector('#df-b031f04a-1ad9-49ad-b847-585bb3c96c2a button.colab-df-convert');\n",
              "      buttonEl.style.display =\n",
              "        google.colab.kernel.accessAllowed ? 'block' : 'none';\n",
              "\n",
              "      async function convertToInteractive(key) {\n",
              "        const element = document.querySelector('#df-b031f04a-1ad9-49ad-b847-585bb3c96c2a');\n",
              "        const dataTable =\n",
              "          await google.colab.kernel.invokeFunction('convertToInteractive',\n",
              "                                                    [key], {});\n",
              "        if (!dataTable) return;\n",
              "\n",
              "        const docLinkHtml = 'Like what you see? Visit the ' +\n",
              "          '<a target=\"_blank\" href=https://colab.research.google.com/notebooks/data_table.ipynb>data table notebook</a>'\n",
              "          + ' to learn more about interactive tables.';\n",
              "        element.innerHTML = '';\n",
              "        dataTable['output_type'] = 'display_data';\n",
              "        await google.colab.output.renderOutput(dataTable, element);\n",
              "        const docLink = document.createElement('div');\n",
              "        docLink.innerHTML = docLinkHtml;\n",
              "        element.appendChild(docLink);\n",
              "      }\n",
              "    </script>\n",
              "  </div>\n",
              "\n",
              "\n",
              "<div id=\"df-08883ff4-04a6-4fb5-b015-f9bf9923359f\">\n",
              "  <button class=\"colab-df-quickchart\" onclick=\"quickchart('df-08883ff4-04a6-4fb5-b015-f9bf9923359f')\"\n",
              "            title=\"Suggest charts\"\n",
              "            style=\"display:none;\">\n",
              "\n",
              "<svg xmlns=\"http://www.w3.org/2000/svg\" height=\"24px\"viewBox=\"0 0 24 24\"\n",
              "     width=\"24px\">\n",
              "    <g>\n",
              "        <path d=\"M19 3H5c-1.1 0-2 .9-2 2v14c0 1.1.9 2 2 2h14c1.1 0 2-.9 2-2V5c0-1.1-.9-2-2-2zM9 17H7v-7h2v7zm4 0h-2V7h2v10zm4 0h-2v-4h2v4z\"/>\n",
              "    </g>\n",
              "</svg>\n",
              "  </button>\n",
              "\n",
              "<style>\n",
              "  .colab-df-quickchart {\n",
              "      --bg-color: #E8F0FE;\n",
              "      --fill-color: #1967D2;\n",
              "      --hover-bg-color: #E2EBFA;\n",
              "      --hover-fill-color: #174EA6;\n",
              "      --disabled-fill-color: #AAA;\n",
              "      --disabled-bg-color: #DDD;\n",
              "  }\n",
              "\n",
              "  [theme=dark] .colab-df-quickchart {\n",
              "      --bg-color: #3B4455;\n",
              "      --fill-color: #D2E3FC;\n",
              "      --hover-bg-color: #434B5C;\n",
              "      --hover-fill-color: #FFFFFF;\n",
              "      --disabled-bg-color: #3B4455;\n",
              "      --disabled-fill-color: #666;\n",
              "  }\n",
              "\n",
              "  .colab-df-quickchart {\n",
              "    background-color: var(--bg-color);\n",
              "    border: none;\n",
              "    border-radius: 50%;\n",
              "    cursor: pointer;\n",
              "    display: none;\n",
              "    fill: var(--fill-color);\n",
              "    height: 32px;\n",
              "    padding: 0;\n",
              "    width: 32px;\n",
              "  }\n",
              "\n",
              "  .colab-df-quickchart:hover {\n",
              "    background-color: var(--hover-bg-color);\n",
              "    box-shadow: 0 1px 2px rgba(60, 64, 67, 0.3), 0 1px 3px 1px rgba(60, 64, 67, 0.15);\n",
              "    fill: var(--button-hover-fill-color);\n",
              "  }\n",
              "\n",
              "  .colab-df-quickchart-complete:disabled,\n",
              "  .colab-df-quickchart-complete:disabled:hover {\n",
              "    background-color: var(--disabled-bg-color);\n",
              "    fill: var(--disabled-fill-color);\n",
              "    box-shadow: none;\n",
              "  }\n",
              "\n",
              "  .colab-df-spinner {\n",
              "    border: 2px solid var(--fill-color);\n",
              "    border-color: transparent;\n",
              "    border-bottom-color: var(--fill-color);\n",
              "    animation:\n",
              "      spin 1s steps(1) infinite;\n",
              "  }\n",
              "\n",
              "  @keyframes spin {\n",
              "    0% {\n",
              "      border-color: transparent;\n",
              "      border-bottom-color: var(--fill-color);\n",
              "      border-left-color: var(--fill-color);\n",
              "    }\n",
              "    20% {\n",
              "      border-color: transparent;\n",
              "      border-left-color: var(--fill-color);\n",
              "      border-top-color: var(--fill-color);\n",
              "    }\n",
              "    30% {\n",
              "      border-color: transparent;\n",
              "      border-left-color: var(--fill-color);\n",
              "      border-top-color: var(--fill-color);\n",
              "      border-right-color: var(--fill-color);\n",
              "    }\n",
              "    40% {\n",
              "      border-color: transparent;\n",
              "      border-right-color: var(--fill-color);\n",
              "      border-top-color: var(--fill-color);\n",
              "    }\n",
              "    60% {\n",
              "      border-color: transparent;\n",
              "      border-right-color: var(--fill-color);\n",
              "    }\n",
              "    80% {\n",
              "      border-color: transparent;\n",
              "      border-right-color: var(--fill-color);\n",
              "      border-bottom-color: var(--fill-color);\n",
              "    }\n",
              "    90% {\n",
              "      border-color: transparent;\n",
              "      border-bottom-color: var(--fill-color);\n",
              "    }\n",
              "  }\n",
              "</style>\n",
              "\n",
              "  <script>\n",
              "    async function quickchart(key) {\n",
              "      const quickchartButtonEl =\n",
              "        document.querySelector('#' + key + ' button');\n",
              "      quickchartButtonEl.disabled = true;  // To prevent multiple clicks.\n",
              "      quickchartButtonEl.classList.add('colab-df-spinner');\n",
              "      try {\n",
              "        const charts = await google.colab.kernel.invokeFunction(\n",
              "            'suggestCharts', [key], {});\n",
              "      } catch (error) {\n",
              "        console.error('Error during call to suggestCharts:', error);\n",
              "      }\n",
              "      quickchartButtonEl.classList.remove('colab-df-spinner');\n",
              "      quickchartButtonEl.classList.add('colab-df-quickchart-complete');\n",
              "    }\n",
              "    (() => {\n",
              "      let quickchartButtonEl =\n",
              "        document.querySelector('#df-08883ff4-04a6-4fb5-b015-f9bf9923359f button');\n",
              "      quickchartButtonEl.style.display =\n",
              "        google.colab.kernel.accessAllowed ? 'block' : 'none';\n",
              "    })();\n",
              "  </script>\n",
              "</div>\n",
              "    </div>\n",
              "  </div>\n"
            ],
            "application/vnd.google.colaboratory.intrinsic+json": {
              "type": "dataframe",
              "variable_name": "contacts",
              "summary": "{\n  \"name\": \"contacts\",\n  \"rows\": 5,\n  \"fields\": [\n    {\n      \"column\": \"name\",\n      \"properties\": {\n        \"dtype\": \"string\",\n        \"num_unique_values\": 5,\n        \"samples\": [\n          \"Chaim Lewis\",\n          \"Cyrus Jackson\",\n          \"Kennedy Lane\"\n        ],\n        \"semantic_type\": \"\",\n        \"description\": \"\"\n      }\n    },\n    {\n      \"column\": \"email\",\n      \"properties\": {\n        \"dtype\": \"string\",\n        \"num_unique_values\": 5,\n        \"samples\": [\n          \"dui.in@egetlacus.ca\",\n          \"nibh@semsempererat.com\",\n          \"mattis.Cras@nonenimMauris.net\"\n        ],\n        \"semantic_type\": \"\",\n        \"description\": \"\"\n      }\n    },\n    {\n      \"column\": \"phone\",\n      \"properties\": {\n        \"dtype\": \"string\",\n        \"num_unique_values\": 5,\n        \"samples\": [\n          \"(294) 840-6685\",\n          \"(501) 472-5218\",\n          \"(542) 451-7038\"\n        ],\n        \"semantic_type\": \"\",\n        \"description\": \"\"\n      }\n    },\n    {\n      \"column\": \"favorite\",\n      \"properties\": {\n        \"dtype\": \"boolean\",\n        \"num_unique_values\": 2,\n        \"samples\": [\n          true,\n          false\n        ],\n        \"semantic_type\": \"\",\n        \"description\": \"\"\n      }\n    }\n  ]\n}"
            }
          },
          "metadata": {},
          "execution_count": 24
        }
      ]
    },
    {
      "cell_type": "code",
      "source": [
        "# Слайсування та індексація\n",
        "print('Cерія даних name\\n', contacts[\"name\"])\n",
        "print('-'*50)\n",
        "print('Cерія даних індексу \"1\"\\n', contacts.loc[1])\n",
        "print('-'*50)\n",
        "print('Cерія даних другого індексу\\n', contacts.iloc[1])\n",
        "print('-'*50)\n",
        "print('Фрейм даних з першого по другий рядок\\n', contacts[0:2])\n",
        "print('-'*50)\n",
        "print('Фрейм даних по фільтру \"favorite\"\\n', contacts[contacts[\"favorite\"]])"
      ],
      "metadata": {
        "id": "OlXFy4QUR_M0",
        "colab": {
          "base_uri": "https://localhost:8080/"
        },
        "outputId": "a2b1a223-1064-4d8a-e0a2-a32fc410572b"
      },
      "execution_count": 25,
      "outputs": [
        {
          "output_type": "stream",
          "name": "stdout",
          "text": [
            "Cерія даних name\n",
            " 1    Allen Raymond\n",
            "2      Chaim Lewis\n",
            "3     Kennedy Lane\n",
            "4       Wylie Pope\n",
            "5    Cyrus Jackson\n",
            "Name: name, dtype: object\n",
            "--------------------------------------------------\n",
            "Cерія даних індексу \"1\"\n",
            " name                    Allen Raymond\n",
            "email       nulla.ante@vestibul.co.uk\n",
            "phone                  (992) 914-3792\n",
            "favorite                        False\n",
            "Name: 1, dtype: object\n",
            "--------------------------------------------------\n",
            "Cерія даних другого індексу\n",
            " name                Chaim Lewis\n",
            "email       dui.in@egetlacus.ca\n",
            "phone            (294) 840-6685\n",
            "favorite                  False\n",
            "Name: 2, dtype: object\n",
            "--------------------------------------------------\n",
            "Фрейм даних з першого по другий рядок\n",
            "             name                      email           phone  favorite\n",
            "1  Allen Raymond  nulla.ante@vestibul.co.uk  (992) 914-3792     False\n",
            "2    Chaim Lewis        dui.in@egetlacus.ca  (294) 840-6685     False\n",
            "--------------------------------------------------\n",
            "Фрейм даних по фільтру \"favorite\"\n",
            "             name                          email           phone  favorite\n",
            "3   Kennedy Lane  mattis.Cras@nonenimMauris.net  (542) 451-7038      True\n",
            "5  Cyrus Jackson         nibh@semsempererat.com  (501) 472-5218      True\n"
          ]
        }
      ]
    },
    {
      "cell_type": "code",
      "source": [
        "contacts.iloc[1, 1]"
      ],
      "metadata": {
        "colab": {
          "base_uri": "https://localhost:8080/",
          "height": 36
        },
        "id": "1TQdZUVGCt_b",
        "outputId": "d1e93371-cb98-4403-f5d5-2ee5acb5210e"
      },
      "execution_count": 26,
      "outputs": [
        {
          "output_type": "execute_result",
          "data": {
            "text/plain": [
              "'dui.in@egetlacus.ca'"
            ],
            "application/vnd.google.colaboratory.intrinsic+json": {
              "type": "string"
            }
          },
          "metadata": {},
          "execution_count": 26
        }
      ]
    },
    {
      "cell_type": "markdown",
      "source": [
        "Зберігання та зчитування"
      ],
      "metadata": {
        "id": "8l2omoDSrGbB"
      }
    },
    {
      "cell_type": "code",
      "source": [
        "# Збереження даних у форматі .csv\n",
        "# https://pandas.pydata.org/docs/reference/api/pandas.DataFrame.to_csv.html#pandas.DataFrame.to_csv\n",
        "contacts.to_csv('contacts.csv',\n",
        "                sep = ',',\n",
        "                encoding = 'utf8',\n",
        "                index = True,\n",
        "                header = True,\n",
        "                na_rep = '',\n",
        "                columns = None\n",
        ")\n",
        "# Зчитування даних у форматі .csv\n",
        "# https://pandas.pydata.org/docs/reference/api/pandas.read_csv.html\n",
        "contacts_readed = pd.read_csv(\"contacts.csv\",\n",
        "                              sep = ',',\n",
        "                              encoding = 'utf8',\n",
        "                              #nrows = 1,\n",
        "                              dtype = str\n",
        "                              )"
      ],
      "metadata": {
        "id": "5-hxfr3GgtJu"
      },
      "execution_count": 27,
      "outputs": []
    },
    {
      "cell_type": "code",
      "source": [
        "# Збереження даних у форматі .xlsx\n",
        "# https://pandas.pydata.org/docs/reference/api/pandas.DataFrame.to_excel.html#pandas.DataFrame.to_excel\n",
        "contacts.to_excel('contacts.xlsx',\n",
        "                  sheet_name='Contacts',\n",
        "                  na_rep='',\n",
        "                  columns=None,\n",
        "                  header=True,\n",
        "                  index=True,\n",
        "                  engine = None\n",
        "                  )\n",
        "# Зчитування даних у форматі .xlsx\n",
        "# https://pandas.pydata.org/docs/reference/api/pandas.read_excel.html\n",
        "contacts = pd.read_excel(\"contacts.xlsx\",\n",
        "                         sheet_name = 'Contacts',\n",
        "                         dtype = str,\n",
        "                         engine = None\n",
        "                         )"
      ],
      "metadata": {
        "id": "s0UuOmg8R_PX"
      },
      "execution_count": 28,
      "outputs": []
    },
    {
      "cell_type": "code",
      "source": [
        "# Збереження даних у форматі .json\n",
        "# https://pandas.pydata.org/docs/reference/api/pandas.DataFrame.to_json.html\n",
        "contacts.to_json('contacts.json',\n",
        "                  orient=\"split\", # records  index  columns  values\n",
        "                  )\n",
        "# Зчитування даних у форматі .json\n",
        "# https://pandas.pydata.org/docs/reference/api/pandas.read_json.html\n",
        "contacts = pd.read_json(\"contacts.json\",\n",
        "                         orient = \"split\"\n",
        "                         )"
      ],
      "metadata": {
        "id": "o4f_HP17R_R_"
      },
      "execution_count": 29,
      "outputs": []
    },
    {
      "cell_type": "code",
      "source": [
        "# Зчитування даних у форматі .html\n",
        "# https://pandas.pydata.org/docs/reference/api/pandas.read_html.html\n",
        "tmp = pd.read_html(\"https://statisticstimes.com/tech/top-computer-languages.php\",\n",
        "                   attrs={\"id\": \"table_id1\"},\n",
        "                   )\n",
        "\n",
        "print(tmp[0].head(15))"
      ],
      "metadata": {
        "id": "R9jIg9TGR_Uc",
        "colab": {
          "base_uri": "https://localhost:8080/"
        },
        "outputId": "7f58d399-15a0-4bff-b2c5-9ad0a307ca4b"
      },
      "execution_count": 32,
      "outputs": [
        {
          "output_type": "stream",
          "name": "stdout",
          "text": [
            "    Apr 2024 Change Programming language    Share  Trends\n",
            "0          1    NaN               Python  28.43 %  +0.7 %\n",
            "1          2    NaN                 Java  16.04 %  -0.1 %\n",
            "2          3    NaN           JavaScript   8.72 %  -0.8 %\n",
            "3          4      ↑                C/C++   6.65 %  +0.2 %\n",
            "4          5      ↓                   C#   6.63 %  -0.2 %\n",
            "5          6      ↑                    R   4.63 %  +0.2 %\n",
            "6          7      ↓                  PHP   4.45 %  -0.7 %\n",
            "7          8    NaN           TypeScript   2.96 %  +0.0 %\n",
            "8          9    NaN                Swift   2.71 %  +0.4 %\n",
            "9         10    NaN                 Rust   2.53 %  +0.4 %\n",
            "10        11    NaN          Objective-C   2.43 %  +0.3 %\n",
            "11        12    NaN                   Go   2.16 %  +0.2 %\n",
            "12        13    NaN               Kotlin   1.93 %  +0.0 %\n",
            "13        14    NaN               Matlab   1.54 %  -0.1 %\n",
            "14        15   ↑↑↑↑                 Dart   1.01 %  +0.2 %\n"
          ]
        }
      ]
    },
    {
      "cell_type": "code",
      "source": [
        "tmp[0].tail(15)"
      ],
      "metadata": {
        "colab": {
          "base_uri": "https://localhost:8080/",
          "height": 519
        },
        "id": "g8-jNaaYEZOU",
        "outputId": "175dcfba-8cf0-4c3c-a993-4c569f652852"
      },
      "execution_count": 38,
      "outputs": [
        {
          "output_type": "execute_result",
          "data": {
            "text/plain": [
              "    Apr 2024 Change Programming language   Share  Trends\n",
              "14        15   ↑↑↑↑                 Dart  1.01 %  +0.2 %\n",
              "15        16    NaN                  Ada  0.99 %  -0.0 %\n",
              "16        17     ↓↓                 Ruby  0.97 %  -0.1 %\n",
              "17        18      ↓                  VBA  0.91 %  -0.0 %\n",
              "18        19      ↓           Powershell  0.76 %  -0.2 %\n",
              "19        20      ↑                  Lua  0.61 %  +0.0 %\n",
              "20        21     ↑↑                 Abap   0.6 %  +0.1 %\n",
              "21        22     ↓↓                Scala  0.58 %  -0.1 %\n",
              "22        23      ↓         Visual Basic  0.42 %  -0.2 %\n",
              "23        24      ↑               Groovy  0.35 %  -0.0 %\n",
              "24        25      ↓                Julia  0.33 %  -0.1 %\n",
              "25        26    NaN                 Perl  0.22 %  -0.1 %\n",
              "26        27      ↑              Haskell  0.17 %  -0.1 %\n",
              "27        28      ↓                Cobol  0.14 %  -0.2 %\n",
              "28        29    NaN        Delphi/Pascal  0.13 %  -0.0 %"
            ],
            "text/html": [
              "\n",
              "  <div id=\"df-3cbd8e41-f2f1-4bca-99ce-f36937948286\" class=\"colab-df-container\">\n",
              "    <div>\n",
              "<style scoped>\n",
              "    .dataframe tbody tr th:only-of-type {\n",
              "        vertical-align: middle;\n",
              "    }\n",
              "\n",
              "    .dataframe tbody tr th {\n",
              "        vertical-align: top;\n",
              "    }\n",
              "\n",
              "    .dataframe thead th {\n",
              "        text-align: right;\n",
              "    }\n",
              "</style>\n",
              "<table border=\"1\" class=\"dataframe\">\n",
              "  <thead>\n",
              "    <tr style=\"text-align: right;\">\n",
              "      <th></th>\n",
              "      <th>Apr 2024</th>\n",
              "      <th>Change</th>\n",
              "      <th>Programming language</th>\n",
              "      <th>Share</th>\n",
              "      <th>Trends</th>\n",
              "    </tr>\n",
              "  </thead>\n",
              "  <tbody>\n",
              "    <tr>\n",
              "      <th>14</th>\n",
              "      <td>15</td>\n",
              "      <td>↑↑↑↑</td>\n",
              "      <td>Dart</td>\n",
              "      <td>1.01 %</td>\n",
              "      <td>+0.2 %</td>\n",
              "    </tr>\n",
              "    <tr>\n",
              "      <th>15</th>\n",
              "      <td>16</td>\n",
              "      <td>NaN</td>\n",
              "      <td>Ada</td>\n",
              "      <td>0.99 %</td>\n",
              "      <td>-0.0 %</td>\n",
              "    </tr>\n",
              "    <tr>\n",
              "      <th>16</th>\n",
              "      <td>17</td>\n",
              "      <td>↓↓</td>\n",
              "      <td>Ruby</td>\n",
              "      <td>0.97 %</td>\n",
              "      <td>-0.1 %</td>\n",
              "    </tr>\n",
              "    <tr>\n",
              "      <th>17</th>\n",
              "      <td>18</td>\n",
              "      <td>↓</td>\n",
              "      <td>VBA</td>\n",
              "      <td>0.91 %</td>\n",
              "      <td>-0.0 %</td>\n",
              "    </tr>\n",
              "    <tr>\n",
              "      <th>18</th>\n",
              "      <td>19</td>\n",
              "      <td>↓</td>\n",
              "      <td>Powershell</td>\n",
              "      <td>0.76 %</td>\n",
              "      <td>-0.2 %</td>\n",
              "    </tr>\n",
              "    <tr>\n",
              "      <th>19</th>\n",
              "      <td>20</td>\n",
              "      <td>↑</td>\n",
              "      <td>Lua</td>\n",
              "      <td>0.61 %</td>\n",
              "      <td>+0.0 %</td>\n",
              "    </tr>\n",
              "    <tr>\n",
              "      <th>20</th>\n",
              "      <td>21</td>\n",
              "      <td>↑↑</td>\n",
              "      <td>Abap</td>\n",
              "      <td>0.6 %</td>\n",
              "      <td>+0.1 %</td>\n",
              "    </tr>\n",
              "    <tr>\n",
              "      <th>21</th>\n",
              "      <td>22</td>\n",
              "      <td>↓↓</td>\n",
              "      <td>Scala</td>\n",
              "      <td>0.58 %</td>\n",
              "      <td>-0.1 %</td>\n",
              "    </tr>\n",
              "    <tr>\n",
              "      <th>22</th>\n",
              "      <td>23</td>\n",
              "      <td>↓</td>\n",
              "      <td>Visual Basic</td>\n",
              "      <td>0.42 %</td>\n",
              "      <td>-0.2 %</td>\n",
              "    </tr>\n",
              "    <tr>\n",
              "      <th>23</th>\n",
              "      <td>24</td>\n",
              "      <td>↑</td>\n",
              "      <td>Groovy</td>\n",
              "      <td>0.35 %</td>\n",
              "      <td>-0.0 %</td>\n",
              "    </tr>\n",
              "    <tr>\n",
              "      <th>24</th>\n",
              "      <td>25</td>\n",
              "      <td>↓</td>\n",
              "      <td>Julia</td>\n",
              "      <td>0.33 %</td>\n",
              "      <td>-0.1 %</td>\n",
              "    </tr>\n",
              "    <tr>\n",
              "      <th>25</th>\n",
              "      <td>26</td>\n",
              "      <td>NaN</td>\n",
              "      <td>Perl</td>\n",
              "      <td>0.22 %</td>\n",
              "      <td>-0.1 %</td>\n",
              "    </tr>\n",
              "    <tr>\n",
              "      <th>26</th>\n",
              "      <td>27</td>\n",
              "      <td>↑</td>\n",
              "      <td>Haskell</td>\n",
              "      <td>0.17 %</td>\n",
              "      <td>-0.1 %</td>\n",
              "    </tr>\n",
              "    <tr>\n",
              "      <th>27</th>\n",
              "      <td>28</td>\n",
              "      <td>↓</td>\n",
              "      <td>Cobol</td>\n",
              "      <td>0.14 %</td>\n",
              "      <td>-0.2 %</td>\n",
              "    </tr>\n",
              "    <tr>\n",
              "      <th>28</th>\n",
              "      <td>29</td>\n",
              "      <td>NaN</td>\n",
              "      <td>Delphi/Pascal</td>\n",
              "      <td>0.13 %</td>\n",
              "      <td>-0.0 %</td>\n",
              "    </tr>\n",
              "  </tbody>\n",
              "</table>\n",
              "</div>\n",
              "    <div class=\"colab-df-buttons\">\n",
              "\n",
              "  <div class=\"colab-df-container\">\n",
              "    <button class=\"colab-df-convert\" onclick=\"convertToInteractive('df-3cbd8e41-f2f1-4bca-99ce-f36937948286')\"\n",
              "            title=\"Convert this dataframe to an interactive table.\"\n",
              "            style=\"display:none;\">\n",
              "\n",
              "  <svg xmlns=\"http://www.w3.org/2000/svg\" height=\"24px\" viewBox=\"0 -960 960 960\">\n",
              "    <path d=\"M120-120v-720h720v720H120Zm60-500h600v-160H180v160Zm220 220h160v-160H400v160Zm0 220h160v-160H400v160ZM180-400h160v-160H180v160Zm440 0h160v-160H620v160ZM180-180h160v-160H180v160Zm440 0h160v-160H620v160Z\"/>\n",
              "  </svg>\n",
              "    </button>\n",
              "\n",
              "  <style>\n",
              "    .colab-df-container {\n",
              "      display:flex;\n",
              "      gap: 12px;\n",
              "    }\n",
              "\n",
              "    .colab-df-convert {\n",
              "      background-color: #E8F0FE;\n",
              "      border: none;\n",
              "      border-radius: 50%;\n",
              "      cursor: pointer;\n",
              "      display: none;\n",
              "      fill: #1967D2;\n",
              "      height: 32px;\n",
              "      padding: 0 0 0 0;\n",
              "      width: 32px;\n",
              "    }\n",
              "\n",
              "    .colab-df-convert:hover {\n",
              "      background-color: #E2EBFA;\n",
              "      box-shadow: 0px 1px 2px rgba(60, 64, 67, 0.3), 0px 1px 3px 1px rgba(60, 64, 67, 0.15);\n",
              "      fill: #174EA6;\n",
              "    }\n",
              "\n",
              "    .colab-df-buttons div {\n",
              "      margin-bottom: 4px;\n",
              "    }\n",
              "\n",
              "    [theme=dark] .colab-df-convert {\n",
              "      background-color: #3B4455;\n",
              "      fill: #D2E3FC;\n",
              "    }\n",
              "\n",
              "    [theme=dark] .colab-df-convert:hover {\n",
              "      background-color: #434B5C;\n",
              "      box-shadow: 0px 1px 3px 1px rgba(0, 0, 0, 0.15);\n",
              "      filter: drop-shadow(0px 1px 2px rgba(0, 0, 0, 0.3));\n",
              "      fill: #FFFFFF;\n",
              "    }\n",
              "  </style>\n",
              "\n",
              "    <script>\n",
              "      const buttonEl =\n",
              "        document.querySelector('#df-3cbd8e41-f2f1-4bca-99ce-f36937948286 button.colab-df-convert');\n",
              "      buttonEl.style.display =\n",
              "        google.colab.kernel.accessAllowed ? 'block' : 'none';\n",
              "\n",
              "      async function convertToInteractive(key) {\n",
              "        const element = document.querySelector('#df-3cbd8e41-f2f1-4bca-99ce-f36937948286');\n",
              "        const dataTable =\n",
              "          await google.colab.kernel.invokeFunction('convertToInteractive',\n",
              "                                                    [key], {});\n",
              "        if (!dataTable) return;\n",
              "\n",
              "        const docLinkHtml = 'Like what you see? Visit the ' +\n",
              "          '<a target=\"_blank\" href=https://colab.research.google.com/notebooks/data_table.ipynb>data table notebook</a>'\n",
              "          + ' to learn more about interactive tables.';\n",
              "        element.innerHTML = '';\n",
              "        dataTable['output_type'] = 'display_data';\n",
              "        await google.colab.output.renderOutput(dataTable, element);\n",
              "        const docLink = document.createElement('div');\n",
              "        docLink.innerHTML = docLinkHtml;\n",
              "        element.appendChild(docLink);\n",
              "      }\n",
              "    </script>\n",
              "  </div>\n",
              "\n",
              "\n",
              "<div id=\"df-86f88f87-270b-46a8-aa95-ca9d89644bd6\">\n",
              "  <button class=\"colab-df-quickchart\" onclick=\"quickchart('df-86f88f87-270b-46a8-aa95-ca9d89644bd6')\"\n",
              "            title=\"Suggest charts\"\n",
              "            style=\"display:none;\">\n",
              "\n",
              "<svg xmlns=\"http://www.w3.org/2000/svg\" height=\"24px\"viewBox=\"0 0 24 24\"\n",
              "     width=\"24px\">\n",
              "    <g>\n",
              "        <path d=\"M19 3H5c-1.1 0-2 .9-2 2v14c0 1.1.9 2 2 2h14c1.1 0 2-.9 2-2V5c0-1.1-.9-2-2-2zM9 17H7v-7h2v7zm4 0h-2V7h2v10zm4 0h-2v-4h2v4z\"/>\n",
              "    </g>\n",
              "</svg>\n",
              "  </button>\n",
              "\n",
              "<style>\n",
              "  .colab-df-quickchart {\n",
              "      --bg-color: #E8F0FE;\n",
              "      --fill-color: #1967D2;\n",
              "      --hover-bg-color: #E2EBFA;\n",
              "      --hover-fill-color: #174EA6;\n",
              "      --disabled-fill-color: #AAA;\n",
              "      --disabled-bg-color: #DDD;\n",
              "  }\n",
              "\n",
              "  [theme=dark] .colab-df-quickchart {\n",
              "      --bg-color: #3B4455;\n",
              "      --fill-color: #D2E3FC;\n",
              "      --hover-bg-color: #434B5C;\n",
              "      --hover-fill-color: #FFFFFF;\n",
              "      --disabled-bg-color: #3B4455;\n",
              "      --disabled-fill-color: #666;\n",
              "  }\n",
              "\n",
              "  .colab-df-quickchart {\n",
              "    background-color: var(--bg-color);\n",
              "    border: none;\n",
              "    border-radius: 50%;\n",
              "    cursor: pointer;\n",
              "    display: none;\n",
              "    fill: var(--fill-color);\n",
              "    height: 32px;\n",
              "    padding: 0;\n",
              "    width: 32px;\n",
              "  }\n",
              "\n",
              "  .colab-df-quickchart:hover {\n",
              "    background-color: var(--hover-bg-color);\n",
              "    box-shadow: 0 1px 2px rgba(60, 64, 67, 0.3), 0 1px 3px 1px rgba(60, 64, 67, 0.15);\n",
              "    fill: var(--button-hover-fill-color);\n",
              "  }\n",
              "\n",
              "  .colab-df-quickchart-complete:disabled,\n",
              "  .colab-df-quickchart-complete:disabled:hover {\n",
              "    background-color: var(--disabled-bg-color);\n",
              "    fill: var(--disabled-fill-color);\n",
              "    box-shadow: none;\n",
              "  }\n",
              "\n",
              "  .colab-df-spinner {\n",
              "    border: 2px solid var(--fill-color);\n",
              "    border-color: transparent;\n",
              "    border-bottom-color: var(--fill-color);\n",
              "    animation:\n",
              "      spin 1s steps(1) infinite;\n",
              "  }\n",
              "\n",
              "  @keyframes spin {\n",
              "    0% {\n",
              "      border-color: transparent;\n",
              "      border-bottom-color: var(--fill-color);\n",
              "      border-left-color: var(--fill-color);\n",
              "    }\n",
              "    20% {\n",
              "      border-color: transparent;\n",
              "      border-left-color: var(--fill-color);\n",
              "      border-top-color: var(--fill-color);\n",
              "    }\n",
              "    30% {\n",
              "      border-color: transparent;\n",
              "      border-left-color: var(--fill-color);\n",
              "      border-top-color: var(--fill-color);\n",
              "      border-right-color: var(--fill-color);\n",
              "    }\n",
              "    40% {\n",
              "      border-color: transparent;\n",
              "      border-right-color: var(--fill-color);\n",
              "      border-top-color: var(--fill-color);\n",
              "    }\n",
              "    60% {\n",
              "      border-color: transparent;\n",
              "      border-right-color: var(--fill-color);\n",
              "    }\n",
              "    80% {\n",
              "      border-color: transparent;\n",
              "      border-right-color: var(--fill-color);\n",
              "      border-bottom-color: var(--fill-color);\n",
              "    }\n",
              "    90% {\n",
              "      border-color: transparent;\n",
              "      border-bottom-color: var(--fill-color);\n",
              "    }\n",
              "  }\n",
              "</style>\n",
              "\n",
              "  <script>\n",
              "    async function quickchart(key) {\n",
              "      const quickchartButtonEl =\n",
              "        document.querySelector('#' + key + ' button');\n",
              "      quickchartButtonEl.disabled = true;  // To prevent multiple clicks.\n",
              "      quickchartButtonEl.classList.add('colab-df-spinner');\n",
              "      try {\n",
              "        const charts = await google.colab.kernel.invokeFunction(\n",
              "            'suggestCharts', [key], {});\n",
              "      } catch (error) {\n",
              "        console.error('Error during call to suggestCharts:', error);\n",
              "      }\n",
              "      quickchartButtonEl.classList.remove('colab-df-spinner');\n",
              "      quickchartButtonEl.classList.add('colab-df-quickchart-complete');\n",
              "    }\n",
              "    (() => {\n",
              "      let quickchartButtonEl =\n",
              "        document.querySelector('#df-86f88f87-270b-46a8-aa95-ca9d89644bd6 button');\n",
              "      quickchartButtonEl.style.display =\n",
              "        google.colab.kernel.accessAllowed ? 'block' : 'none';\n",
              "    })();\n",
              "  </script>\n",
              "</div>\n",
              "    </div>\n",
              "  </div>\n"
            ],
            "application/vnd.google.colaboratory.intrinsic+json": {
              "type": "dataframe",
              "summary": "{\n  \"name\": \"tmp[0]\",\n  \"rows\": 15,\n  \"fields\": [\n    {\n      \"column\": \"Apr 2024\",\n      \"properties\": {\n        \"dtype\": \"number\",\n        \"std\": 4,\n        \"min\": 15,\n        \"max\": 29,\n        \"num_unique_values\": 15,\n        \"samples\": [\n          24,\n          26,\n          15\n        ],\n        \"semantic_type\": \"\",\n        \"description\": \"\"\n      }\n    },\n    {\n      \"column\": \"Change\",\n      \"properties\": {\n        \"dtype\": \"category\",\n        \"num_unique_values\": 5,\n        \"samples\": [\n          \"\\u2193\\u2193\",\n          \"\\u2191\\u2191\",\n          \"\\u2193\"\n        ],\n        \"semantic_type\": \"\",\n        \"description\": \"\"\n      }\n    },\n    {\n      \"column\": \"Programming language\",\n      \"properties\": {\n        \"dtype\": \"string\",\n        \"num_unique_values\": 15,\n        \"samples\": [\n          \"Groovy\",\n          \"Perl\",\n          \"Dart\"\n        ],\n        \"semantic_type\": \"\",\n        \"description\": \"\"\n      }\n    },\n    {\n      \"column\": \"Share\",\n      \"properties\": {\n        \"dtype\": \"string\",\n        \"num_unique_values\": 15,\n        \"samples\": [\n          \"0.35 %\",\n          \"0.22 %\",\n          \"1.01 %\"\n        ],\n        \"semantic_type\": \"\",\n        \"description\": \"\"\n      }\n    },\n    {\n      \"column\": \"Trends\",\n      \"properties\": {\n        \"dtype\": \"category\",\n        \"num_unique_values\": 6,\n        \"samples\": [\n          \"+0.2 %\",\n          \"-0.0 %\",\n          \"+0.1 %\"\n        ],\n        \"semantic_type\": \"\",\n        \"description\": \"\"\n      }\n    }\n  ]\n}"
            }
          },
          "metadata": {},
          "execution_count": 38
        }
      ]
    },
    {
      "cell_type": "markdown",
      "source": [
        "## Робота з даними"
      ],
      "metadata": {
        "id": "pco59nBsrOgn"
      }
    },
    {
      "cell_type": "markdown",
      "source": [
        "Додавання"
      ],
      "metadata": {
        "id": "ePvZIyenrgJ2"
      }
    },
    {
      "cell_type": "code",
      "source": [
        "# Зміна даних\n",
        "print('Перед зміною даних, ім\\'я за індексом \"1\"\\n', contacts.loc[1, 'name'])\n",
        "contacts.loc[1, 'name'] = 'Allen RaymondNew'\n",
        "print('Після зміни даних, ім\\'я за індексом \"1\"\\n', contacts.loc[1, 'name'])"
      ],
      "metadata": {
        "id": "N8fRzgmlrULM"
      },
      "execution_count": null,
      "outputs": []
    },
    {
      "cell_type": "code",
      "source": [
        "# Додавання колонки\n",
        "contacts['job'] = ['HR', 'Dev', 'Data Scientist', 'Dev', 'ML Engineer']\n",
        "display(contacts)"
      ],
      "metadata": {
        "id": "iRHWv1kOS_Ei"
      },
      "execution_count": null,
      "outputs": []
    },
    {
      "cell_type": "code",
      "source": [
        "# Додавання рядка\n",
        "contacts.loc[6] = ['Serhii Kulikov', 'sk@gmail.com', '(000) 911-3432', True, 'DS lecturer']\n",
        "display(contacts)"
      ],
      "metadata": {
        "id": "uDp6-frAnnoA"
      },
      "execution_count": null,
      "outputs": []
    },
    {
      "cell_type": "markdown",
      "source": [
        "Видалення"
      ],
      "metadata": {
        "id": "03M-5lCCriuN"
      }
    },
    {
      "cell_type": "code",
      "source": [
        "contacts.drop(columns = ['job'])"
      ],
      "metadata": {
        "id": "xK81Bd7EoLK_"
      },
      "execution_count": null,
      "outputs": []
    },
    {
      "cell_type": "code",
      "source": [
        "contacts.drop('job', axis = 1)"
      ],
      "metadata": {
        "id": "FAkqqXXHqfjw"
      },
      "execution_count": null,
      "outputs": []
    },
    {
      "cell_type": "markdown",
      "source": [
        "Об'єднання"
      ],
      "metadata": {
        "id": "Y6s-ab7QrmGa"
      }
    },
    {
      "cell_type": "code",
      "source": [
        "contacts2 = pd.DataFrame(    {\n",
        "        \"name\": [\n",
        "            \"Vasyl Petrenko\",\n",
        "            \"Diana Chornyava\"\n",
        "        ],\n",
        "        \"email\": [\n",
        "            \"v.p@gmail.com\",\n",
        "            \"d.c@gmail.com\"\n",
        "        ],\n",
        "        \"phone\": [\n",
        "            \"(001) 914-3792\",\n",
        "            \"(002) 840-6685\",\n",
        "        ],\n",
        "        \"favorite\": [\n",
        "            False,\n",
        "            False\n",
        "        ]\n",
        "    },\n",
        "    index=[7, 8]\n",
        "                             )\n",
        "final_contacts = pd.concat([contacts, contacts2], axis = 0)\n",
        "final_contacts"
      ],
      "metadata": {
        "id": "FWpN5p_WrpD3"
      },
      "execution_count": null,
      "outputs": []
    },
    {
      "cell_type": "code",
      "source": [
        "final_contacts = contacts.merge(contacts2,\n",
        "               how = 'outer',\n",
        "               #on = 'name'\n",
        "               )\n",
        "final_contacts"
      ],
      "metadata": {
        "id": "6hmWMquTrpGT"
      },
      "execution_count": null,
      "outputs": []
    },
    {
      "cell_type": "markdown",
      "source": [
        "Очищення"
      ],
      "metadata": {
        "id": "UQinyc4urpVW"
      }
    },
    {
      "cell_type": "code",
      "source": [
        "final_contacts['nan_col'] = np.nan\n",
        "final_contacts"
      ],
      "metadata": {
        "id": "XitD5WqxuHIn"
      },
      "execution_count": null,
      "outputs": []
    },
    {
      "cell_type": "code",
      "source": [
        "final_contacts = final_contacts.dropna(axis = 1, how = 'all')\n",
        "final_contacts"
      ],
      "metadata": {
        "id": "1w_8OUcjrrcc"
      },
      "execution_count": null,
      "outputs": []
    },
    {
      "cell_type": "code",
      "source": [
        "final_contacts['nan_col'] = np.nan\n",
        "final_contacts = final_contacts.fillna('No INFO')\n",
        "final_contacts"
      ],
      "metadata": {
        "id": "LcT4Hac0rrfF"
      },
      "execution_count": null,
      "outputs": []
    },
    {
      "cell_type": "code",
      "source": [
        "data = {\n",
        "    \"name\": [\"Michael\", \"Steve\", \"Liza\", \"Jhon\", \"Liza\", \"Jhon\"],\n",
        "    \"country\": [\"Canada\", \"USA\", \"Australia\", \"Denmark\", \"Australia\", \"Denmark\"],\n",
        "    \"age\": [25, 32, 19, 23, 19, 23]\n",
        "}\n",
        "print('З дублікатами')\n",
        "employees = pd.DataFrame(data)\n",
        "display(employees)\n",
        "print('Без дублікатів')\n",
        "employees = employees.drop_duplicates(['country'], keep = 'first')\n",
        "display(employees)"
      ],
      "metadata": {
        "id": "WmUt-m6mrrhY"
      },
      "execution_count": null,
      "outputs": []
    },
    {
      "cell_type": "markdown",
      "source": [
        "## Часові ряди"
      ],
      "metadata": {
        "id": "zy76Gm0LvqOo"
      }
    },
    {
      "cell_type": "code",
      "source": [
        "date = pd.Timestamp(\"2021-09-10\")\n",
        "print(date)\n",
        "date = pd.to_datetime(\"2021-09-10 2:54:13\")\n",
        "print(date)"
      ],
      "metadata": {
        "id": "oSezVRXnvoRs"
      },
      "execution_count": null,
      "outputs": []
    },
    {
      "cell_type": "code",
      "source": [
        "date = pd.date_range(start='2021-09-01', freq='D', periods=8)\n",
        "temperature = pd.Series([23, 17, 17, 16, 15, 14, 17, 20], index=date)\n",
        "print(temperature)"
      ],
      "metadata": {
        "id": "RBdVbGG4vieh"
      },
      "execution_count": null,
      "outputs": []
    },
    {
      "cell_type": "markdown",
      "source": [
        "## Групування і агрегації"
      ],
      "metadata": {
        "id": "CfV89X9pPcvW"
      }
    },
    {
      "cell_type": "markdown",
      "source": [
        "\n",
        "1. Групування\n",
        "https://pandas.pydata.org/pandas-docs/stable/reference/api/pandas.DataFrame.groupby.html\n",
        "2. Агрегація\n",
        "https://pandas.pydata.org/docs/reference/api/pandas.DataFrame.agg.html\n",
        "3. Pivot table https://pandas.pydata.org/pandas-docs/stable/reference/api/pandas.DataFrame.pivot.html#pandas.DataFrame.pivot"
      ],
      "metadata": {
        "id": "kcAx7q150W0k"
      }
    },
    {
      "cell_type": "code",
      "source": [
        "import pandas as pd\n",
        "\n",
        "# Створення фрейму даних (DataFrame)\n",
        "data = {\n",
        "    'Категорія': ['Фрукти', 'Овочі', 'Фрукти', 'Овочі', 'Фрукти'],\n",
        "    'Продукт': ['Яблуко', 'Морква', 'Банан', 'Картопля', 'Апельсин'],\n",
        "    'Кількість': [10, 15, 20, 12, 8],\n",
        "    'Ціна за одиницю': [2, 1.5, 1.8, 0.8, 2.5]\n",
        "}\n",
        "df = pd.DataFrame(data)\n",
        "df"
      ],
      "metadata": {
        "id": "084AGDXYvOos"
      },
      "execution_count": null,
      "outputs": []
    },
    {
      "cell_type": "code",
      "source": [
        "# Группування за продуктом\n",
        "grouped_data = df.groupby(['Категорія']).count()\n",
        "grouped_data"
      ],
      "metadata": {
        "id": "nc-nniX8vVx8"
      },
      "execution_count": null,
      "outputs": []
    },
    {
      "cell_type": "code",
      "source": [
        "# Группування за продуктом із сумуванням по кількості (агрегація)\n",
        "grouped_data = df.groupby(['Категорія']).agg({\n",
        "    'Кількість': 'sum'})\n",
        "grouped_data"
      ],
      "metadata": {
        "id": "ODb3jRvsvnLW"
      },
      "execution_count": null,
      "outputs": []
    },
    {
      "cell_type": "code",
      "source": [
        "# Каскадне групування за категорією та продуктом, та агрегація за сумою та середньою ціною\n",
        "grouped_data = df.groupby(['Категорія', 'Продукт']).agg({\n",
        "    'Кількість': ['sum', 'min'],\n",
        "    'Ціна за одиницю': 'mean'\n",
        "})\n",
        "\n",
        "grouped_data"
      ],
      "metadata": {
        "id": "y_FJOZt8vLwH"
      },
      "execution_count": null,
      "outputs": []
    },
    {
      "cell_type": "code",
      "source": [
        "import pandas as pd\n",
        "import numpy as np\n",
        "np.random.seed(42)\n",
        "\n",
        "# Створення випадкових даних для прикладу\n",
        "months = ['Січень', 'Лютий', 'Березень', 'Квітень']\n",
        "categories = ['Фрукти', 'Овочі', 'М\\'ясо']\n",
        "\n",
        "data = {\n",
        "    'Місяць': np.random.choice(months, 100),\n",
        "    'Категорія': np.random.choice(categories, 100),\n",
        "    'Кількість': np.random.randint(1, 50, 100),\n",
        "    'Ціна за одиницю': np.random.uniform(0.5, 10.0, 100)\n",
        "}\n",
        "\n",
        "df = pd.DataFrame(data)\n",
        "df"
      ],
      "metadata": {
        "id": "1dHb4NE_yLno"
      },
      "execution_count": null,
      "outputs": []
    },
    {
      "cell_type": "code",
      "source": [
        "# Каскадне групування за місяцем, категорією та продуктом, та агрегація за сумою, середньою ціною та мінімальною кількістю\n",
        "grouped_data = df.groupby(['Місяць', 'Категорія']).agg({\n",
        "    'Кількість': ['sum', 'min'],\n",
        "    'Ціна за одиницю': 'mean'\n",
        "})\n",
        "\n",
        "# Перейменування стовпців для зручності\n",
        "grouped_data.columns = ['Сумарна кількість', 'Мінімальна кількість', 'Середня ціна']\n",
        "\n",
        "grouped_data"
      ],
      "metadata": {
        "id": "ij3rEl4Uy7GA"
      },
      "execution_count": null,
      "outputs": []
    },
    {
      "cell_type": "code",
      "source": [
        "grouped_data['Сумарний заробіток'] = grouped_data['Сумарна кількість'] * grouped_data['Середня ціна']\n",
        "grouped_data"
      ],
      "metadata": {
        "id": "NeflLP_OzYnZ"
      },
      "execution_count": null,
      "outputs": []
    },
    {
      "cell_type": "code",
      "source": [
        "grouped_data.sort_values(['Сумарний заробіток'], ascending = False)"
      ],
      "metadata": {
        "id": "nw7KvtqZz0EA"
      },
      "execution_count": null,
      "outputs": []
    },
    {
      "cell_type": "code",
      "source": [],
      "metadata": {
        "id": "oMaV4H4Zz9xB"
      },
      "execution_count": null,
      "outputs": []
    }
  ]
}