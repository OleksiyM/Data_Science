{
  "nbformat": 4,
  "nbformat_minor": 0,
  "metadata": {
    "colab": {
      "provenance": []
    },
    "kernelspec": {
      "name": "python3",
      "display_name": "Python 3"
    },
    "language_info": {
      "name": "python"
    }
  },
  "cells": [
    {
      "cell_type": "markdown",
      "source": [
        "# Закріплюємо матеріал."
      ],
      "metadata": {
        "id": "QFdCqP-bfXsC"
      }
    },
    {
      "cell_type": "markdown",
      "source": [
        "**До яких типів задач відносяться задачі нижче?** (Class, Regr, Clust)"
      ],
      "metadata": {
        "id": "kwryxcsRzL0c"
      }
    },
    {
      "cell_type": "markdown",
      "source": [
        "1. Задача полягає в тому, щоб визначити квіти ірису на три різні види (наприклад, Setosa, Versicolor, Virginica) на основі їхніх вимірів довжини та ширини чашечки та пелюстки.\n",
        "\n",
        "2. Задача полягає в визначенні електронних листів на дві категорії: спам та не спам, використовуючи характеристики листа, такі як ключові слова, довжина тексту, наявність або відсутність вкладень тощо.\n",
        "\n",
        "3.  Задача полягає в прогнозуванні вартості будинків на основі різних характеристик, таких як площа, кількість спалень та ванних кімнат, розташування тощо.\n",
        "\n",
        "4.  Задача полягає в групуванні покупців на основі їхніх покупок, щоб виявити подібні патерни купівельного поведінки та визначити цільові аудиторії.\n",
        "\n",
        "5. Задача полягає в групуванні новинних статей на основі їхньої тематики або ключових слів, щоб виявити подібність та відмінності між ними.\n",
        "\n",
        "6. Задача полягає в прогнозуванні кількості електроенергії, яку буде вироблено на певний часовий період, на основі попередніх вимірів, таких як температура, вологість, часові показники тощо.\n",
        "\n",
        "7. Задача полягає в прогнозуванні оцінок студентів на основі їхньої участі в класах, рівня складності завдань, часу, витраченого на вивчення матеріалу тощо.\n",
        "8. Задача полягає в групуванні користувачів веб-сайту на основі їхньої активності, такої як перегляди сторінок, час витрачений на сайті, взаємодія з різними елементами тощо.\n",
        "9. Задача полягає в визначенні пацієнтів на дві категорії: хворі на діабет та здорові, на основі клінічних показників, таких як рівень глюкози в крові, артеріальний тиск, вага тощо.\n",
        "10. Задача полягає в визначенні текстових документів на основі їхнього змісту, щоб визначити, до якої категорії вони належать (наприклад, наука, спорт, політика тощо)."
      ],
      "metadata": {
        "id": "QeYnlYEAv_4l"
      }
    },
    {
      "cell_type": "markdown",
      "source": [
        "### Відповіді"
      ],
      "metadata": {
        "id": "sUR3XWpuwd_w"
      }
    },
    {
      "cell_type": "markdown",
      "source": [
        "1. Class (Класифікація квітів ірису)\n",
        "2. Class (Визначення електронної пошти як спаму або не спаму)\n",
        "3. Regr (Прогнозування ціни будинків)\n",
        "4. Clust (Кластеризація покупців у роздрібних магазинах)\n",
        "5. Clust (Кластеризація новинних статей)\n",
        "6. Regr (Прогнозування виробництва електроенергії)\n",
        "7. Regr (Прогнозування оцінки студентів)\n",
        "8. Clust (Кластеризація даних про відвідування веб-сайту)\n",
        "9. Class (Визначення діабету)\n",
        "10. Class (Визначення теми текстового документа)"
      ],
      "metadata": {
        "id": "gCEUNdHdwh-y"
      }
    },
    {
      "cell_type": "markdown",
      "source": [
        "# Елементи лінійної алгебри"
      ],
      "metadata": {
        "id": "QPrlUpilv5D9"
      }
    },
    {
      "cell_type": "markdown",
      "source": [
        "## Організаційні моменти"
      ],
      "metadata": {
        "id": "MhvTNibjh9XB"
      }
    },
    {
      "cell_type": "markdown",
      "source": [
        "Візуалізація векторів і геометричних об'єктів можно робити за допомогою\n",
        "\n",
        "https://www.math10.com/en/geometry/geogebra/fullscreen.html"
      ],
      "metadata": {
        "id": "X-4uqeCygGEF"
      }
    },
    {
      "cell_type": "markdown",
      "source": [
        "В пайтоні всі розрахунки робляться за допомогою бібліотеки numpy, scipy"
      ],
      "metadata": {
        "id": "j_5ZBUw0g5Ak"
      }
    },
    {
      "cell_type": "markdown",
      "source": [
        "**NumPy** - це бібліотека для мови програмування Python, яка надає підтримку для роботи з масивами та матрицями, а також для виконання математичних операцій на них. NumPy є скороченням від \"Numerical Python\". Частини коду можуть бути написані на мові C або Fortran для оптимізації та для виконання чисельних операцій.\n",
        "\n",
        "https://numpy.org/"
      ],
      "metadata": {
        "id": "lK9PV8F6iO7B"
      }
    },
    {
      "cell_type": "code",
      "source": [
        "!python --version # Версія пайтона в середовищі колаба"
      ],
      "metadata": {
        "id": "RAfJG2HihIlx",
        "colab": {
          "base_uri": "https://localhost:8080/"
        },
        "outputId": "172e2873-1aef-4eb5-eb4c-d636d18d2138"
      },
      "execution_count": 32,
      "outputs": [
        {
          "output_type": "stream",
          "name": "stdout",
          "text": [
            "Python 3.10.12\n"
          ]
        }
      ]
    },
    {
      "cell_type": "code",
      "source": [
        "import numpy as np\n",
        "np.__version__ # Версія numpy в середовищі колаба"
      ],
      "metadata": {
        "id": "gPXklKANhIoU",
        "colab": {
          "base_uri": "https://localhost:8080/",
          "height": 36
        },
        "outputId": "5929a278-b93c-437c-9ff5-9281544df9f6"
      },
      "execution_count": 33,
      "outputs": [
        {
          "output_type": "execute_result",
          "data": {
            "text/plain": [
              "'1.25.2'"
            ],
            "application/vnd.google.colaboratory.intrinsic+json": {
              "type": "string"
            }
          },
          "metadata": {},
          "execution_count": 33
        }
      ]
    },
    {
      "cell_type": "code",
      "source": [
        "# Щоб завантажити коректну версію numpy використайте цю команду у вашому середовищі\n",
        "# pip install numpy==1.25.2"
      ],
      "metadata": {
        "id": "NdcAnaoFhIqw"
      },
      "execution_count": null,
      "outputs": []
    },
    {
      "cell_type": "markdown",
      "source": [
        "**SciPy** - це високорівнева наукова бібліотека для мови програмування Python, яка розширює можливості NumPy, додаючи функції для роботи з чисельними методами, оптимізацією, інтегруванням, а також іншими математичними алгоритмами та інструментами для наукових обчислень.\n",
        "\n",
        "https://scipy.org/"
      ],
      "metadata": {
        "id": "D9Ja8TgjiX81"
      }
    },
    {
      "cell_type": "code",
      "source": [
        "import scipy\n",
        "scipy.__version__"
      ],
      "metadata": {
        "id": "TyxAIsyhhsbF",
        "colab": {
          "base_uri": "https://localhost:8080/",
          "height": 36
        },
        "outputId": "c29d18bd-05f3-4ef0-cf3a-15174bbbb7e8"
      },
      "execution_count": 34,
      "outputs": [
        {
          "output_type": "execute_result",
          "data": {
            "text/plain": [
              "'1.11.4'"
            ],
            "application/vnd.google.colaboratory.intrinsic+json": {
              "type": "string"
            }
          },
          "metadata": {},
          "execution_count": 34
        }
      ]
    },
    {
      "cell_type": "code",
      "source": [
        "# Щоб завантажити коректну версію scipy використайте цю команду у вашому середовищі\n",
        "# pip install scipy==1.11.4"
      ],
      "metadata": {
        "id": "omrsKvq_h0KG"
      },
      "execution_count": null,
      "outputs": []
    },
    {
      "cell_type": "markdown",
      "source": [
        "### Чому залежності дуже важливі і треба слідкувати уважно за всіма імпортами?"
      ],
      "metadata": {
        "id": "zBlIA-BTj4Tf"
      }
    },
    {
      "cell_type": "markdown",
      "source": [
        "Як порахувати корень із числа за допомгою коду?"
      ],
      "metadata": {
        "id": "BKDfj5FEkAGn"
      }
    },
    {
      "cell_type": "code",
      "source": [
        "# Var 1\n",
        "from numpy import sqrt\n",
        "a = 9\n",
        "print(sqrt(a))\n",
        "\n",
        "# Var 2\n",
        "from math import sqrt\n",
        "a = 9\n",
        "print(sqrt(a))"
      ],
      "metadata": {
        "id": "1tRU2XYIkE4x",
        "colab": {
          "base_uri": "https://localhost:8080/"
        },
        "outputId": "513c9fc1-28cb-4bab-909c-8f5cf436efa0"
      },
      "execution_count": 35,
      "outputs": [
        {
          "output_type": "stream",
          "name": "stdout",
          "text": [
            "3.0\n",
            "3.0\n"
          ]
        }
      ]
    },
    {
      "cell_type": "code",
      "source": [
        "# Але є нюанс. Який буде результат?\n",
        "b = [4, 9, 16]\n",
        "print(sqrt(b))"
      ],
      "metadata": {
        "id": "QUql4EyikY-R",
        "colab": {
          "base_uri": "https://localhost:8080/",
          "height": 176
        },
        "outputId": "e2695b77-959c-43a8-80f5-2caab3eadb14"
      },
      "execution_count": 36,
      "outputs": [
        {
          "output_type": "error",
          "ename": "TypeError",
          "evalue": "must be real number, not list",
          "traceback": [
            "\u001b[0;31m---------------------------------------------------------------------------\u001b[0m",
            "\u001b[0;31mTypeError\u001b[0m                                 Traceback (most recent call last)",
            "\u001b[0;32m<ipython-input-36-75ec6e03cf20>\u001b[0m in \u001b[0;36m<cell line: 3>\u001b[0;34m()\u001b[0m\n\u001b[1;32m      1\u001b[0m \u001b[0;31m# Але є нюанс. Який буде результат?\u001b[0m\u001b[0;34m\u001b[0m\u001b[0;34m\u001b[0m\u001b[0m\n\u001b[1;32m      2\u001b[0m \u001b[0mb\u001b[0m \u001b[0;34m=\u001b[0m \u001b[0;34m[\u001b[0m\u001b[0;36m4\u001b[0m\u001b[0;34m,\u001b[0m \u001b[0;36m9\u001b[0m\u001b[0;34m,\u001b[0m \u001b[0;36m16\u001b[0m\u001b[0;34m]\u001b[0m\u001b[0;34m\u001b[0m\u001b[0;34m\u001b[0m\u001b[0m\n\u001b[0;32m----> 3\u001b[0;31m \u001b[0mprint\u001b[0m\u001b[0;34m(\u001b[0m\u001b[0msqrt\u001b[0m\u001b[0;34m(\u001b[0m\u001b[0mb\u001b[0m\u001b[0;34m)\u001b[0m\u001b[0;34m)\u001b[0m\u001b[0;34m\u001b[0m\u001b[0;34m\u001b[0m\u001b[0m\n\u001b[0m",
            "\u001b[0;31mTypeError\u001b[0m: must be real number, not list"
          ]
        }
      ]
    },
    {
      "cell_type": "code",
      "source": [
        "from numpy import sqrt as nsqrt\n",
        "print(nsqrt(b))"
      ],
      "metadata": {
        "id": "Rr2h_6dDk0bv",
        "colab": {
          "base_uri": "https://localhost:8080/"
        },
        "outputId": "64dd0c06-dd14-47ef-d4f0-416c6d65141f"
      },
      "execution_count": 37,
      "outputs": [
        {
          "output_type": "stream",
          "name": "stdout",
          "text": [
            "[2. 3. 4.]\n"
          ]
        }
      ]
    },
    {
      "cell_type": "markdown",
      "source": [
        "## Що таке лінійна алгебра (ЛА)? Основні поняття."
      ],
      "metadata": {
        "id": "EiW8jubwld6e"
      }
    },
    {
      "cell_type": "markdown",
      "source": [
        "**Лінійна алгебра** - це галузь математики, яка вивчає об'єкти та їх взаємодію в лінійних просторах. Основні об'єкти дослідження включають вектори, лінійні підпростори, лінійні перетворення та системи лінійних рівнянь.\n",
        "\n",
        "Основні поняття ЛА:\n",
        "- Вектори\n",
        "- Лінійні простори\n",
        "- Лінійні перетворення\n",
        "- Системи лінійних рівнянь (СЛА)"
      ],
      "metadata": {
        "id": "9SIwfGIriIQl"
      }
    },
    {
      "cell_type": "markdown",
      "source": [
        "![alt text](https://upload.wikimedia.org/wikipedia/commons/thumb/c/ca/Venn_Diagram_of_Numbers.svg/languk-300px-Venn_Diagram_of_Numbers.svg.png)"
      ],
      "metadata": {
        "id": "Mwav_uNVmkir"
      }
    },
    {
      "cell_type": "markdown",
      "source": [
        "**Лінійний простір** - це математична структура, що складається з множини елементів, над якою визначено дві операції:\n",
        "- додавання\n",
        "- множення на скаляр\n",
        "\n",
        "Які тоді бувають простори чисел (множин)?\n",
        "- Натуральні ℕ : {1, 2, 3, 4, 5, ...}\n",
        "- Цілі ℤ : {..., -3,-2,-1, 0, ℕ} (int)\n",
        "- Раціональні ℚ: {ℤ , -1.5, - 0.25, 0,01, 20.25, ...}\n",
        "- Дійсні ℝ: {ℚ, π, e, $\\sqrt2$, ...} (float)\n",
        "- Комплексні ℂ: { ℝ+*i* } (complex)\n",
        "\n",
        "Властивості дійсних чисел:\n",
        "\n",
        "https://ukrayinska.libretexts.org/Математика/До_алгебри/Книга%3A_Преалгебра_(OpenStax)/07%3A_Властивості_дійсних_чисел\n",
        "\n",
        "Дійсні числа\n",
        "\n",
        "https://uk.wikipedia.org/wiki/Дійсне_число"
      ],
      "metadata": {
        "id": "K8-fTOOvlsOn"
      }
    },
    {
      "cell_type": "markdown",
      "source": [
        "## Вектора і скаляри"
      ],
      "metadata": {
        "id": "cyyC1-V9qNuX"
      }
    },
    {
      "cell_type": "markdown",
      "source": [
        "**Вектор** - це об'єкт, який має величину (або довжину) та напрямок. У багатьох випадках вектори визначаються як упорядковані набори чисел, які представляють різницю між двома точками у просторі. Наприклад, у двовимірному просторі вектор може бути представлений як пара чисел (x, y), де x - це компонента по осі X, а y - по осі Y.\n",
        "\n",
        "**Скаляр** - це число у просторі яке не має напряму та геометричного положення у просторі.\n",
        "\n",
        "Характеристики вектора\n",
        "1. Координати початку та кінця вектора\n",
        "\n",
        "A = $(x_A; y_A)$\n",
        "\n",
        "B = $(x_B; y_B)$\n",
        "2. Напрямок\n",
        "\n",
        "3. Координати вектора -- це довжини кожної з проекцій вектора.\n",
        "\n",
        "$\\vec{AB} = \\vec{v}= (x_{AB}; y_{AB}) = (x_B-x_A ; y_B-y_A) $\n",
        "\n",
        "4. Довжина\n",
        "\n",
        "$|\\vec{AB}| = \\sqrt{x_{AB}^2 + y_{AB}^2} $\n",
        "\n",
        "\n",
        "5. Кут відносно вісій координат\n",
        "\n",
        "$cos(α) = x_{AB} / |\\vec{v}|$\n",
        "\n",
        "$cos(β) = y_{AB} / |\\vec{v}|$\n",
        "\n",
        "\n",
        "\n"
      ],
      "metadata": {
        "id": "DrZcy9zCqdYs"
      }
    },
    {
      "cell_type": "markdown",
      "source": [
        "![alt text](https://cdn.economy-pedia.com/8510349/mdulo_de_un_vector_-_qu_es-_definicin_y_concepto_2021_economy-wikicom_2.png.webp)"
      ],
      "metadata": {
        "id": "odT_1SMIrsIM"
      }
    },
    {
      "cell_type": "markdown",
      "source": [
        "Реалізація за допомогою numpy"
      ],
      "metadata": {
        "id": "fiZaxl7n0-su"
      }
    },
    {
      "cell_type": "code",
      "source": [
        "import numpy as np\n",
        "\n",
        "a = np.array([1,2,3,4,5]) # Викликаємо об'єкт np.array\n",
        "print(a)\n",
        "# https://numpy.org/doc/stable/reference/generated/numpy.array.html"
      ],
      "metadata": {
        "id": "9kw1nlIM1F6b",
        "colab": {
          "base_uri": "https://localhost:8080/"
        },
        "outputId": "e4a77731-d8b9-4861-d990-e71a6ae2ae06"
      },
      "execution_count": 38,
      "outputs": [
        {
          "output_type": "stream",
          "name": "stdout",
          "text": [
            "[1 2 3 4 5]\n"
          ]
        }
      ]
    },
    {
      "cell_type": "code",
      "source": [
        "import numpy as np\n",
        "a = np.array(\n",
        "    [[1,2,3],[4,5,6]], dtype = float)\n",
        "print(f'Array:\\n {a}')\n",
        "print(f'Shape: {a.shape}')\n",
        "print(f'Number of dimensions: {a.ndim}') #a.ndim = len(a.shape)\n",
        "print(f'Size (count of elements): {a.size}')\n",
        "print(f'Data type of elements in array: {a.dtype}') # https://numpy.org/doc/stable/user/basics.types.html\n",
        "print(f'Byte size of elements: {a.itemsize}')\n",
        "print(type(a))"
      ],
      "metadata": {
        "id": "fHhGJrvf1CAh",
        "colab": {
          "base_uri": "https://localhost:8080/"
        },
        "outputId": "97843424-f601-45af-9889-3c6172ad775a"
      },
      "execution_count": 39,
      "outputs": [
        {
          "output_type": "stream",
          "name": "stdout",
          "text": [
            "Array:\n",
            " [[1. 2. 3.]\n",
            " [4. 5. 6.]]\n",
            "Shape: (2, 3)\n",
            "Number of dimensions: 2\n",
            "Size (count of elements): 6\n",
            "Data type of elements in array: float64\n",
            "Byte size of elements: 8\n",
            "<class 'numpy.ndarray'>\n"
          ]
        }
      ]
    },
    {
      "cell_type": "code",
      "source": [
        "# Слайсування\n",
        "import numpy as np\n",
        "a = np.array([1,2,3,4,5])\n",
        "print('Перший елемент\\n', a[0])\n",
        "print('-'*50)\n",
        "print('Все від другого елементу\\n', a[1:])\n",
        "print('-'*50)\n",
        "print('Всі елементи до третьйого\\n', a[:2])\n",
        "print('-'*50)\n",
        "print('Всі елементи через 1\\n', a[::2])\n",
        "print('-'*50)"
      ],
      "metadata": {
        "id": "QwL1o24fpFBa",
        "colab": {
          "base_uri": "https://localhost:8080/"
        },
        "outputId": "c6813ca0-76ab-4fa9-9d05-b9edfac6d394"
      },
      "execution_count": 40,
      "outputs": [
        {
          "output_type": "stream",
          "name": "stdout",
          "text": [
            "Перший елемент\n",
            " 1\n",
            "--------------------------------------------------\n",
            "Все від другого елементу\n",
            " [2 3 4 5]\n",
            "--------------------------------------------------\n",
            "Всі елементи до третьйого\n",
            " [1 2]\n",
            "--------------------------------------------------\n",
            "Всі елементи через 1\n",
            " [1 3 5]\n",
            "--------------------------------------------------\n"
          ]
        }
      ]
    },
    {
      "cell_type": "code",
      "source": [
        "# Кастомне(униіверсальне) створення векторів за допомогою ndarray\n",
        "# https://numpy.org/doc/stable/reference/generated/numpy.ndarray.html\n",
        "import numpy as np\n",
        "\n",
        "np.ndarray(shape = (2,3),\n",
        "           buffer = np.array([1,2,3,4,5,6]),\n",
        "           dtype = 'int64',\n",
        "           order = 'C'\n",
        "           )"
      ],
      "metadata": {
        "id": "O7WQDhA92P0L",
        "colab": {
          "base_uri": "https://localhost:8080/"
        },
        "outputId": "d2458f54-041f-49b8-eb00-458c588c0223"
      },
      "execution_count": 43,
      "outputs": [
        {
          "output_type": "execute_result",
          "data": {
            "text/plain": [
              "array([[1, 2, 3],\n",
              "       [4, 5, 6]])"
            ]
          },
          "metadata": {},
          "execution_count": 43
        }
      ]
    },
    {
      "cell_type": "markdown",
      "source": [
        "## Види векторів"
      ],
      "metadata": {
        "id": "kyKVWd5D2w3a"
      }
    },
    {
      "cell_type": "markdown",
      "source": [
        "**Нульовим вектором** -  називають вектор, у якого початок і кінець збігаються, позначення $\\vec 0$ або просто 0.\n",
        "\n",
        "$\\vec 0 = (0; 0)$\n",
        "\n",
        "**Одиничним вектором** називається вектор, довжина якого дорівнює одиниці.\n",
        "\n",
        "$|\\vec I| = 1$\n",
        "\n",
        "Вектори називають **колінеарними**, якщо вони розташовані на одній прямій або на паралельних прямих.\n",
        "\n",
        "![alt text](https://ua.onlinemschool.com/pictures/vector/vector_colinearity.png)\n",
        "\n",
        "\n",
        "Вектори називають **компланарними**, якщо існує площина, якій вони паралельні.\n",
        "\n",
        "![alt text](https://ua.onlinemschool.com/pictures/vector/vector_coplanarity.png)\n",
        "\n",
        "Вектори називають **рівними**, якщо вони колінеарні, однаково спрямовані та мають рівні модулі.\n",
        "\n",
        "![alt text](https://ua.onlinemschool.com/pictures/vector/vector_equality.png)\n",
        "\n",
        "\n",
        "Вектори називають **протилежними**, якщо вони колінеарні, протилежно спрямовані та мають рівні модулі.\n",
        "\n",
        "![alt text](https://resources.cdn.miyklas.com.ua/5c154d84-97c8-4072-9f11-b22aae278674/v_protiv.wmv.png)"
      ],
      "metadata": {
        "id": "sDPOrH-8WReC"
      }
    },
    {
      "cell_type": "code",
      "source": [
        "import numpy as np\n",
        "print('Нуль вектор:\\n', np.zeros(5))\n",
        "print('-'*50)\n",
        "print('Вектор із одиниць:\\n', np.ones(5))\n",
        "print('-'*50)\n",
        "\n",
        "v1 = np.array([1, 2, 3])\n",
        "print('Протележний вектор:\\n', v1 * -1 )\n",
        "print('-'*50)\n",
        "print('Норма вектора:\\n', np.linalg.norm(v1))\n",
        "print('-'*50)\n",
        "\n",
        "v2 = np.array([4,5,6])\n",
        "print('Перевірка на рівність:\\n', np.array_equal(v1, v2))\n",
        "print('-'*50)\n",
        "print('Перевірка на колінеарність:\\n', np.all(np.cross(v1, v2) == 0))\n",
        "print('-'*50)\n",
        "\n",
        "a = np.array([7, 8, 9])\n",
        "matrix = np.vstack((v1, v2, a))\n",
        "det = np.linalg.det(matrix)\n",
        "# Якщо ці три вектори (v1, v2, a) компланарні, то вони є лінійно залежними, тобто, можна побудувати лінійну комбінацію цих векторів, що дорівнює нулю.\n",
        "print('Перевірка на компланарність:\\n', det == 0)\n",
        "print('-'*50)"
      ],
      "metadata": {
        "id": "i-vMXceR2xpj",
        "colab": {
          "base_uri": "https://localhost:8080/"
        },
        "outputId": "39f04c4b-6ef6-4ed8-871c-814703eb9a31"
      },
      "execution_count": 44,
      "outputs": [
        {
          "output_type": "stream",
          "name": "stdout",
          "text": [
            "Нуль вектор:\n",
            " [0. 0. 0. 0. 0.]\n",
            "--------------------------------------------------\n",
            "Вектор із одиниць:\n",
            " [1. 1. 1. 1. 1.]\n",
            "--------------------------------------------------\n",
            "Протележний вектор:\n",
            " [-1 -2 -3]\n",
            "--------------------------------------------------\n",
            "Норма вектора:\n",
            " 3.7416573867739413\n",
            "--------------------------------------------------\n",
            "Перевірка на рівність:\n",
            " False\n",
            "--------------------------------------------------\n",
            "Перевірка на колінеарність:\n",
            " False\n",
            "--------------------------------------------------\n",
            "Перевірка на компланарність:\n",
            " True\n",
            "--------------------------------------------------\n"
          ]
        }
      ]
    },
    {
      "cell_type": "markdown",
      "source": [
        "### Як додати 1 до всіх елементів списка?"
      ],
      "metadata": {
        "id": "TyvZtfF-rInP"
      }
    },
    {
      "cell_type": "code",
      "source": [
        "import numpy as np\n",
        "a = list(range(5))\n",
        "a_array = np.array(a)\n",
        "n = 1\n",
        "print(f'Python realisation: {[i+n for i in a]}')\n",
        "print('-'*50)\n",
        "# За допомогою numpy\n",
        "print(f'NumPy realisation: {a_array+n}')\n",
        "print('-'*50)"
      ],
      "metadata": {
        "id": "hxWjokM224Lq",
        "colab": {
          "base_uri": "https://localhost:8080/"
        },
        "outputId": "6f407bb7-6b5c-4d3b-a65a-badf0514f94b"
      },
      "execution_count": 46,
      "outputs": [
        {
          "output_type": "stream",
          "name": "stdout",
          "text": [
            "Python realisation: [1, 2, 3, 4, 5]\n",
            "--------------------------------------------------\n",
            "NumPy realisation: [1 2 3 4 5]\n",
            "--------------------------------------------------\n"
          ]
        }
      ]
    },
    {
      "cell_type": "markdown",
      "source": [
        "## Дії над векторами"
      ],
      "metadata": {
        "id": "9mPUqZyyrNia"
      }
    },
    {
      "cell_type": "markdown",
      "source": [
        "Існують різні операції, які можна виконати з векторами. Ось основні:\n",
        "\n",
        "- Додавання скаляра до вектора\n",
        "\n",
        "$\\vec v + 1 = (x_v+1, y_v+1)$\n",
        "- Віднімання скаляра від вектора\n",
        "\n",
        "$\\vec v - 2 = (x_v-2, y_v-2)$\n",
        "- Множення вектора на скаляр\n",
        "\n",
        "$\\vec v * 2 = (x_v*5, y_v*5)$\n",
        "- Додавання векторів\n",
        "\n",
        "$\\vec v + \\vec w = (x_v+x_w, y_v+y_w)$\n",
        "- Віднімання векторів\n",
        "\n",
        "$\\vec v - \\vec w = (x_v-x_w, y_v-y_w)$\n",
        "- Скалярний добуток\n",
        "\n",
        "$(\\vec v \\cdot \\vec w) = (x_v*x_w + y_v*y_w)$\n",
        "\n",
        "$(\\vec v \\cdot \\vec w) = |\\vec v| \\cdot |\\vec w|*cos(ϕ)$"
      ],
      "metadata": {
        "id": "Hx-S1Zy1rbfK"
      }
    },
    {
      "cell_type": "code",
      "source": [
        "import numpy as np\n",
        "a = np.array([1, 2, 3, 4, 5], dtype=float)\n",
        "\n",
        "# Вектор-скаляр дії\n",
        "print('Додавання вектора та скаляра:\\n', a + 2)  # [3. 4. 5. 6. 7.]\n",
        "print('-'*50)\n",
        "print('Віднімання вектора та скаляра:\\n', a - 1)  # [0. 1. 2. 3. 4.]\n",
        "print('-'*50)\n",
        "print('Множення вектора на скаляр:\\n', a * 5 ) # [ 5. 10. 15. 20. 25.]\n",
        "print('-' * 50)\n",
        "\n",
        "a = np.array([1, 2, 3])\n",
        "b = np.array([4, 5, 6])\n",
        "# Вектор-вектор дії\n",
        "print('Додавання двох векторів:\\n', a + b)  # [5 7 9]\n",
        "print('-'*50)\n",
        "print('Віднімання двох векторів:\\n', a - b)  # [-3 -3 -3]\n",
        "print('-'*50)\n",
        "print('Скалярний добуток:\\n', np.dot(a, b))  # 32\n",
        "print('-'*50)\n",
        "\n",
        "# numpy only\n",
        "print('По елементне множення (numpy only):\\n', a * b)  # [ 4 10 18]\n",
        "print('-'*50)\n",
        "print('По елементне ділення (numpy only):\\n', b / a)  # [4.  2.5 2. ]\n",
        "print('-'*50)"
      ],
      "metadata": {
        "id": "2lZYkLHH3oxk",
        "colab": {
          "base_uri": "https://localhost:8080/"
        },
        "outputId": "49cd0f0d-508a-44a0-97de-89451baacae3"
      },
      "execution_count": 47,
      "outputs": [
        {
          "output_type": "stream",
          "name": "stdout",
          "text": [
            "Додавання вектора та скаляра:\n",
            " [3. 4. 5. 6. 7.]\n",
            "--------------------------------------------------\n",
            "Віднімання вектора та скаляра:\n",
            " [0. 1. 2. 3. 4.]\n",
            "--------------------------------------------------\n",
            "Множення вектора на скаляр:\n",
            " [ 5. 10. 15. 20. 25.]\n",
            "--------------------------------------------------\n",
            "Додавання двох векторів:\n",
            " [5 7 9]\n",
            "--------------------------------------------------\n",
            "Віднімання двох векторів:\n",
            " [-3 -3 -3]\n",
            "--------------------------------------------------\n",
            "Скалярний добуток:\n",
            " 32\n",
            "--------------------------------------------------\n",
            "По елементне множення (numpy only):\n",
            " [ 4 10 18]\n",
            "--------------------------------------------------\n",
            "По елементне ділення (numpy only):\n",
            " [4.  2.5 2. ]\n",
            "--------------------------------------------------\n"
          ]
        }
      ]
    },
    {
      "cell_type": "markdown",
      "source": [
        "Скалярний добуток має такі властивості:\n",
        "1.\t$(v,w)=(w,v)$\n",
        "2.\t$v^2=∣v∣^2$\n",
        "3.\t$(λv,w)=λ(v,w)$\n",
        "4.\t$(v+w,u)=(v,u)+(w,u)$"
      ],
      "metadata": {
        "id": "iotnE27zvsw2"
      }
    },
    {
      "cell_type": "markdown",
      "source": [
        "## Базис векторів"
      ],
      "metadata": {
        "id": "CZ44uN-ZwRU7"
      }
    },
    {
      "cell_type": "markdown",
      "source": [
        "У лінійній алгебрі **базис векторів** — це набір векторів, що використовуються для опису інших векторів у лінійному просторі. Кожен вектор в просторі можна представити унікальною лінійною комбінацією базисних векторів з деякими коефіцієнтами.\n",
        "\n",
        "Це набір векторів, які сприймаються як \"основа\" або \"фундамент\" простору. Кожний вектор у просторі може бути представлений у вигляді лінійної комбінації базисних векторів. Основна властивість базису полягає в тому, що будь-який вектор у просторі може бути однозначно виражений у вигляді лінійної комбінації цих базисних векторів.\n",
        "\n",
        "Наприклад, у двовимірному просторі кожен базис може складатися з двох лінійно незалежних векторів, наприклад, векторів (1, 0) і (0, 1) які спрямовані вздовж координатних вісей x і y відповідно. Цей базис використовується для опису будь-якого вектора у площині за допомогою його координат.\n"
      ],
      "metadata": {
        "id": "hj-3hYDUwfnV"
      }
    },
    {
      "cell_type": "markdown",
      "source": [
        "![alt text](https://upload.wikimedia.org/wikipedia/commons/thumb/f/fd/3D_Vector.svg/220px-3D_Vector.svg.png)"
      ],
      "metadata": {
        "id": "snvtlBFOwvcZ"
      }
    },
    {
      "cell_type": "markdown",
      "source": [
        "## Матриці"
      ],
      "metadata": {
        "id": "9uwLfgqo2kAN"
      }
    },
    {
      "cell_type": "markdown",
      "source": [
        "**Матриця** - це організована таблиця чисел, яка складається з рядків та стовпців. Кожен елемент матриці зазвичай ідентифікується за допомогою двох індексів: номера рядка та номера стовпця.\n",
        "\n",
        "Матрицею розмірності *m×n* називатиметься сукупність чисел, які будуть розміщені у таблиці з m рядочків та n стовпчиків\n",
        "\n",
        "Числа $a_{ij}$ називаються елементами матриці. Таким чином, перший індекс $i$ елементу відповідає за номер рядка, у якому розміщений даний елемент, а другий індекс $j$ — номер стовця. І як ви могли вже здогадатись, така матриця буде належати лінійному простору $R^{m×n}$."
      ],
      "metadata": {
        "id": "BPpVP08LSrzE"
      }
    },
    {
      "cell_type": "markdown",
      "source": [
        "![alt text](https://chem.libretexts.org/@api/deki/files/282975/definition.jpg)"
      ],
      "metadata": {
        "id": "Ax40yZLdWMcb"
      }
    },
    {
      "cell_type": "markdown",
      "source": [
        "### Операції над матрицями"
      ],
      "metadata": {
        "id": "FzGV15X4ZvhZ"
      }
    },
    {
      "cell_type": "markdown",
      "source": [
        "1. **Сумою матриць** $A = (a_{ij}), B = (b_{ij})$ однакової розмірності $m*n$ називається нова матриця $C = A+B$ тої ж розмірності, елементи якої рівні $c_{ij} = a_{ij} + b_{ij}$.\n",
        "\n",
        "- Властивість 1. $A + B = B + A$\n",
        "- Властивість 2. $(A + B)+C = A+(B+C)$\n",
        "- Властивість 3. $A+ 0 = A$\n",
        "- Властивість 4. $A + (-A) = 0$\n",
        "\n",
        "2. **Добутком матриці на число** називається нова матриця $С = α \\cdot A$ де $c_{ij} = α \\cdot a_{ij}$.\n",
        "\n",
        "- Властивість 5. $(α \\cdot β)A = α ⋅(βA)$\n",
        "- Властивість 6. $α⋅(A+B) = αA+αB$\n",
        "- Властивість 7. $A⋅(α+β) = Aα+Aβ$\n",
        "- Властивість 8. $0⋅A = 0, 1⋅A=A$\n",
        "\n",
        "3. **Транспонуванням** квадратної матриці називається таке перетворення, при якому її рядки стають стовпцями з тими ж номерами, а стовпці — рядками. Матрицю, транспоновану відносно матриці $A$, позначають $A^T$:\n",
        "\n",
        "$$A =\n",
        "\\begin{pmatrix}\n",
        "a_{11} & a_{12} & a_{13} \\\\\n",
        "a_{21} & a_{22} & a_{23} \\\\\n",
        "a_{31} & a_{32} & a_{33}\n",
        "\\end{pmatrix}\n",
        "$$, то\n",
        "$$A^T =\n",
        "\\begin{pmatrix}\n",
        "a_{11} & a_{21} & a_{31} \\\\\n",
        "a_{12} & a_{22} & a_{32} \\\\\n",
        "a_{13} & a_{23} & a_{33}\n",
        "\\end{pmatrix}\n",
        "$$\n",
        "\n",
        "![alt text](https://img.madskillsvocabulary.com/img/matemtica/154/Matriz-Transposta_3.jpg)\n",
        "\n",
        "4. **Множення матриць** — це алгебраїчна операція, яка використовується для обчислення нової матриці шляхом множення двох вихідних матриць. Якщо ми маємо дві матриці A та B, де A має розмірність m×n (тобто має m рядків і n стовпців), а B має розмірність n×p (має n рядків і p стовпців), то їх добуток AB буде матрицею C розмірності m×p, де кожен елемент нової матриці $c_{ij}$ обчислюється як скалярний добуток i-ого рядка матриці A, тобто $\\vec{a_i}$, та j-ого стовпця матриці B — $\\vec{b_j}$.\n",
        "![alt text](https://textbook.edu.goit.global/python/data-science-remaster/v1/img/module-01/mul.drawio.svg)\n",
        "\n",
        "- Властивість 9. $A \\cdot B ≠ B\\cdot A$\n",
        "- Властивість 10. $(A×B)×C=A×(B×C)$\n",
        "- Властивість 11.$(A+B)×C=A×C+B×C$\n",
        "- Властивість 12.$A×(B+C)=A×B+A×C$\n",
        "- Властивість 13.$A×E=E×A=A$\n",
        "- Властивість 14.$A×∅=∅×A=∅$\n",
        "- Властивість 15.$(A×B)^T = B^T×A^T$\n"
      ],
      "metadata": {
        "id": "3GnjGq_de7Uq"
      }
    },
    {
      "cell_type": "code",
      "source": [
        "print(1*1+2*0+3*-1)\n",
        "print(1*2+2*4+3*0)"
      ],
      "metadata": {
        "colab": {
          "base_uri": "https://localhost:8080/"
        },
        "id": "g0cRD53ZQgZh",
        "outputId": "838736f2-3140-498d-dab3-6da39fc00b5b"
      },
      "execution_count": 49,
      "outputs": [
        {
          "output_type": "stream",
          "name": "stdout",
          "text": [
            "-2\n",
            "10\n"
          ]
        }
      ]
    },
    {
      "cell_type": "markdown",
      "source": [
        "### Види матриць"
      ],
      "metadata": {
        "id": "9U64F_m-j1R7"
      }
    },
    {
      "cell_type": "markdown",
      "source": [
        "- Якщо $m=n$, тобто число рядків матриці дорівнює числу стовпців, то матриця називається **квадратною матрицею** порядку $n$.\n",
        "\n",
        "- Квадратна матриця, у якої всі елементи, що стоять вище та нижче головної діагоналі, дорівнюють нулю, називається діагональною, тобто $a_{ii}≠0, a_{ij}=0$ при $i!=j$. Діагональна матриця третього порядку:\n",
        "\n",
        "$$M =\n",
        "\\begin{pmatrix}\n",
        "a_{11} & 0 & 0 \\\\\n",
        "0 & a_{22} & 0 \\\\\n",
        "0 & 0 & a_{33}\n",
        "\\end{pmatrix}\n",
        "$$\n",
        "\n",
        "\n",
        "Діагональ квадратної матриці, складена з елементів $a_{11}, a_{22}, a_{33}, ..., a_{nn}$, називається **головною діагоналлю**.\n",
        "\n",
        "**Побічною діагоналлю квадратної матриці** називається діагональ, що йде з правого верхнього кута цієї матриці в лівий нижній кут (дзеркально до головної).\n",
        "\n",
        "- Квадратна матриця називається **одиничною**, якщо на головній діагоналі в неї стоять одиниці, а решта елементів – нулі. Одиничну матрицю прийнято позначати буквою $I$.\n",
        "\n",
        "$$I =\n",
        "\\begin{pmatrix}\n",
        "1 & 0 & 0 \\\\\n",
        "0 & 1 & 0 \\\\\n",
        "0 & 0 & 1\n",
        "\\end{pmatrix}\n",
        "$$\n",
        "\n",
        "- Квадратна матриця, у якої всі елементи, що стоять нижче (або вище) головної діагоналі, дорівнюють нулю, називається **трикутною**, наприклад, трикутна матриця третього порядку:\n",
        "$$M =\n",
        "\\begin{pmatrix}\n",
        "a_{11} & a_{12} & a_{13} \\\\\n",
        "0 & a_{22} & a_{23} \\\\\n",
        "0 & 0 & a_{33}\n",
        "\\end{pmatrix}\n",
        "$$\n",
        "\n",
        "- Матриця ∅ називається нульовою, якщо всі її елементи дорівнюють нулю.\n",
        "$$0 =\n",
        "\\begin{pmatrix}\n",
        "0 & 0 & 0 \\\\\n",
        "0 & 0 & 0 \\\\\n",
        "0 & 0 & 0\n",
        "\\end{pmatrix}\n",
        "$$\n",
        "\n",
        "- Обернена матриця $A^{-1}$ це така матриця при множенні її на оригінальну $A$, дає одиничну $I$.\n",
        "\n",
        "$$A⋅A^{-1}=A^{-1}⋅A = I$$\n",
        "\n"
      ],
      "metadata": {
        "id": "mHe0enK5jzI9"
      }
    },
    {
      "cell_type": "markdown",
      "source": [
        "### Реалізація в numpy"
      ],
      "metadata": {
        "id": "ZEDE6zjamNHE"
      }
    },
    {
      "cell_type": "code",
      "source": [
        "# Слайсування/ Індексація\n",
        "import numpy as np\n",
        "a = np.array([\n",
        "    [1, 2, 3],\n",
        "     [4, 5, 6],\n",
        "      [7, 8, 9]])\n",
        "print('П\\'ятий елемент матриці 3х3:\\n', a[1, 1])\n",
        "print('-'*50)\n",
        "print('Всі елементи з 2 рядка та у 2 стовпчику матриці 3х3:\\n', a[1:, 1])\n",
        "print('-'*50)\n",
        "print('Всі елементи у 1 рядку до 3 колонки матриці 3х3:\\n', a[0, :2])\n",
        "print('-'*50)"
      ],
      "metadata": {
        "id": "8OFzAGlnmYov",
        "colab": {
          "base_uri": "https://localhost:8080/"
        },
        "outputId": "aa730e89-ca34-45a8-b74b-2506e7489445"
      },
      "execution_count": 50,
      "outputs": [
        {
          "output_type": "stream",
          "name": "stdout",
          "text": [
            "П'ятий елемент матриці 3х3:\n",
            " 5\n",
            "--------------------------------------------------\n",
            "Всі елементи з 2 рядка та у 2 стовпчику матриці 3х3:\n",
            " [5 8]\n",
            "--------------------------------------------------\n",
            "Всі елементи у 1 рядку до 3 колонки матриці 3х3:\n",
            " [1 2]\n",
            "--------------------------------------------------\n"
          ]
        }
      ]
    },
    {
      "cell_type": "code",
      "source": [
        "# Дії над матрицями\n",
        "\n",
        "import numpy as np\n",
        "\n",
        "a = np.array([[1, 2, 3],\n",
        "              [0, 1, 2]])\n",
        "\n",
        "b = np.array([[ 1, 2],\n",
        "              [ 0, 4],\n",
        "              [-1, 0]])\n",
        "\n",
        "print('Розмірність першої матриці:\\n', a.shape, '\\nРозмірність другої матриці:\\n', b.shape)\n",
        "print('-'*50)\n",
        "print('Множення матриць:\\n', np.dot(a, b))\n",
        "print('-'*50)\n",
        "print('Транспонування матриць:\\n',a.T)\n",
        "print('-'*50)\n",
        "print('Зміна розмірності:\\n',a.reshape((3, 2)))\n",
        "print('-'*50)\n",
        "print('Плоска матриця:\\n',a.flatten())\n",
        "print('-'*50)\n",
        "print('Одинична матриця:\\n', np.eye(4, k=0, dtype=float))\n",
        "print('-'*50)\n",
        "a1=np.array([[1, 2],\n",
        "              [3, 4]])\n",
        "print('Обернена матриця:\\n',np.linalg.inv(a1))\n",
        "print('-'*50)"
      ],
      "metadata": {
        "id": "A0aHfF126tsC",
        "colab": {
          "base_uri": "https://localhost:8080/"
        },
        "outputId": "1c316a43-b7ff-4580-9b2f-121ea370541b"
      },
      "execution_count": 56,
      "outputs": [
        {
          "output_type": "stream",
          "name": "stdout",
          "text": [
            "Розмірність першої матриці:\n",
            " (2, 3) \n",
            "Розмірність другої матриці:\n",
            " (3, 2)\n",
            "--------------------------------------------------\n",
            "Множення матриць:\n",
            " [[-2 10]\n",
            " [-2  4]]\n",
            "--------------------------------------------------\n",
            "Транспонування матриць:\n",
            " [[1 0]\n",
            " [2 1]\n",
            " [3 2]]\n",
            "--------------------------------------------------\n",
            "Зміна розмірності:\n",
            " [[1 2]\n",
            " [3 0]\n",
            " [1 2]]\n",
            "--------------------------------------------------\n",
            "Плоска матриця:\n",
            " [1 2 3 0 1 2]\n",
            "--------------------------------------------------\n",
            "Одинична матриця:\n",
            " [[1. 0. 0. 0.]\n",
            " [0. 1. 0. 0.]\n",
            " [0. 0. 1. 0.]\n",
            " [0. 0. 0. 1.]]\n",
            "--------------------------------------------------\n",
            "Обернена матриця:\n",
            " [[-2.   1. ]\n",
            " [ 1.5 -0.5]]\n",
            "--------------------------------------------------\n"
          ]
        }
      ]
    },
    {
      "cell_type": "markdown",
      "source": [
        "# Додаткові можливості numpy"
      ],
      "metadata": {
        "id": "3X9nF781mfdW"
      }
    },
    {
      "cell_type": "code",
      "source": [
        "# Для створення масиву, що містить послідовність чисел, існують два методи: np.arange та np.linspace\n",
        "#Метод np.arange аналогічний методу Python range\n",
        "import numpy as np\n",
        "\n",
        "a = np.arange(5)\n",
        "b = np.arange(1, 3, 0.5)\n",
        "print('Послідовність від 0 до 5:\\n',a)\n",
        "print('-'*50)\n",
        "print('Послідовність від 1 до 3 з кроком 0.5:\\n',b)\n",
        "print('-'*50)\n",
        "\n",
        "a = np.linspace(1, 5, num=2)\n",
        "b = np.linspace(1, 3, num=3)\n",
        "print('Із послідовності [1-5] виділити 2 елементи на максимальній дистанції один від одного:\\n', a)\n",
        "print('-'*50)\n",
        "print('Із послідовності [1-3] виділити 3 елементи на максимальній дистанції один від одного:\\n', b)\n",
        "print('-'*50)"
      ],
      "metadata": {
        "id": "2D83D7I275SL",
        "colab": {
          "base_uri": "https://localhost:8080/"
        },
        "outputId": "785deef3-9d3e-4f31-d8ef-d6813ec66826"
      },
      "execution_count": 57,
      "outputs": [
        {
          "output_type": "stream",
          "name": "stdout",
          "text": [
            "Послідовність від 0 до 5:\n",
            " [0 1 2 3 4]\n",
            "--------------------------------------------------\n",
            "Послідовність від 1 до 3 з кроком 0.5:\n",
            " [1.  1.5 2.  2.5]\n",
            "--------------------------------------------------\n",
            "Із послідовності [1-5] виділити 2 елементи на максимальній дистанції один від одного:\n",
            " [1. 5.]\n",
            "--------------------------------------------------\n",
            "Із послідовності [1-3] виділити 3 елементи на максимальній дистанції один від одного:\n",
            " [1. 2. 3.]\n",
            "--------------------------------------------------\n"
          ]
        }
      ]
    },
    {
      "cell_type": "code",
      "source": [
        "# Статистичні функції\n",
        "import numpy as np\n",
        "\n",
        "a = np.array([1, 2, 3, 4, 5])\n",
        "print('Мінімальна величина послідовності [1, 2, 3, 4, 5]:\\n',a.min())\n",
        "print('-'*50)\n",
        "print('Максимальна величина послідовності [1, 2, 3, 4, 5]:\\n',a.max())\n",
        "print('-'*50)\n",
        "print('Сума всіх величин послідовності [1, 2, 3, 4, 5]:\\n',a.sum())\n",
        "print('-'*50)\n",
        "print('Середня величина послідовності [1, 2, 3, 4, 5]:\\n',a.mean())\n",
        "print('-'*50)\n",
        "print('Множення всіх величин послідовності (факторіал) [1, 2, 3, 4, 5]:\\n', a.prod())\n",
        "print('-'*50)"
      ],
      "metadata": {
        "id": "y05HbZ728Myi",
        "colab": {
          "base_uri": "https://localhost:8080/"
        },
        "outputId": "4989d10a-a2a9-4d0a-ef32-adf411f4bcc5"
      },
      "execution_count": 58,
      "outputs": [
        {
          "output_type": "stream",
          "name": "stdout",
          "text": [
            "Мінімальна величина послідовності [1, 2, 3, 4, 5]:\n",
            " 1\n",
            "--------------------------------------------------\n",
            "Максимальна величина послідовності [1, 2, 3, 4, 5]:\n",
            " 5\n",
            "--------------------------------------------------\n",
            "Сума всіх величин послідовності [1, 2, 3, 4, 5]:\n",
            " 15\n",
            "--------------------------------------------------\n",
            "Середня величина послідовності [1, 2, 3, 4, 5]:\n",
            " 3.0\n",
            "--------------------------------------------------\n",
            "Множення всіх величин послідовності (факторіал) [1, 2, 3, 4, 5]:\n",
            " 120\n",
            "--------------------------------------------------\n"
          ]
        }
      ]
    },
    {
      "cell_type": "code",
      "source": [
        "# З'єднання матриць\n",
        "# https://numpy.org/doc/stable/reference/generated/numpy.hstack.html\n",
        "import numpy as np\n",
        "\n",
        "a = np.array([[1, 2], [3, 4]])\n",
        "b = np.array([[5, 6], [7, 8]])\n",
        "\n",
        "c = np.vstack((a, b))\n",
        "print('Вертикальне з\\'єднання (по колонкам):\\n', c)\n",
        "# [[1 2]\n",
        "#  [3 4]\n",
        "#  [5 6]]\n",
        "\n",
        "d = np.hstack((a, b))\n",
        "print('Горизонтальне з\\'єднання (по рядкам):\\n', d)\n",
        "# [[1 2 5 6]\n",
        "#  [3 4 7 8]]\n",
        "\n",
        "# А також схожа логіка у dstack, column_stack, stack, concatenate, etc."
      ],
      "metadata": {
        "id": "V3YSwBZTml7q",
        "colab": {
          "base_uri": "https://localhost:8080/"
        },
        "outputId": "a4441adf-d14e-48eb-da4d-15dfc9e2ff95"
      },
      "execution_count": 60,
      "outputs": [
        {
          "output_type": "stream",
          "name": "stdout",
          "text": [
            "Вертикальне з'єднання (по колонкам):\n",
            " [[1 2]\n",
            " [3 4]\n",
            " [5 6]\n",
            " [7 8]]\n",
            "Горизонтальне з'єднання (по рядкам):\n",
            " [[1 2 5 6]\n",
            " [3 4 7 8]]\n"
          ]
        }
      ]
    },
    {
      "cell_type": "markdown",
      "source": [
        "Що ще?\n",
        "1. Визначник матриці. Правило трикутника\n",
        "\n",
        "- https://uk.wikipedia.org/wiki/Визначник\n",
        "- https://www.mathros.net.ua/obchyslennja-vyznachnykiv-vysokyh-porjadkiv-za-shemoju-rozkladu-vyznachnyka-po-rjadku-chy-stovpci.html\n",
        "- https://ua.onlinemschool.com/math/assistance/matrix/determinant/\n",
        "\n",
        "2. Система лінійних aлгебраїчних рівнянь (СЛАР) (Метод Гауса, Метод Крамера)\n",
        "\n",
        "- https://uk.wikipedia.org/wiki/Система_лінійних_алгебраїчних_рівнянь\n",
        "- https://uk.wikipedia.org/wiki/Метод_Гауса\n",
        "- https://uk.wikipedia.org/wiki/Метод_Крамера\n",
        "- https://www.mathros.net.ua/rozvjazok-systemy-linijnyh-algebraichnyh-rivnjan-metodom-kramera.html"
      ],
      "metadata": {
        "id": "t0BI4Sx9rPnp"
      }
    },
    {
      "cell_type": "code",
      "source": [],
      "metadata": {
        "id": "foqaAazcV2rS"
      },
      "execution_count": null,
      "outputs": []
    }
  ]
}