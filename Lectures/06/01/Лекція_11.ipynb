{
  "nbformat": 4,
  "nbformat_minor": 0,
  "metadata": {
    "colab": {
      "provenance": []
    },
    "kernelspec": {
      "name": "python3",
      "display_name": "Python 3"
    },
    "language_info": {
      "name": "python"
    }
  },
  "cells": [
    {
      "cell_type": "markdown",
      "source": [
        "#Навчання без учителя (Unsupervised Learning)"
      ],
      "metadata": {
        "id": "6SkaN10ZD2K1"
      }
    },
    {
      "cell_type": "markdown",
      "source": [
        "Навчання без учителя (Unsupervised Learning). Це група алгоритмів машинного навчання, які дозволяють виявляти структури та залежності в даних, коли вони **не мають міток** або відповідей заздалегідь."
      ],
      "metadata": {
        "id": "OxbSi7QVGeVJ"
      }
    },
    {
      "cell_type": "markdown",
      "source": [
        "![alt text](https://databasetown.com/wp-content/uploads/2023/05/Unsupervised-Learning.jpg)"
      ],
      "metadata": {
        "id": "LTI5OtMvGaPQ"
      }
    },
    {
      "cell_type": "markdown",
      "source": [
        "Основні задачі навчання без учителя включають:\n",
        "\n",
        "1. Кластеризацію - групування об'єктів в кластери за подібними властивостями. Прикладом такої задачі може бути групування користувачів соціальної мережі за подібними інтересами, в яких можна рекомендувати подібний контент."
      ],
      "metadata": {
        "id": "NY4IkajUh_xo"
      }
    },
    {
      "cell_type": "markdown",
      "source": [
        "![alt text](https://analystprep.com/study-notes/wp-content/uploads/2021/03/Img_12.jpg)"
      ],
      "metadata": {
        "id": "0iuNniiah8F2"
      }
    },
    {
      "cell_type": "markdown",
      "source": [
        "2. Зменшення розмірності - скорочення кількості ознак у наборі даних зберігаючи при цьому якнайбільше корисної інформації. Наприклад, обробка зображень з високою роздільною здатністю."
      ],
      "metadata": {
        "id": "y1IExByUiEGe"
      }
    },
    {
      "cell_type": "markdown",
      "source": [
        "![alt text](https://miro.medium.com/v2/resize:fit:1400/1*ba0XpZtJrgh7UpzWcIgZ1Q.jpeg)"
      ],
      "metadata": {
        "id": "sfS6mw6LiGzJ"
      }
    },
    {
      "cell_type": "markdown",
      "source": [
        "3. Виявлення аномалій - процес знаходження незвичайних даних або патернів, які відрізняються від нормальної поведінки. Це може бути виявлення фінансових шахрайств, збоїв у енергетичній системі, виявлення пошкоджень тощо."
      ],
      "metadata": {
        "id": "aijO7nRBiG4_"
      }
    },
    {
      "cell_type": "markdown",
      "source": [
        "![alt text](https://miro.medium.com/v2/resize:fit:1400/1*ej6tfhZeqzsCX2Nt8oKcyw.png)"
      ],
      "metadata": {
        "id": "2iWpP7CKioM_"
      }
    },
    {
      "cell_type": "markdown",
      "source": [
        "4. Рекомендаційні системи - системи, що рекомендують користувачеві продукти або послуги на основі його інтересів та попередньої активності. Ц рекомендація фільмів на основі переглянутих користувачем кінострічок до цього, рекомендація товару, музичного кліпу, і т.д."
      ],
      "metadata": {
        "id": "oPwFklo8iHCo"
      }
    },
    {
      "cell_type": "markdown",
      "source": [
        "![alt text](https://pub.mdpi-res.com/symmetry/symmetry-12-00185/article_deploy/html/images/symmetry-12-00185-ag.png?1580474907)"
      ],
      "metadata": {
        "id": "CU9iCEp3i2EI"
      }
    },
    {
      "cell_type": "markdown",
      "source": [
        "![alt text](https://wevolver-project-images.s3.us-west-1.amazonaws.com/0.6lnvtgoc0ndata.jpg)"
      ],
      "metadata": {
        "id": "ZL7xDIJDiHHy"
      }
    },
    {
      "cell_type": "markdown",
      "source": [
        "# Кластерізація"
      ],
      "metadata": {
        "id": "IP2p97Ufj47a"
      }
    },
    {
      "cell_type": "markdown",
      "source": [
        "Задача кластеризації в навчанні без учителя полягає в групуванні схожих об'єктів у кластери. Кластеризація дозволяє виявляти подібність між об'єктами та здійснювати категоризацію даних.\n",
        "\n",
        "Основна мета кластеризації - знайти структуру в даних, тобто виявити приховані групи або кластери. Кластеризація може бути використана для різних цілей, наприклад:\n",
        "\n",
        "1. Групування користувачів в соціальних мережах за інтересами або поведінкою для подальшої персоналізації реклами та контенту.\n",
        "\n",
        "2. Категоризація зображень для подальшої обробки та аналізу.\n",
        "\n",
        "3. Розподіл документів за темою для зручного пошуку та аналізу.\n",
        "\n",
        "Існує кілька алгоритмів кластеризації, які використовуються для цього завдання.Ось деякі види кластерізації:\n",
        "1. **K-середні (K-Means)**: Це один з найпоширеніших методів кластеризації. Алгоритм призначає кожен елемент до одного з K кластерів, так щоб сума квадратів відстаней між елементами кластера і їх центром була мінімальною.\n",
        "\n",
        "2. **Ієрархічна кластеризація**: Вона будує ієрархію кластерів, починаючи з одного кластера, який включає всі дані, і ділить його на менші кластери. Цей процес повторюється досягнення бажаного рівня вкладеності або кількості кластерів.\n",
        "\n",
        "3. **DBSCAN (Density-Based Spatial Clustering of Applications with Noise)**: Цей алгоритм визначає кластери, спираючись на щільність областей в просторі ознак. Він здатен розпізнавати кластери будь-якої форми і виявляти окремі точки, які не належать жодному кластеру.\n",
        "\n",
        "4. **Агломеративна кластеризація**: Цей метод починає з того, що розглядає кожен елемент як окремий кластер, а потім об'єднує найбільш схожі кластери за певною мірою подібності.\n",
        "\n",
        "5. **Affinity Propagation**: Цей алгоритм визначає кластери на основі взаємного впливу між елементами, вибираючи елементи, які володіють найвищим рівнем схожості, як екземпляри для кластерів.\n",
        "\n",
        "6. **Спектральна кластеризація**: Використовує власні вектори графа для визначення кластерів. Цей метод особливо ефективний для виявлення неоднорідних кластерів та кластерів різних розмірів.\n",
        "\n",
        "Кожен з цих алгоритмів має свої сильні та слабкі сторони, і вибір конкретного залежить від ваших даних та конкретних завдань кластеризації.\n",
        "\n",
        "Документація: https://scikit-learn.org/stable/modules/clustering.html"
      ],
      "metadata": {
        "id": "_w7k61ZGkASW"
      }
    },
    {
      "cell_type": "markdown",
      "source": [
        "## K-MEANS"
      ],
      "metadata": {
        "id": "UEI9myG-llwg"
      }
    },
    {
      "cell_type": "markdown",
      "source": [
        "Алгоритм к-середніх має наступні кроки:\n",
        "\n",
        "1. Вибрати кількість кластерів K, яку необхідно сформувати.\n",
        "\n",
        "2. Випадковим чином ініціалізувати початкові координати центроїдів (центрів) кластерів.\n",
        "\n",
        "3. Присвоїти кожному об'єкту з набору даних ближній за відстанню центроїд кластер.\n",
        "\n",
        "4. Обчислити нові координати центроїдів кластерів, як середнє арифметичне всіх об'єктів, що належать до цього кластера.\n",
        "\n",
        "5. Повторити кроки 3 та 4 до тих пір, поки не будуть досягнуті задані умови зупинки (наприклад, досягнення максимальної кількості ітерацій або досягнення заданої точності).\n",
        "\n",
        "6. Кінцевим результатом є набір кластерів та їх центроїди."
      ],
      "metadata": {
        "id": "1jtvC4FenrYp"
      }
    },
    {
      "cell_type": "markdown",
      "source": [
        " **Функція втрат**. Одним із підходів для формулювання цієї функції є мінімізація сумарної квадратичної відстані між кожною точкою та центроїдом її призначеного кластера. Формула для цієї функції може виглядати наступним чином:\n",
        "\n",
        "$X = ({x_1, x_2, ..., x_n})$ - набір даних, де кожен $x_i$ є точкою.\n",
        "\n",
        "$C = ({c_1, c_2, ..., c_k})$ - множина центроїдів для кластерів.\n",
        "\n",
        "Тоді функція J, яку треба мінімізувати, може бути записана як сума квадратів відстаней між кожною точкою та центроїдом її кластера:\n",
        "\n",
        "$$J = 1/n \\cdot \\sum_{i=1}^{n} \\sum_{j=1}^{k} ||x_i - c_j||^2 $$"
      ],
      "metadata": {
        "id": "d3yQibvpoPEm"
      }
    },
    {
      "cell_type": "markdown",
      "source": [
        "###Ініціалізація центроїд"
      ],
      "metadata": {
        "id": "Gl54h5e2tpMk"
      }
    },
    {
      "cell_type": "markdown",
      "source": [
        "\n",
        "\n",
        "Ініціалізація центроїдів у K-means є важливим етапом, оскільки початкове розташування центрів може вплинути на кінцевий результат кластеризації. Існує кілька різних стратегій ініціалізації центроїдів K-means. Ось декілька з них:\n",
        "\n",
        " - Випадковий вибір кількох зразків з даних, які використовуються в якості початкових центрів кластерів.\n",
        " - K-means++, який вибирає початкові центри таким чином, щоб вони були розташовані далеко один від одного. Це допомагає запобігти падінню в локальний мінімум функції вартості.\n",
        " - Метод K-medoids, який вибирає початкові центри як деякі зразки з даних, які є найбільш представницькими для кожного кластера. Це може допомогти зменшити вплив випадкових викидів на процес кластеризації.\n",
        "Інші підходи до ініціалізації центроїдів можуть базуватися на експертних знаннях про дані, які вивчаються, або на попередньому аналізі даних, які можуть допомогти вибрати належну кількість центрів кластерів та їх початкові розташування.\n",
        "\n",
        "Загалом, ми можемо вибрати центри випадковим чином та запустити алгоритм деяку к-сть разів, допустимо 100 разів, а потім обрати той результат, котрий дає найкращий показник функції втрат."
      ],
      "metadata": {
        "id": "od7c-PNjuJ_p"
      }
    },
    {
      "cell_type": "markdown",
      "source": [
        "###Підбір кількості кластерів"
      ],
      "metadata": {
        "id": "5wmuO6__tmDz"
      }
    },
    {
      "cell_type": "markdown",
      "source": [
        "\n",
        "\n",
        "Вибір кількості кластерів є важливим етапом при роботі з алгоритмом K-means та іншими алгоритмами кластеризації. Відповідно до знань про домен та вимог до кластеризації можна вибирати кількість кластерів. Але коли таких знань немає, то можна використовувати різні евристики та метрики, щоб визначити оптимальну кількість кластерів.\n",
        "\n",
        "Одним з найпоширеніших методів для вибору кількості кластерів є метод \"ліктя\" (elbow method). Цей метод полягає в обчисленні distortion cost function для різних значень K (кількість кластерів), а потім графічному аналізу отриманих результатів. Графік \"ліктя\" показує залежність функції втрат від кількості кластерів. Якщо на графіку можна виокремити точку згину (так званий \"лікоть\"), то це може свідчити про те, що відповідна кількість кластерів є оптимальною.\n",
        "\n",
        "[Elbow method](https://www.analyticsvidhya.com/blog/2021/01/in-depth-intuition-of-k-means-clustering-algorithm-in-machine-learning/)\n",
        "\n",
        "[Silhouette analysis](https://scikit-learn.org/0.23/auto_examples/cluster/plot_kmeans_silhouette_analysis.html#sphx-glr-auto-examples-cluster-plot-kmeans-silhouette-analysis-py\n",
        ")"
      ],
      "metadata": {
        "id": "6UuDKTqzuZGj"
      }
    },
    {
      "cell_type": "markdown",
      "source": [
        "![alt text](https://miro.medium.com/v2/resize:fit:1340/1*RnvrdhlUxHWss3vOffHT5g.png)"
      ],
      "metadata": {
        "id": "QaEbh5tqlkVd"
      }
    },
    {
      "cell_type": "markdown",
      "source": [
        "Оцінка Silhouette є метрикою для оцінки якості кластеризації. Формула для обчислення коефіцієнта силуету для одного об'єкта даних полягає у вимірюванні \"роздільності\" кластеризації для цього об'єкта.\n",
        "\n",
        "Ось формула для обчислення коефіцієнта силуету для одного об'єкта:\n",
        "$$S = (b-a)/(max(a,b)) $$\n",
        "\n",
        "$a$ - середнє відстань між об'єктом та іншими об'єктами в тому ж кластері (внутрішній коефіцієнт силуету)\n",
        "\n",
        "$b$ - середнє відстань між об'єктом та об'єктами найближчого іншого кластера (зовнішній коефіцієнт силуету).\n",
        "\n",
        "Коефіцієнт силуету $S$ приймає значення у діапазоні від -1 до 1. Значення близьке до 1 вказує на добре розділені кластери, значення близьке до 0 вказує на накладені кластери, а значення близьке до -1 вказує на неправильну кластеризацію."
      ],
      "metadata": {
        "id": "VRdI2tzkq-ia"
      }
    },
    {
      "cell_type": "markdown",
      "source": [
        "![alt text](https://miro.medium.com/v2/resize:fit:712/1*cUcY9jSBHFMqCmX-fp8BvQ.jpeg)"
      ],
      "metadata": {
        "id": "81olTUyRrsC_"
      }
    },
    {
      "cell_type": "markdown",
      "source": [
        "###Реалізація методу K середніх\n"
      ],
      "metadata": {
        "id": "tLemijjuuhDF"
      }
    },
    {
      "cell_type": "code",
      "source": [
        "# Importing the libraries\n",
        "import numpy as np\n",
        "import matplotlib.pyplot as plt\n",
        "import pandas as pd # Importing the dataset\n",
        "from sklearn.cluster import KMeans\n",
        "\n",
        "#https://www.kaggle.com/datasets/shwetabh123/mall-customers\n",
        "dataset = pd.read_csv('/content/Mall_Customers.csv')\n",
        "display(dataset)\n",
        "X = dataset.iloc[:, [3, 4]].values"
      ],
      "metadata": {
        "colab": {
          "base_uri": "https://localhost:8080/",
          "height": 423
        },
        "id": "faSwdsrDmHAk",
        "outputId": "25ef6634-e0c3-4887-fee6-ad535b9efb43"
      },
      "execution_count": 1,
      "outputs": [
        {
          "output_type": "display_data",
          "data": {
            "text/plain": [
              "     CustomerID   Genre  Age  Annual Income (k$)  Spending Score (1-100)\n",
              "0             1    Male   19                  15                      39\n",
              "1             2    Male   21                  15                      81\n",
              "2             3  Female   20                  16                       6\n",
              "3             4  Female   23                  16                      77\n",
              "4             5  Female   31                  17                      40\n",
              "..          ...     ...  ...                 ...                     ...\n",
              "195         196  Female   35                 120                      79\n",
              "196         197  Female   45                 126                      28\n",
              "197         198    Male   32                 126                      74\n",
              "198         199    Male   32                 137                      18\n",
              "199         200    Male   30                 137                      83\n",
              "\n",
              "[200 rows x 5 columns]"
            ],
            "text/html": [
              "\n",
              "  <div id=\"df-40d93343-94fc-4f09-a1bf-bc4905af5892\" class=\"colab-df-container\">\n",
              "    <div>\n",
              "<style scoped>\n",
              "    .dataframe tbody tr th:only-of-type {\n",
              "        vertical-align: middle;\n",
              "    }\n",
              "\n",
              "    .dataframe tbody tr th {\n",
              "        vertical-align: top;\n",
              "    }\n",
              "\n",
              "    .dataframe thead th {\n",
              "        text-align: right;\n",
              "    }\n",
              "</style>\n",
              "<table border=\"1\" class=\"dataframe\">\n",
              "  <thead>\n",
              "    <tr style=\"text-align: right;\">\n",
              "      <th></th>\n",
              "      <th>CustomerID</th>\n",
              "      <th>Genre</th>\n",
              "      <th>Age</th>\n",
              "      <th>Annual Income (k$)</th>\n",
              "      <th>Spending Score (1-100)</th>\n",
              "    </tr>\n",
              "  </thead>\n",
              "  <tbody>\n",
              "    <tr>\n",
              "      <th>0</th>\n",
              "      <td>1</td>\n",
              "      <td>Male</td>\n",
              "      <td>19</td>\n",
              "      <td>15</td>\n",
              "      <td>39</td>\n",
              "    </tr>\n",
              "    <tr>\n",
              "      <th>1</th>\n",
              "      <td>2</td>\n",
              "      <td>Male</td>\n",
              "      <td>21</td>\n",
              "      <td>15</td>\n",
              "      <td>81</td>\n",
              "    </tr>\n",
              "    <tr>\n",
              "      <th>2</th>\n",
              "      <td>3</td>\n",
              "      <td>Female</td>\n",
              "      <td>20</td>\n",
              "      <td>16</td>\n",
              "      <td>6</td>\n",
              "    </tr>\n",
              "    <tr>\n",
              "      <th>3</th>\n",
              "      <td>4</td>\n",
              "      <td>Female</td>\n",
              "      <td>23</td>\n",
              "      <td>16</td>\n",
              "      <td>77</td>\n",
              "    </tr>\n",
              "    <tr>\n",
              "      <th>4</th>\n",
              "      <td>5</td>\n",
              "      <td>Female</td>\n",
              "      <td>31</td>\n",
              "      <td>17</td>\n",
              "      <td>40</td>\n",
              "    </tr>\n",
              "    <tr>\n",
              "      <th>...</th>\n",
              "      <td>...</td>\n",
              "      <td>...</td>\n",
              "      <td>...</td>\n",
              "      <td>...</td>\n",
              "      <td>...</td>\n",
              "    </tr>\n",
              "    <tr>\n",
              "      <th>195</th>\n",
              "      <td>196</td>\n",
              "      <td>Female</td>\n",
              "      <td>35</td>\n",
              "      <td>120</td>\n",
              "      <td>79</td>\n",
              "    </tr>\n",
              "    <tr>\n",
              "      <th>196</th>\n",
              "      <td>197</td>\n",
              "      <td>Female</td>\n",
              "      <td>45</td>\n",
              "      <td>126</td>\n",
              "      <td>28</td>\n",
              "    </tr>\n",
              "    <tr>\n",
              "      <th>197</th>\n",
              "      <td>198</td>\n",
              "      <td>Male</td>\n",
              "      <td>32</td>\n",
              "      <td>126</td>\n",
              "      <td>74</td>\n",
              "    </tr>\n",
              "    <tr>\n",
              "      <th>198</th>\n",
              "      <td>199</td>\n",
              "      <td>Male</td>\n",
              "      <td>32</td>\n",
              "      <td>137</td>\n",
              "      <td>18</td>\n",
              "    </tr>\n",
              "    <tr>\n",
              "      <th>199</th>\n",
              "      <td>200</td>\n",
              "      <td>Male</td>\n",
              "      <td>30</td>\n",
              "      <td>137</td>\n",
              "      <td>83</td>\n",
              "    </tr>\n",
              "  </tbody>\n",
              "</table>\n",
              "<p>200 rows × 5 columns</p>\n",
              "</div>\n",
              "    <div class=\"colab-df-buttons\">\n",
              "\n",
              "  <div class=\"colab-df-container\">\n",
              "    <button class=\"colab-df-convert\" onclick=\"convertToInteractive('df-40d93343-94fc-4f09-a1bf-bc4905af5892')\"\n",
              "            title=\"Convert this dataframe to an interactive table.\"\n",
              "            style=\"display:none;\">\n",
              "\n",
              "  <svg xmlns=\"http://www.w3.org/2000/svg\" height=\"24px\" viewBox=\"0 -960 960 960\">\n",
              "    <path d=\"M120-120v-720h720v720H120Zm60-500h600v-160H180v160Zm220 220h160v-160H400v160Zm0 220h160v-160H400v160ZM180-400h160v-160H180v160Zm440 0h160v-160H620v160ZM180-180h160v-160H180v160Zm440 0h160v-160H620v160Z\"/>\n",
              "  </svg>\n",
              "    </button>\n",
              "\n",
              "  <style>\n",
              "    .colab-df-container {\n",
              "      display:flex;\n",
              "      gap: 12px;\n",
              "    }\n",
              "\n",
              "    .colab-df-convert {\n",
              "      background-color: #E8F0FE;\n",
              "      border: none;\n",
              "      border-radius: 50%;\n",
              "      cursor: pointer;\n",
              "      display: none;\n",
              "      fill: #1967D2;\n",
              "      height: 32px;\n",
              "      padding: 0 0 0 0;\n",
              "      width: 32px;\n",
              "    }\n",
              "\n",
              "    .colab-df-convert:hover {\n",
              "      background-color: #E2EBFA;\n",
              "      box-shadow: 0px 1px 2px rgba(60, 64, 67, 0.3), 0px 1px 3px 1px rgba(60, 64, 67, 0.15);\n",
              "      fill: #174EA6;\n",
              "    }\n",
              "\n",
              "    .colab-df-buttons div {\n",
              "      margin-bottom: 4px;\n",
              "    }\n",
              "\n",
              "    [theme=dark] .colab-df-convert {\n",
              "      background-color: #3B4455;\n",
              "      fill: #D2E3FC;\n",
              "    }\n",
              "\n",
              "    [theme=dark] .colab-df-convert:hover {\n",
              "      background-color: #434B5C;\n",
              "      box-shadow: 0px 1px 3px 1px rgba(0, 0, 0, 0.15);\n",
              "      filter: drop-shadow(0px 1px 2px rgba(0, 0, 0, 0.3));\n",
              "      fill: #FFFFFF;\n",
              "    }\n",
              "  </style>\n",
              "\n",
              "    <script>\n",
              "      const buttonEl =\n",
              "        document.querySelector('#df-40d93343-94fc-4f09-a1bf-bc4905af5892 button.colab-df-convert');\n",
              "      buttonEl.style.display =\n",
              "        google.colab.kernel.accessAllowed ? 'block' : 'none';\n",
              "\n",
              "      async function convertToInteractive(key) {\n",
              "        const element = document.querySelector('#df-40d93343-94fc-4f09-a1bf-bc4905af5892');\n",
              "        const dataTable =\n",
              "          await google.colab.kernel.invokeFunction('convertToInteractive',\n",
              "                                                    [key], {});\n",
              "        if (!dataTable) return;\n",
              "\n",
              "        const docLinkHtml = 'Like what you see? Visit the ' +\n",
              "          '<a target=\"_blank\" href=https://colab.research.google.com/notebooks/data_table.ipynb>data table notebook</a>'\n",
              "          + ' to learn more about interactive tables.';\n",
              "        element.innerHTML = '';\n",
              "        dataTable['output_type'] = 'display_data';\n",
              "        await google.colab.output.renderOutput(dataTable, element);\n",
              "        const docLink = document.createElement('div');\n",
              "        docLink.innerHTML = docLinkHtml;\n",
              "        element.appendChild(docLink);\n",
              "      }\n",
              "    </script>\n",
              "  </div>\n",
              "\n",
              "\n",
              "<div id=\"df-cf0194e7-026e-4d8e-87bd-4d4bd15b8d98\">\n",
              "  <button class=\"colab-df-quickchart\" onclick=\"quickchart('df-cf0194e7-026e-4d8e-87bd-4d4bd15b8d98')\"\n",
              "            title=\"Suggest charts\"\n",
              "            style=\"display:none;\">\n",
              "\n",
              "<svg xmlns=\"http://www.w3.org/2000/svg\" height=\"24px\"viewBox=\"0 0 24 24\"\n",
              "     width=\"24px\">\n",
              "    <g>\n",
              "        <path d=\"M19 3H5c-1.1 0-2 .9-2 2v14c0 1.1.9 2 2 2h14c1.1 0 2-.9 2-2V5c0-1.1-.9-2-2-2zM9 17H7v-7h2v7zm4 0h-2V7h2v10zm4 0h-2v-4h2v4z\"/>\n",
              "    </g>\n",
              "</svg>\n",
              "  </button>\n",
              "\n",
              "<style>\n",
              "  .colab-df-quickchart {\n",
              "      --bg-color: #E8F0FE;\n",
              "      --fill-color: #1967D2;\n",
              "      --hover-bg-color: #E2EBFA;\n",
              "      --hover-fill-color: #174EA6;\n",
              "      --disabled-fill-color: #AAA;\n",
              "      --disabled-bg-color: #DDD;\n",
              "  }\n",
              "\n",
              "  [theme=dark] .colab-df-quickchart {\n",
              "      --bg-color: #3B4455;\n",
              "      --fill-color: #D2E3FC;\n",
              "      --hover-bg-color: #434B5C;\n",
              "      --hover-fill-color: #FFFFFF;\n",
              "      --disabled-bg-color: #3B4455;\n",
              "      --disabled-fill-color: #666;\n",
              "  }\n",
              "\n",
              "  .colab-df-quickchart {\n",
              "    background-color: var(--bg-color);\n",
              "    border: none;\n",
              "    border-radius: 50%;\n",
              "    cursor: pointer;\n",
              "    display: none;\n",
              "    fill: var(--fill-color);\n",
              "    height: 32px;\n",
              "    padding: 0;\n",
              "    width: 32px;\n",
              "  }\n",
              "\n",
              "  .colab-df-quickchart:hover {\n",
              "    background-color: var(--hover-bg-color);\n",
              "    box-shadow: 0 1px 2px rgba(60, 64, 67, 0.3), 0 1px 3px 1px rgba(60, 64, 67, 0.15);\n",
              "    fill: var(--button-hover-fill-color);\n",
              "  }\n",
              "\n",
              "  .colab-df-quickchart-complete:disabled,\n",
              "  .colab-df-quickchart-complete:disabled:hover {\n",
              "    background-color: var(--disabled-bg-color);\n",
              "    fill: var(--disabled-fill-color);\n",
              "    box-shadow: none;\n",
              "  }\n",
              "\n",
              "  .colab-df-spinner {\n",
              "    border: 2px solid var(--fill-color);\n",
              "    border-color: transparent;\n",
              "    border-bottom-color: var(--fill-color);\n",
              "    animation:\n",
              "      spin 1s steps(1) infinite;\n",
              "  }\n",
              "\n",
              "  @keyframes spin {\n",
              "    0% {\n",
              "      border-color: transparent;\n",
              "      border-bottom-color: var(--fill-color);\n",
              "      border-left-color: var(--fill-color);\n",
              "    }\n",
              "    20% {\n",
              "      border-color: transparent;\n",
              "      border-left-color: var(--fill-color);\n",
              "      border-top-color: var(--fill-color);\n",
              "    }\n",
              "    30% {\n",
              "      border-color: transparent;\n",
              "      border-left-color: var(--fill-color);\n",
              "      border-top-color: var(--fill-color);\n",
              "      border-right-color: var(--fill-color);\n",
              "    }\n",
              "    40% {\n",
              "      border-color: transparent;\n",
              "      border-right-color: var(--fill-color);\n",
              "      border-top-color: var(--fill-color);\n",
              "    }\n",
              "    60% {\n",
              "      border-color: transparent;\n",
              "      border-right-color: var(--fill-color);\n",
              "    }\n",
              "    80% {\n",
              "      border-color: transparent;\n",
              "      border-right-color: var(--fill-color);\n",
              "      border-bottom-color: var(--fill-color);\n",
              "    }\n",
              "    90% {\n",
              "      border-color: transparent;\n",
              "      border-bottom-color: var(--fill-color);\n",
              "    }\n",
              "  }\n",
              "</style>\n",
              "\n",
              "  <script>\n",
              "    async function quickchart(key) {\n",
              "      const quickchartButtonEl =\n",
              "        document.querySelector('#' + key + ' button');\n",
              "      quickchartButtonEl.disabled = true;  // To prevent multiple clicks.\n",
              "      quickchartButtonEl.classList.add('colab-df-spinner');\n",
              "      try {\n",
              "        const charts = await google.colab.kernel.invokeFunction(\n",
              "            'suggestCharts', [key], {});\n",
              "      } catch (error) {\n",
              "        console.error('Error during call to suggestCharts:', error);\n",
              "      }\n",
              "      quickchartButtonEl.classList.remove('colab-df-spinner');\n",
              "      quickchartButtonEl.classList.add('colab-df-quickchart-complete');\n",
              "    }\n",
              "    (() => {\n",
              "      let quickchartButtonEl =\n",
              "        document.querySelector('#df-cf0194e7-026e-4d8e-87bd-4d4bd15b8d98 button');\n",
              "      quickchartButtonEl.style.display =\n",
              "        google.colab.kernel.accessAllowed ? 'block' : 'none';\n",
              "    })();\n",
              "  </script>\n",
              "</div>\n",
              "    </div>\n",
              "  </div>\n"
            ],
            "application/vnd.google.colaboratory.intrinsic+json": {
              "type": "dataframe",
              "variable_name": "dataset",
              "summary": "{\n  \"name\": \"dataset\",\n  \"rows\": 200,\n  \"fields\": [\n    {\n      \"column\": \"CustomerID\",\n      \"properties\": {\n        \"dtype\": \"number\",\n        \"std\": 57,\n        \"min\": 1,\n        \"max\": 200,\n        \"num_unique_values\": 200,\n        \"samples\": [\n          96,\n          16,\n          31\n        ],\n        \"semantic_type\": \"\",\n        \"description\": \"\"\n      }\n    },\n    {\n      \"column\": \"Genre\",\n      \"properties\": {\n        \"dtype\": \"category\",\n        \"num_unique_values\": 2,\n        \"samples\": [\n          \"Female\",\n          \"Male\"\n        ],\n        \"semantic_type\": \"\",\n        \"description\": \"\"\n      }\n    },\n    {\n      \"column\": \"Age\",\n      \"properties\": {\n        \"dtype\": \"number\",\n        \"std\": 13,\n        \"min\": 18,\n        \"max\": 70,\n        \"num_unique_values\": 51,\n        \"samples\": [\n          55,\n          26\n        ],\n        \"semantic_type\": \"\",\n        \"description\": \"\"\n      }\n    },\n    {\n      \"column\": \"Annual Income (k$)\",\n      \"properties\": {\n        \"dtype\": \"number\",\n        \"std\": 26,\n        \"min\": 15,\n        \"max\": 137,\n        \"num_unique_values\": 64,\n        \"samples\": [\n          87,\n          101\n        ],\n        \"semantic_type\": \"\",\n        \"description\": \"\"\n      }\n    },\n    {\n      \"column\": \"Spending Score (1-100)\",\n      \"properties\": {\n        \"dtype\": \"number\",\n        \"std\": 25,\n        \"min\": 1,\n        \"max\": 99,\n        \"num_unique_values\": 84,\n        \"samples\": [\n          83,\n          39\n        ],\n        \"semantic_type\": \"\",\n        \"description\": \"\"\n      }\n    }\n  ]\n}"
            }
          },
          "metadata": {}
        }
      ]
    },
    {
      "cell_type": "code",
      "source": [
        "plt.scatter(X[:, 0], X[:, 1])\n",
        "plt.xlabel('Annual Income (k$)')\n",
        "plt.ylabel('Spending Score (1-100)')\n",
        "plt.legend()\n",
        "\n",
        "plt.show()"
      ],
      "metadata": {
        "colab": {
          "base_uri": "https://localhost:8080/",
          "height": 486
        },
        "id": "460w6IaZr3Gj",
        "outputId": "f2a37973-e61a-4cc4-e440-b6991049d8a5"
      },
      "execution_count": 2,
      "outputs": [
        {
          "output_type": "stream",
          "name": "stderr",
          "text": [
            "WARNING:matplotlib.legend:No artists with labels found to put in legend.  Note that artists whose label start with an underscore are ignored when legend() is called with no argument.\n"
          ]
        },
        {
          "output_type": "display_data",
          "data": {
            "text/plain": [
              "<Figure size 640x480 with 1 Axes>"
            ],
            "image/png": "[encoded data removed]"
          },
          "metadata": {}
        }
      ]
    },
    {
      "cell_type": "code",
      "source": [
        "# Using the elbow method to find the optimal number of clusters wcss = [] for i in range(1, 11):\n",
        "wcss = []\n",
        "for i in range(1, 11):\n",
        "    kmeans = KMeans(n_clusters = i, init = 'k-means++', n_init = 'auto', random_state = 42)\n",
        "    kmeans.fit(X)\n",
        "    wcss.append(kmeans.inertia_)\n",
        "\n",
        "plt.plot(range(1, 11), wcss)\n",
        "plt.xticks(np.arange(1, 11, step=1))\n",
        "plt.ylabel('Loss')\n",
        "plt.xlabel('Number of clusters')"
      ],
      "metadata": {
        "colab": {
          "base_uri": "https://localhost:8080/",
          "height": 466
        },
        "id": "Itlp22KEsST1",
        "outputId": "9b086678-1abd-4191-962d-59590a1a1d44"
      },
      "execution_count": 3,
      "outputs": [
        {
          "output_type": "execute_result",
          "data": {
            "text/plain": [
              "Text(0.5, 0, 'Number of clusters')"
            ]
          },
          "metadata": {},
          "execution_count": 3
        },
        {
          "output_type": "display_data",
          "data": {
            "text/plain": [
              "<Figure size 640x480 with 1 Axes>"
            ],
            "image/png": "[encoded data removed]"
          },
          "metadata": {}
        }
      ]
    },
    {
      "cell_type": "code",
      "source": [
        "kmeans = KMeans(n_clusters = 5, init = \"k-means++\", random_state = 42)\n",
        "y_kmeans = kmeans.fit_predict(X)\n",
        "\n",
        "# Visualising the clusters\n",
        "plt.scatter( X[y_kmeans == 1, 0], X[y_kmeans == 1, 1], s = 60, c = 'blue', label = 'Cluster2')\n",
        "plt.scatter( X[y_kmeans == 0, 0], X[y_kmeans == 0, 1], s = 60, c = 'red', label = 'Cluster1')\n",
        "plt.scatter( X[y_kmeans == 2, 0], X[y_kmeans == 2, 1], s = 60, c = 'green', label = 'Cluster3')\n",
        "plt.scatter( kmeans.cluster_centers_[:, 0], kmeans.cluster_centers_[:, 1], s = 100, c = 'black', label = 'Centroids')\n",
        "plt.scatter( X[y_kmeans == 3, 0], X[y_kmeans == 3, 1], s = 60, c = 'violet', label = 'Cluster4')\n",
        "plt.scatter( X[y_kmeans == 4, 0], X[y_kmeans == 4, 1], s = 60, c = 'yellow', label = 'Cluster5')\n",
        "\n",
        "plt.xlabel('Annual Income (k$)')\n",
        "plt.ylabel('Spending Score (1-100)')\n",
        "plt.legend()\n",
        "\n",
        "plt.show()"
      ],
      "metadata": {
        "colab": {
          "base_uri": "https://localhost:8080/",
          "height": 504
        },
        "id": "PiaAhwhBoX7U",
        "outputId": "5f38b4d9-d6db-43ac-c68c-b4f24869c29d"
      },
      "execution_count": 4,
      "outputs": [
        {
          "output_type": "stream",
          "name": "stderr",
          "text": [
            "/usr/local/lib/python3.10/dist-packages/sklearn/cluster/_kmeans.py:870: FutureWarning: The default value of `n_init` will change from 10 to 'auto' in 1.4. Set the value of `n_init` explicitly to suppress the warning\n",
            "  warnings.warn(\n"
          ]
        },
        {
          "output_type": "display_data",
          "data": {
            "text/plain": [
              "<Figure size 640x480 with 1 Axes>"
            ],
            "image/png": "[encoded data removed]"
          },
          "metadata": {}
        }
      ]
    },
    {
      "cell_type": "code",
      "source": [
        "y_kmeans"
      ],
      "metadata": {
        "id": "XW4dPzr6ID2Z",
        "outputId": "1e1353eb-d038-4a9a-ff57-c664aa9c8b8c",
        "colab": {
          "base_uri": "https://localhost:8080/"
        }
      },
      "execution_count": 5,
      "outputs": [
        {
          "output_type": "execute_result",
          "data": {
            "text/plain": [
              "array([2, 3, 2, 3, 2, 3, 2, 3, 2, 3, 2, 3, 2, 3, 2, 3, 2, 3, 2, 3, 2, 3,\n",
              "       2, 3, 2, 3, 2, 3, 2, 3, 2, 3, 2, 3, 2, 3, 2, 3, 2, 3, 2, 3, 2, 0,\n",
              "       2, 3, 0, 0, 0, 0, 0, 0, 0, 0, 0, 0, 0, 0, 0, 0, 0, 0, 0, 0, 0, 0,\n",
              "       0, 0, 0, 0, 0, 0, 0, 0, 0, 0, 0, 0, 0, 0, 0, 0, 0, 0, 0, 0, 0, 0,\n",
              "       0, 0, 0, 0, 0, 0, 0, 0, 0, 0, 0, 0, 0, 0, 0, 0, 0, 0, 0, 0, 0, 0,\n",
              "       0, 0, 0, 0, 0, 0, 0, 0, 0, 0, 0, 0, 0, 4, 1, 4, 0, 4, 1, 4, 1, 4,\n",
              "       0, 4, 1, 4, 1, 4, 1, 4, 1, 4, 0, 4, 1, 4, 1, 4, 1, 4, 1, 4, 1, 4,\n",
              "       1, 4, 1, 4, 1, 4, 1, 4, 1, 4, 1, 4, 1, 4, 1, 4, 1, 4, 1, 4, 1, 4,\n",
              "       1, 4, 1, 4, 1, 4, 1, 4, 1, 4, 1, 4, 1, 4, 1, 4, 1, 4, 1, 4, 1, 4,\n",
              "       1, 4], dtype=int32)"
            ]
          },
          "metadata": {},
          "execution_count": 5
        }
      ]
    },
    {
      "cell_type": "markdown",
      "source": [
        "https://www.kaggle.com/code/kushal1996/customer-segmentation-k-means-analysis"
      ],
      "metadata": {
        "id": "XD-mabT6m9u9"
      }
    },
    {
      "cell_type": "markdown",
      "source": [
        "# Зменшення розмірності"
      ],
      "metadata": {
        "id": "emGW0U0pukia"
      }
    },
    {
      "cell_type": "markdown",
      "source": [
        "Задача зменшення розмірності (dimensionality reduction) є однією з ключових задач у машинному навчанні. Її мета полягає у зменшенні кількості ознак, що описують кожен об'єкт, зберігаючи при цьому якомога більше інформації про них. Це дозволяє зменшити складність аналізу даних, знизити час навчання моделі та покращити її ефективність.\n",
        "\n",
        "Існують два типи підходів до зменшення розмірності: **лінійні** та **нелінійні**.\n",
        "\n",
        "**У лінійних підходах** застосовується лінійне перетворення, що трансформує оригінальні ознаки в новий набір фічей. Найпоширенішим методом зменшення розмірності є Principal Component Analysis (PCA), який знаходить головні компоненти даних, що пояснюють найбільшу дисперсію.\n",
        "\n",
        "**У нелінійних підходах**, як правило, використовуються нейронні мережі, які можуть виявляти складні залежності між ознаками та зменшувати розмірність даних до необхідного рівня.\n",
        "\n",
        "Тут деякі основні методи зменшення розмірності без вчителя:\n",
        "\n",
        "1. Метод головних компонент (PCA - Principal Component Analysis): Цей метод перетворює вихідні ознаки в новий набір лінійно незалежних ознак, які називаються головними компонентами. Вони вибираються таким чином, щоб зберегти якнайбільше дисперсії у вихідних даних.\n",
        "\n",
        "2. Метод t-SNE (t-distributed Stochastic Neighbor Embedding): Цей метод створює низькорозмірне представлення даних, зберігаючи взаємні відстані між об'єктами якнайбільш точно.\n",
        "\n",
        "https://towardsdatascience.com/an-introduction-to-t-sne-with-python-example-5a3a293108d1\n",
        "\n",
        "https://medium.com/rapids-ai/tsne-with-gpus-hours-to-seconds-9d9c17c941db\n",
        "\n",
        "\n",
        "3. Метод незалежних компонент (ICA - Independent Component Analysis): Цей метод шукає лінійні комбінації ознак, які є статистично незалежними одна від одної. Він намагається розкрити приховані фактори, які впливають на спостереження.\n",
        "\n",
        "4. Метод агрегації (Feature Agglomeration): Цей метод об'єднує близькі за значенням ознаки у більші групи.\n",
        "\n",
        "5. Метод випадкових проекцій (Random Projection): Цей метод випадково проекціює вхідні дані на низькорозмірний підпростір. Він швидкий і ефективний, особливо для великих наборів даних.\n",
        "\n",
        "6. Факторний аналіз (Factor Analysis) - це метод зменшення розмірності, який використовується для виявлення шаблонів у великих наборах даних. В основі факторного аналізу лежить припущення, що спостережувані змінні є лінійно залежними від невидимих (латентних) факторів.\n",
        "\n",
        "Ці методи допомагають зменшити розмірність даних, зберігаючи при цьому якомога більше інформації про їх структуру і властивості.\n",
        "\n",
        "https://scikit-learn.org/stable/modules/decomposition.html#decompositions\n",
        "\n",
        "https://scikit-learn.org/stable/modules/classes.html#module-sklearn.decomposition"
      ],
      "metadata": {
        "id": "H-P5Mt-KspWq"
      }
    },
    {
      "cell_type": "markdown",
      "source": [
        "![alt text](https://miro.medium.com/v2/resize:fit:778/1*bzJ1D1FLhzzKZGm4FKOhRQ.png)"
      ],
      "metadata": {
        "id": "Qypbs6zbvARy"
      }
    },
    {
      "cell_type": "markdown",
      "source": [
        "### Прокляття розмірності"
      ],
      "metadata": {
        "id": "rVInyaCwwJWo"
      }
    },
    {
      "cell_type": "markdown",
      "source": [
        "Допустимо, нам треба відновити ймовірнісний розподіл найпростішої бінарної випадкової величини, і з точністю, достатньою для поставлених цілей, це можна зробити за вибіркою з 200 = $2^1$ ⋅ 100 вимірювань чи спостережень. Тоді для відновлення ймовірнісного розподілу вектора з 10 бінарних випадкових величин з тією ж точністю буде потрібна вибірка з $2^{10} ⋅ 100 > 10^5$ вимірів, що часто виявляється неприйнятним за матеріальними витратами чи часом. А 100 -мірний вектор бінарних величин має $2^{100} > 10^{30}$ можливих значень та спроби прямолінійного відновлення його розподілу за експериментальною вибіркою безперспективні."
      ],
      "metadata": {
        "id": "B8UXHe5DwdOA"
      }
    },
    {
      "cell_type": "markdown",
      "source": [
        "![alt text](https://www.visiondummy.com/wp-content/uploads/2014/04/curseofdimensionality.png)"
      ],
      "metadata": {
        "id": "eQ2lUqHuwmFL"
      }
    },
    {
      "cell_type": "markdown",
      "source": [
        "![alt text](https://www.i2tutorials.com/wp-content/media/2019/09/Curse-of-Dimensionality-i2tutorials.png)"
      ],
      "metadata": {
        "id": "zmAt52dKx9es"
      }
    },
    {
      "cell_type": "markdown",
      "source": [
        "## PCA"
      ],
      "metadata": {
        "id": "G9bWXeXkx9jM"
      }
    },
    {
      "cell_type": "markdown",
      "source": [
        "PCA (Principal Component Analysis) - це метод зменшення розмірності, який використовується для перетворення набору спостережень з великою кількістю вихідних змінних в набір лінійно незалежних змінних, які називаються головними компонентами. Головні компоненти вибираються таким чином, щоб зберегти якомога більше дисперсії у вихідних даних.\n",
        "\n",
        "Основна ідея PCA полягає в тому, щоб знайти лінійні комбінації вихідних змінних (головні компоненти), які максимально пояснюють варіацію даних. При цьому перша головна компонента описує напрямок максимальної дисперсії у даних, друга - напрямок максимальної залишкової дисперсії, і так далі.\n",
        "\n",
        "Математично PCA можна виразити так:\n",
        "\n",
        "1. Стандартизуємо дані (центрування та масштабування).\n",
        "2. Обчислюємо коваріаційну матрицю даних Σ.\n",
        "\n",
        "$$\\text{cov}(A,B) = \\frac{1}{n} \\sum_{i=1}^{n} (A_i - \\bar{A}) \\cdot (B_i - \\bar{B})$$\n",
        "\n",
        "3. Обчислюємо власні вектори $v_i$​ та власні значення $λ_i$ цієї матриці Σ.\n",
        "4. Вибираємо k головних власних векторів, які відповідають найбільшим власним значенням, де k - нова розмірність.\n",
        "5. Перетворюємо дані за допомогою вибраних головних власних векторів.Для цього ми множимо матрицю ознак $X$ на матрицю головних компонент $V$.\n",
        "\n",
        "$$ Y = X ⋅ V$$\n",
        "\n",
        "Результатом роботи PCA є новий набір даних з меншою кількістю змінних $Y$, який зберігає якомога більше варіації в оригінальних даних. Цей метод часто використовується для візуалізації даних, зменшення розмірності та підготовки даних для подальшого аналізу.\n",
        "\n",
        "[The Math of Principal Component Analysis (PCA)\n",
        "](https://medium.com/analytics-vidhya/the-math-of-principal-component-analysis-pca-bf7da48247fc)"
      ],
      "metadata": {
        "id": "p4R3fovLy7MV"
      }
    },
    {
      "cell_type": "markdown",
      "source": [
        "## Реаліазція PCA"
      ],
      "metadata": {
        "id": "WcT8OnFQ1pnK"
      }
    },
    {
      "cell_type": "code",
      "source": [
        "%matplotlib inline\n",
        "from sklearn.datasets import fetch_openml\n",
        "from sklearn.decomposition import PCA\n",
        "import numpy as np\n",
        "import matplotlib.pyplot as plt\n",
        "from sklearn.preprocessing import StandardScaler\n",
        "\n",
        "# https://github.com/mGalarnyk/Python_Tutorials/blob/master/Sklearn/PCA/PCA_Image_Reconstruction_and_such.ipynb"
      ],
      "metadata": {
        "id": "Q746VgRk3w-o"
      },
      "execution_count": 6,
      "outputs": []
    },
    {
      "cell_type": "code",
      "source": [
        "# You can add the parameter data_home to wherever to where you want to download your data\n",
        "mnist = fetch_openml('mnist_784')\n",
        "mnist.data.shape"
      ],
      "metadata": {
        "colab": {
          "base_uri": "https://localhost:8080/"
        },
        "id": "tE6ErMY4wItn",
        "outputId": "2133b102-fb2b-4d36-8164-31978e5d3336"
      },
      "execution_count": 7,
      "outputs": [
        {
          "output_type": "stream",
          "name": "stderr",
          "text": [
            "/usr/local/lib/python3.10/dist-packages/sklearn/datasets/_openml.py:968: FutureWarning: The default value of `parser` will change from `'liac-arff'` to `'auto'` in 1.4. You can set `parser='auto'` to silence this warning. Therefore, an `ImportError` will be raised from 1.4 if the dataset is dense and pandas is not installed. Note that the pandas parser may return different data types. See the Notes Section in fetch_openml's API doc for details.\n",
            "  warn(\n"
          ]
        },
        {
          "output_type": "execute_result",
          "data": {
            "text/plain": [
              "(70000, 784)"
            ]
          },
          "metadata": {},
          "execution_count": 7
        }
      ]
    },
    {
      "cell_type": "code",
      "source": [
        "mnist.data"
      ],
      "metadata": {
        "id": "EPVz2oGf65xd",
        "colab": {
          "base_uri": "https://localhost:8080/",
          "height": 443
        },
        "outputId": "3d34dcf0-7bf5-47e2-81e4-c29e9deb30a6"
      },
      "execution_count": 8,
      "outputs": [
        {
          "output_type": "execute_result",
          "data": {
            "text/plain": [
              "       pixel1  pixel2  pixel3  pixel4  pixel5  pixel6  pixel7  pixel8  pixel9  \\\n",
              "0         0.0     0.0     0.0     0.0     0.0     0.0     0.0     0.0     0.0   \n",
              "1         0.0     0.0     0.0     0.0     0.0     0.0     0.0     0.0     0.0   \n",
              "2         0.0     0.0     0.0     0.0     0.0     0.0     0.0     0.0     0.0   \n",
              "3         0.0     0.0     0.0     0.0     0.0     0.0     0.0     0.0     0.0   \n",
              "4         0.0     0.0     0.0     0.0     0.0     0.0     0.0     0.0     0.0   \n",
              "...       ...     ...     ...     ...     ...     ...     ...     ...     ...   \n",
              "69995     0.0     0.0     0.0     0.0     0.0     0.0     0.0     0.0     0.0   \n",
              "69996     0.0     0.0     0.0     0.0     0.0     0.0     0.0     0.0     0.0   \n",
              "69997     0.0     0.0     0.0     0.0     0.0     0.0     0.0     0.0     0.0   \n",
              "69998     0.0     0.0     0.0     0.0     0.0     0.0     0.0     0.0     0.0   \n",
              "69999     0.0     0.0     0.0     0.0     0.0     0.0     0.0     0.0     0.0   \n",
              "\n",
              "       pixel10  ...  pixel775  pixel776  pixel777  pixel778  pixel779  \\\n",
              "0          0.0  ...       0.0       0.0       0.0       0.0       0.0   \n",
              "1          0.0  ...       0.0       0.0       0.0       0.0       0.0   \n",
              "2          0.0  ...       0.0       0.0       0.0       0.0       0.0   \n",
              "3          0.0  ...       0.0       0.0       0.0       0.0       0.0   \n",
              "4          0.0  ...       0.0       0.0       0.0       0.0       0.0   \n",
              "...        ...  ...       ...       ...       ...       ...       ...   \n",
              "69995      0.0  ...       0.0       0.0       0.0       0.0       0.0   \n",
              "69996      0.0  ...       0.0       0.0       0.0       0.0       0.0   \n",
              "69997      0.0  ...       0.0       0.0       0.0       0.0       0.0   \n",
              "69998      0.0  ...       0.0       0.0       0.0       0.0       0.0   \n",
              "69999      0.0  ...       0.0       0.0       0.0       0.0       0.0   \n",
              "\n",
              "       pixel780  pixel781  pixel782  pixel783  pixel784  \n",
              "0           0.0       0.0       0.0       0.0       0.0  \n",
              "1           0.0       0.0       0.0       0.0       0.0  \n",
              "2           0.0       0.0       0.0       0.0       0.0  \n",
              "3           0.0       0.0       0.0       0.0       0.0  \n",
              "4           0.0       0.0       0.0       0.0       0.0  \n",
              "...         ...       ...       ...       ...       ...  \n",
              "69995       0.0       0.0       0.0       0.0       0.0  \n",
              "69996       0.0       0.0       0.0       0.0       0.0  \n",
              "69997       0.0       0.0       0.0       0.0       0.0  \n",
              "69998       0.0       0.0       0.0       0.0       0.0  \n",
              "69999       0.0       0.0       0.0       0.0       0.0  \n",
              "\n",
              "[70000 rows x 784 columns]"
            ],
            "text/html": [
              "\n",
              "  <div id=\"df-d8a82975-5f68-45e9-bd35-9c56af5b6b83\" class=\"colab-df-container\">\n",
              "    <div>\n",
              "<style scoped>\n",
              "    .dataframe tbody tr th:only-of-type {\n",
              "        vertical-align: middle;\n",
              "    }\n",
              "\n",
              "    .dataframe tbody tr th {\n",
              "        vertical-align: top;\n",
              "    }\n",
              "\n",
              "    .dataframe thead th {\n",
              "        text-align: right;\n",
              "    }\n",
              "</style>\n",
              "<table border=\"1\" class=\"dataframe\">\n",
              "  <thead>\n",
              "    <tr style=\"text-align: right;\">\n",
              "      <th></th>\n",
              "      <th>pixel1</th>\n",
              "      <th>pixel2</th>\n",
              "      <th>pixel3</th>\n",
              "      <th>pixel4</th>\n",
              "      <th>pixel5</th>\n",
              "      <th>pixel6</th>\n",
              "      <th>pixel7</th>\n",
              "      <th>pixel8</th>\n",
              "      <th>pixel9</th>\n",
              "      <th>pixel10</th>\n",
              "      <th>...</th>\n",
              "      <th>pixel775</th>\n",
              "      <th>pixel776</th>\n",
              "      <th>pixel777</th>\n",
              "      <th>pixel778</th>\n",
              "      <th>pixel779</th>\n",
              "      <th>pixel780</th>\n",
              "      <th>pixel781</th>\n",
              "      <th>pixel782</th>\n",
              "      <th>pixel783</th>\n",
              "      <th>pixel784</th>\n",
              "    </tr>\n",
              "  </thead>\n",
              "  <tbody>\n",
              "    <tr>\n",
              "      <th>0</th>\n",
              "      <td>0.0</td>\n",
              "      <td>0.0</td>\n",
              "      <td>0.0</td>\n",
              "      <td>0.0</td>\n",
              "      <td>0.0</td>\n",
              "      <td>0.0</td>\n",
              "      <td>0.0</td>\n",
              "      <td>0.0</td>\n",
              "      <td>0.0</td>\n",
              "      <td>0.0</td>\n",
              "      <td>...</td>\n",
              "      <td>0.0</td>\n",
              "      <td>0.0</td>\n",
              "      <td>0.0</td>\n",
              "      <td>0.0</td>\n",
              "      <td>0.0</td>\n",
              "      <td>0.0</td>\n",
              "      <td>0.0</td>\n",
              "      <td>0.0</td>\n",
              "      <td>0.0</td>\n",
              "      <td>0.0</td>\n",
              "    </tr>\n",
              "    <tr>\n",
              "      <th>1</th>\n",
              "      <td>0.0</td>\n",
              "      <td>0.0</td>\n",
              "      <td>0.0</td>\n",
              "      <td>0.0</td>\n",
              "      <td>0.0</td>\n",
              "      <td>0.0</td>\n",
              "      <td>0.0</td>\n",
              "      <td>0.0</td>\n",
              "      <td>0.0</td>\n",
              "      <td>0.0</td>\n",
              "      <td>...</td>\n",
              "      <td>0.0</td>\n",
              "      <td>0.0</td>\n",
              "      <td>0.0</td>\n",
              "      <td>0.0</td>\n",
              "      <td>0.0</td>\n",
              "      <td>0.0</td>\n",
              "      <td>0.0</td>\n",
              "      <td>0.0</td>\n",
              "      <td>0.0</td>\n",
              "      <td>0.0</td>\n",
              "    </tr>\n",
              "    <tr>\n",
              "      <th>2</th>\n",
              "      <td>0.0</td>\n",
              "      <td>0.0</td>\n",
              "      <td>0.0</td>\n",
              "      <td>0.0</td>\n",
              "      <td>0.0</td>\n",
              "      <td>0.0</td>\n",
              "      <td>0.0</td>\n",
              "      <td>0.0</td>\n",
              "      <td>0.0</td>\n",
              "      <td>0.0</td>\n",
              "      <td>...</td>\n",
              "      <td>0.0</td>\n",
              "      <td>0.0</td>\n",
              "      <td>0.0</td>\n",
              "      <td>0.0</td>\n",
              "      <td>0.0</td>\n",
              "      <td>0.0</td>\n",
              "      <td>0.0</td>\n",
              "      <td>0.0</td>\n",
              "      <td>0.0</td>\n",
              "      <td>0.0</td>\n",
              "    </tr>\n",
              "    <tr>\n",
              "      <th>3</th>\n",
              "      <td>0.0</td>\n",
              "      <td>0.0</td>\n",
              "      <td>0.0</td>\n",
              "      <td>0.0</td>\n",
              "      <td>0.0</td>\n",
              "      <td>0.0</td>\n",
              "      <td>0.0</td>\n",
              "      <td>0.0</td>\n",
              "      <td>0.0</td>\n",
              "      <td>0.0</td>\n",
              "      <td>...</td>\n",
              "      <td>0.0</td>\n",
              "      <td>0.0</td>\n",
              "      <td>0.0</td>\n",
              "      <td>0.0</td>\n",
              "      <td>0.0</td>\n",
              "      <td>0.0</td>\n",
              "      <td>0.0</td>\n",
              "      <td>0.0</td>\n",
              "      <td>0.0</td>\n",
              "      <td>0.0</td>\n",
              "    </tr>\n",
              "    <tr>\n",
              "      <th>4</th>\n",
              "      <td>0.0</td>\n",
              "      <td>0.0</td>\n",
              "      <td>0.0</td>\n",
              "      <td>0.0</td>\n",
              "      <td>0.0</td>\n",
              "      <td>0.0</td>\n",
              "      <td>0.0</td>\n",
              "      <td>0.0</td>\n",
              "      <td>0.0</td>\n",
              "      <td>0.0</td>\n",
              "      <td>...</td>\n",
              "      <td>0.0</td>\n",
              "      <td>0.0</td>\n",
              "      <td>0.0</td>\n",
              "      <td>0.0</td>\n",
              "      <td>0.0</td>\n",
              "      <td>0.0</td>\n",
              "      <td>0.0</td>\n",
              "      <td>0.0</td>\n",
              "      <td>0.0</td>\n",
              "      <td>0.0</td>\n",
              "    </tr>\n",
              "    <tr>\n",
              "      <th>...</th>\n",
              "      <td>...</td>\n",
              "      <td>...</td>\n",
              "      <td>...</td>\n",
              "      <td>...</td>\n",
              "      <td>...</td>\n",
              "      <td>...</td>\n",
              "      <td>...</td>\n",
              "      <td>...</td>\n",
              "      <td>...</td>\n",
              "      <td>...</td>\n",
              "      <td>...</td>\n",
              "      <td>...</td>\n",
              "      <td>...</td>\n",
              "      <td>...</td>\n",
              "      <td>...</td>\n",
              "      <td>...</td>\n",
              "      <td>...</td>\n",
              "      <td>...</td>\n",
              "      <td>...</td>\n",
              "      <td>...</td>\n",
              "      <td>...</td>\n",
              "    </tr>\n",
              "    <tr>\n",
              "      <th>69995</th>\n",
              "      <td>0.0</td>\n",
              "      <td>0.0</td>\n",
              "      <td>0.0</td>\n",
              "      <td>0.0</td>\n",
              "      <td>0.0</td>\n",
              "      <td>0.0</td>\n",
              "      <td>0.0</td>\n",
              "      <td>0.0</td>\n",
              "      <td>0.0</td>\n",
              "      <td>0.0</td>\n",
              "      <td>...</td>\n",
              "      <td>0.0</td>\n",
              "      <td>0.0</td>\n",
              "      <td>0.0</td>\n",
              "      <td>0.0</td>\n",
              "      <td>0.0</td>\n",
              "      <td>0.0</td>\n",
              "      <td>0.0</td>\n",
              "      <td>0.0</td>\n",
              "      <td>0.0</td>\n",
              "      <td>0.0</td>\n",
              "    </tr>\n",
              "    <tr>\n",
              "      <th>69996</th>\n",
              "      <td>0.0</td>\n",
              "      <td>0.0</td>\n",
              "      <td>0.0</td>\n",
              "      <td>0.0</td>\n",
              "      <td>0.0</td>\n",
              "      <td>0.0</td>\n",
              "      <td>0.0</td>\n",
              "      <td>0.0</td>\n",
              "      <td>0.0</td>\n",
              "      <td>0.0</td>\n",
              "      <td>...</td>\n",
              "      <td>0.0</td>\n",
              "      <td>0.0</td>\n",
              "      <td>0.0</td>\n",
              "      <td>0.0</td>\n",
              "      <td>0.0</td>\n",
              "      <td>0.0</td>\n",
              "      <td>0.0</td>\n",
              "      <td>0.0</td>\n",
              "      <td>0.0</td>\n",
              "      <td>0.0</td>\n",
              "    </tr>\n",
              "    <tr>\n",
              "      <th>69997</th>\n",
              "      <td>0.0</td>\n",
              "      <td>0.0</td>\n",
              "      <td>0.0</td>\n",
              "      <td>0.0</td>\n",
              "      <td>0.0</td>\n",
              "      <td>0.0</td>\n",
              "      <td>0.0</td>\n",
              "      <td>0.0</td>\n",
              "      <td>0.0</td>\n",
              "      <td>0.0</td>\n",
              "      <td>...</td>\n",
              "      <td>0.0</td>\n",
              "      <td>0.0</td>\n",
              "      <td>0.0</td>\n",
              "      <td>0.0</td>\n",
              "      <td>0.0</td>\n",
              "      <td>0.0</td>\n",
              "      <td>0.0</td>\n",
              "      <td>0.0</td>\n",
              "      <td>0.0</td>\n",
              "      <td>0.0</td>\n",
              "    </tr>\n",
              "    <tr>\n",
              "      <th>69998</th>\n",
              "      <td>0.0</td>\n",
              "      <td>0.0</td>\n",
              "      <td>0.0</td>\n",
              "      <td>0.0</td>\n",
              "      <td>0.0</td>\n",
              "      <td>0.0</td>\n",
              "      <td>0.0</td>\n",
              "      <td>0.0</td>\n",
              "      <td>0.0</td>\n",
              "      <td>0.0</td>\n",
              "      <td>...</td>\n",
              "      <td>0.0</td>\n",
              "      <td>0.0</td>\n",
              "      <td>0.0</td>\n",
              "      <td>0.0</td>\n",
              "      <td>0.0</td>\n",
              "      <td>0.0</td>\n",
              "      <td>0.0</td>\n",
              "      <td>0.0</td>\n",
              "      <td>0.0</td>\n",
              "      <td>0.0</td>\n",
              "    </tr>\n",
              "    <tr>\n",
              "      <th>69999</th>\n",
              "      <td>0.0</td>\n",
              "      <td>0.0</td>\n",
              "      <td>0.0</td>\n",
              "      <td>0.0</td>\n",
              "      <td>0.0</td>\n",
              "      <td>0.0</td>\n",
              "      <td>0.0</td>\n",
              "      <td>0.0</td>\n",
              "      <td>0.0</td>\n",
              "      <td>0.0</td>\n",
              "      <td>...</td>\n",
              "      <td>0.0</td>\n",
              "      <td>0.0</td>\n",
              "      <td>0.0</td>\n",
              "      <td>0.0</td>\n",
              "      <td>0.0</td>\n",
              "      <td>0.0</td>\n",
              "      <td>0.0</td>\n",
              "      <td>0.0</td>\n",
              "      <td>0.0</td>\n",
              "      <td>0.0</td>\n",
              "    </tr>\n",
              "  </tbody>\n",
              "</table>\n",
              "<p>70000 rows × 784 columns</p>\n",
              "</div>\n",
              "    <div class=\"colab-df-buttons\">\n",
              "\n",
              "  <div class=\"colab-df-container\">\n",
              "    <button class=\"colab-df-convert\" onclick=\"convertToInteractive('df-d8a82975-5f68-45e9-bd35-9c56af5b6b83')\"\n",
              "            title=\"Convert this dataframe to an interactive table.\"\n",
              "            style=\"display:none;\">\n",
              "\n",
              "  <svg xmlns=\"http://www.w3.org/2000/svg\" height=\"24px\" viewBox=\"0 -960 960 960\">\n",
              "    <path d=\"M120-120v-720h720v720H120Zm60-500h600v-160H180v160Zm220 220h160v-160H400v160Zm0 220h160v-160H400v160ZM180-400h160v-160H180v160Zm440 0h160v-160H620v160ZM180-180h160v-160H180v160Zm440 0h160v-160H620v160Z\"/>\n",
              "  </svg>\n",
              "    </button>\n",
              "\n",
              "  <style>\n",
              "    .colab-df-container {\n",
              "      display:flex;\n",
              "      gap: 12px;\n",
              "    }\n",
              "\n",
              "    .colab-df-convert {\n",
              "      background-color: #E8F0FE;\n",
              "      border: none;\n",
              "      border-radius: 50%;\n",
              "      cursor: pointer;\n",
              "      display: none;\n",
              "      fill: #1967D2;\n",
              "      height: 32px;\n",
              "      padding: 0 0 0 0;\n",
              "      width: 32px;\n",
              "    }\n",
              "\n",
              "    .colab-df-convert:hover {\n",
              "      background-color: #E2EBFA;\n",
              "      box-shadow: 0px 1px 2px rgba(60, 64, 67, 0.3), 0px 1px 3px 1px rgba(60, 64, 67, 0.15);\n",
              "      fill: #174EA6;\n",
              "    }\n",
              "\n",
              "    .colab-df-buttons div {\n",
              "      margin-bottom: 4px;\n",
              "    }\n",
              "\n",
              "    [theme=dark] .colab-df-convert {\n",
              "      background-color: #3B4455;\n",
              "      fill: #D2E3FC;\n",
              "    }\n",
              "\n",
              "    [theme=dark] .colab-df-convert:hover {\n",
              "      background-color: #434B5C;\n",
              "      box-shadow: 0px 1px 3px 1px rgba(0, 0, 0, 0.15);\n",
              "      filter: drop-shadow(0px 1px 2px rgba(0, 0, 0, 0.3));\n",
              "      fill: #FFFFFF;\n",
              "    }\n",
              "  </style>\n",
              "\n",
              "    <script>\n",
              "      const buttonEl =\n",
              "        document.querySelector('#df-d8a82975-5f68-45e9-bd35-9c56af5b6b83 button.colab-df-convert');\n",
              "      buttonEl.style.display =\n",
              "        google.colab.kernel.accessAllowed ? 'block' : 'none';\n",
              "\n",
              "      async function convertToInteractive(key) {\n",
              "        const element = document.querySelector('#df-d8a82975-5f68-45e9-bd35-9c56af5b6b83');\n",
              "        const dataTable =\n",
              "          await google.colab.kernel.invokeFunction('convertToInteractive',\n",
              "                                                    [key], {});\n",
              "        if (!dataTable) return;\n",
              "\n",
              "        const docLinkHtml = 'Like what you see? Visit the ' +\n",
              "          '<a target=\"_blank\" href=https://colab.research.google.com/notebooks/data_table.ipynb>data table notebook</a>'\n",
              "          + ' to learn more about interactive tables.';\n",
              "        element.innerHTML = '';\n",
              "        dataTable['output_type'] = 'display_data';\n",
              "        await google.colab.output.renderOutput(dataTable, element);\n",
              "        const docLink = document.createElement('div');\n",
              "        docLink.innerHTML = docLinkHtml;\n",
              "        element.appendChild(docLink);\n",
              "      }\n",
              "    </script>\n",
              "  </div>\n",
              "\n",
              "\n",
              "<div id=\"df-72c43096-8bd4-49b9-9c1e-a7789f5d1f12\">\n",
              "  <button class=\"colab-df-quickchart\" onclick=\"quickchart('df-72c43096-8bd4-49b9-9c1e-a7789f5d1f12')\"\n",
              "            title=\"Suggest charts\"\n",
              "            style=\"display:none;\">\n",
              "\n",
              "<svg xmlns=\"http://www.w3.org/2000/svg\" height=\"24px\"viewBox=\"0 0 24 24\"\n",
              "     width=\"24px\">\n",
              "    <g>\n",
              "        <path d=\"M19 3H5c-1.1 0-2 .9-2 2v14c0 1.1.9 2 2 2h14c1.1 0 2-.9 2-2V5c0-1.1-.9-2-2-2zM9 17H7v-7h2v7zm4 0h-2V7h2v10zm4 0h-2v-4h2v4z\"/>\n",
              "    </g>\n",
              "</svg>\n",
              "  </button>\n",
              "\n",
              "<style>\n",
              "  .colab-df-quickchart {\n",
              "      --bg-color: #E8F0FE;\n",
              "      --fill-color: #1967D2;\n",
              "      --hover-bg-color: #E2EBFA;\n",
              "      --hover-fill-color: #174EA6;\n",
              "      --disabled-fill-color: #AAA;\n",
              "      --disabled-bg-color: #DDD;\n",
              "  }\n",
              "\n",
              "  [theme=dark] .colab-df-quickchart {\n",
              "      --bg-color: #3B4455;\n",
              "      --fill-color: #D2E3FC;\n",
              "      --hover-bg-color: #434B5C;\n",
              "      --hover-fill-color: #FFFFFF;\n",
              "      --disabled-bg-color: #3B4455;\n",
              "      --disabled-fill-color: #666;\n",
              "  }\n",
              "\n",
              "  .colab-df-quickchart {\n",
              "    background-color: var(--bg-color);\n",
              "    border: none;\n",
              "    border-radius: 50%;\n",
              "    cursor: pointer;\n",
              "    display: none;\n",
              "    fill: var(--fill-color);\n",
              "    height: 32px;\n",
              "    padding: 0;\n",
              "    width: 32px;\n",
              "  }\n",
              "\n",
              "  .colab-df-quickchart:hover {\n",
              "    background-color: var(--hover-bg-color);\n",
              "    box-shadow: 0 1px 2px rgba(60, 64, 67, 0.3), 0 1px 3px 1px rgba(60, 64, 67, 0.15);\n",
              "    fill: var(--button-hover-fill-color);\n",
              "  }\n",
              "\n",
              "  .colab-df-quickchart-complete:disabled,\n",
              "  .colab-df-quickchart-complete:disabled:hover {\n",
              "    background-color: var(--disabled-bg-color);\n",
              "    fill: var(--disabled-fill-color);\n",
              "    box-shadow: none;\n",
              "  }\n",
              "\n",
              "  .colab-df-spinner {\n",
              "    border: 2px solid var(--fill-color);\n",
              "    border-color: transparent;\n",
              "    border-bottom-color: var(--fill-color);\n",
              "    animation:\n",
              "      spin 1s steps(1) infinite;\n",
              "  }\n",
              "\n",
              "  @keyframes spin {\n",
              "    0% {\n",
              "      border-color: transparent;\n",
              "      border-bottom-color: var(--fill-color);\n",
              "      border-left-color: var(--fill-color);\n",
              "    }\n",
              "    20% {\n",
              "      border-color: transparent;\n",
              "      border-left-color: var(--fill-color);\n",
              "      border-top-color: var(--fill-color);\n",
              "    }\n",
              "    30% {\n",
              "      border-color: transparent;\n",
              "      border-left-color: var(--fill-color);\n",
              "      border-top-color: var(--fill-color);\n",
              "      border-right-color: var(--fill-color);\n",
              "    }\n",
              "    40% {\n",
              "      border-color: transparent;\n",
              "      border-right-color: var(--fill-color);\n",
              "      border-top-color: var(--fill-color);\n",
              "    }\n",
              "    60% {\n",
              "      border-color: transparent;\n",
              "      border-right-color: var(--fill-color);\n",
              "    }\n",
              "    80% {\n",
              "      border-color: transparent;\n",
              "      border-right-color: var(--fill-color);\n",
              "      border-bottom-color: var(--fill-color);\n",
              "    }\n",
              "    90% {\n",
              "      border-color: transparent;\n",
              "      border-bottom-color: var(--fill-color);\n",
              "    }\n",
              "  }\n",
              "</style>\n",
              "\n",
              "  <script>\n",
              "    async function quickchart(key) {\n",
              "      const quickchartButtonEl =\n",
              "        document.querySelector('#' + key + ' button');\n",
              "      quickchartButtonEl.disabled = true;  // To prevent multiple clicks.\n",
              "      quickchartButtonEl.classList.add('colab-df-spinner');\n",
              "      try {\n",
              "        const charts = await google.colab.kernel.invokeFunction(\n",
              "            'suggestCharts', [key], {});\n",
              "      } catch (error) {\n",
              "        console.error('Error during call to suggestCharts:', error);\n",
              "      }\n",
              "      quickchartButtonEl.classList.remove('colab-df-spinner');\n",
              "      quickchartButtonEl.classList.add('colab-df-quickchart-complete');\n",
              "    }\n",
              "    (() => {\n",
              "      let quickchartButtonEl =\n",
              "        document.querySelector('#df-72c43096-8bd4-49b9-9c1e-a7789f5d1f12 button');\n",
              "      quickchartButtonEl.style.display =\n",
              "        google.colab.kernel.accessAllowed ? 'block' : 'none';\n",
              "    })();\n",
              "  </script>\n",
              "</div>\n",
              "    </div>\n",
              "  </div>\n"
            ],
            "application/vnd.google.colaboratory.intrinsic+json": {
              "type": "dataframe"
            }
          },
          "metadata": {},
          "execution_count": 8
        }
      ]
    },
    {
      "cell_type": "code",
      "source": [
        "img = mnist.data.iloc[1000].values\n",
        "plt.imshow(np.reshape(img, (28, 28)),\n",
        "           cmap = plt.cm.gray,\n",
        "           interpolation='nearest',\n",
        "           clim=(0, 255))"
      ],
      "metadata": {
        "colab": {
          "base_uri": "https://localhost:8080/",
          "height": 447
        },
        "id": "_Kq6n7W05cPz",
        "outputId": "db7245e6-6afe-433d-ad02-9c52f488fe50"
      },
      "execution_count": 21,
      "outputs": [
        {
          "output_type": "execute_result",
          "data": {
            "text/plain": [
              "<matplotlib.image.AxesImage at 0x7d8699fb5de0>"
            ]
          },
          "metadata": {},
          "execution_count": 21
        },
        {
          "output_type": "display_data",
          "data": {
            "text/plain": [
              "<Figure size 640x480 with 1 Axes>"
            ],
            "image/png": "[encoded data removed]"
          },
          "metadata": {}
        }
      ]
    },
    {
      "cell_type": "code",
      "source": [
        "# Make an instance of the Model\n",
        "pca = PCA(.95)"
      ],
      "metadata": {
        "id": "qG0Kze962zd-"
      },
      "execution_count": 24,
      "outputs": []
    },
    {
      "cell_type": "code",
      "source": [
        "lower_dimensional_data = pca.fit_transform(mnist.data)\n",
        "pca.n_components_"
      ],
      "metadata": {
        "colab": {
          "base_uri": "https://localhost:8080/"
        },
        "id": "b8duO5Y32zim",
        "outputId": "ddb34c9e-e262-4ac4-d0d9-5b747c16d5a9"
      },
      "execution_count": 25,
      "outputs": [
        {
          "output_type": "execute_result",
          "data": {
            "text/plain": [
              "154"
            ]
          },
          "metadata": {},
          "execution_count": 25
        }
      ]
    },
    {
      "cell_type": "markdown",
      "source": [
        "Ідея переходу від 784 компонентів до 154 полягає в тому, щоб скоротити час роботи алгоритму контрольованого навчання (у цьому випадку логістичної регресії), який ми побачимо в кінці підручника. Однією з цікавих речей PCA є те, що ми можемо повернутися від стисненого представлення (154 компоненти) до наближення оригінальних багатовимірних даних (784 компоненти)."
      ],
      "metadata": {
        "id": "hagpFWdV4OqA"
      }
    },
    {
      "cell_type": "code",
      "source": [
        "approximation = pca.inverse_transform(lower_dimensional_data)"
      ],
      "metadata": {
        "id": "NV56GUrc2zk7"
      },
      "execution_count": 12,
      "outputs": []
    },
    {
      "cell_type": "code",
      "source": [
        "plt.figure(figsize=(8,4));\n",
        "\n",
        "# Original Image\n",
        "plt.subplot(1, 2, 1);\n",
        "plt.imshow(mnist.data.iloc[1].to_numpy().reshape(28,28),\n",
        "              cmap = plt.cm.gray, interpolation='nearest',\n",
        "              clim=(0, 255));\n",
        "plt.xlabel('784 components', fontsize = 14)\n",
        "plt.title('Original Image', fontsize = 20);\n",
        "\n",
        "# 154 principal components\n",
        "plt.subplot(1, 2, 2);\n",
        "plt.imshow(approximation[1].reshape(28, 28),\n",
        "              cmap = plt.cm.gray, interpolation='nearest',\n",
        "              clim=(0, 255));\n",
        "plt.xlabel('154 components', fontsize = 14)\n",
        "plt.title('95% of Explained Variance', fontsize = 20);"
      ],
      "metadata": {
        "colab": {
          "base_uri": "https://localhost:8080/",
          "height": 397
        },
        "id": "SlUf6AWw2znV",
        "outputId": "22d4c396-5310-4895-d009-76a8193e36f2"
      },
      "execution_count": 13,
      "outputs": [
        {
          "output_type": "display_data",
          "data": {
            "text/plain": [
              "<Figure size 800x400 with 2 Axes>"
            ],
            "image/png": "[encoded data removed]"
          },
          "metadata": {}
        }
      ]
    },
    {
      "cell_type": "markdown",
      "source": [
        "### Графік поясненої дисперсії від кількості головних компонентів"
      ],
      "metadata": {
        "id": "fy8lE5RU4YKb"
      }
    },
    {
      "cell_type": "code",
      "source": [
        "pca = PCA()\n",
        "pca.fit(mnist.data)\n",
        "print('Початкова к-сть компонент:', pca.n_components_)\n",
        "\n",
        "tot = sum(pca.explained_variance_)\n",
        "print('Підсумовування поясненої дисперсії:', tot)\n",
        "\n",
        "var_exp = [(i/tot)*100 for i in sorted(pca.explained_variance_, reverse=True)]\n",
        "print(var_exp[0:5])\n",
        "\n",
        "cum_var_exp = np.cumsum(var_exp)\n",
        "print('Кумулятивне поясненої дисперсії:', cum_var_exp)"
      ],
      "metadata": {
        "colab": {
          "base_uri": "https://localhost:8080/"
        },
        "id": "8yWiDp8x25zp",
        "outputId": "156db263-027e-4ef5-bf8e-debc7e983287"
      },
      "execution_count": 14,
      "outputs": [
        {
          "output_type": "stream",
          "name": "stdout",
          "text": [
            "Початкова к-сть компонент: 784\n",
            "Підсумовування поясненої дисперсії: 3430023.4480794817\n",
            "[9.746115922494738, 7.155444586878719, 6.149530980723037, 5.403384528548186, 4.8889337038778935]\n",
            "Кумулятивне поясненої дисперсії: [  9.74611592  16.90156051  23.05109149  28.45447602  33.34340972\n",
            "  37.64863675  40.92689828  43.81653984  46.57490404  48.91704421\n",
            "  51.02373276  53.061286    54.76835031  56.46237009  58.04575233\n",
            "  59.53209723  60.85145572  62.13046998  63.31774246  64.47067917\n",
            "  65.53671895  66.54651329  67.50566452  68.4152996   69.29858642\n",
            "  70.13740462  70.94723642  71.73295432  72.47321655  73.16323071\n",
            "  73.8193747   74.46484499  75.06566429  75.65127604  76.2180296\n",
            "  76.76150026  77.26621733  77.75329675  78.23225188  78.69984553\n",
            "  79.15421416  79.59913217  80.01734877  80.41351268  80.79722042\n",
            "  81.17300523  81.53443151  81.88345611  82.22218771  82.54188388\n",
            "  82.85873791  83.16888282  83.46536318  83.75246462  84.03497842\n",
            "  84.30440113  84.57279344  84.82930277  85.08247063  85.32711866\n",
            "  85.56682089  85.8054019   86.03463564  86.25558463  86.46864511\n",
            "  86.67496257  86.87774395  87.07277907  87.2642497   87.4527992\n",
            "  87.63977534  87.8198796   87.99666664  88.17002529  88.33487465\n",
            "  88.49811169  88.65951975  88.8138238   88.96084425  89.10304373\n",
            "  89.24405991  89.38420615  89.52381102  89.65883552  89.791207\n",
            "  89.92309994  90.05229739  90.17746941  90.29999891  90.42041816\n",
            "  90.53678109  90.65110001  90.76364693  90.87350864  90.9818518\n",
            "  91.08902716  91.19271931  91.29613767  91.39672834  91.49666085\n",
            "  91.59433445  91.68849571  91.78207856  91.87324494  91.96331897\n",
            "  92.05226899  92.1384272   92.22368204  92.30778207  92.3895047\n",
            "  92.46810708  92.54585745  92.62343851  92.69991724  92.77597436\n",
            "  92.85085291  92.923877    92.99641337  93.06799705  93.13833756\n",
            "  93.20751215  93.27620413  93.34414201  93.41131644  93.47744348\n",
            "  93.5417105   93.60498785  93.66782832  93.72979087  93.78993122\n",
            "  93.84995753  93.90933702  93.96796491  94.0263099   94.08420026\n",
            "  94.14147499  94.19781277  94.25304243  94.30659989  94.35917238\n",
            "  94.41144631  94.4624367   94.51266621  94.56248031  94.61206522\n",
            "  94.66129961  94.70967782  94.75776783  94.80492469  94.85159607\n",
            "  94.89801906  94.94421826  94.99004671  95.03499702  95.07971427\n",
            "  95.12380474  95.16760458  95.21024207  95.2523278   95.29414526\n",
            "  95.33544543  95.37628694  95.41611259  95.45551175  95.49468732\n",
            "  95.53359944  95.57193923  95.60978789  95.64743213  95.68463847\n",
            "  95.72127067  95.75775081  95.79395424  95.82963737  95.86501215\n",
            "  95.90024152  95.93490336  95.96938227  96.00356758  96.03745496\n",
            "  96.07094995  96.10386107  96.13664829  96.16906546  96.20134447\n",
            "  96.23336006  96.26502162  96.29655686  96.32754355  96.35848134\n",
            "  96.38906739  96.41932203  96.44944427  96.47947601  96.50902768\n",
            "  96.53853962  96.56782362  96.59699881  96.62566107  96.65395399\n",
            "  96.68211026  96.70984685  96.73728156  96.7644866   96.79133716\n",
            "  96.81803215  96.84449068  96.87085397  96.89701074  96.92287846\n",
            "  96.94862289  96.97427829  96.99972371  97.02499884  97.05017212\n",
            "  97.07502138  97.09970931  97.12422343  97.14847917  97.17258523\n",
            "  97.19665814  97.22057392  97.24441082  97.26805737  97.29123126\n",
            "  97.31434637  97.3372942   97.36004417  97.38275001  97.40506838\n",
            "  97.42715697  97.44913304  97.47087018  97.49248219  97.51393187\n",
            "  97.53522929  97.55648532  97.57747345  97.59840957  97.61904128\n",
            "  97.63950404  97.65977903  97.67991044  97.69999134  97.71983386\n",
            "  97.7395821   97.75913285  97.77842079  97.79768416  97.81685959\n",
            "  97.83594238  97.85480962  97.87353877  97.89226036  97.91081783\n",
            "  97.92931832  97.94770672  97.96593376  97.98413299  98.0021305\n",
            "  98.01982687  98.03747432  98.05503201  98.07240997  98.08971775\n",
            "  98.10693985  98.12406257  98.14107646  98.15795009  98.17465426\n",
            "  98.19131272  98.20794362  98.22434249  98.24069078  98.25698299\n",
            "  98.27315527  98.2891535   98.30511385  98.32099767  98.33673604\n",
            "  98.35233637  98.36778773  98.38314706  98.3984511   98.41362215\n",
            "  98.42861415  98.44356137  98.45835849  98.47313591  98.48774585\n",
            "  98.5021984   98.51652039  98.53079747  98.54500598  98.55915268\n",
            "  98.5731785   98.58695428  98.60068544  98.61431104  98.62788257\n",
            "  98.6413893   98.65482561  98.66818002  98.68142338  98.69450817\n",
            "  98.7074554   98.72032669  98.73309621  98.74583013  98.75850629\n",
            "  98.7711206   98.78371671  98.79617948  98.80849991  98.82069342\n",
            "  98.83283949  98.84489787  98.85687302  98.86878068  98.88066349\n",
            "  98.89239159  98.90407897  98.91568277  98.9272708   98.93875425\n",
            "  98.95018197  98.96139895  98.97250909  98.98352615  98.99452872\n",
            "  99.00550293  99.0164161   99.02724017  99.03798534  99.04863898\n",
            "  99.05926537  99.06988491  99.08036885  99.09068584  99.10094975\n",
            "  99.11111855  99.12116126  99.13117532  99.14111185  99.15103573\n",
            "  99.16086843  99.17061909  99.18030774  99.18980067  99.19921132\n",
            "  99.20859838  99.21792908  99.22716223  99.23632263  99.24543948\n",
            "  99.25447757  99.26345579  99.27237303  99.28125935  99.29005573\n",
            "  99.29875245  99.30738218  99.31594507  99.32442728  99.33289394\n",
            "  99.34125492  99.34952048  99.35775913  99.36596112  99.37405129\n",
            "  99.38213513  99.39007227  99.39799099  99.40581354  99.41360133\n",
            "  99.42131742  99.42894129  99.43653111  99.44397792  99.45136566\n",
            "  99.45869804  99.46599872  99.47323892  99.4804347   99.487561\n",
            "  99.49458783  99.50154722  99.50847725  99.51527555  99.52201655\n",
            "  99.5287045   99.53529462  99.54177076  99.54817047  99.55450456\n",
            "  99.56081818  99.56699519  99.57309834  99.57910361  99.58507826\n",
            "  99.59097023  99.59682481  99.60262815  99.60836068  99.61400308\n",
            "  99.61960003  99.62513955  99.63058756  99.6360241   99.64144886\n",
            "  99.6467417   99.65201989  99.65724693  99.66241038  99.66752526\n",
            "  99.6725904   99.67756459  99.68250264  99.68740146  99.69222806\n",
            "  99.69697745  99.70166994  99.70630422  99.71093049  99.71545373\n",
            "  99.71991404  99.72425637  99.728497    99.73270335  99.73689755\n",
            "  99.74101975  99.74514055  99.74922472  99.75327379  99.75729289\n",
            "  99.76114283  99.76496368  99.76876318  99.77253334  99.77625396\n",
            "  99.7799426   99.78358563  99.78711416  99.79062299  99.79411847\n",
            "  99.79756699  99.80100166  99.80442683  99.80772434  99.81098801\n",
            "  99.81419211  99.81737035  99.82050945  99.82359023  99.82657575\n",
            "  99.82954542  99.83246746  99.83536621  99.83825824  99.84108978\n",
            "  99.84385966  99.84660899  99.8493263   99.85200146  99.85456637\n",
            "  99.8570878   99.85958408  99.86205063  99.86449688  99.86693092\n",
            "  99.86934475  99.87174289  99.87408821  99.87642438  99.87873415\n",
            "  99.88097779  99.88319409  99.88534912  99.88748791  99.8896095\n",
            "  99.89169543  99.89376295  99.89579098  99.8977809   99.89975576\n",
            "  99.90170457  99.90363414  99.90553674  99.90741597  99.90925411\n",
            "  99.91105802  99.91285417  99.91458093  99.91629304  99.91791309\n",
            "  99.91952364  99.92110559  99.92268164  99.92422212  99.92575927\n",
            "  99.92728346  99.92876912  99.93023617  99.93167849  99.93309294\n",
            "  99.93448549  99.93584892  99.93720106  99.93854417  99.93987317\n",
            "  99.94116047  99.94241609  99.94364248  99.94486595  99.94608075\n",
            "  99.94727492  99.94843432  99.94958275  99.9507259   99.95185773\n",
            "  99.95297884  99.95407741  99.95515854  99.95621306  99.95725479\n",
            "  99.95828163  99.9592839   99.9602194   99.96113929  99.96205363\n",
            "  99.96296362  99.96385827  99.96472436  99.965569    99.96637497\n",
            "  99.96716128  99.96794355  99.96872193  99.96949879  99.9702597\n",
            "  99.97101226  99.97175392  99.97248328  99.97320214  99.97391564\n",
            "  99.9746171   99.97529198  99.97596504  99.97659774  99.97722324\n",
            "  99.97783987  99.97842285  99.97898938  99.97954027  99.98008856\n",
            "  99.98062579  99.98115763  99.98167828  99.98216802  99.98265264\n",
            "  99.983136    99.98361522  99.98406988  99.98451984  99.98496635\n",
            "  99.98541083  99.98584767  99.98626228  99.98667275  99.98706802\n",
            "  99.98745637  99.98784022  99.98822079  99.98855962  99.98889169\n",
            "  99.98921198  99.98952918  99.98984394  99.99015534  99.99046267\n",
            "  99.99076814  99.99106359  99.99135401  99.99164279  99.99191811\n",
            "  99.99217012  99.99242031  99.99265838  99.99288901  99.99310453\n",
            "  99.99331961  99.99353088  99.99374097  99.99394441  99.99414565\n",
            "  99.994343    99.9945347   99.99471668  99.99489587  99.99507044\n",
            "  99.99524449  99.995412    99.99557556  99.99573733  99.99589658\n",
            "  99.99605222  99.9962015   99.99633224  99.99646237  99.99659103\n",
            "  99.99671844  99.99683885  99.9969536   99.99706282  99.99717112\n",
            "  99.99727891  99.99738488  99.99748886  99.997591    99.99768993\n",
            "  99.99778368  99.99787614  99.99796001  99.99804382  99.99812627\n",
            "  99.99820742  99.9982866   99.99836029  99.9984299   99.99849645\n",
            "  99.99856082  99.99862336  99.99868421  99.99874495  99.99880507\n",
            "  99.99886216  99.99891746  99.99897233  99.99902423  99.99907514\n",
            "  99.99912293  99.99916774  99.99921251  99.99925449  99.99929281\n",
            "  99.9993307   99.99936813  99.99940476  99.99943902  99.99946815\n",
            "  99.99949636  99.99952366  99.99955082  99.99957781  99.99960432\n",
            "  99.99963024  99.99965421  99.99967523  99.99969556  99.99971451\n",
            "  99.99973297  99.99975138  99.99976897  99.99978464  99.99980024\n",
            "  99.99981482  99.99982838  99.99984057  99.99985233  99.99986405\n",
            "  99.99987573  99.99988704  99.99989806  99.99990724  99.99991557\n",
            "  99.99992362  99.99993143  99.99993866  99.99994506  99.99995093\n",
            "  99.99995575  99.99996053  99.9999647   99.99996852  99.99997234\n",
            "  99.99997562  99.9999784   99.99998109  99.99998366  99.99998575\n",
            "  99.99998751  99.99998904  99.99999047  99.9999919   99.99999298\n",
            "  99.99999401  99.99999489  99.99999564  99.99999632  99.99999692\n",
            "  99.99999752  99.99999799  99.99999841  99.99999883  99.99999925\n",
            "  99.99999957  99.99999974  99.99999982  99.99999989  99.99999995\n",
            "  99.99999997  99.99999999 100.         100.         100.\n",
            " 100.         100.         100.         100.         100.\n",
            " 100.         100.         100.         100.         100.\n",
            " 100.         100.         100.         100.         100.\n",
            " 100.         100.         100.         100.         100.\n",
            " 100.         100.         100.         100.         100.\n",
            " 100.         100.         100.         100.         100.\n",
            " 100.         100.         100.         100.         100.\n",
            " 100.         100.         100.         100.         100.\n",
            " 100.         100.         100.         100.         100.\n",
            " 100.         100.         100.         100.         100.\n",
            " 100.         100.         100.         100.         100.\n",
            " 100.         100.         100.         100.         100.\n",
            " 100.         100.         100.         100.         100.\n",
            " 100.         100.         100.         100.        ]\n"
          ]
        }
      ]
    },
    {
      "cell_type": "code",
      "source": [
        "# PLOT OUT THE EXPLAINED VARIANCES SUPERIMPOSED\n",
        "plt.figure(figsize=(10, 5))\n",
        "plt.step(range(1, 785), cum_var_exp, where='mid',label='cumulative explained variance')\n",
        "plt.title('Cumulative Explained Variance as a Function of the Number of Components')\n",
        "plt.ylabel('Cumulative Explained variance')\n",
        "plt.xlabel('Principal components')\n",
        "plt.axhline(y = 95, color='k', linestyle='--', label = '95% Explained Variance')\n",
        "plt.axhline(y = 90, color='c', linestyle='--', label = '90% Explained Variance')\n",
        "plt.axhline(y = 85, color='r', linestyle='--', label = '85% Explained Variance')\n",
        "plt.legend(loc='best')\n",
        "plt.show()"
      ],
      "metadata": {
        "colab": {
          "base_uri": "https://localhost:8080/",
          "height": 487
        },
        "id": "7bVeeaCt5BZv",
        "outputId": "15fe8318-112f-4b76-8c84-03ab1df08e14"
      },
      "execution_count": 15,
      "outputs": [
        {
          "output_type": "display_data",
          "data": {
            "text/plain": [
              "<Figure size 1000x500 with 1 Axes>"
            ],
            "image/png": "[encoded data removed]"
          },
          "metadata": {}
        }
      ]
    },
    {
      "cell_type": "code",
      "source": [
        "componentsVariance = [784, np.argmax(cum_var_exp > 99) + 1, np.argmax(cum_var_exp > 95) + 1, np.argmax(cum_var_exp > 90) + 1, np.argmax(cum_var_exp >= 85) + 1]\n",
        "print(componentsVariance)"
      ],
      "metadata": {
        "colab": {
          "base_uri": "https://localhost:8080/"
        },
        "id": "HKLikR1Q259N",
        "outputId": "0b01dce5-bdf5-4148-9758-ba042474c1ad"
      },
      "execution_count": 16,
      "outputs": [
        {
          "output_type": "stream",
          "name": "stdout",
          "text": [
            "[784, 331, 154, 87, 59]\n"
          ]
        }
      ]
    },
    {
      "cell_type": "code",
      "source": [
        "from sklearn.decomposition import PCA\n",
        "\n",
        "# This is an extremely inefficient function. Will get to why in a later tutorial\n",
        "def explainedVariance(percentage, images):\n",
        "    # percentage should be a decimal from 0 to 1\n",
        "    pca = PCA(percentage)\n",
        "    pca.fit(images)\n",
        "    components = pca.transform(images)\n",
        "    approxOriginal = pca.inverse_transform(components)\n",
        "    return approxOriginal"
      ],
      "metadata": {
        "id": "S6Zkq4NT5J5f"
      },
      "execution_count": 17,
      "outputs": []
    },
    {
      "cell_type": "code",
      "source": [
        "plt.figure(figsize=(20,4));\n",
        "\n",
        "# Original Image (784 components)\n",
        "plt.subplot(1, 5, 1);\n",
        "plt.imshow(mnist.data.iloc[5].to_numpy().reshape(28,28),\n",
        "              cmap = plt.cm.gray, interpolation='nearest',\n",
        "              clim=(0, 255));\n",
        "plt.xlabel('784 Components', fontsize = 12)\n",
        "plt.title('Original Image', fontsize = 14);\n",
        "\n",
        "# 331 principal components\n",
        "plt.subplot(1, 5, 2);\n",
        "plt.imshow(explainedVariance(.99, mnist.data)[5].reshape(28, 28),\n",
        "              cmap = plt.cm.gray, interpolation='nearest',\n",
        "              clim=(0, 255));\n",
        "plt.xlabel('331 Components', fontsize = 12)\n",
        "plt.title('99% of Explained Variance', fontsize = 14);\n",
        "\n",
        "# 154 principal components\n",
        "plt.subplot(1, 5, 3);\n",
        "plt.imshow(explainedVariance(.95, mnist.data)[5].reshape(28, 28),\n",
        "              cmap = plt.cm.gray, interpolation='nearest',\n",
        "              clim=(0, 255));\n",
        "plt.xlabel('154 Components', fontsize = 12)\n",
        "plt.title('95% of Explained Variance', fontsize = 14);\n",
        "\n",
        "# 87 principal components\n",
        "plt.subplot(1, 5, 4);\n",
        "plt.imshow(explainedVariance(.90, mnist.data)[5].reshape(28, 28),\n",
        "              cmap = plt.cm.gray, interpolation='nearest',\n",
        "              clim=(0, 255));\n",
        "plt.xlabel('87 Components', fontsize = 12)\n",
        "plt.title('90% of Explained Variance', fontsize = 14);\n",
        "\n",
        "# 59 principal components\n",
        "plt.subplot(1, 5, 5);\n",
        "plt.imshow(explainedVariance(.85, mnist.data)[5].reshape(28, 28),\n",
        "              cmap = plt.cm.gray, interpolation='nearest',\n",
        "              clim=(0, 255));\n",
        "plt.xlabel('59 Components', fontsize = 12)\n",
        "plt.title('85% of Explained Variance', fontsize = 14);"
      ],
      "metadata": {
        "colab": {
          "base_uri": "https://localhost:8080/",
          "height": 283
        },
        "id": "ZTTKcmke5J7v",
        "outputId": "c47a2f7e-8829-431c-ecac-69fa0e6b6d5a"
      },
      "execution_count": 18,
      "outputs": [
        {
          "output_type": "display_data",
          "data": {
            "text/plain": [
              "<Figure size 2000x400 with 5 Axes>"
            ],
            "image/png": "[encoded data removed]"
          },
          "metadata": {}
        }
      ]
    },
    {
      "cell_type": "code",
      "source": [],
      "metadata": {
        "id": "DMV6MkIE5J99"
      },
      "execution_count": 18,
      "outputs": []
    }
  ]
}