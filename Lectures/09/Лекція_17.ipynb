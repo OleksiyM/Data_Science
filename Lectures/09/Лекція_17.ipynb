{
  "nbformat": 4,
  "nbformat_minor": 0,
  "metadata": {
    "colab": {
      "provenance": [],
      "collapsed_sections": [
        "W593LWLbSMlR",
        "ved_-M8Ivcsb"
      ]
    },
    "kernelspec": {
      "name": "python3",
      "display_name": "Python 3"
    },
    "language_info": {
      "name": "python"
    }
  },
  "cells": [
    {
      "cell_type": "markdown",
      "source": [
        "# Методи покращення результату моделі нейронної мережі (Model improving)"
      ],
      "metadata": {
        "id": "9PQlcKlUCIGn"
      }
    },
    {
      "cell_type": "markdown",
      "source": [
        "![alt text](https://static.wixstatic.com/media/3eee0b_c027550e5c9249ea9da9a8464c49b194~mv2.png/v1/fill/w_600,h_412,al_c,q_85,usm_0.66_1.00_0.01,enc_auto/3eee0b_c027550e5c9249ea9da9a8464c49b194~mv2.png))"
      ],
      "metadata": {
        "id": "cuYZz1y5Vlr-"
      }
    },
    {
      "cell_type": "markdown",
      "source": [
        "- !!!Дані!!!\n",
        "  - \"Чисті\" дані\n",
        "  - Більше даних\n",
        "- Генерація фічей/Видалення фічей\n",
        "  - Нові фічі\n",
        "  - Поліноми фічей\n",
        "  - Відбір фічей (видалення не інформативних)\n",
        "- Зміна архітектури моделі\n",
        "  - Кількість шарів\n",
        "  - Кількість нейронів\n",
        "  - Зміна функції активації\n",
        "- Регуляризація\n",
        "  - Зміна коефіцієнта регуяризації\n",
        "  - Зміна регуляризатора\n",
        "- Ранній стоп\n",
        "- Зміна функції помилки\n",
        "- Зміна оптимізатора"
      ],
      "metadata": {
        "id": "RL_kWVqSCOdf"
      }
    },
    {
      "cell_type": "markdown",
      "source": [
        "## Проблеми перенавчання та недонавчання нейронних мереж"
      ],
      "metadata": {
        "id": "CJu7X1hdzWBg"
      }
    },
    {
      "cell_type": "markdown",
      "source": [
        "![alt text](https://textbook.edu.goit.global/python/data-science-remaster/v1/img/module-09/img-1.webp)"
      ],
      "metadata": {
        "id": "5d6A41DAzf3X"
      }
    },
    {
      "cell_type": "markdown",
      "source": [
        "**Перенавчання (overfitting)**: виникає, коли модель надмірно адаптується до навчальних даних і втрачає здатність узагальнювати на нові, раніше невидимі дані. Ознаки перенавчання включають високу точність на навчальних даних, але низьку точність на тестових або реальних даних. Деякі причини перенавчання включають надмірну складність моделі, недостатню кількість тренувальних прикладів або некоректну розподілення даних.\n",
        "\n",
        "**Недонавчання (underfitting)**: стан, коли модель недостатньо навчена і не здатна адекватно узагальнювати дані. Ознаки недонавчання включають низьку точність як на тренувальних, так і на тестових даних. Це може виникати внаслідок недостатньої складності моделі, недостатньої кількості тренувальних ітерацій або недостатнього обсягу даних для тренування."
      ],
      "metadata": {
        "id": "VP45qUhdzoWw"
      }
    },
    {
      "cell_type": "markdown",
      "source": [
        "![alt text](https://textbook.edu.goit.global/python/data-science-remaster/v1/img/module-09/img-2.webp)"
      ],
      "metadata": {
        "id": "RcUIGoQKz490"
      }
    },
    {
      "cell_type": "markdown",
      "source": [
        "![alt text](https://textbook.edu.goit.global/python/data-science-remaster/v1/img/module-09/img-6.webp)"
      ],
      "metadata": {
        "id": "Mf-CcEQwJdR0"
      }
    },
    {
      "cell_type": "markdown",
      "source": [
        "# \"Незмінна класика\""
      ],
      "metadata": {
        "id": "muVTC2bqUuLR"
      }
    },
    {
      "cell_type": "markdown",
      "source": [
        "## Дані, дані і ще раз дані"
      ],
      "metadata": {
        "id": "vaSI2514Uyku"
      }
    },
    {
      "cell_type": "markdown",
      "source": [
        "![alt text](https://www.dignited.com/wp-content/uploads/2023/07/POE-1.png)"
      ],
      "metadata": {
        "id": "kHtBrxQTraYU"
      }
    },
    {
      "cell_type": "code",
      "source": [
        "import tensorflow as tf\n",
        "from sklearn.datasets import load_iris\n",
        "from sklearn.model_selection import train_test_split\n",
        "from sklearn.preprocessing import StandardScaler\n",
        "\n",
        "# # Завантаження даних\n",
        "iris_data = load_iris()\n",
        "X, y = iris_data.data, iris_data.target\n",
        "\n",
        "# # Розділення даних на навчальний та тестовий набори\n",
        "X_train, X_test, y_train, y_test = train_test_split(X, y, test_size=0.2, random_state=42)"
      ],
      "metadata": {
        "id": "zlB7C1e-DE6-"
      },
      "execution_count": 1,
      "outputs": []
    },
    {
      "cell_type": "code",
      "source": [
        "# Неопрацьовані дані: навчання нейронної мережі\n",
        "model_unproc = tf.keras.Sequential([\n",
        "    tf.keras.layers.Dense(10, activation='relu', input_shape=(4,)),\n",
        "    tf.keras.layers.Dense(3, activation='softmax')\n",
        "])\n",
        "model_unproc.compile(optimizer='adam',\n",
        "              loss='sparse_categorical_crossentropy',\n",
        "              metrics=['accuracy'])\n",
        "\n",
        "model_unproc.fit(X_train, y_train,\n",
        "          epochs=35,\n",
        "          batch_size=8,\n",
        "          validation_split=0.1)\n",
        "\n",
        "loss_unproc, accuracy_unproc = model_unproc.evaluate(X_test, y_test)"
      ],
      "metadata": {
        "colab": {
          "base_uri": "https://localhost:8080/"
        },
        "id": "tBA5WzK0Vk8s",
        "outputId": "94fa5b1e-ca4b-456f-e412-692f99e5080a"
      },
      "execution_count": 2,
      "outputs": [
        {
          "output_type": "stream",
          "name": "stdout",
          "text": [
            "Epoch 1/35\n",
            "14/14 [==============================] - 1s 19ms/step - loss: 2.3067 - accuracy: 0.3148 - val_loss: 2.1312 - val_accuracy: 0.4167\n",
            "Epoch 2/35\n",
            "14/14 [==============================] - 0s 5ms/step - loss: 1.7012 - accuracy: 0.3241 - val_loss: 1.5944 - val_accuracy: 0.4167\n",
            "Epoch 3/35\n",
            "14/14 [==============================] - 0s 5ms/step - loss: 1.2238 - accuracy: 0.5370 - val_loss: 1.2091 - val_accuracy: 0.5833\n",
            "Epoch 4/35\n",
            "14/14 [==============================] - 0s 4ms/step - loss: 0.9433 - accuracy: 0.6574 - val_loss: 0.9688 - val_accuracy: 0.5833\n",
            "Epoch 5/35\n",
            "14/14 [==============================] - 0s 4ms/step - loss: 0.7890 - accuracy: 0.6389 - val_loss: 0.8793 - val_accuracy: 0.5000\n",
            "Epoch 6/35\n",
            "14/14 [==============================] - 0s 4ms/step - loss: 0.7495 - accuracy: 0.5278 - val_loss: 0.8520 - val_accuracy: 0.2500\n",
            "Epoch 7/35\n",
            "14/14 [==============================] - 0s 6ms/step - loss: 0.7336 - accuracy: 0.4444 - val_loss: 0.8372 - val_accuracy: 0.2500\n",
            "Epoch 8/35\n",
            "14/14 [==============================] - 0s 4ms/step - loss: 0.7213 - accuracy: 0.4907 - val_loss: 0.8220 - val_accuracy: 0.2500\n",
            "Epoch 9/35\n",
            "14/14 [==============================] - 0s 6ms/step - loss: 0.7104 - accuracy: 0.5185 - val_loss: 0.8112 - val_accuracy: 0.2500\n",
            "Epoch 10/35\n",
            "14/14 [==============================] - 0s 4ms/step - loss: 0.6957 - accuracy: 0.4815 - val_loss: 0.7999 - val_accuracy: 0.2500\n",
            "Epoch 11/35\n",
            "14/14 [==============================] - 0s 4ms/step - loss: 0.6832 - accuracy: 0.5000 - val_loss: 0.7895 - val_accuracy: 0.1667\n",
            "Epoch 12/35\n",
            "14/14 [==============================] - 0s 4ms/step - loss: 0.6714 - accuracy: 0.5185 - val_loss: 0.7801 - val_accuracy: 0.1667\n",
            "Epoch 13/35\n",
            "14/14 [==============================] - 0s 4ms/step - loss: 0.6608 - accuracy: 0.5370 - val_loss: 0.7690 - val_accuracy: 0.1667\n",
            "Epoch 14/35\n",
            "14/14 [==============================] - 0s 5ms/step - loss: 0.6509 - accuracy: 0.5185 - val_loss: 0.7586 - val_accuracy: 0.2500\n",
            "Epoch 15/35\n",
            "14/14 [==============================] - 0s 4ms/step - loss: 0.6422 - accuracy: 0.5556 - val_loss: 0.7505 - val_accuracy: 0.2500\n",
            "Epoch 16/35\n",
            "14/14 [==============================] - 0s 6ms/step - loss: 0.6289 - accuracy: 0.5278 - val_loss: 0.7407 - val_accuracy: 0.3333\n",
            "Epoch 17/35\n",
            "14/14 [==============================] - 0s 4ms/step - loss: 0.6210 - accuracy: 0.5648 - val_loss: 0.7357 - val_accuracy: 0.5000\n",
            "Epoch 18/35\n",
            "14/14 [==============================] - 0s 5ms/step - loss: 0.6138 - accuracy: 0.6204 - val_loss: 0.7267 - val_accuracy: 0.5000\n",
            "Epoch 19/35\n",
            "14/14 [==============================] - 0s 5ms/step - loss: 0.6122 - accuracy: 0.5463 - val_loss: 0.7173 - val_accuracy: 0.4167\n",
            "Epoch 20/35\n",
            "14/14 [==============================] - 0s 5ms/step - loss: 0.5968 - accuracy: 0.5833 - val_loss: 0.7086 - val_accuracy: 0.3333\n",
            "Epoch 21/35\n",
            "14/14 [==============================] - 0s 6ms/step - loss: 0.5888 - accuracy: 0.6019 - val_loss: 0.7017 - val_accuracy: 0.4167\n",
            "Epoch 22/35\n",
            "14/14 [==============================] - 0s 4ms/step - loss: 0.5795 - accuracy: 0.5833 - val_loss: 0.6922 - val_accuracy: 0.3333\n",
            "Epoch 23/35\n",
            "14/14 [==============================] - 0s 6ms/step - loss: 0.5715 - accuracy: 0.6481 - val_loss: 0.6854 - val_accuracy: 0.5000\n",
            "Epoch 24/35\n",
            "14/14 [==============================] - 0s 4ms/step - loss: 0.5639 - accuracy: 0.6389 - val_loss: 0.6776 - val_accuracy: 0.5000\n",
            "Epoch 25/35\n",
            "14/14 [==============================] - 0s 4ms/step - loss: 0.5575 - accuracy: 0.6389 - val_loss: 0.6715 - val_accuracy: 0.5000\n",
            "Epoch 26/35\n",
            "14/14 [==============================] - 0s 5ms/step - loss: 0.5500 - accuracy: 0.6759 - val_loss: 0.6653 - val_accuracy: 0.5833\n",
            "Epoch 27/35\n",
            "14/14 [==============================] - 0s 4ms/step - loss: 0.5438 - accuracy: 0.7222 - val_loss: 0.6580 - val_accuracy: 0.5833\n",
            "Epoch 28/35\n",
            "14/14 [==============================] - 0s 5ms/step - loss: 0.5387 - accuracy: 0.6852 - val_loss: 0.6534 - val_accuracy: 0.5833\n",
            "Epoch 29/35\n",
            "14/14 [==============================] - 0s 4ms/step - loss: 0.5326 - accuracy: 0.6759 - val_loss: 0.6473 - val_accuracy: 0.5833\n",
            "Epoch 30/35\n",
            "14/14 [==============================] - 0s 4ms/step - loss: 0.5261 - accuracy: 0.6759 - val_loss: 0.6404 - val_accuracy: 0.5833\n",
            "Epoch 31/35\n",
            "14/14 [==============================] - 0s 6ms/step - loss: 0.5255 - accuracy: 0.7593 - val_loss: 0.6350 - val_accuracy: 0.6667\n",
            "Epoch 32/35\n",
            "14/14 [==============================] - 0s 5ms/step - loss: 0.5155 - accuracy: 0.7778 - val_loss: 0.6290 - val_accuracy: 0.6667\n",
            "Epoch 33/35\n",
            "14/14 [==============================] - 0s 5ms/step - loss: 0.5081 - accuracy: 0.8056 - val_loss: 0.6230 - val_accuracy: 0.6667\n",
            "Epoch 34/35\n",
            "14/14 [==============================] - 0s 4ms/step - loss: 0.5049 - accuracy: 0.7500 - val_loss: 0.6190 - val_accuracy: 0.5833\n",
            "Epoch 35/35\n",
            "14/14 [==============================] - 0s 6ms/step - loss: 0.4997 - accuracy: 0.7037 - val_loss: 0.6129 - val_accuracy: 0.5833\n",
            "1/1 [==============================] - 0s 35ms/step - loss: 0.4906 - accuracy: 0.8000\n"
          ]
        }
      ]
    },
    {
      "cell_type": "code",
      "source": [
        "# # Стандартизація даних для опрацювання\n",
        "scaler = StandardScaler()\n",
        "X_train_processed = scaler.fit_transform(X_train)\n",
        "X_test_processed = scaler.transform(X_test)\n",
        "\n",
        "# Опрацьовані дані: навчання нейронної мережі\n",
        "model_proc= tf.keras.Sequential([\n",
        "    tf.keras.layers.Dense(10, activation='relu', input_shape=(4,)),\n",
        "    tf.keras.layers.Dense(3, activation='softmax')\n",
        "])\n",
        "model_proc.compile(optimizer='adam',\n",
        "              loss='sparse_categorical_crossentropy',\n",
        "              metrics=['accuracy'])\n",
        "model_proc.fit(X_train_processed,\n",
        "                    y_train,\n",
        "                    epochs=35,\n",
        "                    batch_size=8,\n",
        "                    validation_split=0.1)\n",
        "loss_proc, accuracy_proc = model_proc.evaluate(X_test_processed, y_test)"
      ],
      "metadata": {
        "colab": {
          "base_uri": "https://localhost:8080/"
        },
        "id": "W_v7k7a2WIFw",
        "outputId": "bdd623f7-61fc-4975-c9aa-4e4e2cd85fb0"
      },
      "execution_count": 3,
      "outputs": [
        {
          "output_type": "stream",
          "name": "stdout",
          "text": [
            "Epoch 1/35\n",
            "14/14 [==============================] - 1s 18ms/step - loss: 1.7156 - accuracy: 0.1481 - val_loss: 1.3567 - val_accuracy: 0.1667\n",
            "Epoch 2/35\n",
            "14/14 [==============================] - 0s 5ms/step - loss: 1.6044 - accuracy: 0.1389 - val_loss: 1.3006 - val_accuracy: 0.2500\n",
            "Epoch 3/35\n",
            "14/14 [==============================] - 0s 6ms/step - loss: 1.5088 - accuracy: 0.1481 - val_loss: 1.2475 - val_accuracy: 0.2500\n",
            "Epoch 4/35\n",
            "14/14 [==============================] - 0s 5ms/step - loss: 1.4213 - accuracy: 0.1481 - val_loss: 1.2031 - val_accuracy: 0.3333\n",
            "Epoch 5/35\n",
            "14/14 [==============================] - 0s 6ms/step - loss: 1.3465 - accuracy: 0.1759 - val_loss: 1.1626 - val_accuracy: 0.3333\n",
            "Epoch 6/35\n",
            "14/14 [==============================] - 0s 6ms/step - loss: 1.2840 - accuracy: 0.2222 - val_loss: 1.1248 - val_accuracy: 0.3333\n",
            "Epoch 7/35\n",
            "14/14 [==============================] - 0s 5ms/step - loss: 1.2259 - accuracy: 0.2500 - val_loss: 1.0936 - val_accuracy: 0.5000\n",
            "Epoch 8/35\n",
            "14/14 [==============================] - 0s 5ms/step - loss: 1.1750 - accuracy: 0.3241 - val_loss: 1.0630 - val_accuracy: 0.5000\n",
            "Epoch 9/35\n",
            "14/14 [==============================] - 0s 6ms/step - loss: 1.1290 - accuracy: 0.3796 - val_loss: 1.0358 - val_accuracy: 0.5000\n",
            "Epoch 10/35\n",
            "14/14 [==============================] - 0s 4ms/step - loss: 1.0848 - accuracy: 0.4444 - val_loss: 1.0101 - val_accuracy: 0.5000\n",
            "Epoch 11/35\n",
            "14/14 [==============================] - 0s 5ms/step - loss: 1.0461 - accuracy: 0.4722 - val_loss: 0.9872 - val_accuracy: 0.5000\n",
            "Epoch 12/35\n",
            "14/14 [==============================] - 0s 5ms/step - loss: 1.0089 - accuracy: 0.5093 - val_loss: 0.9653 - val_accuracy: 0.5000\n",
            "Epoch 13/35\n",
            "14/14 [==============================] - 0s 6ms/step - loss: 0.9761 - accuracy: 0.5556 - val_loss: 0.9441 - val_accuracy: 0.5000\n",
            "Epoch 14/35\n",
            "14/14 [==============================] - 0s 6ms/step - loss: 0.9426 - accuracy: 0.5833 - val_loss: 0.9236 - val_accuracy: 0.5000\n",
            "Epoch 15/35\n",
            "14/14 [==============================] - 0s 5ms/step - loss: 0.9131 - accuracy: 0.6019 - val_loss: 0.9038 - val_accuracy: 0.5000\n",
            "Epoch 16/35\n",
            "14/14 [==============================] - 0s 5ms/step - loss: 0.8841 - accuracy: 0.6111 - val_loss: 0.8851 - val_accuracy: 0.5833\n",
            "Epoch 17/35\n",
            "14/14 [==============================] - 0s 5ms/step - loss: 0.8575 - accuracy: 0.6574 - val_loss: 0.8660 - val_accuracy: 0.5833\n",
            "Epoch 18/35\n",
            "14/14 [==============================] - 0s 7ms/step - loss: 0.8329 - accuracy: 0.6944 - val_loss: 0.8484 - val_accuracy: 0.6667\n",
            "Epoch 19/35\n",
            "14/14 [==============================] - 0s 7ms/step - loss: 0.8077 - accuracy: 0.7130 - val_loss: 0.8321 - val_accuracy: 0.6667\n",
            "Epoch 20/35\n",
            "14/14 [==============================] - 0s 6ms/step - loss: 0.7856 - accuracy: 0.7130 - val_loss: 0.8144 - val_accuracy: 0.6667\n",
            "Epoch 21/35\n",
            "14/14 [==============================] - 0s 6ms/step - loss: 0.7629 - accuracy: 0.7130 - val_loss: 0.7985 - val_accuracy: 0.6667\n",
            "Epoch 22/35\n",
            "14/14 [==============================] - 0s 5ms/step - loss: 0.7419 - accuracy: 0.7222 - val_loss: 0.7827 - val_accuracy: 0.6667\n",
            "Epoch 23/35\n",
            "14/14 [==============================] - 0s 6ms/step - loss: 0.7212 - accuracy: 0.7500 - val_loss: 0.7682 - val_accuracy: 0.6667\n",
            "Epoch 24/35\n",
            "14/14 [==============================] - 0s 5ms/step - loss: 0.7028 - accuracy: 0.7500 - val_loss: 0.7538 - val_accuracy: 0.6667\n",
            "Epoch 25/35\n",
            "14/14 [==============================] - 0s 6ms/step - loss: 0.6839 - accuracy: 0.7593 - val_loss: 0.7403 - val_accuracy: 0.6667\n",
            "Epoch 26/35\n",
            "14/14 [==============================] - 0s 5ms/step - loss: 0.6661 - accuracy: 0.7685 - val_loss: 0.7269 - val_accuracy: 0.6667\n",
            "Epoch 27/35\n",
            "14/14 [==============================] - 0s 5ms/step - loss: 0.6496 - accuracy: 0.7685 - val_loss: 0.7142 - val_accuracy: 0.6667\n",
            "Epoch 28/35\n",
            "14/14 [==============================] - 0s 6ms/step - loss: 0.6339 - accuracy: 0.7778 - val_loss: 0.7016 - val_accuracy: 0.6667\n",
            "Epoch 29/35\n",
            "14/14 [==============================] - 0s 4ms/step - loss: 0.6188 - accuracy: 0.7778 - val_loss: 0.6893 - val_accuracy: 0.6667\n",
            "Epoch 30/35\n",
            "14/14 [==============================] - 0s 4ms/step - loss: 0.6040 - accuracy: 0.7778 - val_loss: 0.6786 - val_accuracy: 0.6667\n",
            "Epoch 31/35\n",
            "14/14 [==============================] - 0s 5ms/step - loss: 0.5904 - accuracy: 0.7778 - val_loss: 0.6681 - val_accuracy: 0.6667\n",
            "Epoch 32/35\n",
            "14/14 [==============================] - 0s 6ms/step - loss: 0.5777 - accuracy: 0.7778 - val_loss: 0.6585 - val_accuracy: 0.6667\n",
            "Epoch 33/35\n",
            "14/14 [==============================] - 0s 6ms/step - loss: 0.5659 - accuracy: 0.7778 - val_loss: 0.6482 - val_accuracy: 0.6667\n",
            "Epoch 34/35\n",
            "14/14 [==============================] - 0s 6ms/step - loss: 0.5542 - accuracy: 0.7870 - val_loss: 0.6378 - val_accuracy: 0.6667\n",
            "Epoch 35/35\n",
            "14/14 [==============================] - 0s 5ms/step - loss: 0.5429 - accuracy: 0.7870 - val_loss: 0.6290 - val_accuracy: 0.6667\n",
            "1/1 [==============================] - 0s 31ms/step - loss: 0.5105 - accuracy: 0.8000\n"
          ]
        }
      ]
    },
    {
      "cell_type": "code",
      "source": [
        "print(\"Test unproc Loss:\", loss_unproc)\n",
        "print(\"Test unproc Accuracy:\", accuracy_unproc)\n",
        "\n",
        "print(\"Test proc Loss:\", loss_proc)\n",
        "print(\"Test proc Accuracy:\", accuracy_proc)"
      ],
      "metadata": {
        "colab": {
          "base_uri": "https://localhost:8080/"
        },
        "id": "4cqyBv_TXWnf",
        "outputId": "f37190b9-aae7-43d3-8594-1e8d349d080a"
      },
      "execution_count": 4,
      "outputs": [
        {
          "output_type": "stream",
          "name": "stdout",
          "text": [
            "Test unproc Loss: 0.4906074106693268\n",
            "Test unproc Accuracy: 0.800000011920929\n",
            "Test proc Loss: 0.5105389356613159\n",
            "Test proc Accuracy: 0.800000011920929\n"
          ]
        }
      ]
    },
    {
      "cell_type": "markdown",
      "source": [
        "## Більше даних. Кросс-валідація"
      ],
      "metadata": {
        "id": "Jv666Zu6rz2T"
      }
    },
    {
      "cell_type": "markdown",
      "source": [
        "![alt text](https://www.datarobot.com/wp-content/uploads/2018/03/Screen-Shot-2018-03-21-at-4.26.53-PM.png)"
      ],
      "metadata": {
        "id": "37kxDW7xsWOV"
      }
    },
    {
      "cell_type": "markdown",
      "source": [
        "## Генерація/Видалення фічей"
      ],
      "metadata": {
        "id": "o71QG_91sccX"
      }
    },
    {
      "cell_type": "markdown",
      "source": [
        "### Генерація фічей"
      ],
      "metadata": {
        "id": "Ghx72kCA1vmq"
      }
    },
    {
      "cell_type": "markdown",
      "source": [
        "- Створення ознак (Feature Creation)\n",
        "- Об'єднання ознак (Feature Concatenation)\n",
        "- Розбиття категорій (Category Splitting)\n"
      ],
      "metadata": {
        "id": "eOP9U-lvS0zP"
      }
    },
    {
      "cell_type": "markdown",
      "source": [
        "### Видалення фічей"
      ],
      "metadata": {
        "id": "yvTuDnZ3wjYf"
      }
    },
    {
      "cell_type": "markdown",
      "source": [
        "- Статистичний відбір\n",
        "- Відбір за оцінкою моделі"
      ],
      "metadata": {
        "id": "VEAeC5dALA9x"
      }
    },
    {
      "cell_type": "markdown",
      "source": [
        "# Зміна архітектури моделі"
      ],
      "metadata": {
        "id": "i-TM4whMTmAI"
      }
    },
    {
      "cell_type": "markdown",
      "source": [
        "## Зміна шарів"
      ],
      "metadata": {
        "id": "DTzhJPcxXIqd"
      }
    },
    {
      "cell_type": "markdown",
      "source": [
        "У машинному навчанні, зокрема в нейронних мережах, існують різні типи шарів (layers), кожен з яких має власні характеристики та функціональність. Ось деякі з найпоширеніших типів шарів:\n",
        "\n",
        "- **Повнозв'язні шари (Dense layers)**:\n",
        "Це найпоширеніший тип шару, в якому кожен нейрон з одного шару пов'язаний з кожним нейроном наступного шару. Вони використовуються для виявлення складних залежностей між вхідними та вихідними даними.\n",
        "\n",
        "- **Згорткові шари (Convolutional layers)**:\n",
        "Ці шари використовуються для обробки зображень та інших видів даних, які мають просторову структуру. Вони використовують ядра (фільтри), щоб витягувати властивості з даних та здійснювати операції згортки для отримання ознак.\n",
        "\n",
        "- **Рекурентні шари (Recurrent layers)**:\n",
        "Ці шари використовуються для обробки послідовних даних, таких як тексти або часові послідовності. Вони здатні запам'ятовувати попередні стани та використовувати їх для обробки нових вхідних даних.\n",
        "\n",
        "- **Випадкові шари (Dropout layers)**:\n",
        "Випадкові шари випадковим чином вимикають деякі нейрони у шарі під час тренування, що допомагає уникнути перенавчання та поліпшує загальну узагальнюючу здатність моделі.\n",
        "\n",
        "- **Пулінгові шари (Pooling layers)**:\n",
        "Ці шари використовуються для зменшення розмірності зображень чи ознак шляхом вибору найважливіших значень у певній області. Пулінг може бути максимальним, середнім або іншим.\n",
        "\n",
        "- **Вбудовувальні шари (Embedding layers)**:\n",
        "Вони використовуються для вбудовування категоріальних ознак у вектори з вищою розмірністю, що дозволяє нейронним мережам ефективно працювати з категоріальними даними.\n",
        "\n",
        "- існує ще багато інших, які можуть бути використані для різних завдань та даних."
      ],
      "metadata": {
        "id": "xzGutnprPFMB"
      }
    },
    {
      "cell_type": "code",
      "source": [
        "# # Опрацьовані дані: навчання нейронної мережі\n",
        "# model_proc= tf.keras.Sequential([\n",
        "#     tf.keras.layers.Dense(10, activation='relu', input_shape=(4,)),\n",
        "#     tf.keras.layers.Dense(3, activation='softmax')\n",
        "# ])"
      ],
      "metadata": {
        "id": "PYvUE7GWQlSU"
      },
      "execution_count": 6,
      "outputs": []
    },
    {
      "cell_type": "code",
      "source": [
        "# https://www.tensorflow.org/api_docs/python/tf/keras/layers\n",
        "\n",
        "model_v1 = tf.keras.Sequential([\n",
        "    tf.keras.layers.Dense(64, activation='relu', input_shape=(4,)),\n",
        "    #tf.keras.layers.Dense(32, activation='relu'),\n",
        "    tf.keras.layers.Dense(3, activation='softmax')\n",
        "])\n",
        "model_v1.summary()"
      ],
      "metadata": {
        "id": "bePAswtVUUP1",
        "colab": {
          "base_uri": "https://localhost:8080/"
        },
        "outputId": "3b4cee9c-8d33-4dc1-ff80-fb284a590dda"
      },
      "execution_count": 14,
      "outputs": [
        {
          "output_type": "stream",
          "name": "stdout",
          "text": [
            "Model: \"sequential_4\"\n",
            "_________________________________________________________________\n",
            " Layer (type)                Output Shape              Param #   \n",
            "=================================================================\n",
            " dense_8 (Dense)             (None, 64)                320       \n",
            "                                                                 \n",
            " dense_9 (Dense)             (None, 32)                2080      \n",
            "                                                                 \n",
            " dense_10 (Dense)            (None, 3)                 99        \n",
            "                                                                 \n",
            "=================================================================\n",
            "Total params: 2499 (9.76 KB)\n",
            "Trainable params: 2499 (9.76 KB)\n",
            "Non-trainable params: 0 (0.00 Byte)\n",
            "_________________________________________________________________\n"
          ]
        }
      ]
    },
    {
      "cell_type": "code",
      "source": [
        "print(4 * 64 + 64)\n",
        "print(64 * 3 + 3)"
      ],
      "metadata": {
        "colab": {
          "base_uri": "https://localhost:8080/"
        },
        "id": "-NgKUdHLRctL",
        "outputId": "70f37480-aa3b-4ff6-abbe-da41a06677e2"
      },
      "execution_count": 11,
      "outputs": [
        {
          "output_type": "stream",
          "name": "stdout",
          "text": [
            "320\n",
            "195\n"
          ]
        }
      ]
    },
    {
      "cell_type": "code",
      "source": [
        "model_v1.compile(optimizer='adam',\n",
        "              loss='sparse_categorical_crossentropy',\n",
        "              metrics=['accuracy'])\n",
        "history_v1 = model_v1.fit(X_train_processed,\n",
        "                    y_train,\n",
        "                    epochs=35,\n",
        "                    batch_size=8,\n",
        "                    validation_split=0.1,\n",
        "             verbose = 0)\n",
        "loss_v1, accuracy_v1 = model_v1.evaluate(X_test_processed, y_test)"
      ],
      "metadata": {
        "colab": {
          "base_uri": "https://localhost:8080/"
        },
        "id": "fWLB_RshQQLX",
        "outputId": "c102ce9c-424f-418d-b6f1-e1bd85add280"
      },
      "execution_count": 15,
      "outputs": [
        {
          "output_type": "stream",
          "name": "stdout",
          "text": [
            "1/1 [==============================] - 0s 32ms/step - loss: 0.0619 - accuracy: 0.9667\n"
          ]
        }
      ]
    },
    {
      "cell_type": "code",
      "source": [
        "print(\"Test proc Loss:\", loss_proc)\n",
        "print(\"Test proc Accuracy:\", accuracy_proc)\n",
        "\n",
        "print(\"Test v1 Loss:\", loss_v1)\n",
        "print(\"Test v1 Accuracy:\", accuracy_v1)"
      ],
      "metadata": {
        "colab": {
          "base_uri": "https://localhost:8080/"
        },
        "id": "rya9X43UQt9G",
        "outputId": "3d69008c-5d64-430a-94c6-ce9d982274d9"
      },
      "execution_count": 16,
      "outputs": [
        {
          "output_type": "stream",
          "name": "stdout",
          "text": [
            "Test proc Loss: 0.5105389356613159\n",
            "Test proc Accuracy: 0.800000011920929\n",
            "Test v1 Loss: 0.06185823678970337\n",
            "Test v1 Accuracy: 0.9666666388511658\n"
          ]
        }
      ]
    },
    {
      "cell_type": "markdown",
      "source": [
        "## Зміна функції активації"
      ],
      "metadata": {
        "id": "Cm6pX5IVSHR1"
      }
    },
    {
      "cell_type": "markdown",
      "source": [
        "Активаційні функції є ключовим елементом нейронних мереж, оскільки вони додають нелінійність до моделі та дозволяють їй вивчати складні залежності в даних. Ось деякі з найпоширеніших активаційних функцій:\n",
        "- Sigmoid\n",
        "$$\\text{Sigmoid}(x) = \\frac{1}{1 + e^{-x}}$$\n",
        "- Tanh (Hyperbolic Tangent):\n",
        "$$\\text{Tanh}(x) = \\frac{e^{x} - e^{-x}}{e^{x} + e^{-x}}$$\n",
        "- Softmax\n",
        "$$\\text{Softmax}(x_i) = \\frac{e^{x_i}}{\\sum_{j} e^{x_j}}$$\n",
        "- ReLU (Rectified Linear Activation)\n",
        "$$\\text{ReLU}(x) = \\max(0, x)$$\n",
        "Вона допомагає уникнути проблеми з виводом градієнтів, яка може виникати при використанні інших функцій активації, таких як сигмоїда або тангенс гіперболічний.\n",
        "- Leaky ReLU\n",
        "$$\\text{LeakyReLU}(x) = \\begin{cases}\n",
        "x, & \\text{якщо } x \\geq 0 \\\\\n",
        "\\alpha \\cdot x, & \\text{якщо } x < 0\n",
        "\\end{cases}$$\n",
        " Може бути корисною альтернативою звичайній ReLU для уникнення проблеми \"мертвих нейронів\", особливо коли модель стикається з великою кількістю нульових активацій.\n",
        "- ELU (Exponential Linear Unit)\n",
        "$$\\text{ELU}(x) = \\begin{cases}\n",
        "x, & \\text{якщо } x \\geq 0 \\\\\n",
        "\\alpha \\cdot (e^x - 1), & \\text{якщо } x < 0\n",
        "\\end{cases}$$\n",
        "- SELU  (Scaled Exponential Linear Unit)\n",
        " $$\\text{SELU}(x) = \\lambda \\cdot \\begin{cases}\n",
        "x, & \\text{якщо } x > 0 \\\\\n",
        "\\alpha \\cdot (e^x - 1), & \\text{якщо } x \\leq 0\n",
        "\\end{cases}$$"
      ],
      "metadata": {
        "id": "nv-w4XdQScb7"
      }
    },
    {
      "cell_type": "markdown",
      "source": [
        "![alt text](https://media.licdn.com/dms/image/D4D12AQH2F3GJ9wen_Q/article-cover_image-shrink_720_1280/0/1688885174323?e=2147483647&v=beta&t=gFWxErTLLWBc6iRWDxCBRxkdJ7ob24cmjWZAOuKN9o4)"
      ],
      "metadata": {
        "id": "B-uwqHWsVZ20"
      }
    },
    {
      "cell_type": "markdown",
      "source": [
        "Термін \"мертві нейрони\" (dead neurons) відноситься до ситуації, коли нейрон у штучній нейронній мережі має велике від'ємне вагове значення (або значення, близьке до нуля) і, таким чином, передає дуже малий сигнал в подальші шари мережі.\n",
        "\n",
        "Коли нейрон стає \"мертвим\", його вихідне значення практично не впливає на вихід моделі. Це може виникнути, наприклад, коли вхідні дані для нейрона завелико від'ємні, що призводить до великої від'ємної активації.\n",
        "\n",
        "https://medium.com/joelthchao/how-dead-neurons-hurt-training-5fc127d8db6a"
      ],
      "metadata": {
        "id": "zysA-fCpuHJS"
      }
    },
    {
      "cell_type": "code",
      "source": [
        "#https://www.tensorflow.org/api_docs/python/tf/keras/activations"
      ],
      "metadata": {
        "id": "lkwFGgbWSanX"
      },
      "execution_count": 14,
      "outputs": []
    },
    {
      "cell_type": "code",
      "source": [
        "model_v2 = tf.keras.Sequential([\n",
        "    tf.keras.layers.Dense(64, activation='tanh', input_shape=(4,)),\n",
        "    tf.keras.layers.Dense(32, activation='tanh'),\n",
        "    tf.keras.layers.Dense(3, activation='softmax')\n",
        "])\n",
        "model_v2.summary()"
      ],
      "metadata": {
        "colab": {
          "base_uri": "https://localhost:8080/"
        },
        "id": "ZOcYDTlLWQ-m",
        "outputId": "aed8b1c0-1f1d-4018-ad99-41a515dea808"
      },
      "execution_count": 20,
      "outputs": [
        {
          "output_type": "stream",
          "name": "stdout",
          "text": [
            "Model: \"sequential_6\"\n",
            "_________________________________________________________________\n",
            " Layer (type)                Output Shape              Param #   \n",
            "=================================================================\n",
            " dense_13 (Dense)            (None, 64)                320       \n",
            "                                                                 \n",
            " dense_14 (Dense)            (None, 32)                2080      \n",
            "                                                                 \n",
            " dense_15 (Dense)            (None, 3)                 99        \n",
            "                                                                 \n",
            "=================================================================\n",
            "Total params: 2499 (9.76 KB)\n",
            "Trainable params: 2499 (9.76 KB)\n",
            "Non-trainable params: 0 (0.00 Byte)\n",
            "_________________________________________________________________\n"
          ]
        }
      ]
    },
    {
      "cell_type": "code",
      "source": [
        "model_v2.compile(optimizer='adam',\n",
        "              loss='sparse_categorical_crossentropy',\n",
        "              metrics=['accuracy'])\n",
        "history_v2 = model_v2.fit(X_train_processed,\n",
        "                    y_train,\n",
        "                    epochs=35,\n",
        "                    batch_size=8,\n",
        "                    validation_split=0.1,\n",
        "             verbose = 0)\n",
        "loss_v2, accuracy_v2 = model_v2.evaluate(X_test_processed, y_test)"
      ],
      "metadata": {
        "colab": {
          "base_uri": "https://localhost:8080/"
        },
        "id": "CdTyAZYtWe2z",
        "outputId": "4ac7f0e2-4bef-40a3-fb43-c42d6ca35cb9"
      },
      "execution_count": 21,
      "outputs": [
        {
          "output_type": "stream",
          "name": "stdout",
          "text": [
            "1/1 [==============================] - 0s 32ms/step - loss: 0.0649 - accuracy: 0.9667\n"
          ]
        }
      ]
    },
    {
      "cell_type": "code",
      "source": [
        "print(\"Test v1 Loss:\", loss_v1)\n",
        "print(\"Test v1 Accuracy:\", accuracy_v1)\n",
        "\n",
        "print(\"Test v2 Loss:\", loss_v2)\n",
        "print(\"Test v2 Accuracy:\", accuracy_v2)"
      ],
      "metadata": {
        "colab": {
          "base_uri": "https://localhost:8080/"
        },
        "id": "hi7CFZVoWjnU",
        "outputId": "890cb8f2-4efc-4ef1-d023-1ff6a4c41766"
      },
      "execution_count": 22,
      "outputs": [
        {
          "output_type": "stream",
          "name": "stdout",
          "text": [
            "Test v1 Loss: 0.06185823678970337\n",
            "Test v1 Accuracy: 0.9666666388511658\n",
            "Test v2 Loss: 0.06487487256526947\n",
            "Test v2 Accuracy: 0.9666666388511658\n"
          ]
        }
      ]
    },
    {
      "cell_type": "markdown",
      "source": [
        "# Регуляризація"
      ],
      "metadata": {
        "id": "W593LWLbSMlR"
      }
    },
    {
      "cell_type": "markdown",
      "source": [
        "У нейронному моделюванні існують різні методи регуляризації, які можна використовувати для видалення фічей або зменшення їх вагомості в процесі навчання моделі. Деякі з найпоширеніших методів включають:\n",
        "\n",
        "- **Dropout**: Цей метод випадковим чином видаляє фічі (нейрони) під час навчання з певною ймовірністю. В результаті модель навчається з урахуванням різних підмножин фічей для кожного батчу, що допомагає уникнути перенавчання.\n",
        "\n",
        "- **L1 та L2 регуляризація**: Ці методи додають штраф до втрат за величину ваг моделі. L1 регуляризація додає штраф, що пропорційний абсолютному значенню ваг, тоді як L2 регуляризація додає штраф, що пропорційний квадрату ваг. Обидва методи можуть призвести до зменшення ваг моделі та, відповідно, видалення незначущих фічей.\n",
        "\n",
        "- **ElasticNet регуляризація**: Цей метод комбінує в собі L1 та L2 регуляризацію, що дозволяє керувати як абсолютним значенням ваг, так і їх квадратами. ElasticNet регуляризація може бути ефективною в видаленні незначущих фічей та зменшенні розміру моделі.\n",
        "\n",
        "- **Обмеження ваг (Weight Constraint)** : Цей метод обмежує значення ваг моделі до певного діапазону. Це може призвести до видалення фічей, які мають низькі ваги, оскільки їх вплив на вихід моделі буде значно обмеженим.\n",
        "\n",
        "- **Скорочення кількості фічей (Dimensionality Reduction)**: Використання методів скорочення кількості фічей, таких як метод головних компонент аналізу (PCA) або автоенкодери, може допомогти видалити незначущі фічі або стиснути їхнє представлення, зберігаючи при цьому важливість даних.\n",
        "\n",
        "Ці методи регуляризації можуть бути ефективними способами видалення фічей або зменшення їх вагомості у нейронних моделях. Вибір конкретного методу залежить від характеристик даних та конкретної задачі."
      ],
      "metadata": {
        "id": "YlYUh4NjXPqJ"
      }
    },
    {
      "cell_type": "markdown",
      "source": [
        "## Dropout"
      ],
      "metadata": {
        "id": "VFM5ErtdYI_a"
      }
    },
    {
      "cell_type": "markdown",
      "source": [
        "**Dropout** - це метод регуляризації, що використовується у глибоких нейронних мережах для запобігання перенавчанню. Введений у 2014 році в роботі \"Dropout: A Simple Way to Prevent Neural Networks from Overfitting\" з авторством Нітіш Срівастави, Джорджа Далі та Йошуа Бенжіо.\n",
        "\n",
        "Основна ідея Dropout полягає у випадковому \"вимиканні\" (встановленні їх в нуль) деяких нейронів під час тренування моделі. Кожен нейрон має ймовірність бути вимкненим, яка задається користувачем, зазвичай в діапазоні від 0,2 до 0,5. Під час перенавчання ця ймовірність регулюється, і в залежності від неї деякі нейрони можуть бути вимкнуті на кожній ітерації тренування. Під час передбачення (тобто коли модель використовується для прогнозування нових даних), всі нейрони залишаються активними, але їхні вихідні значення зменшуються на величину ймовірності вимикання, щоб зберегти те ж саме загальне середнє значення.\n",
        "\n",
        "Використання Dropout допомагає уникнути перенавчання шляхом зменшення взаємозалежності між нейронами. Він змушує нейронну мережу навчатися більш робастним та узагальнювати патерни, а не просто \"вивчати\" тренувальні дані.\n",
        "\n",
        "Цей метод допомагає покращити загальну здатність моделі до узагальнення на нові дані, а також зменшити ризик перенавчання."
      ],
      "metadata": {
        "id": "pE0b7duqK0K5"
      }
    },
    {
      "cell_type": "markdown",
      "source": [
        "![alt text](https://miro.medium.com/v2/resize:fit:1044/1*iWQzxhVlvadk6VAJjsgXgg.png)"
      ],
      "metadata": {
        "id": "lnySx33JK2oS"
      }
    },
    {
      "cell_type": "code",
      "source": [
        "model_v3= tf.keras.Sequential([\n",
        "    tf.keras.layers.Dense(64, activation='relu', input_shape=(4,)),\n",
        "    tf.keras.layers.Dropout(0.2),\n",
        "    tf.keras.layers.Dense(3, activation='softmax')\n",
        "])\n",
        "model_v3.summary()"
      ],
      "metadata": {
        "colab": {
          "base_uri": "https://localhost:8080/"
        },
        "id": "AoofRpFNK5K6",
        "outputId": "d70e9792-e76c-43b5-a75f-b038b03c1691"
      },
      "execution_count": 23,
      "outputs": [
        {
          "output_type": "stream",
          "name": "stdout",
          "text": [
            "Model: \"sequential_7\"\n",
            "_________________________________________________________________\n",
            " Layer (type)                Output Shape              Param #   \n",
            "=================================================================\n",
            " dense_16 (Dense)            (None, 64)                320       \n",
            "                                                                 \n",
            " dropout (Dropout)           (None, 64)                0         \n",
            "                                                                 \n",
            " dense_17 (Dense)            (None, 3)                 195       \n",
            "                                                                 \n",
            "=================================================================\n",
            "Total params: 515 (2.01 KB)\n",
            "Trainable params: 515 (2.01 KB)\n",
            "Non-trainable params: 0 (0.00 Byte)\n",
            "_________________________________________________________________\n"
          ]
        }
      ]
    },
    {
      "cell_type": "code",
      "source": [
        "model_v3.compile(optimizer='adam',\n",
        "              loss='sparse_categorical_crossentropy',\n",
        "              metrics=['accuracy'])\n",
        "history_v3 = model_v3.fit(X_train_processed,\n",
        "                    y_train,\n",
        "                    epochs=35,\n",
        "                    batch_size=8,\n",
        "                    validation_split=0.1,\n",
        "             verbose = 0)\n",
        "loss_v3, accuracy_v3 = model_v3.evaluate(X_test_processed, y_test)"
      ],
      "metadata": {
        "colab": {
          "base_uri": "https://localhost:8080/"
        },
        "id": "6gFDrazGYn1r",
        "outputId": "8bca6fe4-a51e-4c15-a8b1-1781ee2e580f"
      },
      "execution_count": 24,
      "outputs": [
        {
          "output_type": "stream",
          "name": "stdout",
          "text": [
            "1/1 [==============================] - 0s 32ms/step - loss: 0.1407 - accuracy: 0.9667\n"
          ]
        }
      ]
    },
    {
      "cell_type": "code",
      "source": [
        "print(\"Test loss v2:\", loss_v2)\n",
        "print(\"Test accuracy v2:\", accuracy_v2)\n",
        "print('-'*50)\n",
        "print(\"Test loss v3:\", loss_v3)\n",
        "print(\"Test accuracy v3:\", accuracy_v3)"
      ],
      "metadata": {
        "colab": {
          "base_uri": "https://localhost:8080/"
        },
        "id": "rCabyNclK6xX",
        "outputId": "e999ce6b-ee35-483d-9534-da1308c609d6"
      },
      "execution_count": 25,
      "outputs": [
        {
          "output_type": "stream",
          "name": "stdout",
          "text": [
            "Test loss v2: 0.06487487256526947\n",
            "Test accuracy v2: 0.9666666388511658\n",
            "--------------------------------------------------\n",
            "Test loss v3: 0.14069336652755737\n",
            "Test accuracy v3: 0.9666666388511658\n"
          ]
        }
      ]
    },
    {
      "cell_type": "markdown",
      "source": [
        "## L1, L2 регуляризація"
      ],
      "metadata": {
        "id": "RwWGXV4AZAFT"
      }
    },
    {
      "cell_type": "markdown",
      "source": [
        "\n",
        "L1 і L2 регуляризація є техніками регуляризації, які використовуються в нейронних мережах для управління перенавчанням та покращення загальної здатності моделі до узагальнення на нові дані. Ось короткий опис цих двох методів:\n",
        "\n",
        "- **L1 Регуляризація**:\n",
        "У L1 регуляризації до функції втрат додається штраф, що базується на сумі абсолютних значень ваг моделі. Формально, це виражається через додавання до функції втрат члену, що відповідає сумі модулів ваг:\n",
        "$$Loss=OriginalLoss + \\text{L1 loss}$$\n",
        "$$\\text{L1 loss} = \\lambda \\sum_{i=1}^{n} |w_i|$$\n",
        "\n",
        "- **L2 Регуляризація**:\n",
        "У L2 регуляризації до функції втрат додається штраф, що базується на сумі квадратів ваг моделі. Це виражається через додавання до функції втрат члену, що відповідає сумі квадратів ваг:\n",
        "$$Loss=OriginalLoss + \\text{L2 loss}$$\n",
        "$$\\text{L2 loss} = \\lambda \\sum_{i=1}^{n} w_i^2$$"
      ],
      "metadata": {
        "id": "_v8fERDHaFCs"
      }
    },
    {
      "cell_type": "code",
      "source": [
        "# Приклад використання L1 регуляризації\n",
        "model_v4 = tf.keras.Sequential([\n",
        "    tf.keras.layers.Dense(64, kernel_regularizer=tf.keras.regularizers.l1(0.01), activation='relu', input_shape=(4,)),\n",
        "    tf.keras.layers.Dense(3, activation='softmax')\n",
        "])\n",
        "model_v4.summary()"
      ],
      "metadata": {
        "colab": {
          "base_uri": "https://localhost:8080/"
        },
        "id": "VkZP5nYqZbHb",
        "outputId": "78df9c98-169e-4265-abfb-e39d11125f48"
      },
      "execution_count": 26,
      "outputs": [
        {
          "output_type": "stream",
          "name": "stdout",
          "text": [
            "Model: \"sequential_8\"\n",
            "_________________________________________________________________\n",
            " Layer (type)                Output Shape              Param #   \n",
            "=================================================================\n",
            " dense_18 (Dense)            (None, 64)                320       \n",
            "                                                                 \n",
            " dense_19 (Dense)            (None, 3)                 195       \n",
            "                                                                 \n",
            "=================================================================\n",
            "Total params: 515 (2.01 KB)\n",
            "Trainable params: 515 (2.01 KB)\n",
            "Non-trainable params: 0 (0.00 Byte)\n",
            "_________________________________________________________________\n"
          ]
        }
      ]
    },
    {
      "cell_type": "code",
      "source": [
        "model_v4.compile(optimizer='adam',\n",
        "              loss='sparse_categorical_crossentropy',\n",
        "              metrics=['accuracy'])\n",
        "history_v4 = model_v4.fit(X_train_processed,\n",
        "                    y_train,\n",
        "                    epochs=35,\n",
        "                    batch_size=8,\n",
        "                    validation_split=0.1,\n",
        "             verbose = 0)\n",
        "loss_v4, accuracy_v4 = model_v4.evaluate(X_test_processed, y_test)"
      ],
      "metadata": {
        "colab": {
          "base_uri": "https://localhost:8080/"
        },
        "id": "ydpnuNOTb3_Z",
        "outputId": "a0a19f1a-ce21-4ee9-b416-7cb717786da9"
      },
      "execution_count": 27,
      "outputs": [
        {
          "output_type": "stream",
          "name": "stdout",
          "text": [
            "1/1 [==============================] - 0s 25ms/step - loss: 0.3434 - accuracy: 1.0000\n"
          ]
        }
      ]
    },
    {
      "cell_type": "code",
      "source": [
        "# Приклад використання L2 регуляризації\n",
        "model_v5 = tf.keras.Sequential([\n",
        "    tf.keras.layers.Dense(64, kernel_regularizer=tf.keras.regularizers.l2(0.01), activation='relu', input_shape=(4,)),\n",
        "    tf.keras.layers.Dense(3, activation='softmax')\n",
        "])\n",
        "model_v5.summary()"
      ],
      "metadata": {
        "colab": {
          "base_uri": "https://localhost:8080/"
        },
        "id": "ySUr7rOOb4EA",
        "outputId": "b6ec39ea-3621-477c-b101-be67db56d7e2"
      },
      "execution_count": 28,
      "outputs": [
        {
          "output_type": "stream",
          "name": "stdout",
          "text": [
            "Model: \"sequential_9\"\n",
            "_________________________________________________________________\n",
            " Layer (type)                Output Shape              Param #   \n",
            "=================================================================\n",
            " dense_20 (Dense)            (None, 64)                320       \n",
            "                                                                 \n",
            " dense_21 (Dense)            (None, 3)                 195       \n",
            "                                                                 \n",
            "=================================================================\n",
            "Total params: 515 (2.01 KB)\n",
            "Trainable params: 515 (2.01 KB)\n",
            "Non-trainable params: 0 (0.00 Byte)\n",
            "_________________________________________________________________\n"
          ]
        }
      ]
    },
    {
      "cell_type": "code",
      "source": [
        "model_v5.compile(optimizer='adam',\n",
        "              loss='sparse_categorical_crossentropy',\n",
        "              metrics=['accuracy'])\n",
        "history_v5 = model_v5.fit(X_train_processed,\n",
        "                    y_train,\n",
        "                    epochs=35,\n",
        "                    batch_size=8,\n",
        "                    validation_split=0.1,\n",
        "             verbose = 0)\n",
        "loss_v5, accuracy_v5 = model_v5.evaluate(X_test_processed, y_test)"
      ],
      "metadata": {
        "colab": {
          "base_uri": "https://localhost:8080/"
        },
        "id": "3VLGfHAkb4GC",
        "outputId": "4002ca66-2ae3-42d3-e840-434b6b60d87b"
      },
      "execution_count": 29,
      "outputs": [
        {
          "output_type": "stream",
          "name": "stdout",
          "text": [
            "1/1 [==============================] - 0s 24ms/step - loss: 0.2075 - accuracy: 1.0000\n"
          ]
        }
      ]
    },
    {
      "cell_type": "code",
      "source": [
        "print(\"Test loss v3:\", loss_v3)\n",
        "print(\"Test accuracy v3:\", accuracy_v3)\n",
        "print('-'*50)\n",
        "print(\"Test loss v4:\", loss_v4)\n",
        "print(\"Test accuracy v4:\", accuracy_v4)\n",
        "print('-'*50)\n",
        "print(\"Test loss v5:\", loss_v5)\n",
        "print(\"Test accuracy v5:\", accuracy_v5)"
      ],
      "metadata": {
        "colab": {
          "base_uri": "https://localhost:8080/"
        },
        "id": "QswKDnTBb7lL",
        "outputId": "e5549f3c-d5bf-460b-a1eb-75e595fa2594"
      },
      "execution_count": 30,
      "outputs": [
        {
          "output_type": "stream",
          "name": "stdout",
          "text": [
            "Test loss v3: 0.14069336652755737\n",
            "Test accuracy v3: 0.9666666388511658\n",
            "--------------------------------------------------\n",
            "Test loss v4: 0.34340324997901917\n",
            "Test accuracy v4: 1.0\n",
            "--------------------------------------------------\n",
            "Test loss v5: 0.20745748281478882\n",
            "Test accuracy v5: 1.0\n"
          ]
        }
      ]
    },
    {
      "cell_type": "markdown",
      "source": [
        "## ElasticNet регуляризація"
      ],
      "metadata": {
        "id": "hMAkPxBEZIYT"
      }
    },
    {
      "cell_type": "markdown",
      "source": [
        "\n",
        "**ElasticNet** - це комбінація L1 та L2 регуляризації, яка використовує обидва типи штрафів одночасно. Ось приклад використання ElasticNet у TensorFlow:\n",
        "$$Loss=OriginalLoss + \\text{EN} $$\n",
        "$$Loss=OriginalLoss + \\text{L1 loss}+\\text{L2 loss} $$\n",
        "$$\\text{EN} = \\lambda_1 \\sum_{i=1}^{n} |w_i| + \\lambda_2 \\sum_{i=1}^{n} w_i^2$$"
      ],
      "metadata": {
        "id": "_RnwudR2dOnC"
      }
    },
    {
      "cell_type": "code",
      "source": [
        "# Приклад використання EN регуляризації\n",
        "model_v6 = tf.keras.Sequential([\n",
        "    tf.keras.layers.Dense(64, kernel_regularizer=tf.keras.regularizers.l1_l2(l1=0.01, l2=0.01), activation='relu', input_shape=(4,)),\n",
        "    tf.keras.layers.Dense(3, activation='softmax')\n",
        "])\n",
        "model_v6.summary()"
      ],
      "metadata": {
        "colab": {
          "base_uri": "https://localhost:8080/"
        },
        "id": "sznMtDLkdLNf",
        "outputId": "3782d7eb-242c-4816-9f46-accceac6cb90"
      },
      "execution_count": 31,
      "outputs": [
        {
          "output_type": "stream",
          "name": "stdout",
          "text": [
            "Model: \"sequential_10\"\n",
            "_________________________________________________________________\n",
            " Layer (type)                Output Shape              Param #   \n",
            "=================================================================\n",
            " dense_22 (Dense)            (None, 64)                320       \n",
            "                                                                 \n",
            " dense_23 (Dense)            (None, 3)                 195       \n",
            "                                                                 \n",
            "=================================================================\n",
            "Total params: 515 (2.01 KB)\n",
            "Trainable params: 515 (2.01 KB)\n",
            "Non-trainable params: 0 (0.00 Byte)\n",
            "_________________________________________________________________\n"
          ]
        }
      ]
    },
    {
      "cell_type": "code",
      "source": [
        "model_v6.compile(optimizer='adam',\n",
        "              loss='sparse_categorical_crossentropy',\n",
        "              metrics=['accuracy'])\n",
        "history_v6 = model_v6.fit(X_train_processed,\n",
        "                    y_train,\n",
        "                    epochs=35,\n",
        "                    batch_size=8,\n",
        "                    validation_split=0.1,\n",
        "             verbose = 0)\n",
        "loss_v6, accuracy_v6 = model_v6.evaluate(X_test_processed, y_test)"
      ],
      "metadata": {
        "colab": {
          "base_uri": "https://localhost:8080/"
        },
        "id": "OpCiZyuCd3du",
        "outputId": "be23bdb0-60b5-4282-8f68-34cb42821801"
      },
      "execution_count": 32,
      "outputs": [
        {
          "output_type": "stream",
          "name": "stdout",
          "text": [
            "1/1 [==============================] - 0s 31ms/step - loss: 0.3677 - accuracy: 1.0000\n"
          ]
        }
      ]
    },
    {
      "cell_type": "code",
      "source": [
        "print(\"Test loss v3:\", loss_v3)\n",
        "print(\"Test accuracy v3:\", accuracy_v3)\n",
        "print('-'*50)\n",
        "print(\"Test loss v4:\", loss_v4)\n",
        "print(\"Test accuracy v4:\", accuracy_v4)\n",
        "print('-'*50)\n",
        "print(\"Test loss v5:\", loss_v5)\n",
        "print(\"Test accuracy v5:\", accuracy_v5)\n",
        "print('-'*50)\n",
        "print(\"Test loss v6:\", loss_v6)\n",
        "print(\"Test accuracy v6:\", accuracy_v6)"
      ],
      "metadata": {
        "colab": {
          "base_uri": "https://localhost:8080/"
        },
        "id": "gKjRPwYWd3gm",
        "outputId": "be4d7395-2ded-4e79-d6f9-67464b450a74"
      },
      "execution_count": 33,
      "outputs": [
        {
          "output_type": "stream",
          "name": "stdout",
          "text": [
            "Test loss v3: 0.14069336652755737\n",
            "Test accuracy v3: 0.9666666388511658\n",
            "--------------------------------------------------\n",
            "Test loss v4: 0.34340324997901917\n",
            "Test accuracy v4: 1.0\n",
            "--------------------------------------------------\n",
            "Test loss v5: 0.20745748281478882\n",
            "Test accuracy v5: 1.0\n",
            "--------------------------------------------------\n",
            "Test loss v6: 0.36765098571777344\n",
            "Test accuracy v6: 1.0\n"
          ]
        }
      ]
    },
    {
      "cell_type": "markdown",
      "source": [
        "## Weight Constraint регуляризація"
      ],
      "metadata": {
        "id": "-VjVx6SXZLka"
      }
    },
    {
      "cell_type": "markdown",
      "source": [
        "\n",
        "**Weight Constraint** - це техніка регуляризації, яка обмежує значення ваг моделі під час навчання. Це може допомогти уникнути перенавчання та поліпшити загальну здатність моделі до узагальнення.\n",
        "\n",
        "У TensorFlow ви можете використовувати параметр kernel_constraint або bias_constraint при визначенні шарів, щоб застосовувати обмеження до ваг або зміщень відповідно.\n",
        "\n",
        "- MaxNorm\n",
        "- NonNeg  \n",
        "- UnitNorm\n",
        "- MinMaxNorm"
      ],
      "metadata": {
        "id": "LOuvFhNDeaWT"
      }
    },
    {
      "cell_type": "code",
      "source": [
        "# https://www.tensorflow.org/api_docs/python/tf/keras/constraints/Constraint\n",
        "\n",
        "# Приклад використання WC регуляризації\n",
        "model_v7 = tf.keras.Sequential([\n",
        "    tf.keras.layers.Dense(64, kernel_constraint=tf.keras.constraints.MaxNorm(max_value=2.0), activation='relu', input_shape=(4,)),\n",
        "    tf.keras.layers.Dense(3, activation='softmax')\n",
        "])\n",
        "model_v7.summary()"
      ],
      "metadata": {
        "colab": {
          "base_uri": "https://localhost:8080/"
        },
        "id": "nUHbmD86eR0e",
        "outputId": "2aebf8ec-7d0e-4aea-e400-63b09b6f0be3"
      },
      "execution_count": 34,
      "outputs": [
        {
          "output_type": "stream",
          "name": "stdout",
          "text": [
            "Model: \"sequential_11\"\n",
            "_________________________________________________________________\n",
            " Layer (type)                Output Shape              Param #   \n",
            "=================================================================\n",
            " dense_24 (Dense)            (None, 64)                320       \n",
            "                                                                 \n",
            " dense_25 (Dense)            (None, 3)                 195       \n",
            "                                                                 \n",
            "=================================================================\n",
            "Total params: 515 (2.01 KB)\n",
            "Trainable params: 515 (2.01 KB)\n",
            "Non-trainable params: 0 (0.00 Byte)\n",
            "_________________________________________________________________\n"
          ]
        }
      ]
    },
    {
      "cell_type": "code",
      "source": [
        "model_v7.compile(optimizer='adam',\n",
        "              loss='sparse_categorical_crossentropy',\n",
        "              metrics=['accuracy'])\n",
        "history_v7 = model_v7.fit(X_train_processed,\n",
        "                    y_train,\n",
        "                    epochs=35,\n",
        "                    batch_size=8,\n",
        "                    validation_split=0.1,\n",
        "             verbose = 0)\n",
        "loss_v7, accuracy_v7 = model_v7.evaluate(X_test_processed, y_test)"
      ],
      "metadata": {
        "colab": {
          "base_uri": "https://localhost:8080/"
        },
        "id": "xLnv9k1ge5A-",
        "outputId": "51fb94d6-a2e7-458c-c8eb-504eab265436"
      },
      "execution_count": 35,
      "outputs": [
        {
          "output_type": "stream",
          "name": "stdout",
          "text": [
            "1/1 [==============================] - 0s 28ms/step - loss: 0.1271 - accuracy: 1.0000\n"
          ]
        }
      ]
    },
    {
      "cell_type": "code",
      "source": [
        "print(\"Test loss v3:\", loss_v3)\n",
        "print(\"Test accuracy v3:\", accuracy_v3)\n",
        "print('-'*50)\n",
        "print(\"Test loss v7:\", loss_v7)\n",
        "print(\"Test accuracy v7:\", accuracy_v7)"
      ],
      "metadata": {
        "colab": {
          "base_uri": "https://localhost:8080/"
        },
        "id": "iNpEQ_8ne5Ds",
        "outputId": "4e553429-28f4-4939-d45c-6e4df34e890c"
      },
      "execution_count": 36,
      "outputs": [
        {
          "output_type": "stream",
          "name": "stdout",
          "text": [
            "Test loss v3: 0.14069336652755737\n",
            "Test accuracy v3: 0.9666666388511658\n",
            "--------------------------------------------------\n",
            "Test loss v7: 0.12714093923568726\n",
            "Test accuracy v7: 1.0\n"
          ]
        }
      ]
    },
    {
      "cell_type": "markdown",
      "source": [
        "# Зміна функції помилки та batch size"
      ],
      "metadata": {
        "id": "ved_-M8Ivcsb"
      }
    },
    {
      "cell_type": "markdown",
      "source": [
        "## Loss-functions"
      ],
      "metadata": {
        "id": "87N9Z9hdJhI4"
      }
    },
    {
      "cell_type": "markdown",
      "source": [
        "Регресійні функції помилок:\n",
        "\n",
        "- **Середньо-квадратична помилка (Mean Squared Error, MSE)**\n",
        "MSE швидко збільшує помилку, коли модель зробила великі прогнозиції, і це може призвести до перенавчання, особливо якщо у вас є викиди або аномальні дані. Може бути корисно застосовувати методи регуляризації, такі як L1 або L2 регуляризація, для запобігання перенавчанню при використанні MSE.\n",
        "\n",
        "$$ MSE = (1/n) * Σ(y_i - ŷ_i)^2$$\n",
        "- **Середньо-абсолютна помилка (Mean Absolute Error, MAE)**\n",
        "MAE менш чутливий до викидів, тому він може бути менш схильний до перенавчання в порівнянні з MSE. Використання MAE може допомогти стабілізувати навчання моделі, особливо якщо у вас є великі викиди або шум в даних.\n",
        "$$MAE = (1/n) * Σ|y_i - ŷ_i|$$\n",
        "- **Huber Loss**:\n",
        "Huber Loss є комбінацією MSE та MAE, і він менш чутливий до викидів, ніж MSE. Він може бути корисним в умовах, де у вас є викиди або аномальні дані, оскільки він надає компроміс між роботою MSE і MAE. Але важче інтерпретувати.\n",
        "$$Huber Loss = (1/n) * Σ { (1/2) * (y_i - ŷ_i)^2, if |y_i - ŷ_i| ≤ δ; δ * (|y_i - ŷ_i| - (1/2) * δ), otherwise }$$\n",
        "- **LogCosh Loss**\n",
        "LogCosh Loss є \"м'яким\" позитивним згладжуванням і менш чутливий до великих викидів, ніж MSE. Він може допомогти уникнути перенавчання, особливо якщо у вас є шум або аномалії в даних.\n",
        "\n",
        "$$ LogCosh Loss = Σ log(cosh(y_i - ŷ_i))$$"
      ],
      "metadata": {
        "id": "yIScQWvTv4Xy"
      }
    },
    {
      "cell_type": "markdown",
      "source": [
        "Бінарні класифікаційні функції помилок:\n",
        "\n",
        "- **Binary Cross-Entropy Loss (Log Loss)**\n",
        "  - **Переваги**: Ця функція втрат є популярною через свою здатність до навчання навіть з великими наборами даних. Вона є диференційованою та швидко навчається за допомогою градієнтного спуску.\n",
        "  - **Недоліки:** Може сприяти перенавчанню, особливо якщо у вас є незбалансовані класи або велика кількість шуму в даних. Може бути чутливою до великих викидів.\n",
        "$$Binary Cross Entropy Loss = - (1/N) * \\sum_{i=1}^{N} (y_i log(\\hat{y}_i) + (1 - y_i) log(1 - \\hat{y}_i))$$\n",
        "\n",
        "- **Hinge Loss:**\n",
        "  - **Переваги:** Використовується в SVM і може допомогти уникнути перенавчання, особливо коли ви працюєте з високорозмірними даними та маєте обмежену кількість прикладів. Вона також добре працює з великими викидами.\n",
        "  - **Недоліки:** Може використовувати менше інформації, оскільки вона працює з відзначеними значеннями (1 або -1). Якщо у вас немає чітко відзначених значень, це може призвести до менш ефективних результатів.\n",
        "\n",
        "  $$Hinge Loss = (1/N) * \\sum_{i=1}^{N} max(0, 1 - y_i * \\hat{y}_i)$$\n"
      ],
      "metadata": {
        "id": "EtQXT8eMHB7A"
      }
    },
    {
      "cell_type": "markdown",
      "source": [
        "Мультикласові класифікаційні функції помилок:\n",
        "\n",
        "- **Cross-Entropy Loss (Categorical Cross-Entropy):**\n",
        "  - **Переваги:** Ця функція втрат є стандартним вибором для багатокласової класифікації через свою здатність до навчання навіть з великими наборами даних. Вона є диференційованою та швидко навчається за допомогою градієнтного спуску.\n",
        "  - **Недоліки:** Може сприяти перенавчанню, особливо якщо у вас є незбалансовані класи або велика кількість шуму в даних. Може бути чутливою до великих викидів.\n",
        "$$Cross Entropy Loss = - (1/N) * \\sum_{i=1}^{N} \\sum_{j=1}^{C} y_{ij} log(\\hat{y}_{ij})$$\n",
        "\n",
        "- **Sparse Categorical Cross-Entropy Loss:**\n",
        "  - **Переваги:** Ця функція втрат також є дуже ефективною для мультикласової класифікації, особливо коли мітки класів кодуються у вигляді цілих чисел. Вона також швидко навчається та використовується в широкому спектрі моделей.\n",
        "  - **Недоліки:** Може стати проблемою у випадках незбалансованих даних або коли існує багато класів з невеликою кількістю прикладів.\n",
        "  $$Sparse Categorical Cross Entropy Loss = - (1/N) * \\sum_{i=1}^{N} log(\\hat{y}_{i})$$\n"
      ],
      "metadata": {
        "id": "E9kS-LcxHB9l"
      }
    },
    {
      "cell_type": "markdown",
      "source": [
        "## Batch-size"
      ],
      "metadata": {
        "id": "_cdDUp6_JlNm"
      }
    },
    {
      "cell_type": "markdown",
      "source": [
        "**Batch size** в нейронних мережах визначає кількість прикладів, які одночасно оброблюються мережею перед оновленням ваг моделі. Коли ми навчаємо модель, дані зазвичай розділяються на пакети (батчі), і кожен пакет використовується для одного кроку навчання.\n",
        "\n",
        "Величина batch size може впливати на швидкість навчання та якість моделі. Ось деякі рекомендації:\n",
        "\n",
        "- **Великий batch size:**\n",
        "\n",
        "**Прискорює навчання**: Обробка великої кількості даних одночасно може покращити ефективність обчислень за рахунок використання оптимізацій, таких як паралельне обчислення на GPU.\n",
        "\n",
        "**Може призвести до перенавчання:** Зазвичай більший batch size може призвести до меншої генералізації, оскільки модель може мало уваги приділяти кожному окремому прикладу.\n",
        "\n",
        "- **Малий batch size:**\n",
        "\n",
        "**Може покращити генералізацію**: Маленький batch size дозволяє моделі більше ефективно вчитися з кожного прикладу, що може покращити її здатність до узагальнення.\n",
        "\n",
        "**Повільніше навчання:** Обробка меншої кількості даних одночасно може сповільнити процес навчання, оскільки потрібно більше ітерацій для оновлення ваг моделі."
      ],
      "metadata": {
        "id": "mNfDJgdkKGmZ"
      }
    },
    {
      "cell_type": "markdown",
      "source": [
        "![alt text](https://blog.paperspace.com/content/images/2022/07/over_ideal_under_fitting-1.png)"
      ],
      "metadata": {
        "id": "dNRaDBbhJqQW"
      }
    },
    {
      "cell_type": "code",
      "source": [
        "model_v7.compile(optimizer='adam',\n",
        "              loss='sparse_categorical_crossentropy',\n",
        "              metrics=['accuracy'])\n",
        "history_v7 = model_v7.fit(X_train_processed,\n",
        "                    y_train,\n",
        "                    epochs=5,\n",
        "                    batch_size=8,\n",
        "                    validation_split=0.1,\n",
        "             verbose = 1)\n",
        "loss_v7, accuracy_v7 = model_v7.evaluate(X_test_processed, y_test)"
      ],
      "metadata": {
        "colab": {
          "base_uri": "https://localhost:8080/"
        },
        "id": "RT5E2TVoL2Mf",
        "outputId": "2abb6f65-5e58-4fc2-9174-f56d507d3de0"
      },
      "execution_count": 37,
      "outputs": [
        {
          "output_type": "stream",
          "name": "stdout",
          "text": [
            "Epoch 1/5\n",
            "14/14 [==============================] - 1s 18ms/step - loss: 0.1592 - accuracy: 0.9537 - val_loss: 0.2837 - val_accuracy: 0.9167\n",
            "Epoch 2/5\n",
            "14/14 [==============================] - 0s 5ms/step - loss: 0.1484 - accuracy: 0.9537 - val_loss: 0.2901 - val_accuracy: 0.9167\n",
            "Epoch 3/5\n",
            "14/14 [==============================] - 0s 5ms/step - loss: 0.1465 - accuracy: 0.9352 - val_loss: 0.2982 - val_accuracy: 0.9167\n",
            "Epoch 4/5\n",
            "14/14 [==============================] - 0s 4ms/step - loss: 0.1379 - accuracy: 0.9537 - val_loss: 0.2908 - val_accuracy: 0.9167\n",
            "Epoch 5/5\n",
            "14/14 [==============================] - 0s 4ms/step - loss: 0.1368 - accuracy: 0.9537 - val_loss: 0.2824 - val_accuracy: 0.9167\n",
            "1/1 [==============================] - 0s 29ms/step - loss: 0.1092 - accuracy: 1.0000\n"
          ]
        }
      ]
    },
    {
      "cell_type": "code",
      "source": [
        "y_train.shape"
      ],
      "metadata": {
        "colab": {
          "base_uri": "https://localhost:8080/"
        },
        "id": "6r3OEkdXA7en",
        "outputId": "963329a9-5ca5-4c73-a37d-db5146c06183"
      },
      "execution_count": 38,
      "outputs": [
        {
          "output_type": "execute_result",
          "data": {
            "text/plain": [
              "(120,)"
            ]
          },
          "metadata": {},
          "execution_count": 38
        }
      ]
    },
    {
      "cell_type": "code",
      "source": [
        "# ???\n",
        "y_train.shape[0]*0.9/8"
      ],
      "metadata": {
        "colab": {
          "base_uri": "https://localhost:8080/"
        },
        "id": "LgHgtOzpPXb0",
        "outputId": "69edddac-d561-4c99-809a-ae73e20d69e4"
      },
      "execution_count": 40,
      "outputs": [
        {
          "output_type": "execute_result",
          "data": {
            "text/plain": [
              "13.5"
            ]
          },
          "metadata": {},
          "execution_count": 40
        }
      ]
    },
    {
      "cell_type": "markdown",
      "source": [
        "![alt text](https://media.licdn.com/dms/image/D4D12AQE14jBH0sID0Q/article-cover_image-shrink_720_1280/0/1661620370955?e=2147483647&v=beta&t=6u1N-fC41jtwFWVoEoX35U_-m2V1q2WZpAiEAVGwb7E)"
      ],
      "metadata": {
        "id": "kGTIEafmLzDw"
      }
    },
    {
      "cell_type": "markdown",
      "source": [
        "Як обирати?\n",
        "1. **Степені двійки:** Багато бібліотек машинного навчання та обчислювальних бібліотек, таких як TensorFlow і PyTorch, оптимізовані для роботи з розмірами, які є степенями двійки. Це може забезпечити кращу ефективність під час обробки даних та використання ресурсів апаратного забезпечення.\n",
        "\n",
        "2. **Пам'ять:** Розмір пам'яті GPU часто обмежується, тому розміри batch size обираються так, щоб вони були ефективними для використання обсягу пам'яті, який доступний на конкретному обладнанні.\n",
        "\n",
        "3. **Ефективність обчислень:** Деякі оптимізації, такі як паралельне обчислення, можуть бути ефективнішими при роботі з розмірами, які є степенями двійки.\n",
        "\n",
        "Малі: 8-32\n",
        "Середні: 64-256\n",
        "Великі: 512+\n",
        "\n",
        "Хоча ці розміри є загально прийнятими в практиці, вони не є обов'язковими, і ви можете експериментувати з іншими значеннями, які краще відповідають вашій конкретній задачі та обмеженням."
      ],
      "metadata": {
        "id": "T85hq1A1OeIg"
      }
    },
    {
      "cell_type": "code",
      "source": [
        "model_v7.compile(optimizer='adam',\n",
        "              loss='sparse_categorical_crossentropy',\n",
        "              metrics=['accuracy'])\n",
        "history_v7 = model_v7.fit(X_train_processed,\n",
        "                    y_train,\n",
        "                    epochs=5,\n",
        "                    batch_size=16,\n",
        "                    validation_split=0.1,\n",
        "             verbose = 1)\n",
        "loss_v7, accuracy_v7 = model_v7.evaluate(X_test_processed, y_test)"
      ],
      "metadata": {
        "colab": {
          "base_uri": "https://localhost:8080/"
        },
        "id": "ZShDpP-YJpyI",
        "outputId": "4494946a-a6dd-4968-f76e-a96c1e2ed218"
      },
      "execution_count": 47,
      "outputs": [
        {
          "output_type": "stream",
          "name": "stdout",
          "text": [
            "Epoch 1/5\n",
            "7/7 [==============================] - 3s 145ms/step - loss: 0.0939 - accuracy: 0.9630 - val_loss: 0.2864 - val_accuracy: 0.9167\n",
            "Epoch 2/5\n",
            "7/7 [==============================] - 0s 20ms/step - loss: 0.0926 - accuracy: 0.9722 - val_loss: 0.3008 - val_accuracy: 0.9167\n",
            "Epoch 3/5\n",
            "7/7 [==============================] - 0s 17ms/step - loss: 0.0903 - accuracy: 0.9630 - val_loss: 0.3048 - val_accuracy: 0.9167\n",
            "Epoch 4/5\n",
            "7/7 [==============================] - 0s 21ms/step - loss: 0.0890 - accuracy: 0.9630 - val_loss: 0.3038 - val_accuracy: 0.9167\n",
            "Epoch 5/5\n",
            "7/7 [==============================] - 0s 25ms/step - loss: 0.0878 - accuracy: 0.9630 - val_loss: 0.3051 - val_accuracy: 0.9167\n",
            "1/1 [==============================] - 0s 62ms/step - loss: 0.0744 - accuracy: 0.9667\n"
          ]
        }
      ]
    },
    {
      "cell_type": "code",
      "source": [
        "print(loss_v7)\n",
        "print(accuracy_v7)"
      ],
      "metadata": {
        "colab": {
          "base_uri": "https://localhost:8080/"
        },
        "id": "NTpeybXvCHJS",
        "outputId": "d6195c26-7e09-4394-c939-7a58abb811bd"
      },
      "execution_count": 46,
      "outputs": [
        {
          "output_type": "stream",
          "name": "stdout",
          "text": [
            "0.07783233374357224\n",
            "0.9666666388511658\n"
          ]
        }
      ]
    },
    {
      "cell_type": "code",
      "source": [
        "print(loss_v7)\n",
        "print(accuracy_v7)"
      ],
      "metadata": {
        "colab": {
          "base_uri": "https://localhost:8080/"
        },
        "id": "X7XJQR3UB9Vf",
        "outputId": "e703f3cd-d972-4d6a-dacf-605acf9764db"
      },
      "execution_count": 48,
      "outputs": [
        {
          "output_type": "stream",
          "name": "stdout",
          "text": [
            "0.07439254224300385\n",
            "0.9666666388511658\n"
          ]
        }
      ]
    },
    {
      "cell_type": "code",
      "source": [
        "print(loss_v7)\n",
        "print(accuracy_v7)"
      ],
      "metadata": {
        "id": "xLbeVl2BCLhu"
      },
      "execution_count": null,
      "outputs": []
    },
    {
      "cell_type": "markdown",
      "source": [
        "# Висновки по Bias/variance tradeoff"
      ],
      "metadata": {
        "id": "qLNA5-lOhWI6"
      }
    },
    {
      "cell_type": "code",
      "source": [
        "import matplotlib.pyplot as plt\n",
        "\n",
        "def plot_curves(history):\n",
        "    fig, (ax1, ax2) = plt.subplots(1, 2, figsize=(12, 6))\n",
        "\n",
        "    ax1.plot(history.history['loss'], label='train_loss')\n",
        "    ax1.plot(history.history['val_loss'], label='val_loss')\n",
        "    ax1.set_xlabel('Epochs')\n",
        "    ax1.set_ylabel('Loss')\n",
        "    ax1.set_title('Learning Curves')\n",
        "    ax1.legend()\n",
        "\n",
        "    ax2.plot(history.history['accuracy'], label='train_accuracy')\n",
        "    ax2.plot(history.history['val_accuracy'], label='val_accuracy')\n",
        "    ax2.set_xlabel('Epochs')\n",
        "    ax2.set_ylabel('Accuracy')\n",
        "    ax2.set_title('Accuracy')\n",
        "    ax2.legend()\n",
        "\n",
        "    plt.show()"
      ],
      "metadata": {
        "id": "cWLxFIi5reiG"
      },
      "execution_count": 49,
      "outputs": []
    },
    {
      "cell_type": "code",
      "source": [
        "plot_curves(history_v3)"
      ],
      "metadata": {
        "colab": {
          "base_uri": "https://localhost:8080/",
          "height": 564
        },
        "id": "2i3OekxYC8Hh",
        "outputId": "e8f882ec-1b29-485c-f75b-12d3c414595f"
      },
      "execution_count": 52,
      "outputs": [
        {
          "output_type": "display_data",
          "data": {
            "text/plain": [
              "<Figure size 1200x600 with 2 Axes>"
            ],
            "image/png": "[encoded data removed]"
          },
          "metadata": {}
        }
      ]
    },
    {
      "cell_type": "code",
      "source": [
        "plot_curves(history_v4)"
      ],
      "metadata": {
        "colab": {
          "base_uri": "https://localhost:8080/",
          "height": 564
        },
        "id": "ct6ovxCmhVpT",
        "outputId": "63eef1e6-9a5a-4f83-b600-2c8e78d964e1"
      },
      "execution_count": 51,
      "outputs": [
        {
          "output_type": "display_data",
          "data": {
            "text/plain": [
              "<Figure size 1200x600 with 2 Axes>"
            ],
            "image/png": "[encoded data removed]"
          },
          "metadata": {}
        }
      ]
    },
    {
      "cell_type": "markdown",
      "source": [
        "![alt text](https://www.cs.cornell.edu/courses/cs4780/2018fa/lectures/images/bias_variance/bullseye.png)"
      ],
      "metadata": {
        "id": "pYbjMAxpr2gz"
      }
    },
    {
      "cell_type": "markdown",
      "source": [
        "Зниження Bias помилки (недонавчання):\n",
        "- Збільшуємо кількість фічей\n",
        "- Ускладнення моделі\n",
        "- Зменщення регуляризації\n",
        "- Застосування більш складних активаційних функцій\n",
        "- Зміна функції втрат\n",
        "- Збільшити batch-size\n",
        "\n",
        "Зниження Variance помилки (перенавчання):\n",
        "- Збільшення даних\n",
        "- Зменьшуємо кількість фічей\n",
        "- Полегшення моделі\n",
        "- Збільшуємо регуляризацію\n",
        "- Застосування більш просих активаційних функцій\n",
        "- Зміна функції втрат\n",
        "- Зменьшити batch-size"
      ],
      "metadata": {
        "id": "mHq3s7cgr_PS"
      }
    }
  ]
}