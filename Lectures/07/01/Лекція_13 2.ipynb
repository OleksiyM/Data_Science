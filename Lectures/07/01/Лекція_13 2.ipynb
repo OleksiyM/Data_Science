{
  "nbformat": 4,
  "nbformat_minor": 0,
  "metadata": {
    "colab": {
      "provenance": [],
      "collapsed_sections": [
        "b21KPPXCdLMX",
        "ddjmvEEhdd20"
      ]
    },
    "kernelspec": {
      "name": "python3",
      "display_name": "Python 3"
    },
    "language_info": {
      "name": "python"
    }
  },
  "cells": [
    {
      "cell_type": "markdown",
      "source": [
        "# Порекомендуйте фільм/серіал/мультик/аніме/відеоблогера, який мені сподобається."
      ],
      "metadata": {
        "id": "123AkTMnzq6K"
      }
    },
    {
      "cell_type": "markdown",
      "source": [
        "Рекомендації всюди. Чим краще ви зможете рекомендувати, тим більш популярним буде ресурс, тим більше він дать грошей, тим меньше буде скарг на контент\n",
        "\n",
        "![alt text](https://storage.googleapis.com/dopingcloud/blog/en/2021/08/how-next-watch-recommendation-algorithm-works.png)"
      ],
      "metadata": {
        "id": "FLENxLxk394X"
      }
    },
    {
      "cell_type": "markdown",
      "source": [
        "\n",
        "Рекомендаційні системи використовуються в широкому спектрі сфер індустрії та послуг. Деякі з найпоширеніших застосувань рекомендаційних систем включають:\n",
        "\n",
        "- **Електронна комерція**: Рекомендаційні системи допомагають користувачам знаходити товари або послуги, які їм можуть сподобатися на основі їхніх попередніх покупок, переглядів або поведінки.\n",
        "\n",
        "- **Стрімінгові медіа-сервіси**: Системи рекомендацій допомагають користувачам відкривати нові фільми, серіали, музику або інші мультимедійні контенти, які вони можуть зацікавитися, на основі їхніх попередніх переглядів або вподобань.\n",
        "\n",
        "- **Соціальні мережі**: Рекомендаційні системи допомагають користувачам знаходити нових друзів, групи або сторінки для підписки на основі їхніх інтересів і активності в мережі.\n",
        "\n",
        "- **Медичні додатки**: Рекомендаційні системи можуть використовуватися для рекомендацій лікарських препаратів, лікарів або методів лікування на основі медичних даних користувача.\n",
        "\n",
        "- **Освітні платформи**: Рекомендаційні системи допомагають студентам знаходити курси, навчальні матеріали або ресурси, які відповідають їхнім академічним інтересам і потребам.\n",
        "\n",
        "- **Подорожі та туризм**: Рекомендаційні системи можуть рекомендувати готелі, ресторани, екскурсії або маршрути на основі історії подорожей або вподобань користувача.\n",
        "\n",
        "- **Банківські та фінансові послуги**: Рекомендаційні системи можуть надавати користувачам рекомендації щодо інвестицій, кредитів або фінансових продуктів на основі їхньої фінансової історії та цілей.\n",
        "\n",
        "Ці лише кілька прикладів використання рекомендаційних систем, і вони можуть бути застосовані в багатьох інших сферах, де потрібно особисті індивідуалізовані рекомендації."
      ],
      "metadata": {
        "id": "ICdnVafn7zDQ"
      }
    },
    {
      "cell_type": "markdown",
      "source": [
        "![alt text](https://miro.medium.com/v2/resize:fit:766/1*Z1z_1Ox7TA7SAgXGM4EmEg.png)"
      ],
      "metadata": {
        "id": "Jbj561uQ7VZg"
      }
    },
    {
      "cell_type": "markdown",
      "source": [
        "# Математична модель"
      ],
      "metadata": {
        "id": "02uJNkLK9VBZ"
      }
    },
    {
      "cell_type": "markdown",
      "source": [
        "Давайте візьмемо для прикладу задачу рекомендацій фільмів. Тоді сформулюємо, який ми маємо датасет:\n",
        "\n",
        "\n",
        "Рекомендаційна система - це модель, яка надає рекомендації користувачам щодо об'єктів (таких як фільми, книги, товари), які можуть їм сподобатися. Математична модель рекомендаційної системи може бути представлена таким чином:\n",
        "\n",
        "**Множини**:\n",
        "\n",
        "Матриця\n",
        "\n",
        "$X$: кожен рядок відповідає вектору ознак $x_i$ для i-ого фільма.\n",
        "\n",
        "$W$: кожен рядок відповідає вектору параметрів $w_J$ для j-ого користувача.\n",
        "\n",
        "$$Y = X\\cdot W$$\n",
        "\n",
        "$Y$: матриця рейтингів, де $Y_{ij}$- рейтинг, який користувач $j$ надав об'єкту\n",
        "$i$.\n",
        "\n",
        "$$Y = \\begin{pmatrix}\n",
        "5 & 0 & 0 & 3 & 0 \\\\\n",
        "0 & 5 & 0 & 0 & 4 \\\\\n",
        "3 & 0 & 4 & 0 & 5 \\\\\n",
        "0 & 5 & 0 & 0 & 3 \\\\\n",
        "0 & 0 & 2 & 0 & 4 \\\\\n",
        "\\end{pmatrix}$$\n",
        "\n",
        "\n",
        "\n",
        "$R$: матриця бінарна, де $r(i,j)=1$ якщо користувач $j$ ставить рейтинг фільму $i$, та $r(i,j)=0$ у зворотньому випадку.\n",
        "\n",
        "$$R = \\begin{pmatrix}\n",
        "1 & 0 & 0 & 1 & 0 \\\\\n",
        "0 & 1 & 0 & 0 & 1 \\\\\n",
        "1 & 0 & 1 & 0 & 1 \\\\\n",
        "0 & 1 & 0 & 0 & 1 \\\\\n",
        "0 & 0 & 1 & 0 & 1 \\\\\n",
        "\\end{pmatrix}$$"
      ],
      "metadata": {
        "id": "DXfVRaYJ9V-7"
      }
    },
    {
      "cell_type": "markdown",
      "source": [
        "Отже якщо $r_{ij} = 1$ то у нас є рейтинг фільму $i$ від користувача $j$ -- $y (i,j)$, і є передбачення нашої моделі:\n",
        "$$\\hat{y}_{ij} = x_{i} \\cdot w_{j}$$\n",
        "Дуже схоже на лінійну регресію, проте нам потрібно знайти **не лише параметри для користувачів**, а й **вектори ознак для наших фільмів**. Саме тому, даний алгоритм називається колаборативним, бо у нас є взаємодія між коефіцієнтами наших об'єктів та користувачів, і функція втрат буде схожа, як і для лінійної регресії, проте залежати від всіх параметрів:\n",
        "$$J(\\mathbf{x}^{(1)}, \\ldots, \\mathbf{x}^{(n_m)}, \\mathbf{w}^{(1)}, \\ldots, \\mathbf{w}^{(n_u)}) = \\frac{1}{2} \\sum_{(i,j): r(i,j)=1} \\left( (\\mathbf{w}^{(j)})^T \\mathbf{x}^{(i)} - y^{(i,j)} \\right)^2$$\n"
      ],
      "metadata": {
        "id": "HpdAAvC0CnsM"
      }
    },
    {
      "cell_type": "markdown",
      "source": [
        "І щоб знайти оптимальні значення наших ваг ми знову скористаємось градієнтним спуском, а градієнти функції втрат мають ось такий вигляд:\n",
        "\n",
        "$$\\frac{\\partial J}{\\partial x_k^{(i)}} = \\sum_{j:r(i,j)=1} \\left( (\\mathbf{w}^{(j)})^T \\mathbf{x}^{(i)} - y^{(i,j)} \\right) w_k^{(j)}$$\n",
        "\n",
        "$$\\frac{\\partial J}{\\partial w_k^{(j)}} = \\sum_{i:r(i,j)=1} \\left( (\\mathbf{w}^{(j)})^T \\mathbf{x}^{(i)} - y^{(i,j)} \\right) x_k^{(i)}$$"
      ],
      "metadata": {
        "id": "r5zBEhax9WBZ"
      }
    },
    {
      "cell_type": "markdown",
      "source": [
        "Якщо наша модель страждає на перенавчання, то ми можемо скористатись вже знайомою нам технікою регуляризації.Відповідно градієнти даної функції втрат також будуть мати регуляризаційний доданок:\n",
        "\n",
        "$$\\frac{\\partial J}{\\partial x_k^{(i)}} = \\sum_{j:r(i,j)=1} \\left( (\\mathbf{w}^{(j)})^T \\mathbf{x}^{(i)} - y^{(i,j)} \\right) w_k^{(j)} + \\lambda x_k^{(i)}$$\n",
        "\n",
        "$$\\frac{\\partial J}{\\partial w_k^{(j)}} = \\sum_{i:r(i,j)=1} \\left( (\\mathbf{w}^{(j)})^T \\mathbf{x}^{(i)} - y^{(i,j)} \\right) x_k^{(i)} + \\lambda w_k^{(j)}$$"
      ],
      "metadata": {
        "id": "CAAdpAoD9WD0"
      }
    },
    {
      "cell_type": "markdown",
      "source": [
        "# Типи рекомендаційних систем"
      ],
      "metadata": {
        "id": "KzWdDseW6_Qs"
      }
    },
    {
      "cell_type": "markdown",
      "source": [
        "Рекомендаційні системи у класичному машинному навчанні (ML) зазвичай використовуються для прогнозування рейтингу або інтересу користувача до певних об'єктів, таких як фільми, книги, товари тощо. Основні методи, що використовуються в таких системах, включають:\n",
        "\n",
        "1. **Метод колаборативного фільтрування**: Це один з найпоширеніших підходів до рекомендацій. Він базується на аналізі відносин між користувачами і об'єктами. Цей підхід може бути реалізований через матричні розкладення (наприклад, метод Singular Value Decomposition), метод ближніх сусідів (наприклад, k-найближчих сусідів) або за допомогою моделей згорткових нейронних мереж.\n",
        "\n",
        "2. **Метод заснований на змісті (content-based)**: Цей підхід рекомендації ґрунтується на властивостях самого об'єкта. Наприклад, для рекомендації фільмів, можна аналізувати жанр, акторів, режисерів тощо. Такі характеристики об'єктів зазвичай використовуються для побудови профілю користувача, який потім використовується для рекомендацій.\n",
        "\n",
        "3. **Змішані методи**: Ці методи поєднують підходи колаборативного фільтрування і засновані на змісті для отримання кращих рекомендацій. Наприклад, можна використовувати колаборативне фільтрування для рекомендацій користувачам з подібними смаками, а засновані на змісті методи для рекомендацій нових або непопулярних об'єктів.\n",
        "\n",
        "4. **Matrix Factorization (MF)**: Цей метод полягає в розкладанні матриці рейтингів на добуток двох матриць, які представляють користувачів і об'єкти. Рекомендації потім отримуються з цих факторізованих матриць.\n",
        "\n",
        "Ці методи можуть бути застосовані в різноманітних сферах, включаючи електронну комерцію, стрімінгові сервіси, соціальні мережі та багато інших.\n",
        "\n",
        "Якщо мало інформації рекомендую статью:\n",
        "\n",
        "https://towardsdatascience.com/a-complete-guide-to-recommender-system-tutorial-with-sklearn-surprise-keras-recommender-5e52e8ceace1"
      ],
      "metadata": {
        "id": "XPWdS7-G7E2I"
      }
    },
    {
      "cell_type": "markdown",
      "source": [
        "## Метод колаборативного фільтрування"
      ],
      "metadata": {
        "id": "8LD7LBTQdESG"
      }
    },
    {
      "cell_type": "markdown",
      "source": [
        "**Метод колаборативного фільтрування (Collaborative Filtering)** - це підхід до рекомендаційних систем, який базується на аналізі відносин між користувачами і об'єктами (товарами, послугами, контентом тощо). Основна ідея полягає в тому, щоб передбачити інтереси користувачів на основі даних про їхню взаємодію з об'єктами, такими як оцінки, перегляди, покупки тощо.\n",
        "\n",
        "Існує два основних підходи до колаборативного фільтрування:\n",
        "\n",
        "- **Колаборативне фільтрування на основі спільних користувачів (User-Based Collaborative Filtering)**: Цей підхід базується на тому, що подібність між користувачами обумовлена їхньою взаємодією з об'єктами. Якщо два користувачі мають схожу історію взаємодії з об'єктами, то ймовірно, що їхні вподобання подібні. Таким чином, для нового користувача рекомендуються об'єкти, що сподобалися подібним користувачам. Алгоритм обчислює схожість між користувачами, наприклад, за допомогою косинусної схожості або інших метрик, і використовує цю інформацію для генерації рекомендацій.\n",
        "\n",
        "Зазвичай, схожість між користувачами обчислюється за допомогою косинусної схожості або підобності Пірсона. Наприклад, якщо ми маємо два вектори оцінок $w_1$  та $w_2$, то їх схожість можна обчислити за допомогою косинусної схожості:\n",
        "\n",
        "$$\\text{similarity}(w_1, w_2) = \\frac{\\|w_1\\| \\|w_2\\|}{w_1 \\cdot w_2}$$\n",
        "\n",
        "\n",
        "\n",
        "- **Колаборативне фільтрування на основі спільних об'єктів (Item-Based Collaborative Filtering)**: У цьому підході вважається, що об'єкти з схожою історією взаємодії з користувачами мають подібні властивості і можуть бути рекомендовані разом. Алгоритм обчислює схожість між об'єктами, наприклад, за допомогою косинусної схожості або кореляції, і рекомендує користувачу об'єкти, які схожі на ті, що він раніше взаємодіяв.\n",
        "\n",
        "Схожість між об'єктами зазвичай обчислюється за допомогою косинусної схожості або інших метрик відстані, таких як кореляція Пірсона або коефіцієнт кореляції Спірмена. Наприклад, якщо ми маємо два вектори рейтингів $x_1$  та $x_2$, то їх схожість можна обчислити за допомогою косинусної схожості:\n",
        "\n",
        "$$\\text{similarity}(x_1, x_2) = \\frac{\\|x_1\\| \\|x_2\\|}{x_1 \\cdot x_2}$$\n",
        "\n",
        "Обидва підходи мають свої переваги та недоліки. Наприклад, колаборативне фільтрування на основі користувачів може страждати від проблеми \"холодного старту\", коли для нового користувача складно зробити рекомендації. З іншого боку, колаборативне фільтрування на основі об'єктів може бути більш ефективним для обробки великої кількості користувачів та об'єктів."
      ],
      "metadata": {
        "id": "-NXH9erif8W_"
      }
    },
    {
      "cell_type": "markdown",
      "source": [
        "![alt text](https://miro.medium.com/v2/resize:fit:1400/1*3ALliiz9hG79_2xopzgyrQ.png)"
      ],
      "metadata": {
        "id": "hCEomz4yitMD"
      }
    },
    {
      "cell_type": "markdown",
      "source": [
        "![alt text](https://www.researchgate.net/publication/355218515/figure/fig2/AS:1079169563787266@1634305482033/The-collaborative-filtering-algorithms-a-user-based-b-item-based.png)"
      ],
      "metadata": {
        "id": "0SKJeNpmf8dX"
      }
    },
    {
      "cell_type": "code",
      "source": [
        "pip install scikit-surprise"
      ],
      "metadata": {
        "id": "5AecLeGweYid",
        "colab": {
          "base_uri": "https://localhost:8080/"
        },
        "outputId": "5f652b17-b63d-4655-a742-d00b042b958d"
      },
      "execution_count": 1,
      "outputs": [
        {
          "output_type": "stream",
          "name": "stdout",
          "text": [
            "Collecting scikit-surprise\n",
            "  Downloading scikit_surprise-1.1.4.tar.gz (154 kB)\n",
            "\u001b[?25l     \u001b[90m━━━━━━━━━━━━━━━━━━━━━━━━━━━━━━━━━━━━━━━━\u001b[0m \u001b[32m0.0/154.4 kB\u001b[0m \u001b[31m?\u001b[0m eta \u001b[36m-:--:--\u001b[0m\r\u001b[2K     \u001b[91m━━━━━━━━━━━━━━━━━━━━━━━━━━━━━━━━━━━━━━━\u001b[0m\u001b[91m╸\u001b[0m \u001b[32m153.6/154.4 kB\u001b[0m \u001b[31m4.7 MB/s\u001b[0m eta \u001b[36m0:00:01\u001b[0m\r\u001b[2K     \u001b[90m━━━━━━━━━━━━━━━━━━━━━━━━━━━━━━━━━━━━━━━━\u001b[0m \u001b[32m154.4/154.4 kB\u001b[0m \u001b[31m3.1 MB/s\u001b[0m eta \u001b[36m0:00:00\u001b[0m\n",
            "\u001b[?25h  Installing build dependencies ... \u001b[?25l\u001b[?25hdone\n",
            "  Getting requirements to build wheel ... \u001b[?25l\u001b[?25hdone\n",
            "  Preparing metadata (pyproject.toml) ... \u001b[?25l\u001b[?25hdone\n",
            "Requirement already satisfied: joblib>=1.2.0 in /usr/local/lib/python3.10/dist-packages (from scikit-surprise) (1.4.2)\n",
            "Requirement already satisfied: numpy>=1.19.5 in /usr/local/lib/python3.10/dist-packages (from scikit-surprise) (1.25.2)\n",
            "Requirement already satisfied: scipy>=1.6.0 in /usr/local/lib/python3.10/dist-packages (from scikit-surprise) (1.11.4)\n",
            "Building wheels for collected packages: scikit-surprise\n",
            "  Building wheel for scikit-surprise (pyproject.toml) ... \u001b[?25l\u001b[?25hdone\n",
            "  Created wheel for scikit-surprise: filename=scikit_surprise-1.1.4-cp310-cp310-linux_x86_64.whl size=2357252 sha256=7bfba59619a0a429228b3fc6e0ef9b4d5244571c52ca6eb4b81088b8e9b05053\n",
            "  Stored in directory: /root/.cache/pip/wheels/4b/3f/df/6acbf0a40397d9bf3ff97f582cc22fb9ce66adde75bc71fd54\n",
            "Successfully built scikit-surprise\n",
            "Installing collected packages: scikit-surprise\n",
            "Successfully installed scikit-surprise-1.1.4\n"
          ]
        }
      ]
    },
    {
      "cell_type": "code",
      "source": [
        "#https://surprise.readthedocs.io/en/stable/index.html\n",
        "import surprise\n",
        "surprise.__version__"
      ],
      "metadata": {
        "id": "IM7oG8scJrLe",
        "colab": {
          "base_uri": "https://localhost:8080/",
          "height": 36
        },
        "outputId": "87d3e0ef-acea-4742-e89e-51b2374e89a0"
      },
      "execution_count": 2,
      "outputs": [
        {
          "output_type": "execute_result",
          "data": {
            "text/plain": [
              "'1.1.4'"
            ],
            "application/vnd.google.colaboratory.intrinsic+json": {
              "type": "string"
            }
          },
          "metadata": {},
          "execution_count": 2
        }
      ]
    },
    {
      "cell_type": "code",
      "source": [
        "from surprise import Dataset\n",
        "from surprise.model_selection import train_test_split\n",
        "from surprise import KNNBasic\n",
        "from surprise import accuracy"
      ],
      "metadata": {
        "id": "iaHInXK134Dj"
      },
      "execution_count": 3,
      "outputs": []
    },
    {
      "cell_type": "code",
      "source": [
        "# Завантажимо набір даних MovieLens 100K\n",
        "data = Dataset.load_builtin('ml-100k')\n",
        "\n",
        "'''\n",
        "ml-100k - це набір даних MovieLens 100K, який є одним з найпопулярніших наборів даних для рекомендаційних систем. Він містить відгуки користувачів про фільми з веб-сайту MovieLens.\n",
        "Набір даних складається з рейтингів фільмів, які користувачі присвоюють фільмам, а також додаткової інформації про фільми та користувачів.\n",
        "Набір даних MovieLens 100K містить близько 100 000 рейтингів, які користувачі дали понад 9000 фільмам.\n",
        "\n",
        "Кожен рейтинг представлений у вигляді трьох складових:\n",
        "- ідентифікатор користувача,\n",
        "- ідентифікатор фільму\n",
        "- та оцінка, яку користувач поставив фільму.\n",
        "\n",
        "Цей набір даних часто використовується для розвитку та тестування рекомендаційних систем, а також для досліджень у галузі машинного навчання та обробки даних.\n",
        "'''\n",
        "\n",
        "# Розділимо дані на навчальний та тестовий набори\n",
        "trainset, testset = train_test_split(data, test_size=0.2)"
      ],
      "metadata": {
        "id": "NZKVZw7sIzyb",
        "colab": {
          "base_uri": "https://localhost:8080/"
        },
        "outputId": "835cdfe3-c7a1-4e42-8a51-a4fa6d7a8d21"
      },
      "execution_count": 4,
      "outputs": [
        {
          "output_type": "stream",
          "name": "stdout",
          "text": [
            "Dataset ml-100k could not be found. Do you want to download it? [Y/n] Y\n",
            "Trying to download dataset from https://files.grouplens.org/datasets/movielens/ml-100k.zip...\n",
            "Done! Dataset ml-100k has been saved to /root/.surprise_data/ml-100k\n"
          ]
        }
      ]
    },
    {
      "cell_type": "code",
      "source": [
        "import pandas as pd\n",
        "train_data = trainset.build_testset()\n",
        "train_df = pd.DataFrame(train_data, columns=['userId', 'itemId', 'rating'])\n",
        "train_df.head()"
      ],
      "metadata": {
        "id": "OwOUJu_NJJL8",
        "colab": {
          "base_uri": "https://localhost:8080/",
          "height": 206
        },
        "outputId": "894fed86-3d3e-4bd8-c052-c8ddd5be1292"
      },
      "execution_count": 5,
      "outputs": [
        {
          "output_type": "execute_result",
          "data": {
            "text/plain": [
              "  userId itemId  rating\n",
              "0     58     20     1.0\n",
              "1     58    480     3.0\n",
              "2     58    491     4.0\n",
              "3     58    172     5.0\n",
              "4     58   1019     4.0"
            ],
            "text/html": [
              "\n",
              "  <div id=\"df-cf1a612d-9a2e-4cee-b0c8-645615289062\" class=\"colab-df-container\">\n",
              "    <div>\n",
              "<style scoped>\n",
              "    .dataframe tbody tr th:only-of-type {\n",
              "        vertical-align: middle;\n",
              "    }\n",
              "\n",
              "    .dataframe tbody tr th {\n",
              "        vertical-align: top;\n",
              "    }\n",
              "\n",
              "    .dataframe thead th {\n",
              "        text-align: right;\n",
              "    }\n",
              "</style>\n",
              "<table border=\"1\" class=\"dataframe\">\n",
              "  <thead>\n",
              "    <tr style=\"text-align: right;\">\n",
              "      <th></th>\n",
              "      <th>userId</th>\n",
              "      <th>itemId</th>\n",
              "      <th>rating</th>\n",
              "    </tr>\n",
              "  </thead>\n",
              "  <tbody>\n",
              "    <tr>\n",
              "      <th>0</th>\n",
              "      <td>58</td>\n",
              "      <td>20</td>\n",
              "      <td>1.0</td>\n",
              "    </tr>\n",
              "    <tr>\n",
              "      <th>1</th>\n",
              "      <td>58</td>\n",
              "      <td>480</td>\n",
              "      <td>3.0</td>\n",
              "    </tr>\n",
              "    <tr>\n",
              "      <th>2</th>\n",
              "      <td>58</td>\n",
              "      <td>491</td>\n",
              "      <td>4.0</td>\n",
              "    </tr>\n",
              "    <tr>\n",
              "      <th>3</th>\n",
              "      <td>58</td>\n",
              "      <td>172</td>\n",
              "      <td>5.0</td>\n",
              "    </tr>\n",
              "    <tr>\n",
              "      <th>4</th>\n",
              "      <td>58</td>\n",
              "      <td>1019</td>\n",
              "      <td>4.0</td>\n",
              "    </tr>\n",
              "  </tbody>\n",
              "</table>\n",
              "</div>\n",
              "    <div class=\"colab-df-buttons\">\n",
              "\n",
              "  <div class=\"colab-df-container\">\n",
              "    <button class=\"colab-df-convert\" onclick=\"convertToInteractive('df-cf1a612d-9a2e-4cee-b0c8-645615289062')\"\n",
              "            title=\"Convert this dataframe to an interactive table.\"\n",
              "            style=\"display:none;\">\n",
              "\n",
              "  <svg xmlns=\"http://www.w3.org/2000/svg\" height=\"24px\" viewBox=\"0 -960 960 960\">\n",
              "    <path d=\"M120-120v-720h720v720H120Zm60-500h600v-160H180v160Zm220 220h160v-160H400v160Zm0 220h160v-160H400v160ZM180-400h160v-160H180v160Zm440 0h160v-160H620v160ZM180-180h160v-160H180v160Zm440 0h160v-160H620v160Z\"/>\n",
              "  </svg>\n",
              "    </button>\n",
              "\n",
              "  <style>\n",
              "    .colab-df-container {\n",
              "      display:flex;\n",
              "      gap: 12px;\n",
              "    }\n",
              "\n",
              "    .colab-df-convert {\n",
              "      background-color: #E8F0FE;\n",
              "      border: none;\n",
              "      border-radius: 50%;\n",
              "      cursor: pointer;\n",
              "      display: none;\n",
              "      fill: #1967D2;\n",
              "      height: 32px;\n",
              "      padding: 0 0 0 0;\n",
              "      width: 32px;\n",
              "    }\n",
              "\n",
              "    .colab-df-convert:hover {\n",
              "      background-color: #E2EBFA;\n",
              "      box-shadow: 0px 1px 2px rgba(60, 64, 67, 0.3), 0px 1px 3px 1px rgba(60, 64, 67, 0.15);\n",
              "      fill: #174EA6;\n",
              "    }\n",
              "\n",
              "    .colab-df-buttons div {\n",
              "      margin-bottom: 4px;\n",
              "    }\n",
              "\n",
              "    [theme=dark] .colab-df-convert {\n",
              "      background-color: #3B4455;\n",
              "      fill: #D2E3FC;\n",
              "    }\n",
              "\n",
              "    [theme=dark] .colab-df-convert:hover {\n",
              "      background-color: #434B5C;\n",
              "      box-shadow: 0px 1px 3px 1px rgba(0, 0, 0, 0.15);\n",
              "      filter: drop-shadow(0px 1px 2px rgba(0, 0, 0, 0.3));\n",
              "      fill: #FFFFFF;\n",
              "    }\n",
              "  </style>\n",
              "\n",
              "    <script>\n",
              "      const buttonEl =\n",
              "        document.querySelector('#df-cf1a612d-9a2e-4cee-b0c8-645615289062 button.colab-df-convert');\n",
              "      buttonEl.style.display =\n",
              "        google.colab.kernel.accessAllowed ? 'block' : 'none';\n",
              "\n",
              "      async function convertToInteractive(key) {\n",
              "        const element = document.querySelector('#df-cf1a612d-9a2e-4cee-b0c8-645615289062');\n",
              "        const dataTable =\n",
              "          await google.colab.kernel.invokeFunction('convertToInteractive',\n",
              "                                                    [key], {});\n",
              "        if (!dataTable) return;\n",
              "\n",
              "        const docLinkHtml = 'Like what you see? Visit the ' +\n",
              "          '<a target=\"_blank\" href=https://colab.research.google.com/notebooks/data_table.ipynb>data table notebook</a>'\n",
              "          + ' to learn more about interactive tables.';\n",
              "        element.innerHTML = '';\n",
              "        dataTable['output_type'] = 'display_data';\n",
              "        await google.colab.output.renderOutput(dataTable, element);\n",
              "        const docLink = document.createElement('div');\n",
              "        docLink.innerHTML = docLinkHtml;\n",
              "        element.appendChild(docLink);\n",
              "      }\n",
              "    </script>\n",
              "  </div>\n",
              "\n",
              "\n",
              "<div id=\"df-246f3142-2ac7-4eed-9c0a-433d6934b2bd\">\n",
              "  <button class=\"colab-df-quickchart\" onclick=\"quickchart('df-246f3142-2ac7-4eed-9c0a-433d6934b2bd')\"\n",
              "            title=\"Suggest charts\"\n",
              "            style=\"display:none;\">\n",
              "\n",
              "<svg xmlns=\"http://www.w3.org/2000/svg\" height=\"24px\"viewBox=\"0 0 24 24\"\n",
              "     width=\"24px\">\n",
              "    <g>\n",
              "        <path d=\"M19 3H5c-1.1 0-2 .9-2 2v14c0 1.1.9 2 2 2h14c1.1 0 2-.9 2-2V5c0-1.1-.9-2-2-2zM9 17H7v-7h2v7zm4 0h-2V7h2v10zm4 0h-2v-4h2v4z\"/>\n",
              "    </g>\n",
              "</svg>\n",
              "  </button>\n",
              "\n",
              "<style>\n",
              "  .colab-df-quickchart {\n",
              "      --bg-color: #E8F0FE;\n",
              "      --fill-color: #1967D2;\n",
              "      --hover-bg-color: #E2EBFA;\n",
              "      --hover-fill-color: #174EA6;\n",
              "      --disabled-fill-color: #AAA;\n",
              "      --disabled-bg-color: #DDD;\n",
              "  }\n",
              "\n",
              "  [theme=dark] .colab-df-quickchart {\n",
              "      --bg-color: #3B4455;\n",
              "      --fill-color: #D2E3FC;\n",
              "      --hover-bg-color: #434B5C;\n",
              "      --hover-fill-color: #FFFFFF;\n",
              "      --disabled-bg-color: #3B4455;\n",
              "      --disabled-fill-color: #666;\n",
              "  }\n",
              "\n",
              "  .colab-df-quickchart {\n",
              "    background-color: var(--bg-color);\n",
              "    border: none;\n",
              "    border-radius: 50%;\n",
              "    cursor: pointer;\n",
              "    display: none;\n",
              "    fill: var(--fill-color);\n",
              "    height: 32px;\n",
              "    padding: 0;\n",
              "    width: 32px;\n",
              "  }\n",
              "\n",
              "  .colab-df-quickchart:hover {\n",
              "    background-color: var(--hover-bg-color);\n",
              "    box-shadow: 0 1px 2px rgba(60, 64, 67, 0.3), 0 1px 3px 1px rgba(60, 64, 67, 0.15);\n",
              "    fill: var(--button-hover-fill-color);\n",
              "  }\n",
              "\n",
              "  .colab-df-quickchart-complete:disabled,\n",
              "  .colab-df-quickchart-complete:disabled:hover {\n",
              "    background-color: var(--disabled-bg-color);\n",
              "    fill: var(--disabled-fill-color);\n",
              "    box-shadow: none;\n",
              "  }\n",
              "\n",
              "  .colab-df-spinner {\n",
              "    border: 2px solid var(--fill-color);\n",
              "    border-color: transparent;\n",
              "    border-bottom-color: var(--fill-color);\n",
              "    animation:\n",
              "      spin 1s steps(1) infinite;\n",
              "  }\n",
              "\n",
              "  @keyframes spin {\n",
              "    0% {\n",
              "      border-color: transparent;\n",
              "      border-bottom-color: var(--fill-color);\n",
              "      border-left-color: var(--fill-color);\n",
              "    }\n",
              "    20% {\n",
              "      border-color: transparent;\n",
              "      border-left-color: var(--fill-color);\n",
              "      border-top-color: var(--fill-color);\n",
              "    }\n",
              "    30% {\n",
              "      border-color: transparent;\n",
              "      border-left-color: var(--fill-color);\n",
              "      border-top-color: var(--fill-color);\n",
              "      border-right-color: var(--fill-color);\n",
              "    }\n",
              "    40% {\n",
              "      border-color: transparent;\n",
              "      border-right-color: var(--fill-color);\n",
              "      border-top-color: var(--fill-color);\n",
              "    }\n",
              "    60% {\n",
              "      border-color: transparent;\n",
              "      border-right-color: var(--fill-color);\n",
              "    }\n",
              "    80% {\n",
              "      border-color: transparent;\n",
              "      border-right-color: var(--fill-color);\n",
              "      border-bottom-color: var(--fill-color);\n",
              "    }\n",
              "    90% {\n",
              "      border-color: transparent;\n",
              "      border-bottom-color: var(--fill-color);\n",
              "    }\n",
              "  }\n",
              "</style>\n",
              "\n",
              "  <script>\n",
              "    async function quickchart(key) {\n",
              "      const quickchartButtonEl =\n",
              "        document.querySelector('#' + key + ' button');\n",
              "      quickchartButtonEl.disabled = true;  // To prevent multiple clicks.\n",
              "      quickchartButtonEl.classList.add('colab-df-spinner');\n",
              "      try {\n",
              "        const charts = await google.colab.kernel.invokeFunction(\n",
              "            'suggestCharts', [key], {});\n",
              "      } catch (error) {\n",
              "        console.error('Error during call to suggestCharts:', error);\n",
              "      }\n",
              "      quickchartButtonEl.classList.remove('colab-df-spinner');\n",
              "      quickchartButtonEl.classList.add('colab-df-quickchart-complete');\n",
              "    }\n",
              "    (() => {\n",
              "      let quickchartButtonEl =\n",
              "        document.querySelector('#df-246f3142-2ac7-4eed-9c0a-433d6934b2bd button');\n",
              "      quickchartButtonEl.style.display =\n",
              "        google.colab.kernel.accessAllowed ? 'block' : 'none';\n",
              "    })();\n",
              "  </script>\n",
              "</div>\n",
              "    </div>\n",
              "  </div>\n"
            ],
            "application/vnd.google.colaboratory.intrinsic+json": {
              "type": "dataframe",
              "variable_name": "train_df",
              "summary": "{\n  \"name\": \"train_df\",\n  \"rows\": 80000,\n  \"fields\": [\n    {\n      \"column\": \"userId\",\n      \"properties\": {\n        \"dtype\": \"category\",\n        \"num_unique_values\": 943,\n        \"samples\": [\n          \"889\",\n          \"751\",\n          \"652\"\n        ],\n        \"semantic_type\": \"\",\n        \"description\": \"\"\n      }\n    },\n    {\n      \"column\": \"itemId\",\n      \"properties\": {\n        \"dtype\": \"category\",\n        \"num_unique_values\": 1648,\n        \"samples\": [\n          \"567\",\n          \"1161\",\n          \"432\"\n        ],\n        \"semantic_type\": \"\",\n        \"description\": \"\"\n      }\n    },\n    {\n      \"column\": \"rating\",\n      \"properties\": {\n        \"dtype\": \"number\",\n        \"std\": 1.1263316109326873,\n        \"min\": 1.0,\n        \"max\": 5.0,\n        \"num_unique_values\": 5,\n        \"samples\": [\n          3.0,\n          2.0,\n          4.0\n        ],\n        \"semantic_type\": \"\",\n        \"description\": \"\"\n      }\n    }\n  ]\n}"
            }
          },
          "metadata": {},
          "execution_count": 5
        }
      ]
    },
    {
      "cell_type": "code",
      "source": [
        "test_df = pd.DataFrame(testset, columns=['userId', 'itemId', 'rating'])\n",
        "test_df.head()"
      ],
      "metadata": {
        "id": "RqCDHDrZJK7N",
        "colab": {
          "base_uri": "https://localhost:8080/",
          "height": 206
        },
        "outputId": "0315a276-0250-4a99-f6e6-19fcdc8ba6f6"
      },
      "execution_count": 6,
      "outputs": [
        {
          "output_type": "execute_result",
          "data": {
            "text/plain": [
              "  userId itemId  rating\n",
              "0    749    157     3.0\n",
              "1     18    702     3.0\n",
              "2    921    405     3.0\n",
              "3    426    754     1.0\n",
              "4    234   1369     3.0"
            ],
            "text/html": [
              "\n",
              "  <div id=\"df-86cb2cbd-e8b8-4c47-989c-eb0c9710227f\" class=\"colab-df-container\">\n",
              "    <div>\n",
              "<style scoped>\n",
              "    .dataframe tbody tr th:only-of-type {\n",
              "        vertical-align: middle;\n",
              "    }\n",
              "\n",
              "    .dataframe tbody tr th {\n",
              "        vertical-align: top;\n",
              "    }\n",
              "\n",
              "    .dataframe thead th {\n",
              "        text-align: right;\n",
              "    }\n",
              "</style>\n",
              "<table border=\"1\" class=\"dataframe\">\n",
              "  <thead>\n",
              "    <tr style=\"text-align: right;\">\n",
              "      <th></th>\n",
              "      <th>userId</th>\n",
              "      <th>itemId</th>\n",
              "      <th>rating</th>\n",
              "    </tr>\n",
              "  </thead>\n",
              "  <tbody>\n",
              "    <tr>\n",
              "      <th>0</th>\n",
              "      <td>749</td>\n",
              "      <td>157</td>\n",
              "      <td>3.0</td>\n",
              "    </tr>\n",
              "    <tr>\n",
              "      <th>1</th>\n",
              "      <td>18</td>\n",
              "      <td>702</td>\n",
              "      <td>3.0</td>\n",
              "    </tr>\n",
              "    <tr>\n",
              "      <th>2</th>\n",
              "      <td>921</td>\n",
              "      <td>405</td>\n",
              "      <td>3.0</td>\n",
              "    </tr>\n",
              "    <tr>\n",
              "      <th>3</th>\n",
              "      <td>426</td>\n",
              "      <td>754</td>\n",
              "      <td>1.0</td>\n",
              "    </tr>\n",
              "    <tr>\n",
              "      <th>4</th>\n",
              "      <td>234</td>\n",
              "      <td>1369</td>\n",
              "      <td>3.0</td>\n",
              "    </tr>\n",
              "  </tbody>\n",
              "</table>\n",
              "</div>\n",
              "    <div class=\"colab-df-buttons\">\n",
              "\n",
              "  <div class=\"colab-df-container\">\n",
              "    <button class=\"colab-df-convert\" onclick=\"convertToInteractive('df-86cb2cbd-e8b8-4c47-989c-eb0c9710227f')\"\n",
              "            title=\"Convert this dataframe to an interactive table.\"\n",
              "            style=\"display:none;\">\n",
              "\n",
              "  <svg xmlns=\"http://www.w3.org/2000/svg\" height=\"24px\" viewBox=\"0 -960 960 960\">\n",
              "    <path d=\"M120-120v-720h720v720H120Zm60-500h600v-160H180v160Zm220 220h160v-160H400v160Zm0 220h160v-160H400v160ZM180-400h160v-160H180v160Zm440 0h160v-160H620v160ZM180-180h160v-160H180v160Zm440 0h160v-160H620v160Z\"/>\n",
              "  </svg>\n",
              "    </button>\n",
              "\n",
              "  <style>\n",
              "    .colab-df-container {\n",
              "      display:flex;\n",
              "      gap: 12px;\n",
              "    }\n",
              "\n",
              "    .colab-df-convert {\n",
              "      background-color: #E8F0FE;\n",
              "      border: none;\n",
              "      border-radius: 50%;\n",
              "      cursor: pointer;\n",
              "      display: none;\n",
              "      fill: #1967D2;\n",
              "      height: 32px;\n",
              "      padding: 0 0 0 0;\n",
              "      width: 32px;\n",
              "    }\n",
              "\n",
              "    .colab-df-convert:hover {\n",
              "      background-color: #E2EBFA;\n",
              "      box-shadow: 0px 1px 2px rgba(60, 64, 67, 0.3), 0px 1px 3px 1px rgba(60, 64, 67, 0.15);\n",
              "      fill: #174EA6;\n",
              "    }\n",
              "\n",
              "    .colab-df-buttons div {\n",
              "      margin-bottom: 4px;\n",
              "    }\n",
              "\n",
              "    [theme=dark] .colab-df-convert {\n",
              "      background-color: #3B4455;\n",
              "      fill: #D2E3FC;\n",
              "    }\n",
              "\n",
              "    [theme=dark] .colab-df-convert:hover {\n",
              "      background-color: #434B5C;\n",
              "      box-shadow: 0px 1px 3px 1px rgba(0, 0, 0, 0.15);\n",
              "      filter: drop-shadow(0px 1px 2px rgba(0, 0, 0, 0.3));\n",
              "      fill: #FFFFFF;\n",
              "    }\n",
              "  </style>\n",
              "\n",
              "    <script>\n",
              "      const buttonEl =\n",
              "        document.querySelector('#df-86cb2cbd-e8b8-4c47-989c-eb0c9710227f button.colab-df-convert');\n",
              "      buttonEl.style.display =\n",
              "        google.colab.kernel.accessAllowed ? 'block' : 'none';\n",
              "\n",
              "      async function convertToInteractive(key) {\n",
              "        const element = document.querySelector('#df-86cb2cbd-e8b8-4c47-989c-eb0c9710227f');\n",
              "        const dataTable =\n",
              "          await google.colab.kernel.invokeFunction('convertToInteractive',\n",
              "                                                    [key], {});\n",
              "        if (!dataTable) return;\n",
              "\n",
              "        const docLinkHtml = 'Like what you see? Visit the ' +\n",
              "          '<a target=\"_blank\" href=https://colab.research.google.com/notebooks/data_table.ipynb>data table notebook</a>'\n",
              "          + ' to learn more about interactive tables.';\n",
              "        element.innerHTML = '';\n",
              "        dataTable['output_type'] = 'display_data';\n",
              "        await google.colab.output.renderOutput(dataTable, element);\n",
              "        const docLink = document.createElement('div');\n",
              "        docLink.innerHTML = docLinkHtml;\n",
              "        element.appendChild(docLink);\n",
              "      }\n",
              "    </script>\n",
              "  </div>\n",
              "\n",
              "\n",
              "<div id=\"df-0d8a3573-c0ae-4c52-a6cb-8ed712e759a0\">\n",
              "  <button class=\"colab-df-quickchart\" onclick=\"quickchart('df-0d8a3573-c0ae-4c52-a6cb-8ed712e759a0')\"\n",
              "            title=\"Suggest charts\"\n",
              "            style=\"display:none;\">\n",
              "\n",
              "<svg xmlns=\"http://www.w3.org/2000/svg\" height=\"24px\"viewBox=\"0 0 24 24\"\n",
              "     width=\"24px\">\n",
              "    <g>\n",
              "        <path d=\"M19 3H5c-1.1 0-2 .9-2 2v14c0 1.1.9 2 2 2h14c1.1 0 2-.9 2-2V5c0-1.1-.9-2-2-2zM9 17H7v-7h2v7zm4 0h-2V7h2v10zm4 0h-2v-4h2v4z\"/>\n",
              "    </g>\n",
              "</svg>\n",
              "  </button>\n",
              "\n",
              "<style>\n",
              "  .colab-df-quickchart {\n",
              "      --bg-color: #E8F0FE;\n",
              "      --fill-color: #1967D2;\n",
              "      --hover-bg-color: #E2EBFA;\n",
              "      --hover-fill-color: #174EA6;\n",
              "      --disabled-fill-color: #AAA;\n",
              "      --disabled-bg-color: #DDD;\n",
              "  }\n",
              "\n",
              "  [theme=dark] .colab-df-quickchart {\n",
              "      --bg-color: #3B4455;\n",
              "      --fill-color: #D2E3FC;\n",
              "      --hover-bg-color: #434B5C;\n",
              "      --hover-fill-color: #FFFFFF;\n",
              "      --disabled-bg-color: #3B4455;\n",
              "      --disabled-fill-color: #666;\n",
              "  }\n",
              "\n",
              "  .colab-df-quickchart {\n",
              "    background-color: var(--bg-color);\n",
              "    border: none;\n",
              "    border-radius: 50%;\n",
              "    cursor: pointer;\n",
              "    display: none;\n",
              "    fill: var(--fill-color);\n",
              "    height: 32px;\n",
              "    padding: 0;\n",
              "    width: 32px;\n",
              "  }\n",
              "\n",
              "  .colab-df-quickchart:hover {\n",
              "    background-color: var(--hover-bg-color);\n",
              "    box-shadow: 0 1px 2px rgba(60, 64, 67, 0.3), 0 1px 3px 1px rgba(60, 64, 67, 0.15);\n",
              "    fill: var(--button-hover-fill-color);\n",
              "  }\n",
              "\n",
              "  .colab-df-quickchart-complete:disabled,\n",
              "  .colab-df-quickchart-complete:disabled:hover {\n",
              "    background-color: var(--disabled-bg-color);\n",
              "    fill: var(--disabled-fill-color);\n",
              "    box-shadow: none;\n",
              "  }\n",
              "\n",
              "  .colab-df-spinner {\n",
              "    border: 2px solid var(--fill-color);\n",
              "    border-color: transparent;\n",
              "    border-bottom-color: var(--fill-color);\n",
              "    animation:\n",
              "      spin 1s steps(1) infinite;\n",
              "  }\n",
              "\n",
              "  @keyframes spin {\n",
              "    0% {\n",
              "      border-color: transparent;\n",
              "      border-bottom-color: var(--fill-color);\n",
              "      border-left-color: var(--fill-color);\n",
              "    }\n",
              "    20% {\n",
              "      border-color: transparent;\n",
              "      border-left-color: var(--fill-color);\n",
              "      border-top-color: var(--fill-color);\n",
              "    }\n",
              "    30% {\n",
              "      border-color: transparent;\n",
              "      border-left-color: var(--fill-color);\n",
              "      border-top-color: var(--fill-color);\n",
              "      border-right-color: var(--fill-color);\n",
              "    }\n",
              "    40% {\n",
              "      border-color: transparent;\n",
              "      border-right-color: var(--fill-color);\n",
              "      border-top-color: var(--fill-color);\n",
              "    }\n",
              "    60% {\n",
              "      border-color: transparent;\n",
              "      border-right-color: var(--fill-color);\n",
              "    }\n",
              "    80% {\n",
              "      border-color: transparent;\n",
              "      border-right-color: var(--fill-color);\n",
              "      border-bottom-color: var(--fill-color);\n",
              "    }\n",
              "    90% {\n",
              "      border-color: transparent;\n",
              "      border-bottom-color: var(--fill-color);\n",
              "    }\n",
              "  }\n",
              "</style>\n",
              "\n",
              "  <script>\n",
              "    async function quickchart(key) {\n",
              "      const quickchartButtonEl =\n",
              "        document.querySelector('#' + key + ' button');\n",
              "      quickchartButtonEl.disabled = true;  // To prevent multiple clicks.\n",
              "      quickchartButtonEl.classList.add('colab-df-spinner');\n",
              "      try {\n",
              "        const charts = await google.colab.kernel.invokeFunction(\n",
              "            'suggestCharts', [key], {});\n",
              "      } catch (error) {\n",
              "        console.error('Error during call to suggestCharts:', error);\n",
              "      }\n",
              "      quickchartButtonEl.classList.remove('colab-df-spinner');\n",
              "      quickchartButtonEl.classList.add('colab-df-quickchart-complete');\n",
              "    }\n",
              "    (() => {\n",
              "      let quickchartButtonEl =\n",
              "        document.querySelector('#df-0d8a3573-c0ae-4c52-a6cb-8ed712e759a0 button');\n",
              "      quickchartButtonEl.style.display =\n",
              "        google.colab.kernel.accessAllowed ? 'block' : 'none';\n",
              "    })();\n",
              "  </script>\n",
              "</div>\n",
              "    </div>\n",
              "  </div>\n"
            ],
            "application/vnd.google.colaboratory.intrinsic+json": {
              "type": "dataframe",
              "variable_name": "test_df",
              "summary": "{\n  \"name\": \"test_df\",\n  \"rows\": 20000,\n  \"fields\": [\n    {\n      \"column\": \"userId\",\n      \"properties\": {\n        \"dtype\": \"category\",\n        \"num_unique_values\": 942,\n        \"samples\": [\n          \"135\",\n          \"906\",\n          \"824\"\n        ],\n        \"semantic_type\": \"\",\n        \"description\": \"\"\n      }\n    },\n    {\n      \"column\": \"itemId\",\n      \"properties\": {\n        \"dtype\": \"category\",\n        \"num_unique_values\": 1417,\n        \"samples\": [\n          \"323\",\n          \"414\",\n          \"531\"\n        ],\n        \"semantic_type\": \"\",\n        \"description\": \"\"\n      }\n    },\n    {\n      \"column\": \"rating\",\n      \"properties\": {\n        \"dtype\": \"number\",\n        \"std\": 1.1230516694491899,\n        \"min\": 1.0,\n        \"max\": 5.0,\n        \"num_unique_values\": 5,\n        \"samples\": [\n          1.0,\n          2.0,\n          4.0\n        ],\n        \"semantic_type\": \"\",\n        \"description\": \"\"\n      }\n    }\n  ]\n}"
            }
          },
          "metadata": {},
          "execution_count": 6
        }
      ]
    },
    {
      "cell_type": "code",
      "source": [
        "# Ініціалізуємо та навчимо модель колаборативного фільтрування User-Based\n",
        "algo_user_based = KNNBasic(sim_options={'user_based': True})\n",
        "algo_user_based.fit(trainset)\n",
        "# Здійснимо прогнози на тестовому наборі\n",
        "predictions_user_based = algo_user_based.test(testset)\n",
        "# Оцінимо точність моделі\n",
        "accuracy.rmse(predictions_user_based)"
      ],
      "metadata": {
        "id": "kvJK9DSZCUch",
        "colab": {
          "base_uri": "https://localhost:8080/"
        },
        "outputId": "0b6d9ce0-d10f-4af3-ab17-6d06eaa22ed7"
      },
      "execution_count": 7,
      "outputs": [
        {
          "output_type": "stream",
          "name": "stdout",
          "text": [
            "Computing the msd similarity matrix...\n",
            "Done computing similarity matrix.\n",
            "RMSE: 0.9713\n"
          ]
        },
        {
          "output_type": "execute_result",
          "data": {
            "text/plain": [
              "0.9713392621300294"
            ]
          },
          "metadata": {},
          "execution_count": 7
        }
      ]
    },
    {
      "cell_type": "code",
      "source": [
        "predictions_user_based[0:5]"
      ],
      "metadata": {
        "id": "oQqZcyrNLCjs",
        "colab": {
          "base_uri": "https://localhost:8080/"
        },
        "outputId": "23c5a91c-99ff-41a4-aa4c-e5c9286d33bb"
      },
      "execution_count": 8,
      "outputs": [
        {
          "output_type": "execute_result",
          "data": {
            "text/plain": [
              "[Prediction(uid='749', iid='157', r_ui=3.0, est=3.777169797598275, details={'actual_k': 40, 'was_impossible': False}),\n",
              " Prediction(uid='18', iid='702', r_ui=3.0, est=3.0862201531725653, details={'actual_k': 40, 'was_impossible': False}),\n",
              " Prediction(uid='921', iid='405', r_ui=3.0, est=3.5718929361144025, details={'actual_k': 40, 'was_impossible': False}),\n",
              " Prediction(uid='426', iid='754', r_ui=1.0, est=3.419202284806861, details={'actual_k': 36, 'was_impossible': False}),\n",
              " Prediction(uid='234', iid='1369', r_ui=3.0, est=3.4740967544396817, details={'actual_k': 2, 'was_impossible': False})]"
            ]
          },
          "metadata": {},
          "execution_count": 8
        }
      ]
    },
    {
      "cell_type": "code",
      "source": [
        "userId = 130\n",
        "\n",
        "# Створимо список об'єктів, для яких ми хочемо отримати рекомендації. Наприклад, це можуть бути фільми, які користувач ще не переглядав\n",
        "items_to_recommend = [456, 789, 987]\n",
        "\n",
        "# Для кожного об'єкта викличемо метод predict(), щоб отримати прогнозований рейтинг користувача\n",
        "for itemId in items_to_recommend:\n",
        "    prediction = algo_user_based.predict(userId, itemId)\n",
        "    print(f\"Рекомендований рейтинг для користувача {userId} та об'єкта {itemId}: {prediction.est}\")"
      ],
      "metadata": {
        "id": "QJ06oMOgKi5a",
        "colab": {
          "base_uri": "https://localhost:8080/"
        },
        "outputId": "8a0c10be-df70-466f-afc0-d150d2f88d88"
      },
      "execution_count": 10,
      "outputs": [
        {
          "output_type": "stream",
          "name": "stdout",
          "text": [
            "Рекомендований рейтинг для користувача 130 та об'єкта 456: 3.5286\n",
            "Рекомендований рейтинг для користувача 130 та об'єкта 789: 3.5286\n",
            "Рекомендований рейтинг для користувача 130 та об'єкта 987: 3.5286\n"
          ]
        }
      ]
    },
    {
      "cell_type": "code",
      "source": [
        "# Ініціалізуємо та навчимо модель колаборативного фільтрування Item-Based\n",
        "algo_item_based = KNNBasic(sim_options={'user_based': False})\n",
        "algo_item_based.fit(trainset)\n",
        "# Здійснимо прогнози на тестовому наборі\n",
        "predictions_item_based = algo_item_based.test(testset)\n",
        "# Оцінимо точність моделі\n",
        "accuracy.rmse(predictions_item_based)"
      ],
      "metadata": {
        "id": "yRJdIi-2I4ZV",
        "colab": {
          "base_uri": "https://localhost:8080/"
        },
        "outputId": "6f90e468-0ddd-4f63-cc40-3ff037424102"
      },
      "execution_count": 11,
      "outputs": [
        {
          "output_type": "stream",
          "name": "stdout",
          "text": [
            "Computing the msd similarity matrix...\n",
            "Done computing similarity matrix.\n",
            "RMSE: 0.9656\n"
          ]
        },
        {
          "output_type": "execute_result",
          "data": {
            "text/plain": [
              "0.9656038385565047"
            ]
          },
          "metadata": {},
          "execution_count": 11
        }
      ]
    },
    {
      "cell_type": "markdown",
      "source": [
        "## Метод заснований на змісті (content-based)"
      ],
      "metadata": {
        "id": "fm62kZnxdLDU"
      }
    },
    {
      "cell_type": "markdown",
      "source": [
        "Content-Based Filtering (CBF) - це підхід до побудови рекомендаційних систем, при якому рекомендації формуються на основі характеристик об'єктів (наприклад, фільмів, товарів). Цей метод аналізує властивості або контент кожного об'єкта та враховує вподобання користувача для створення рекомендацій.\n",
        "\n",
        "Наприклад, у випадку фільмів, характеристики можуть включати жанр, режисера, акторів, рік випуску тощо. Система аналізує ці характеристики та рекомендує користувачеві фільми, які відповідають його чи її вподобанням.\n",
        "\n",
        "Основна ідея застосування CBF полягає в тому, щоб рекомендувати об'єкти, які мають подібний зміст чи характеристики до тих, що користувач вже оцінив чи виразив інтерес до них.\n",
        "\n",
        "Загалом, Content-Based Filtering використовує аналіз контенту об'єктів для створення персоналізованих рекомендацій для користувачів."
      ],
      "metadata": {
        "id": "Fnz3e7UKLgbm"
      }
    },
    {
      "cell_type": "code",
      "source": [
        "import pandas as pd\n",
        "from sklearn.feature_extraction.text import TfidfVectorizer\n",
        "from sklearn.metrics.pairwise import linear_kernel\n",
        "\n",
        "# Приклад даних про фільми (назва та опис)\n",
        "data = {\n",
        "    'Title': ['Movie 1', 'Movie 2', 'Movie 3', 'Movie 4', 'Movie 5'],\n",
        "    'Genre': ['Adventure', 'Drama', 'Comedy', 'Horror', 'Action'],\n",
        "    'Description': ['This movie is about adventures in the jungle.',\n",
        "                    'A young man meets his love at a party.',\n",
        "                    'A comedy about the challenges of student life.',\n",
        "                    'A terrifying story about a ghost in an old house.',\n",
        "                    'A super agent returns to save the world.']\n",
        "}\n",
        "\n",
        "df = pd.DataFrame(data)\n",
        "\n",
        "# Ініціалізація та навчання TF-IDF векторизатора\n",
        "tfidf = TfidfVectorizer(stop_words='english')\n",
        "tfidf_matrix = tfidf.fit_transform(df['Description'])\n",
        "cosine_sim = linear_kernel(tfidf_matrix, tfidf_matrix) # Обчислення косинусної схожості між фільмами\n",
        "\n",
        "# Функція для отримання рекомендацій на основі схожості фільмів\n",
        "def get_recommendations(title, cosine_sim=cosine_sim):\n",
        "\n",
        "    idx = df[df['Title'] == title].index[0]# Отримання індексу фільму за назвою\n",
        "    sim_scores = list(enumerate(cosine_sim[idx]))# Отримання пар схожостей фільмів та їх індексів\n",
        "    sim_scores = sorted(sim_scores, key=lambda x: x[1], reverse=True)# Сортування фільмів за схожістю\n",
        "    sim_scores = sim_scores[1:]# Отримання топ рекомендацій (крім першого, оскільки це фільм, для якого ми шукаємо рекомендації)\n",
        "    movie_indices = [i[0] for i in sim_scores]# Отримання індексів фільмів\n",
        "    return df['Title'].iloc[movie_indices]# Повернення назв та індексів рекомендованих фільмів\n",
        "\n",
        "# Отримання рекомендацій для фільму з назвою 'Movie 1'\n",
        "recommendations = get_recommendations('Movie 1')\n",
        "print(recommendations)"
      ],
      "metadata": {
        "id": "bFEqjCneMrMo",
        "colab": {
          "base_uri": "https://localhost:8080/"
        },
        "outputId": "5be7ad54-0d79-435c-cde3-0384939bed05"
      },
      "execution_count": 12,
      "outputs": [
        {
          "output_type": "stream",
          "name": "stdout",
          "text": [
            "1    Movie 2\n",
            "2    Movie 3\n",
            "3    Movie 4\n",
            "4    Movie 5\n",
            "Name: Title, dtype: object\n"
          ]
        }
      ]
    },
    {
      "cell_type": "code",
      "source": [
        "tfidf_matrix"
      ],
      "metadata": {
        "colab": {
          "base_uri": "https://localhost:8080/"
        },
        "id": "VHQXoWEWPmyl",
        "outputId": "82567731-e1f9-448d-9a81-4c2696b2eb5a"
      },
      "execution_count": 13,
      "outputs": [
        {
          "output_type": "execute_result",
          "data": {
            "text/plain": [
              "<5x22 sparse matrix of type '<class 'numpy.float64'>'\n",
              "\twith 22 stored elements in Compressed Sparse Row format>"
            ]
          },
          "metadata": {},
          "execution_count": 13
        }
      ]
    },
    {
      "cell_type": "markdown",
      "source": [
        "![alt text](https://www.researchgate.net/publication/331063850/figure/fig3/AS:729493727621125@1550936266704/Content-based-filtering-and-Collaborative-filtering-recommendation.ppm)"
      ],
      "metadata": {
        "id": "vayALefGL8mw"
      }
    },
    {
      "cell_type": "markdown",
      "source": [
        "## Змішані методи"
      ],
      "metadata": {
        "id": "RqTKyvoUdLHl"
      }
    },
    {
      "cell_type": "markdown",
      "source": [
        "\n",
        "Змішані методи в контексті рекомендаційних систем означають використання комбінації різних підходів або алгоритмів для здійснення рекомендацій. Це може бути поєднання колаборативного та контентного підходів, або комбінація рекомендацій на основі споживачів (користувачів) та на основі об'єктів (фільмів, товарів).\n",
        "\n",
        "Наприклад, змішаний метод може використовувати колаборативний фільтрінг для рекомендацій на основі подібності користувачів та алгоритми контентного фільтрування для врахування характеристик об'єктів (таких як жанр, категорія, ключові слова тощо).\n",
        "\n",
        "Такий підхід дозволяє зробити більш точні та релевантні рекомендації, враховуючи як особливості користувачів, так і властивості об'єктів, що рекомендуються."
      ],
      "metadata": {
        "id": "c8j5AGufRbNZ"
      }
    },
    {
      "cell_type": "markdown",
      "source": [
        "![alt text](https://www.researchgate.net/publication/337938732/figure/fig3/AS:961424914391050@1606232970156/System-architecture-of-Hybrid-recommendation-system.png)"
      ],
      "metadata": {
        "id": "6j95HwkxSZY3"
      }
    },
    {
      "cell_type": "code",
      "source": [
        "from surprise import Dataset, Reader, KNNBasic\n",
        "from sklearn.feature_extraction.text import TfidfVectorizer\n",
        "from sklearn.metrics.pairwise import linear_kernel\n",
        "import pandas as pd\n",
        "\n",
        "# Приклад даних про фільми (user_id, movie_id, rating)\n",
        "data = {\n",
        "    'user_id': [1, 1, 2, 2, 3],\n",
        "    'movie_id': [1, 2, 1, 3, 2],\n",
        "    'rating': [5, 4, 3, 4, 5],\n",
        "    'title': ['Movie 1', 'Movie 2', 'Movie 1', 'Movie 3', 'Movie 2'],\n",
        "    'description': ['This movie is about adventures in the jungle.',\n",
        "                    'A young man meets his love at a party.',\n",
        "                    'This movie is about adventures in the jungle.',\n",
        "                    'A terrifying story about a ghost in an old house.',\n",
        "                    'A young man meets his love at a party.']\n",
        "}\n",
        "\n",
        "# Створення об'єкта Dataset та Reader\n",
        "reader = Reader(rating_scale=(1, 5))\n",
        "dataset = Dataset.load_from_df(pd.DataFrame(data)[['user_id', 'movie_id', 'rating']], reader)\n",
        "\n",
        "# Навчання моделі KNN на колаборативних даних\n",
        "trainset = dataset.build_full_trainset()\n",
        "algo_collab = KNNBasic()\n",
        "algo_collab.fit(trainset)\n",
        "\n",
        "# Використання контентного підходу для обробки даних про фільми\n",
        "tfidf = TfidfVectorizer(stop_words='english')\n",
        "tfidf_matrix = tfidf.fit_transform(data['description'])\n",
        "cosine_sim = linear_kernel(tfidf_matrix, tfidf_matrix)\n",
        "\n",
        "# Функція для отримання рекомендацій на основі об'єднання колаборативного та контентного підходів\n",
        "def hybrid_recommendations(user_id, movie_title, N=5):\n",
        "    # Отримання рекомендацій на основі колаборативного підходу\n",
        "    collab_recs = []\n",
        "    for iid in range(1, 4):  # Перебираємо всі доступні фільми (для прикладу)\n",
        "        pred = algo_collab.predict(user_id, iid).est\n",
        "        collab_recs.append((iid, pred))\n",
        "    collab_recs.sort(key=lambda x: x[1], reverse=True)\n",
        "\n",
        "    # Отримання рекомендацій на основі контентного підходу\n",
        "    idx = next((i for i, title in enumerate(data['title']) if title == movie_title), None)\n",
        "    content_recs = []\n",
        "    sim_scores = list(enumerate(cosine_sim[idx]))\n",
        "    sim_scores = sorted(sim_scores, key=lambda x: x[1], reverse=True)\n",
        "    sim_scores = sim_scores[1:N+1]  # Вибираємо топ-N подібних фільмів\n",
        "    for i, score in sim_scores:\n",
        "        content_recs.append((i, score))\n",
        "\n",
        "    # Об'єднання рекомендацій з обох підходів\n",
        "    hybrid_recs = []\n",
        "    for i in range(min(N, len(collab_recs), len(content_recs))):\n",
        "        hybrid_recs.append((collab_recs[i][0], collab_recs[i][1] * 0.5 + content_recs[i][1] * 0.5))\n",
        "    hybrid_recs.sort(key=lambda x: x[1], reverse=True)\n",
        "    return hybrid_recs[:N]\n",
        "\n",
        "# Отримання гібридних рекомендацій для користувача\n",
        "user_id = 1\n",
        "movie_title = 'Movie 1'\n",
        "hybrid_recs = hybrid_recommendations(user_id, movie_title)\n",
        "print(f\"Hybrid recommendations for user {user_id} and movie {movie_title}: {hybrid_recs}\")"
      ],
      "metadata": {
        "id": "VZkLwX70UA2E",
        "colab": {
          "base_uri": "https://localhost:8080/"
        },
        "outputId": "af6652ef-feb7-4c6b-ed76-9696c779919e"
      },
      "execution_count": 14,
      "outputs": [
        {
          "output_type": "stream",
          "name": "stdout",
          "text": [
            "Computing the msd similarity matrix...\n",
            "Done computing similarity matrix.\n",
            "Hybrid recommendations for user 1 and movie Movie 1: [(1, 2.8333333333333335), (2, 2.1666666666666665), (3, 2.0)]\n"
          ]
        }
      ]
    },
    {
      "cell_type": "markdown",
      "source": [
        "## Matrix Factorization"
      ],
      "metadata": {
        "id": "b21KPPXCdLMX"
      }
    },
    {
      "cell_type": "markdown",
      "source": [
        "Matrix Factorization - це метод у машинному навчанні, який використовується для розкладання матриці рейтингів на добуток двох або більше матриць меншого розміру. Один з найвідоміших методів машинного навчання, який використовує цей підхід, - це Singular Value Decomposition (SVD)."
      ],
      "metadata": {
        "id": "4jXCD8LDdagD"
      }
    },
    {
      "cell_type": "markdown",
      "source": [
        "У методі Matrix Factorization ми розкладаємо матрицю рейтингів користувачів і предметів (наприклад, фільмів) на добуток двох матриць меншого розміру: матриці користувачів і матриці предметів (або факторних матриць). Цей підхід дозволяє нам використовувати інформацію про спільний рейтинг користувачів та предметів для передбачення невідомих рейтингів."
      ],
      "metadata": {
        "id": "cScnS89bd7Jm"
      }
    },
    {
      "cell_type": "code",
      "source": [
        "from surprise import SVD\n",
        "from surprise import Dataset\n",
        "from surprise.model_selection import cross_validate\n",
        "\n",
        "# Завантаження даних\n",
        "data = Dataset.load_builtin('ml-100k')\n",
        "\n",
        "# Використання SVD алгоритму\n",
        "algo = SVD()\n",
        "\n",
        "# Оцінка алгоритму за допомогою крос-валідації\n",
        "cross_validate(algo, data, measures=['RMSE', 'MAE'], cv=5, verbose=True)"
      ],
      "metadata": {
        "id": "Zk_Tajere2Hz",
        "colab": {
          "base_uri": "https://localhost:8080/"
        },
        "outputId": "86de03c9-bf5f-4889-ee3f-755d6a449e4a"
      },
      "execution_count": 15,
      "outputs": [
        {
          "output_type": "stream",
          "name": "stdout",
          "text": [
            "Evaluating RMSE, MAE of algorithm SVD on 5 split(s).\n",
            "\n",
            "                  Fold 1  Fold 2  Fold 3  Fold 4  Fold 5  Mean    Std     \n",
            "RMSE (testset)    0.9355  0.9387  0.9321  0.9362  0.9335  0.9352  0.0023  \n",
            "MAE (testset)     0.7373  0.7405  0.7372  0.7351  0.7356  0.7371  0.0019  \n",
            "Fit time          2.43    1.50    1.49    1.36    1.59    1.67    0.38    \n",
            "Test time         0.42    0.13    0.12    0.27    0.12    0.21    0.12    \n"
          ]
        },
        {
          "output_type": "execute_result",
          "data": {
            "text/plain": [
              "{'test_rmse': array([0.93545143, 0.93865464, 0.93207841, 0.93624113, 0.93351395]),\n",
              " 'test_mae': array([0.73730184, 0.74049427, 0.73719359, 0.73511463, 0.73556629]),\n",
              " 'fit_time': (2.42716383934021,\n",
              "  1.5040488243103027,\n",
              "  1.4873361587524414,\n",
              "  1.36057710647583,\n",
              "  1.5901131629943848),\n",
              " 'test_time': (0.41831064224243164,\n",
              "  0.12908625602722168,\n",
              "  0.11630129814147949,\n",
              "  0.2652597427368164,\n",
              "  0.1230010986328125)}"
            ]
          },
          "metadata": {},
          "execution_count": 15
        }
      ]
    },
    {
      "cell_type": "markdown",
      "source": [
        "Математична особливість методу Matrix Factorization полягає в розкладанні матриці рейтингів користувачів та предметів на добуток двох або більше матриць меншого розміру.\n",
        "\n",
        "Для матриці рейтингів $R$ розміром $m×n$, де $m$ - кількість користувачів, а $n$ - кількість предметів (або ознак), Matrix Factorization зазвичай розкладає цю матрицю у вигляді добутку двох матриць меншого розміру $P$ та $Q$.\n",
        "\n",
        "Математично, це можна виразити так:\n",
        "$$R≈P×Q^T$$\n",
        "\n",
        "Де:\n",
        "\n",
        "$R$ - матриця рейтингів користувачів та предметів розміром $m×n$.\n",
        "\n",
        "$P$ - матриця факторів користувачів розміром $m×k$, де $k$ - кількість факторів.\n",
        "\n",
        "$Q$ - матриця факторів предметів розміром $n×k$.\n",
        "\n",
        "Мета полягає в тому, щоб знайти такі матриці $P$ та $Q$, які найкраще апроксимують вихідну матрицю $R$. Це дозволяє нам використовувати відомості про спільні характеристики користувачів та предметів для передбачення невідомих рейтингів і рекомендацій.\n",
        "\n",
        "\n",
        "\n",
        "\n"
      ],
      "metadata": {
        "id": "OJH_FdG_d7Mq"
      }
    },
    {
      "cell_type": "markdown",
      "source": [
        "# Практика"
      ],
      "metadata": {
        "id": "ddjmvEEhdd20"
      }
    },
    {
      "cell_type": "markdown",
      "source": [
        "\n",
        "1. Movie Recommender Systems:\n",
        "https://www.kaggle.com/code/rounakbanik/movie-recommender-systems\n",
        "\n",
        "2. Getting Started with a Movie Recommendation System:\n",
        "https://www.kaggle.com/code/ibtesama/getting-started-with-a-movie-recommendation-system\n",
        "\n",
        "3. Recommender Systems in Python 101:\n",
        "https://www.kaggle.com/code/gspmoreira/recommender-systems-in-python-101\n",
        "\n",
        "4. Netflix Visualizations (EDA):\n",
        "https://www.kaggle.com/code/niharika41298/netflix-visualizations-recommendation-eda\n",
        "\n",
        "5. Recommender System Using Amazon Reviews:\n",
        "https://www.kaggle.com/code/saurav9786/recommender-system-using-amazon-reviews\n",
        "\n",
        "6. Wine Review's EDA + Recommend Systems:\n",
        "https://www.kaggle.com/code/kabure/wine-review-s-eda-recommend-systems#TFIDF-Vectorizer-in-the-Wine-Review"
      ],
      "metadata": {
        "id": "7LO_fPBWh4Hw"
      }
    },
    {
      "cell_type": "code",
      "source": [],
      "metadata": {
        "id": "sfDG7FL083ge"
      },
      "execution_count": null,
      "outputs": []
    }
  ]
}