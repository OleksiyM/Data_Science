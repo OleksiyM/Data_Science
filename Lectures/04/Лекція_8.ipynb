{
  "nbformat": 4,
  "nbformat_minor": 0,
  "metadata": {
    "colab": {
      "provenance": []
    },
    "kernelspec": {
      "name": "python3",
      "display_name": "Python 3"
    },
    "language_info": {
      "name": "python"
    }
  },
  "cells": [
    {
      "cell_type": "markdown",
      "source": [
        "# Що таке метрики якості? Та навіщо взагалі так багато метрик якості?\n"
      ],
      "metadata": {
        "id": "BZvt5dTBPzO3"
      }
    },
    {
      "cell_type": "markdown",
      "source": [
        "https://scikit-learn.org/stable/modules/classes.html#module-sklearn.metrics"
      ],
      "metadata": {
        "id": "MnpKnhnO-s9H"
      }
    },
    {
      "cell_type": "code",
      "source": [
        "from sklearn.metrics import accuracy_score\n",
        "# Задача з пошуком терориста\n",
        "\n",
        "# X = [....]\n",
        "y_true = [0,0,1,0,1,0,0,0,0,0,0,0,0,0,0,0,0,0,0,0,0,0,0,0,0]\n",
        "\n",
        "'''\n",
        "\n",
        "CLEANING/EDA/MODELING...\n",
        "\n",
        "'''\n",
        "\n",
        "#Results\n",
        "y_pred_1 = [0,0,0,0,0,0,0,0,0,0,0,0,0,0,0,0,0,0,0,0,0,0,0,0,0]\n",
        "y_pred_2 = [1,1,1,1,1,1,1,1,1,1,1,1,1,1,1,1,1,1,1,1,1,1,1,1,1]\n",
        "y_pred_3 = [1,1,1,1,1,1,1,1,1,1,1,1,1,0,0,0,0,0,0,0,0,0,0,0,0]\n",
        "\n",
        "print(f'Model results 1: {accuracy_score(y_true, y_pred_1)}')\n",
        "print(f'Model results 2: {accuracy_score(y_true, y_pred_2)}')\n",
        "print(f'Model results 3: {accuracy_score(y_true, y_pred_3)}')"
      ],
      "metadata": {
        "id": "VnauvyrxQCsf",
        "colab": {
          "base_uri": "https://localhost:8080/"
        },
        "outputId": "af445472-83d5-44f9-aaab-68ba73bb3967"
      },
      "execution_count": 1,
      "outputs": [
        {
          "output_type": "stream",
          "name": "stdout",
          "text": [
            "Model results 1: 0.92\n",
            "Model results 2: 0.08\n",
            "Model results 3: 0.56\n"
          ]
        }
      ]
    },
    {
      "cell_type": "markdown",
      "source": [
        "# Метрики якості у завданнях регресії"
      ],
      "metadata": {
        "id": "ofD4zspnQMGO"
      }
    },
    {
      "cell_type": "markdown",
      "source": [
        "## Середньоквадратична помилка"
      ],
      "metadata": {
        "id": "YHpeGpshQtj5"
      }
    },
    {
      "cell_type": "markdown",
      "source": [
        "$$ MSE = 1/n ∑_{i=1}^{n}(h(x_i)-y_i)^2$$"
      ],
      "metadata": {
        "id": "F14sB_o5R6BA"
      }
    },
    {
      "cell_type": "markdown",
      "source": [
        "При прогнозуванні ціни на нерухомість. Чим менше квадрат відмінності між фактичною і прогнозованою ціною, тим краще модель."
      ],
      "metadata": {
        "id": "CP427LtZ9TPZ"
      }
    },
    {
      "cell_type": "code",
      "source": [
        "import numpy as np\n",
        "def mean_squared_error_manual(y_true, y_pred):\n",
        "    y_true, y_pred = np.array(y_true), np.array(y_pred)\n",
        "    mse = np.mean((y_true - y_pred)**2)\n",
        "    return mse"
      ],
      "metadata": {
        "id": "OMjWwhinQ9P8"
      },
      "execution_count": 2,
      "outputs": []
    },
    {
      "cell_type": "code",
      "source": [
        "from sklearn.metrics import mean_squared_error\n",
        "\n",
        "y_true = [3, -0.5, 2, 7]\n",
        "y_pred = [2.5, 0.0, 2, 8]\n",
        "\n",
        "print(f'manual MSE:{mean_squared_error_manual(y_true, y_pred)}')\n",
        "print(f'sklearn MSE:{mean_squared_error(y_true, y_pred)}')"
      ],
      "metadata": {
        "id": "DVbjCYHpTYwH",
        "colab": {
          "base_uri": "https://localhost:8080/"
        },
        "outputId": "ae9d02ea-faa1-4aa1-abe7-8c0a995f325b"
      },
      "execution_count": 3,
      "outputs": [
        {
          "output_type": "stream",
          "name": "stdout",
          "text": [
            "manual MSE:0.375\n",
            "sklearn MSE:0.375\n"
          ]
        }
      ]
    },
    {
      "cell_type": "markdown",
      "source": [
        "## Середня абсолютна помилка\n"
      ],
      "metadata": {
        "id": "WBtCwSumQtoO"
      }
    },
    {
      "cell_type": "markdown",
      "source": [
        "$$ MAE = 1/n ∑_{i=1}^{n}|h(x_i)-y_i|$$"
      ],
      "metadata": {
        "id": "fJF62QH7UVGb"
      }
    },
    {
      "cell_type": "markdown",
      "source": [
        "У задачі прогнозування температури. Оскільки MAE враховує абсолютні відмінності між фактичними і прогнозованими значеннями, вона ідеально підходить для вимірювання точності прогнозування температури."
      ],
      "metadata": {
        "id": "ByZPFCDC9ZJ6"
      }
    },
    {
      "cell_type": "code",
      "source": [
        "import numpy as np\n",
        "def mean_absolute_error_manual(y_true, y_pred):\n",
        "    y_true, y_pred = np.array(y_true), np.array(y_pred)\n",
        "    mae = np.mean(np.abs(y_true - y_pred))\n",
        "    return mae"
      ],
      "metadata": {
        "id": "OmfUUbUFQ9pY"
      },
      "execution_count": 4,
      "outputs": []
    },
    {
      "cell_type": "code",
      "source": [
        "from sklearn.metrics import mean_absolute_error\n",
        "\n",
        "y_true = [3, -0.5, 2, 7]\n",
        "y_pred = [2.5, 0.0, 2, 8]\n",
        "\n",
        "print(f'manual MAE:{mean_absolute_error_manual(y_true, y_pred)}')\n",
        "print(f'sklearn MAE:{mean_absolute_error(y_true, y_pred)}')"
      ],
      "metadata": {
        "id": "fyw-wg3rUlfc",
        "colab": {
          "base_uri": "https://localhost:8080/"
        },
        "outputId": "ee0a6699-5c44-4180-d711-e801ba88bcc9"
      },
      "execution_count": 5,
      "outputs": [
        {
          "output_type": "stream",
          "name": "stdout",
          "text": [
            "manual MAE:0.5\n",
            "sklearn MAE:0.5\n"
          ]
        }
      ]
    },
    {
      "cell_type": "markdown",
      "source": [
        "## Коефіцієнт детермінації"
      ],
      "metadata": {
        "id": "yY2N7UTTQ4e5"
      }
    },
    {
      "cell_type": "markdown",
      "source": [
        "$$ R^2 = 1 - (∑_{i=1}^{n}(h(x_i) - y_i)^2)/(∑_{i=1}^{n}(y_i - \\bar{y})^2)$$"
      ],
      "metadata": {
        "id": "89NkojwWU-ud"
      }
    },
    {
      "cell_type": "markdown",
      "source": [
        "Універсальна оцінцка моделі"
      ],
      "metadata": {
        "id": "UVd5DPFU9chq"
      }
    },
    {
      "cell_type": "code",
      "source": [
        "import numpy as np\n",
        "\n",
        "def r_squared_manual(y_true, y_pred):\n",
        "\n",
        "    y_true, y_pred = np.array(y_true), np.array(y_pred)\n",
        "\n",
        "    residual_sum_of_squares = np.sum((y_true - y_pred)**2)\n",
        "    mean_y_true = np.mean(y_true)\n",
        "    total_sum_of_squares = np.sum((y_true - mean_y_true)**2)\n",
        "\n",
        "    r2 = 1 - (residual_sum_of_squares / total_sum_of_squares)\n",
        "\n",
        "    return r2"
      ],
      "metadata": {
        "id": "e4ypfFYCQ-If"
      },
      "execution_count": 6,
      "outputs": []
    },
    {
      "cell_type": "code",
      "source": [
        "from sklearn.metrics import r2_score\n",
        "\n",
        "y_true = [3, -0.5, 2, 7]\n",
        "y_pred = [2.5, 0.0, 2, 8]\n",
        "\n",
        "print(f'manual r2:{r_squared_manual(y_true, y_pred)}')\n",
        "print(f'sklearn r2:{r2_score(y_true, y_pred)}')"
      ],
      "metadata": {
        "id": "Szh5unpoYX_2",
        "colab": {
          "base_uri": "https://localhost:8080/"
        },
        "outputId": "b0654896-8fe6-489d-e3c5-a29711347272"
      },
      "execution_count": 7,
      "outputs": [
        {
          "output_type": "stream",
          "name": "stdout",
          "text": [
            "manual r2:0.9486081370449679\n",
            "sklearn r2:0.9486081370449679\n"
          ]
        }
      ]
    },
    {
      "cell_type": "markdown",
      "source": [
        "## Несиметричні втрати"
      ],
      "metadata": {
        "id": "hAR5i7Z6Q6s2"
      }
    },
    {
      "cell_type": "markdown",
      "source": [
        "Для того, щоб зрозуміти, що таке несиметричні втрати, розглянемо наступний приклад. Нехай потрібно оцінити попит на ноутбуки. У цьому випадку занижений прогноз призведе до втрати лояльності покупців та потенційного прибутку (буде закуплено недостатню кількість ноутбуків), а завищений - до невеликих додаткових витрат на зберігання непроданого товару. Щоб врахувати цей факт, функція втрат має бути несиметричною та сильніше штрафувати за недопрогноз, ніж за перепрогноз. У завданнях, у яких помилки мають різну ціну, використовують несиметричні функції втрат. Прикладом такої функції може бути квантильна помилка, визначається наступним чином:\n",
        "\n",
        "$$ ρ_\\tau = \\frac{1}{n} \\sum_{i=1}^{n}((1- τ)[y_i<h(x_i)]+τ[y_i>=h(x_i)])(y_i - h(x_i)) $$\n",
        "де:\n",
        "$$\\tau ϵ [0, 1]$$ визначає те, за що треба штрафувати сильніше — за недопрогноз чи перепрогноз."
      ],
      "metadata": {
        "id": "I1LGyklwY5VC"
      }
    },
    {
      "cell_type": "markdown",
      "source": [
        "## Додаток"
      ],
      "metadata": {
        "id": "ScBqmsLbfd8s"
      }
    },
    {
      "cell_type": "markdown",
      "source": [
        "Вибір метрики для оцінки моделі залежить від конкретного контексту вашої задачі та ваших цілей.\n",
        "\n",
        "1. Mean Squared Error (MSE):\n",
        "\n",
        "Використання: Широко використовується, особливо коли бажано враховувати великі відхилення.\n",
        "Особливості: Чутлива до великих відхилень через квадратичний член. Може надмірно покладати вагу на викиди.\n",
        "\n",
        "2. Mean Absolute Error (MAE):\n",
        "\n",
        "Використання: Добре підходить для вимірювання середньої абсолютної різниці між прогнозованими і справжніми значеннями.\n",
        "Особливості: Не чутлива до великих викидів. Значення помилок відображають абсолютні розміри відхилень.\n",
        "\n",
        "3. $R^2$ (Коефіцієнт детермінації):\n",
        "\n",
        "Використання: Загальна метрика для оцінки якості моделі регресії.\n",
        "Особливості: Вказує, яку частину дисперсії відгуку пояснюється моделлю. Значення від 0 до 1, де 1 вказує на ідеальне узгодження, а 0 - на відсутність поясненої дисперсії\n",
        "\n",
        "4. Quantile Loss:\n",
        "\n",
        "Використання: Квантильна помилка корисна в задачах квантильної регресії, де вам важливо прогнозувати квантильні значення відгуку.\n",
        "Особливості: Визначає відмінність між реальними і прогнозованими квантилями. Може бути корисною, якщо ви цікавитеся не лише середнім прогнозом, але і розподілом значень.\n",
        "\n",
        "---------------------------------\n",
        "\n",
        "Вибір метрики залежить від:\n",
        "\n",
        "**Задачі**: Якщо важливо точно прогнозувати квантилі - використовуйте квантильну помилку. Якщо важливо оцінювати загальну точність прогнозів - використовуйте R^2, MAE або MSE.\n",
        "\n",
        "**Особливостей даних**: Якщо ваші дані мають великі викиди, може бути корисним використовувати метрики, які менше чутливі до викидів, такі як MAE.\n",
        "\n",
        "**Вимог до моделі**: Деякі моделі можуть бути більш чутливими до деяких видів помилок, тому обрання метрики також може бути обумовлене алгоритмічними особливостями моделі.\n",
        "\n",
        "Важливо також використовувати кілька метрик для повного розуміння ефективності моделі в різних аспектах."
      ],
      "metadata": {
        "id": "QMav83LPerCG"
      }
    },
    {
      "cell_type": "markdown",
      "source": [
        "# Метрики якості у завданнях класифікації\n"
      ],
      "metadata": {
        "id": "ApxK_XaCQfeA"
      }
    },
    {
      "cell_type": "markdown",
      "source": [
        "## Загальна точність. Частка правильних відповідей (Accuracy)"
      ],
      "metadata": {
        "id": "T9whhp8dRAKv"
      }
    },
    {
      "cell_type": "markdown",
      "source": [
        "$$ accuracy = 1/n \\sum_{i=1}^{n} [h(x_i) == y_i]$$"
      ],
      "metadata": {
        "id": "dvWHeEL6gszG"
      }
    },
    {
      "cell_type": "markdown",
      "source": [
        "Загальна метрика точності"
      ],
      "metadata": {
        "id": "gzaSi3729mkZ"
      }
    },
    {
      "cell_type": "code",
      "source": [
        "import numpy as np\n",
        "def accuracy_score_manual(y_true, y_pred):\n",
        "    correct_predictions = np.sum(np.array(y_true) == np.array(y_pred))\n",
        "    total_samples = len(y_true)\n",
        "    accuracy = correct_predictions / total_samples\n",
        "    return accuracy"
      ],
      "metadata": {
        "id": "sT6IkS84RrQ-"
      },
      "execution_count": 8,
      "outputs": []
    },
    {
      "cell_type": "code",
      "source": [
        "from sklearn.metrics import accuracy_score\n",
        "\n",
        "y_true = [0, 2, 1, 3]\n",
        "y_pred = [0, 1, 2, 3]\n",
        "\n",
        "print(f'manual accuracy:{accuracy_score_manual(y_true, y_pred)}')\n",
        "print(f'sklearn accuracy:{accuracy_score(y_true, y_pred)}')"
      ],
      "metadata": {
        "id": "KIhCGMHcxif0",
        "colab": {
          "base_uri": "https://localhost:8080/"
        },
        "outputId": "aa31503d-f838-4525-d10d-c4d2a40294ef"
      },
      "execution_count": 9,
      "outputs": [
        {
          "output_type": "stream",
          "name": "stdout",
          "text": [
            "manual accuracy:0.5\n",
            "sklearn accuracy:0.5\n"
          ]
        }
      ]
    },
    {
      "cell_type": "markdown",
      "source": [
        "## Точність та повнота. Матриця помилок"
      ],
      "metadata": {
        "id": "4hPnybgvRANE"
      }
    },
    {
      "cell_type": "markdown",
      "source": [
        "![alt text](https://glassboxmedicine.files.wordpress.com/2019/02/confusion-matrix.png?w=816)"
      ],
      "metadata": {
        "id": "UUKpHShUy93x"
      }
    },
    {
      "cell_type": "markdown",
      "source": [
        "![alt text](https://media.geeksforgeeks.org/wp-content/uploads/20230316122103/download-(20).png)"
      ],
      "metadata": {
        "id": "3btqjfM0zXkt"
      }
    },
    {
      "cell_type": "markdown",
      "source": [
        "$$ TP = \\sum_{i=1}^{n}(y_{true,i} = 1 ;  y_{pred,i} = 1) $$\n",
        "$$ FP = \\sum_{i=1}^{n}(y_{true,i} = 0 ;  y_{pred,i} = 1) $$\n",
        "$$ FN = \\sum_{i=1}^{n}(y_{true,i} = 1 ;  y_{pred,i} = 0) $$\n",
        "$$ TN = \\sum_{i=1}^{n}(y_{true,i} = 0 ;  y_{pred,i} = 0) $$"
      ],
      "metadata": {
        "id": "FSN7_AF-zIlg"
      }
    },
    {
      "cell_type": "code",
      "source": [
        "def calculate_confusion_matrix(y_true, y_pred):\n",
        "\n",
        "    y_true, y_pred = np.array(y_true), np.array(y_pred)\n",
        "    TP = sum((y_true == 1) & (y_pred == 1))\n",
        "    FP = sum((y_true == 0) & (y_pred == 1))\n",
        "    FN = sum((y_true == 1) & (y_pred == 0))\n",
        "    TN = sum((y_true == 0) & (y_pred == 0))\n",
        "\n",
        "    return TP, FP, FN, TN"
      ],
      "metadata": {
        "id": "KNAYt4gJRrn3"
      },
      "execution_count": 10,
      "outputs": []
    },
    {
      "cell_type": "markdown",
      "source": [
        "$$ precision = TP/ (TP+FP)$$\n",
        "$$ recall = TP / (TP+FN)$$\n",
        "$$ accuracy = (TP+TN) / (TP+FP+FN+TN)$$"
      ],
      "metadata": {
        "id": "88uB7JMZCH-X"
      }
    },
    {
      "cell_type": "markdown",
      "source": [
        "**precision**: У задачі виявлення фроду у фінансових транзакціях. Precision вимірює частку правильно класифікованих фродових транзакцій серед усіх транзакцій, визначених як фродові.\n",
        "\n",
        "**recall**: У задачі медичної діагностики раку. Recall вимірює здатність моделі виявляти всі випадки позитивного класу, тобто всі випадки раку, навіть якщо вони помилково класифікуються як негативні."
      ],
      "metadata": {
        "id": "BTRqEDqu90k4"
      }
    },
    {
      "cell_type": "code",
      "source": [
        "def accuracy_score_manual_2(TP, FP, FN, TN):\n",
        "  return (TP+TN) / (TP + FP + FN + TN)\n",
        "\n",
        "def precision_score_manual(TP, FP):\n",
        "  return TP / (TP + FP)\n",
        "\n",
        "def recall_score_manual(TP, FN):\n",
        "  return TP / (TP + FN)"
      ],
      "metadata": {
        "id": "3VBZ33h_BJEA"
      },
      "execution_count": 11,
      "outputs": []
    },
    {
      "cell_type": "code",
      "source": [
        "from sklearn.metrics import accuracy_score, precision_score, recall_score\n",
        "\n",
        "y_true = [1, 0, 1, 1, 0, 1]\n",
        "y_pred = [1, 0, 1, 0, 0, 1]\n",
        "\n",
        "TP, FP, FN, TN = calculate_confusion_matrix(y_true, y_pred)\n",
        "print(TP, FP, FN, TN)\n",
        "print(f'manual accuracy: {accuracy_score_manual(y_true, y_pred)}')\n",
        "print(f'manual accuracy_2: {accuracy_score_manual_2(TP, FP, FN, TN)}')\n",
        "print(f'sklearn accuracy: {accuracy_score(y_true, y_pred)}')\n",
        "print()\n",
        "print(f'manual precision_score: {precision_score_manual(TP, FP)}')\n",
        "print(f'sklearn precision_score: {precision_score(y_true, y_pred)}')\n",
        "print()\n",
        "print(f'manual recall_score: {recall_score_manual(TP, FN)}')\n",
        "print(f'sklearn recall_score: {recall_score(y_true, y_pred)}')"
      ],
      "metadata": {
        "id": "fyfGrv3mDMm2",
        "colab": {
          "base_uri": "https://localhost:8080/"
        },
        "outputId": "c10c2462-2333-4d67-a950-71d77b2525cc"
      },
      "execution_count": 12,
      "outputs": [
        {
          "output_type": "stream",
          "name": "stdout",
          "text": [
            "3 0 1 2\n",
            "manual accuracy: 0.8333333333333334\n",
            "manual accuracy_2: 0.8333333333333334\n",
            "sklearn accuracy: 0.8333333333333334\n",
            "\n",
            "manual precision_score: 1.0\n",
            "sklearn precision_score: 1.0\n",
            "\n",
            "manual recall_score: 0.75\n",
            "sklearn recall_score: 0.75\n"
          ]
        }
      ]
    },
    {
      "cell_type": "code",
      "source": [
        "# Airport terrorists\n",
        "from sklearn.metrics import accuracy_score, precision_score, recall_score\n",
        "y_true = [1, 1, 0, 0, 0, 0, 0, 0, 0, 0, 0, 0, 0, 0, 0, 0, 0, 0, 0, 0] # 20 = 2 ter + 18 customers\n",
        "\n",
        "y_pred_1 = [1, 1, 0, 0, 0, 0, 0, 0, 0, 0, 0, 0, 0, 0, 0, 0, 0, 0, 0, 0] # 20 = 2 ter + 18 customers\n",
        "y_pred_2 = [1, 0, 1, 0, 0, 0, 0, 0, 0, 0, 0, 0, 0, 0, 0, 0, 0, 0, 0, 0] # 20 = 2 ter + 17 customers\n",
        "y_pred_3 = [1, 1, 1, 0, 0, 0, 0, 0, 0, 0, 0, 0, 0, 0, 0, 0, 0, 0, 0, 0] # 20 = 3 ter + 17 customers\n",
        "y_pred_4 = [1, 0, 0, 0, 0, 0, 0, 0, 0, 0, 0, 0, 0, 0, 0, 0, 0, 0, 0, 0]# 20 = 1 ter + 19 customers\n",
        "\n",
        "print(f'precision_score 1: {precision_score(y_true, y_pred_1)}')\n",
        "print(f'recall_score 1: {recall_score(y_true, y_pred_1)}')\n",
        "print('-'*50)\n",
        "print(f'precision_score 2: {precision_score(y_true, y_pred_2)}')\n",
        "print(f'recall_score 2: {recall_score(y_true, y_pred_2)}')\n",
        "print('-'*50)\n",
        "print(f'precision_score 3: {precision_score(y_true, y_pred_3)}')\n",
        "print(f'recall_score 3: {recall_score(y_true, y_pred_3)}')\n",
        "print('-'*50)\n",
        "print(f'precision_score 4: {precision_score(y_true, y_pred_4)}')\n",
        "print(f'recall_score 4: {recall_score(y_true, y_pred_4)}')"
      ],
      "metadata": {
        "id": "5h3lvREQK_JH",
        "colab": {
          "base_uri": "https://localhost:8080/"
        },
        "outputId": "495ecab4-921f-4a97-bcf4-457d0ff2ee81"
      },
      "execution_count": 13,
      "outputs": [
        {
          "output_type": "stream",
          "name": "stdout",
          "text": [
            "precision_score 1: 1.0\n",
            "recall_score 1: 1.0\n",
            "--------------------------------------------------\n",
            "precision_score 2: 0.5\n",
            "recall_score 2: 0.5\n",
            "--------------------------------------------------\n",
            "precision_score 3: 0.6666666666666666\n",
            "recall_score 3: 1.0\n",
            "--------------------------------------------------\n",
            "precision_score 4: 1.0\n",
            "recall_score 4: 0.5\n"
          ]
        }
      ]
    },
    {
      "cell_type": "code",
      "source": [
        "# Automated AI air defence system\n",
        "from sklearn.metrics import accuracy_score, precision_score, recall_score\n",
        "y_true = [1, 1, 0, 0, 0, 0, 0, 0, 0, 0, 0, 0, 0, 0, 0, 0, 0, 0, 0, 0] # 20 = 2 enemy + 18 friendly\n",
        "\n",
        "y_pred_1 = [1, 1, 0, 0, 0, 0, 0, 0, 0, 0, 0, 0, 0, 0, 0, 0, 0, 0, 0, 0] # 20 = 2 enemy + 18 friendly\n",
        "y_pred_2 = [1, 0, 1, 0, 0, 0, 0, 0, 0, 0, 0, 0, 0, 0, 0, 0, 0, 0, 0, 0] # 20 = 2 enemy + 17 friendly\n",
        "y_pred_3 = [1, 1, 1, 0, 0, 0, 0, 0, 0, 0, 0, 0, 0, 0, 0, 0, 0, 0, 0, 0] # 20 = 3 enemy + 17 friendly\n",
        "y_pred_4 = [1, 0, 0, 0, 0, 0, 0, 0, 0, 0, 0, 0, 0, 0, 0, 0, 0, 0, 0, 0] # 20 = 1 enemy + 19 friendly\n",
        "\n",
        "print(f'precision_score 1: {precision_score(y_true, y_pred_1)}')\n",
        "print(f'recall_score 1: {recall_score(y_true, y_pred_1)}')\n",
        "print('-'*50)\n",
        "print(f'precision_score 2: {precision_score(y_true, y_pred_2)}')\n",
        "print(f'recall_score 2: {recall_score(y_true, y_pred_2)}')\n",
        "print('-'*50)\n",
        "print(f'precision_score 3: {precision_score(y_true, y_pred_3)}')\n",
        "print(f'recall_score 3: {recall_score(y_true, y_pred_3)}')\n",
        "print('-'*50)\n",
        "print(f'precision_score 4: {precision_score(y_true, y_pred_4)}')\n",
        "print(f'recall_score 4: {recall_score(y_true, y_pred_4)}')"
      ],
      "metadata": {
        "id": "64cEkb1hK_jr",
        "colab": {
          "base_uri": "https://localhost:8080/"
        },
        "outputId": "c3114ab3-2734-4c26-9d53-03e8b91d8ff9"
      },
      "execution_count": 14,
      "outputs": [
        {
          "output_type": "stream",
          "name": "stdout",
          "text": [
            "precision_score 1: 1.0\n",
            "recall_score 1: 1.0\n",
            "--------------------------------------------------\n",
            "precision_score 2: 0.5\n",
            "recall_score 2: 0.5\n",
            "--------------------------------------------------\n",
            "precision_score 3: 0.6666666666666666\n",
            "recall_score 3: 1.0\n",
            "--------------------------------------------------\n",
            "precision_score 4: 1.0\n",
            "recall_score 4: 0.5\n"
          ]
        }
      ]
    },
    {
      "cell_type": "markdown",
      "source": [
        "## Об'єднання точності та повноти"
      ],
      "metadata": {
        "id": "lIFqrX9IRAPh"
      }
    },
    {
      "cell_type": "markdown",
      "source": [
        "У деяких завданнях є обмеження на одну з цих метрик, тоді як за другою метрикою буде проводитися оптимізація. Але в деяких випадках хочеться максимізувати і точність, і повноту водночас. Постає питання про поєднання цих двох метрик.\n",
        "\n",
        "1. Арифиметичне середнє\n",
        "$$ A = (precision+recall)/2 $$\n",
        "2. Мінімум\n",
        "$$ M = min(precision, recall)$$\n",
        "3. F1-міра\n",
        "$$ F1 = (2 ⋅ precision ⋅ recall)/ (precision + recall)$$\n",
        "4. Розширина F-міра\n",
        "$$ F = (1+ β^2 )⋅(precision * recall)/ (β^2\\cdot precision + recall)$$\n"
      ],
      "metadata": {
        "id": "5II279L1UseW"
      }
    },
    {
      "cell_type": "markdown",
      "source": [
        "У задачі виявлення шкідливих програмних кодів. Точність важлива, щоб не помилитися при визначенні шкідливого коду, але також важлива і повнота, щоб забезпечити виявлення якомога більшої кількості шкідливих програм. F1 дозволяє збалансувати ці дві метрики, щоб забезпечити оптимальне рішення."
      ],
      "metadata": {
        "id": "-F5fR-xj-hje"
      }
    },
    {
      "cell_type": "code",
      "source": [
        "def f1_score_manual(y_true, y_pred):\n",
        "  TP, FP, FN, TN = calculate_confusion_matrix(y_true, y_pred)\n",
        "  pr = precision_score_manual(TP, FP)\n",
        "  rec = recall_score_manual(TP, FN)\n",
        "  return 2*pr*rec/ (pr+rec)"
      ],
      "metadata": {
        "id": "Eo0A02VeRsFn"
      },
      "execution_count": 15,
      "outputs": []
    },
    {
      "cell_type": "code",
      "source": [
        "from sklearn.metrics import f1_score\n",
        "\n",
        "y_true = [1, 0, 1, 1, 0, 1]\n",
        "y_pred = [1, 0, 1, 0, 0, 1]\n",
        "\n",
        "print(f'manual recall_score: {f1_score_manual(y_true, y_pred)}')\n",
        "print(f'sklearn recall_score: {f1_score(y_true, y_pred)}')"
      ],
      "metadata": {
        "id": "qGou4jaVWWH1",
        "colab": {
          "base_uri": "https://localhost:8080/"
        },
        "outputId": "695d45ca-f358-4dcb-9415-02dcf82853fa"
      },
      "execution_count": 16,
      "outputs": [
        {
          "output_type": "stream",
          "name": "stdout",
          "text": [
            "manual recall_score: 0.8571428571428571\n",
            "sklearn recall_score: 0.8571428571428571\n"
          ]
        }
      ]
    },
    {
      "cell_type": "markdown",
      "source": [
        "## Метрики багатокласової класифікації"
      ],
      "metadata": {
        "id": "aoIXztMgxQHf"
      }
    },
    {
      "cell_type": "markdown",
      "source": [
        "У випадку багатокласової класифікації існує кілька різновидів метрик точності (accuracy), оскільки існують різні способи обчислення точності в залежності від задачі та конкретних потреб. Ось декілька з них:\n",
        "\n",
        "1. Micro-Average Accuracy:\n",
        "$$A_{micro} = (TP_1+ TP_2+...+TP_k)/len(data)$$\n",
        "\n",
        "Краще використовувати, коли ідеальний баланс в класах. І треба отримати точні метрики по кожному з класів.\n",
        "\n",
        "2. Macro-Average Accuracy:\n",
        "$$A_{macro} = (A_1+ A_2+...+A_k)/k$$\n",
        "\n",
        "Краще використовувати, коли в класах сильний дізбаланс, і ваги даються відповідно до симетричності.\n",
        "\n",
        "3. Weighted Accuracy:\n",
        "$$A_{weighted} = (\\sum_{i=1}^{k}Size_i⋅A_i )/\\sum_{i=1}^{k}Size_i$$\n",
        "\n",
        "Ваги даються відповідно до класу (маленьким меньше, великим більше)\n",
        "\n",
        "4. Accuracy per Class:\n",
        "$$ A_i$$"
      ],
      "metadata": {
        "id": "Qb1ZuoH-xa7b"
      }
    },
    {
      "cell_type": "markdown",
      "source": [
        "# Якість оцінок принадлежності класу"
      ],
      "metadata": {
        "id": "mb-XUmsxQfgg"
      }
    },
    {
      "cell_type": "markdown",
      "source": [
        "## PR-крива"
      ],
      "metadata": {
        "id": "_XEkZSuEQfjF"
      }
    },
    {
      "cell_type": "markdown",
      "source": [
        "PR-крива (Precision-Recall curve) використовується для визначення ефективності моделі в задачах класифікації, особливо там, де дисбаланс класів (нерівномірність розподілу між класами) є проблемою. Вона відображає залежність між точністю (Precision) і повнотою (Recall) при різних порогових значеннях для моделі класифікації.PR-крива будується, варіюючи порогові значення для визначення класів (наприклад, визначення, коли модель вважає вхід позитивним). Крива показує, як змінюються точність і повнота при різних порогових значеннях.\n",
        "\n",
        "Сенс PR-кривої:\n",
        "\n",
        "- **Ідеальний випадок**: PR-крива прямує від нижнього лівого кута до верхнього правого кута, що вказує на високу точність і повноту при різних порогових значеннях.\n",
        "- **Менш ідеальний випадок**: Зниження кривої означає, що модель може визначати позитивні елементи з меншою точністю або повнотою, залежно від обраного порогу.\n"
      ],
      "metadata": {
        "id": "juh5RBVzb72m"
      }
    },
    {
      "cell_type": "markdown",
      "source": [
        "![alt text](https://miro.medium.com/v2/resize:fit:1024/1*KZu3UEBx3UIgOvdS6V_h_A.png)"
      ],
      "metadata": {
        "id": "GjAbEBcIfuJd"
      }
    },
    {
      "cell_type": "markdown",
      "source": [
        "![alt text](https://miro.medium.com/v2/resize:fit:1400/1*Dmsoecp2PPYRIXJk_ESBdw.gif)"
      ],
      "metadata": {
        "id": "bJeRTwVOewMd"
      }
    },
    {
      "cell_type": "markdown",
      "source": [
        "PR-крива показує взаємозв'язок між точністю (Precision) та чутливістю (Recall) моделі для різних значень порогу вирішення. Вона особливо корисна в ситуаціях, коли неправильна класифікація позитивних екземплярів коштує більше, ніж неправильна класифікація негативних екземплярів, наприклад у задачах виявлення хвороби."
      ],
      "metadata": {
        "id": "TRiYC4t4fVsG"
      }
    },
    {
      "cell_type": "code",
      "source": [
        "import numpy as np\n",
        "import matplotlib.pyplot as plt\n",
        "\n",
        "def precision_recall_curve_custom(y_true, y_scores):\n",
        "    thresholds = sorted(set(y_scores), reverse=True)\n",
        "    precision_values = []\n",
        "    recall_values = []\n",
        "\n",
        "    precision_values.append(1)\n",
        "    recall_values.append(0)\n",
        "\n",
        "    num_positives = sum(y_true)\n",
        "    num_negatives = len(y_true) - num_positives\n",
        "\n",
        "    for threshold in thresholds:\n",
        "        y_pred = [1 if score >= threshold else 0 for score in y_scores]\n",
        "\n",
        "        true_positives = sum([1 for yt, yp in zip(y_true, y_pred) if yt == 1 and yp == 1])\n",
        "        false_positives = sum([1 for yt, yp in zip(y_true, y_pred) if yt == 0 and yp == 1])\n",
        "        false_negatives = sum([1 for yt, yp in zip(y_true, y_pred) if yt == 1 and yp == 0])\n",
        "\n",
        "        precision = true_positives / (true_positives + false_positives) if (true_positives + false_positives) != 0 else 0\n",
        "        recall = true_positives / (true_positives + false_negatives) if (true_positives + false_negatives) != 0 else 0\n",
        "\n",
        "        precision_values.append(precision)\n",
        "        recall_values.append(recall)\n",
        "\n",
        "    return np.array(precision_values), np.array(recall_values), thresholds\n",
        "\n",
        "def precision_recall_auc(precision, recall):\n",
        "    auc = np.trapz(precision, recall)\n",
        "    return auc\n",
        "\n",
        "# Приклад використання:\n",
        "# Задаємо справжні значення та оцінки вірогідностей для позитивного класу\n",
        "y_true = np.array([0, 0, 1, 1, 1, 1, 0, 0, 1, 0])\n",
        "y_scores = np.array([0.2, 0.8, 0.6, 0.3, 0.7, 0.9, 0.4, 0.1, 0.5, 0.3])\n",
        "\n",
        "precision_values, recall_values, thresholds = precision_recall_curve_custom(y_true, y_scores)\n",
        "print(f'PR_AUC: {precision_recall_auc(precision_values, recall_values)}')\n",
        "\n",
        "# Візуалізація PR-кривої\n",
        "plt.figure(figsize=(5, 5))\n",
        "\n",
        "plt.step(recall_values, precision_values, color='b', alpha=0.7, where='post')\n",
        "plt.fill_between(recall_values, precision_values, step='post', alpha=0.3, color='b')\n",
        "\n",
        "plt.xlabel('Recall')\n",
        "plt.ylabel('Precision')\n",
        "plt.ylim([0.0, 1.05])\n",
        "plt.xlim([0.0, 1.0])\n",
        "plt.title('PR Curve (Custom Implementation)')\n",
        "plt.show()"
      ],
      "metadata": {
        "id": "uc7J1e6cRsms",
        "colab": {
          "base_uri": "https://localhost:8080/",
          "height": 504
        },
        "outputId": "1d187d7f-987d-4375-b4d9-583b315d5836"
      },
      "execution_count": 17,
      "outputs": [
        {
          "output_type": "stream",
          "name": "stdout",
          "text": [
            "PR_AUC: 0.7424999999999999\n"
          ]
        },
        {
          "output_type": "display_data",
          "data": {
            "text/plain": [
              "<Figure size 500x500 with 1 Axes>"
            ],
            "image/png": "[encoded data removed]"
          },
          "metadata": {}
        }
      ]
    },
    {
      "cell_type": "code",
      "source": [
        "from sklearn.metrics import precision_recall_curve, auc\n",
        "\n",
        "precision, recall, thresholds = precision_recall_curve(y_true, y_scores)\n",
        "print(f'PR_AUC: {auc(recall[::-1], precision[::-1])}')\n",
        "\n",
        "# Візуалізація PR-кривої\n",
        "plt.figure(figsize=(5, 5))\n",
        "\n",
        "plt.step(recall, precision, color='b', alpha=0.7, where='post')\n",
        "plt.fill_between(recall, precision, step='post', alpha=0.3, color='b')\n",
        "\n",
        "plt.xlabel('Recall')\n",
        "plt.ylabel('Precision')\n",
        "plt.ylim([0.0, 1.05])\n",
        "plt.xlim([0.0, 1.0])\n",
        "plt.title('PR Curve')\n",
        "plt.show()"
      ],
      "metadata": {
        "id": "YZbdmaHuhdJv",
        "colab": {
          "base_uri": "https://localhost:8080/",
          "height": 504
        },
        "outputId": "67ec27f8-05cb-4ff2-bbcf-5cc807dc536b"
      },
      "execution_count": 18,
      "outputs": [
        {
          "output_type": "stream",
          "name": "stdout",
          "text": [
            "PR_AUC: 0.7424999999999999\n"
          ]
        },
        {
          "output_type": "display_data",
          "data": {
            "text/plain": [
              "<Figure size 500x500 with 1 Axes>"
            ],
            "image/png": "[encoded data removed]"
          },
          "metadata": {}
        }
      ]
    },
    {
      "cell_type": "markdown",
      "source": [
        "## ROC-крива"
      ],
      "metadata": {
        "id": "9EYCFKw-Qflb"
      }
    },
    {
      "cell_type": "markdown",
      "source": [
        "Другий спосіб виміряти якість оцінок приналежності до класу 1— ROC-крива, яка будується в осях **False Positive Rate** (ось X) та **True Positive Rate** (ось Y):\n",
        "\n",
        "$$ FPR = FP/(FP+TN)$$\n",
        "$$ TPR = TP/(TP+FN) = recall$$\n",
        "\n",
        "ROC-крива будується аналогічно PR-кривий: поступово розглядаються випадки різних значень порогів та відзначаються точки на графіку.Крива стартує з точки (0,0) і приходить в точку (1,1). При цьому якщо існує ідеальний класифікатор, крива має пройти через точку (0,1). Чим ближче крива до цієї точки, тим краще будуть оцінки, а площа під кривою буде характеризувати якість оцінок належності до першого класу. Така метрика називається AUC–ROC, або площа під ROC-кривої."
      ],
      "metadata": {
        "id": "PfxbQjoJrMWP"
      }
    },
    {
      "cell_type": "markdown",
      "source": [
        "У задачі класифікації раку на основі медичних зображень. AUC-ROC вимірює здатність моделі робити правильні рішення відносно різних порогових значень ймовірності."
      ],
      "metadata": {
        "id": "rX-oLO3D-Ndu"
      }
    },
    {
      "cell_type": "markdown",
      "source": [
        "![alt text](https://miro.medium.com/v2/resize:fit:1200/1*Bgc9QOjhnL70g2SQxyj6hQ.png)"
      ],
      "metadata": {
        "id": "wX_CMmzqsch_"
      }
    },
    {
      "cell_type": "markdown",
      "source": [
        "![alt text](https://miro.medium.com/v2/resize:fit:1400/1*Dmsoecp2PPYRIXJk_ESBdw.gif)"
      ],
      "metadata": {
        "id": "jxq3-rPTe3bv"
      }
    },
    {
      "cell_type": "markdown",
      "source": [
        "ROC-крива відображає взаємозв'язок між чутливістю (True Positive Rate) та специфічністю (1 - False Positive Rate) моделі для різних значень порогу вирішення. У випадках дисбалансу класів, ROC-крива може дати коректну оцінку продуктивності моделі, оскільки обидва ці показники враховуються незалежно від пропорцій класів."
      ],
      "metadata": {
        "id": "K8tbbvtdfdVE"
      }
    },
    {
      "cell_type": "code",
      "source": [
        "import numpy as np\n",
        "\n",
        "def roc_curve_custom(y_true, y_scores):\n",
        "    thresholds = sorted(set(y_scores), reverse=True)\n",
        "    tpr_values = []  # True Positive Rate (Sensitivity)\n",
        "    fpr_values = []  # False Positive Rate\n",
        "\n",
        "    num_positives = sum(y_true)\n",
        "    num_negatives = len(y_true) - num_positives\n",
        "\n",
        "    for threshold in thresholds:\n",
        "        y_pred = [1 if score >= threshold else 0 for score in y_scores]\n",
        "\n",
        "        true_positives = sum([1 for yt, yp in zip(y_true, y_pred) if yt == 1 and yp == 1])\n",
        "        false_positives = sum([1 for yt, yp in zip(y_true, y_pred) if yt == 0 and yp == 1])\n",
        "\n",
        "        tpr = true_positives / num_positives\n",
        "        fpr = false_positives / num_negatives\n",
        "\n",
        "        tpr_values.append(tpr)\n",
        "        fpr_values.append(fpr)\n",
        "\n",
        "\n",
        "    return tpr_values, fpr_values, thresholds\n",
        "\n",
        "def roc_auc(tpr, fpr):\n",
        "    # Визначення площі під кривою методом трапецій\n",
        "    auc = np.trapz(tpr, fpr)\n",
        "    return auc\n",
        "\n",
        "# Приклад використання:\n",
        "# Задаємо справжні значення та оцінки вірогідностей для позитивного класу\n",
        "y_true = np.array([0, 0, 1,1, 1, 1, 0, 0, 1, 0])\n",
        "y_scores = np.array([0.2, 0.8, 0.6, 0.3, 0.7, 0.9, 0.4, 0.1, 0.5, 0.3])\n",
        "\n",
        "tpr_values, fpr_values, thresholds = roc_curve_custom(y_true, y_scores)\n",
        "auc_roc = roc_auc(tpr_values, fpr_values)\n",
        "\n",
        "# Друкуємо AUC-ROC\n",
        "print(\"AUC-ROC:\", auc_roc)\n",
        "\n",
        "# Візуалізація PR-кривої\n",
        "plt.figure(figsize=(5, 5))\n",
        "\n",
        "plt.step(fpr_values, tpr_values, color='b', alpha=0.7, where='post')\n",
        "plt.fill_between(fpr_values, tpr_values, step='post', alpha=0.3, color='b')\n",
        "plt.plot([0, 1], [0, 1], 'k--', label='Random classifier')\n",
        "\n",
        "plt.xlabel('FPR')\n",
        "plt.ylabel('TPR')\n",
        "plt.ylim([0.0, 1.05])\n",
        "plt.xlim([0.0, 1.0])\n",
        "plt.title('ROC Curve')\n",
        "plt.show()"
      ],
      "metadata": {
        "id": "M3BVpsgfRs9K",
        "colab": {
          "base_uri": "https://localhost:8080/",
          "height": 504
        },
        "outputId": "f1061f4b-5569-4db9-b49d-4b7108e51faa"
      },
      "execution_count": 19,
      "outputs": [
        {
          "output_type": "stream",
          "name": "stdout",
          "text": [
            "AUC-ROC: 0.78\n"
          ]
        },
        {
          "output_type": "display_data",
          "data": {
            "text/plain": [
              "<Figure size 500x500 with 1 Axes>"
            ],
            "image/png": "[encoded data removed]"
          },
          "metadata": {}
        }
      ]
    },
    {
      "cell_type": "code",
      "source": [
        "from sklearn.metrics import roc_curve, auc\n",
        "\n",
        "fpr, tpr, thresholds = roc_curve(y_true, y_scores)\n",
        "print(f'ROC_AUC: {auc(fpr, tpr)}')\n",
        "\n",
        "# Візуалізація ROC-кривої\n",
        "plt.figure(figsize=(5, 5))\n",
        "\n",
        "plt.step(fpr, tpr, color='b', alpha=0.7, where='post')\n",
        "plt.fill_between(fpr, tpr, step='post', alpha=0.3, color='b')\n",
        "plt.plot([0, 1], [0, 1], 'k--', label='Random classifier')\n",
        "\n",
        "plt.xlabel('FPR')\n",
        "plt.ylabel('TPR')\n",
        "plt.ylim([0.0, 1.05])\n",
        "plt.xlim([0.0, 1.0])\n",
        "plt.title('ROC Curve')\n",
        "plt.show()"
      ],
      "metadata": {
        "id": "VuvpMmiZt1lT",
        "colab": {
          "base_uri": "https://localhost:8080/",
          "height": 504
        },
        "outputId": "c72acb87-f368-4efb-8bf2-d994fe3e0118"
      },
      "execution_count": 20,
      "outputs": [
        {
          "output_type": "stream",
          "name": "stdout",
          "text": [
            "ROC_AUC: 0.78\n"
          ]
        },
        {
          "output_type": "display_data",
          "data": {
            "text/plain": [
              "<Figure size 500x500 with 1 Axes>"
            ],
            "image/png": "[encoded data removed]"
          },
          "metadata": {}
        }
      ]
    },
    {
      "cell_type": "code",
      "source": [],
      "metadata": {
        "id": "g2BX45XzakEG"
      },
      "execution_count": null,
      "outputs": []
    }
  ]
}