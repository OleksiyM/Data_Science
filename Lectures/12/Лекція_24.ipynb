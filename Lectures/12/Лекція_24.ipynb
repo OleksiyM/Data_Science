{
  "cells": [
    {
      "cell_type": "markdown",
      "metadata": {
        "id": "8NM4HKlMi8kH"
      },
      "source": [
        "# Цікаві спільноти і джерела інформації\n",
        "\n"
      ]
    },
    {
      "cell_type": "markdown",
      "source": [
        "0. https://google.com\n",
        "1. https://www.kaggle.com/\n",
        "2. https://medium.com/\n",
        "3. https://towardsdatascience.com/\n",
        "4. https://www.deeplearning.ai/\n",
        "5. https://huggingface.co/\n",
        "6. https://chat.openai.com/"
      ],
      "metadata": {
        "id": "dXOAT8S9y2WF"
      }
    },
    {
      "cell_type": "markdown",
      "source": [
        "# Задача 1. Зробити модель, яка автоматично буде знаходити негативні коментарі.\n",
        "\n",
        "На вхід набір коментарів. На виход результат, токсичний, чи ні."
      ],
      "metadata": {
        "id": "yJNI6y4dpcie"
      }
    },
    {
      "cell_type": "markdown",
      "metadata": {
        "id": "yhqhkWByi_4P"
      },
      "source": [
        "Classify text with BERT\n",
        "\n",
        "https://colab.research.google.com/github/tensorflow/text/blob/master/docs/tutorials/classify_text_with_bert.ipynb#scrollTo=IZ6SNYq_tVVC"
      ]
    },
    {
      "cell_type": "markdown",
      "source": [
        "GRU + FastText\n",
        "\n",
        "https://www.kaggle.com/code/yekenot/pooled-gru-fasttext/script"
      ],
      "metadata": {
        "id": "DpjJiQ6rcJXP"
      }
    },
    {
      "cell_type": "markdown",
      "source": [
        "# Задача 2. Зробити модель, яка генерує поеми в стилі Шекспіра.\n",
        "\n",
        "На вхід строка, на виході продовждення."
      ],
      "metadata": {
        "id": "3YeL2-j_pUkN"
      }
    },
    {
      "cell_type": "markdown",
      "source": [
        "https://www.kaggle.com/code/aashkatrivedi/shakespeare-text-generation/notebook"
      ],
      "metadata": {
        "id": "_abwqmQ4qB-7"
      }
    },
    {
      "cell_type": "markdown",
      "source": [
        "# Що далі?"
      ],
      "metadata": {
        "id": "xyMNsGn_znmi"
      }
    },
    {
      "cell_type": "markdown",
      "source": [
        "1. ПРАКТИКА\n",
        "2. ПРАКТИКА\n",
        "3. ПРАКТИКА\n",
        "4. Приймайте участь на змаганнях kaggle.\n",
        "5. Помиляйтесь!\n",
        "6. Закріплюйте ваші знання і з часом підіймайте спеціалізцію."
      ],
      "metadata": {
        "id": "hHnFnvFSzrlf"
      }
    },
    {
      "cell_type": "markdown",
      "source": [
        "# Що залишилось за кадром?\n"
      ],
      "metadata": {
        "id": "ar7K2YjC0Lie"
      }
    },
    {
      "cell_type": "markdown",
      "source": [
        "1. GAN - Generative Adversarial Network (Генеративна змагальна мережа)\n",
        "\n",
        "https://medium.com/@kyang3200/deep-learning-gan-generative-adversarial-networks-67ba72173d0c"
      ],
      "metadata": {
        "id": "GH-TXSrz0PxL"
      }
    },
    {
      "cell_type": "markdown",
      "source": [
        " Спробуйте тут:\n",
        "\n",
        " https://www.kaggle.com/code/jesucristo/gan-introduction"
      ],
      "metadata": {
        "id": "sJjYjmAQddWH"
      }
    },
    {
      "cell_type": "markdown",
      "source": [
        "![alt text](https://www.microsoft.com/en-us/research/uploads/prod/2021/06/1400x788_gan_blog_still_nologo_edited-scaled.jpg)"
      ],
      "metadata": {
        "id": "quOtMfFg0jwD"
      }
    },
    {
      "cell_type": "markdown",
      "source": [
        "2. Reinforcement learning (Навчання з підкріпленням)\n",
        "\n",
        "https://www.tensorflow.org/agents\n",
        "\n",
        "https://www.youtube.com/watch?v=52DTXidSVWc&list=PLQY2H8rRoyvxWE6bWx8XiMvyZFgg_25Q_&ab_channel=TensorFlow"
      ],
      "metadata": {
        "id": "mPyqqV4KeZe-"
      }
    },
    {
      "cell_type": "markdown",
      "source": [
        "![alt text](https://miro.medium.com/v2/resize:fit:2000/0*WC4l7u90TsKs_eXj.png)"
      ],
      "metadata": {
        "id": "kOHAn-j8fLme"
      }
    },
    {
      "cell_type": "markdown",
      "source": [
        "![alt text](https://www.mathworks.com/discovery/reinforcement-learning/_jcr_content/mainParsys3/discoverysubsection_603098216/mainParsys3/image.adapt.full.medium.png/1710347497474.png)"
      ],
      "metadata": {
        "id": "8GCCEvZifVK9"
      }
    }
  ],
  "metadata": {
    "colab": {
      "collapsed_sections": [
        "8NM4HKlMi8kH",
        "yJNI6y4dpcie",
        "3YeL2-j_pUkN",
        "xyMNsGn_znmi",
        "ar7K2YjC0Lie"
      ],
      "provenance": [],
      "gpuType": "T4"
    },
    "kernelspec": {
      "display_name": "Python 3",
      "name": "python3"
    },
    "language_info": {
      "name": "python"
    },
    "accelerator": "GPU"
  },
  "nbformat": 4,
  "nbformat_minor": 0
}