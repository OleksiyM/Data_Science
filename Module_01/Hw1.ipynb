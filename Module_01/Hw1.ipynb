{
  "cells": [
    {
      "cell_type": "markdown",
      "id": "49b4a591820b3018",
      "metadata": {
        "collapsed": false,
        "id": "49b4a591820b3018"
      },
      "source": [
        "# Module 1 homework"
      ]
    },
    {
      "cell_type": "code",
      "execution_count": 22,
      "id": "945c4e1ca2fc507a",
      "metadata": {
        "id": "945c4e1ca2fc507a",
        "ExecuteTime": {
          "end_time": "2024-04-11T18:32:09.032972Z",
          "start_time": "2024-04-11T18:32:09.026186Z"
        }
      },
      "outputs": [],
      "source": [
        "import numpy as np"
      ]
    },
    {
      "cell_type": "markdown",
      "id": "e8b2bd9eeea703a0",
      "metadata": {
        "collapsed": false,
        "id": "e8b2bd9eeea703a0"
      },
      "source": [
        "## 1 Створіть одновимірний масив (вектор) з першими 10-ма натуральними числами та виведіть його значення."
      ]
    },
    {
      "cell_type": "code",
      "execution_count": 23,
      "id": "4ecc1ec866f004de",
      "metadata": {
        "colab": {
          "base_uri": "https://localhost:8080/"
        },
        "id": "4ecc1ec866f004de",
        "outputId": "fa53a308-5890-4506-b1e0-107d722c491c",
        "ExecuteTime": {
          "end_time": "2024-04-11T18:32:09.177974Z",
          "start_time": "2024-04-11T18:32:09.173146Z"
        }
      },
      "outputs": [
        {
          "output_type": "stream",
          "name": "stdout",
          "text": [
            "одновимірний масив (вектор) з першими 10-ма натуральними числами:\n",
            " [ 1  2  3  4  5  6  7  8  9 10]\n"
          ]
        }
      ],
      "source": [
        "# variant 1\n",
        "natural_numbers_list = np.array(range(1, 11), dtype=int)\n",
        "print(\"одновимірний масив (вектор) з першими 10-ма натуральними числами:\\n\", natural_numbers_list)"
      ]
    },
    {
      "cell_type": "code",
      "execution_count": 24,
      "id": "646b586c823c4f1d",
      "metadata": {
        "colab": {
          "base_uri": "https://localhost:8080/"
        },
        "id": "646b586c823c4f1d",
        "outputId": "05d349d0-e4a7-47aa-e24d-27f795e7d278",
        "ExecuteTime": {
          "end_time": "2024-04-11T18:32:09.182959Z",
          "start_time": "2024-04-11T18:32:09.179406Z"
        }
      },
      "outputs": [
        {
          "output_type": "stream",
          "name": "stdout",
          "text": [
            "одновимірний масив (вектор) з першими 10-ма натуральними числами:\n",
            " [ 1  2  3  4  5  6  7  8  9 10]\n"
          ]
        }
      ],
      "source": [
        "# variant 2\n",
        "natural_numbers_list = np.arange(1, 11)\n",
        "print(\"одновимірний масив (вектор) з першими 10-ма натуральними числами:\\n\", natural_numbers_list)"
      ]
    },
    {
      "cell_type": "markdown",
      "id": "1974a51d429810a3",
      "metadata": {
        "collapsed": false,
        "id": "1974a51d429810a3"
      },
      "source": [
        "## 2 Створіть двовимірний масив (матрицю) розміром 3x3, заповніть його нулями та виведіть його значення."
      ]
    },
    {
      "cell_type": "code",
      "execution_count": 25,
      "id": "360b6805aee96b23",
      "metadata": {
        "colab": {
          "base_uri": "https://localhost:8080/"
        },
        "id": "360b6805aee96b23",
        "outputId": "87690c7a-58b3-4e3e-978b-a9f7dfb188d1",
        "ExecuteTime": {
          "end_time": "2024-04-11T18:32:09.197173Z",
          "start_time": "2024-04-11T18:32:09.184300Z"
        }
      },
      "outputs": [
        {
          "output_type": "execute_result",
          "data": {
            "text/plain": [
              "array([[0, 0, 0],\n",
              "       [0, 0, 0],\n",
              "       [0, 0, 0]])"
            ]
          },
          "metadata": {},
          "execution_count": 25
        }
      ],
      "source": [
        "# variant 1\n",
        "two_dimension_array = np.array([[0, 0, 0], [0, 0, 0], [0, 0, 0]])\n",
        "two_dimension_array"
      ]
    },
    {
      "cell_type": "code",
      "execution_count": 26,
      "id": "7f92e5a74e547206",
      "metadata": {
        "colab": {
          "base_uri": "https://localhost:8080/"
        },
        "id": "7f92e5a74e547206",
        "outputId": "064d1962-fa4c-4f73-aac3-7fca748b2c2e",
        "ExecuteTime": {
          "end_time": "2024-04-11T18:32:09.203088Z",
          "start_time": "2024-04-11T18:32:09.198462Z"
        }
      },
      "outputs": [
        {
          "output_type": "stream",
          "name": "stdout",
          "text": [
            "Матриця розміром 3x3, заповнена нулями:\n",
            " [[0 0 0]\n",
            " [0 0 0]\n",
            " [0 0 0]]\n"
          ]
        }
      ],
      "source": [
        "# variant 2\n",
        "matrix_3 = np.zeros((3, 3), dtype=int)\n",
        "print(\"Матриця розміром 3x3, заповнена нулями:\\n\", matrix_3)"
      ]
    },
    {
      "cell_type": "markdown",
      "id": "4ef259a3c4c702cb",
      "metadata": {
        "collapsed": false,
        "id": "4ef259a3c4c702cb"
      },
      "source": [
        "## 3 Створіть масив розміром 5x5, заповніть його випадковими цілими числами в діапазоні від 1 до 10 та виведіть його значення."
      ]
    },
    {
      "cell_type": "code",
      "execution_count": 27,
      "id": "ba5a8f9e2309359c",
      "metadata": {
        "colab": {
          "base_uri": "https://localhost:8080/"
        },
        "id": "ba5a8f9e2309359c",
        "outputId": "d893392f-fb97-4508-d9e7-bfe96b09b4de",
        "ExecuteTime": {
          "end_time": "2024-04-11T18:32:09.210359Z",
          "start_time": "2024-04-11T18:32:09.205277Z"
        }
      },
      "outputs": [
        {
          "output_type": "stream",
          "name": "stdout",
          "text": [
            "Матриця розміром 5x5, заповнена випадковими цілими числами в діапазоні від 1 до 10:\n",
            " [[ 5  3  1  8  8]\n",
            " [ 4  5  5  5  6]\n",
            " [10  1  5  4  7]\n",
            " [10  9 10  5  6]\n",
            " [ 7  8 10  9  9]]\n"
          ]
        }
      ],
      "source": [
        "random_matrix_int_5 = np.random.randint(1, 11, (5, 5))\n",
        "print(\"Матриця розміром 5x5, заповнена випадковими цілими числами в діапазоні від 1 до 10:\\n\", random_matrix_int_5)\n"
      ]
    },
    {
      "cell_type": "markdown",
      "id": "9644ccbf449d867f",
      "metadata": {
        "collapsed": false,
        "id": "9644ccbf449d867f"
      },
      "source": [
        "## 4 Створіть масив розміром 4x4, заповніть його випадковими дійсними числами в діапазоні від 0 до 1 та виведіть його значення."
      ]
    },
    {
      "cell_type": "code",
      "execution_count": 28,
      "id": "4cd3fb9ce71ed969",
      "metadata": {
        "colab": {
          "base_uri": "https://localhost:8080/"
        },
        "id": "4cd3fb9ce71ed969",
        "outputId": "856b6dd2-9c6e-4328-cf0c-1cbcb2cf9eec",
        "ExecuteTime": {
          "end_time": "2024-04-11T18:32:09.215543Z",
          "start_time": "2024-04-11T18:32:09.211566Z"
        }
      },
      "outputs": [
        {
          "output_type": "stream",
          "name": "stdout",
          "text": [
            "Матриця розміром 4x4, заповнена випадковими дійсними числами в діапазоні від 0 до 1:\n",
            "[[0.17110402 0.12967461 0.95176222 0.78543358]\n",
            " [0.2570409  0.92422592 0.20675815 0.75424816]\n",
            " [0.95795699 0.71837336 0.63661125 0.80745163]\n",
            " [0.53148403 0.70668798 0.54460407 0.60510715]]\n"
          ]
        }
      ],
      "source": [
        "random_matrix_4 = np.random.rand(4, 4)\n",
        "print(\"Матриця розміром 4x4, заповнена випадковими дійсними числами в діапазоні від 0 до 1:\")\n",
        "print(random_matrix_4)"
      ]
    },
    {
      "cell_type": "markdown",
      "id": "9a11f3e81d90b90",
      "metadata": {
        "collapsed": false,
        "id": "9a11f3e81d90b90"
      },
      "source": [
        "## 5 Створіть два одновимірних масиви розміром 5, заповніть їх випадковими цілими числами в діапазоні від 1 до 10 та виконайте на них поелементні операції додавання, віднімання та множення."
      ]
    },
    {
      "cell_type": "code",
      "execution_count": 29,
      "id": "c7dfc1194dc73615",
      "metadata": {
        "colab": {
          "base_uri": "https://localhost:8080/"
        },
        "id": "c7dfc1194dc73615",
        "outputId": "f42e07f3-141f-404b-c4e1-76d6801dfb32",
        "ExecuteTime": {
          "end_time": "2024-04-11T18:32:09.220821Z",
          "start_time": "2024-04-11T18:32:09.216500Z"
        }
      },
      "outputs": [
        {
          "output_type": "stream",
          "name": "stdout",
          "text": [
            "Перший масив: [3 1 5 4 2]\n",
            "Другий масив: [ 1 10  2  4  6]\n",
            "Сума: [ 4 11  7  8  8]\n",
            "Різниця: [ 2 -9  3  0 -4]\n",
            "Добуток: [ 3 10 10 16 12]\n"
          ]
        }
      ],
      "source": [
        "first_arr_5 = np.random.randint(1, 11, 5)\n",
        "second_arr_5 = np.random.randint(1, 11, 5)\n",
        "\n",
        "arrays_sum = first_arr_5 + second_arr_5\n",
        "arrays_substr = first_arr_5 - second_arr_5\n",
        "arrays_mutl = first_arr_5 * second_arr_5\n",
        "\n",
        "print(\"Перший масив:\", first_arr_5)\n",
        "print(\"Другий масив:\", second_arr_5)\n",
        "print(\"Сума:\", arrays_sum)\n",
        "print(\"Різниця:\", arrays_substr)\n",
        "print(\"Добуток:\", arrays_mutl)"
      ]
    },
    {
      "cell_type": "markdown",
      "id": "d0aad858bed53151",
      "metadata": {
        "collapsed": false,
        "id": "d0aad858bed53151"
      },
      "source": [
        "## 6 Створіть два вектори розміром 7, заповніть довільними числами та знайдіть їх скалярний добуток."
      ]
    },
    {
      "cell_type": "code",
      "execution_count": 30,
      "id": "5ee181d8770841b",
      "metadata": {
        "colab": {
          "base_uri": "https://localhost:8080/"
        },
        "id": "5ee181d8770841b",
        "outputId": "80045dad-a0fb-469e-ea11-f69219ca3af3",
        "ExecuteTime": {
          "end_time": "2024-04-11T18:32:09.228997Z",
          "start_time": "2024-04-11T18:32:09.222826Z"
        }
      },
      "outputs": [
        {
          "output_type": "stream",
          "name": "stdout",
          "text": [
            "Вектор 1:\n",
            " [0.25664356 0.96818401 0.65036615 0.22710387 0.65378324 0.57299987\n",
            " 0.84848361]\n",
            "Вектор 2:\n",
            " [0.89675962 0.69545611 0.54315836 0.09610604 0.25499903 0.29473375\n",
            " 0.97246123]\n",
            "Добуток векторів:\n",
            " [0.23014759 0.67332949 0.35325181 0.02182605 0.16671409 0.1688824\n",
            " 0.82511742]\n",
            "Скалярний добуток:\n",
            " 2.439268849742297\n"
          ]
        }
      ],
      "source": [
        "vector1 = np.random.rand(7)\n",
        "vector2 = np.random.rand(7)\n",
        "\n",
        "scalar_dot = np.dot(vector1, vector2)\n",
        "vector_mult = vector1 * vector2\n",
        "\n",
        "print(\"Вектор 1:\\n\", vector1)\n",
        "print(\"Вектор 2:\\n\", vector2)\n",
        "print(\"Добуток векторів:\\n\", vector_mult)\n",
        "print(\"Скалярний добуток:\\n\", scalar_dot)\n"
      ]
    },
    {
      "cell_type": "markdown",
      "id": "6f39b3702b2dbd42",
      "metadata": {
        "collapsed": false,
        "id": "6f39b3702b2dbd42"
      },
      "source": [
        "## 7 Створіть дві матриці розміром 2x2 та 2x3, заповніть їх випадковими цілими числами в діапазоні від 1 до 10 та перемножте їх між собою."
      ]
    },
    {
      "cell_type": "code",
      "execution_count": 31,
      "id": "3dc125b19bebbc43",
      "metadata": {
        "colab": {
          "base_uri": "https://localhost:8080/"
        },
        "id": "3dc125b19bebbc43",
        "outputId": "0387fcd5-a818-4f83-c870-0ef864ef9abf",
        "ExecuteTime": {
          "end_time": "2024-04-11T18:32:09.237747Z",
          "start_time": "2024-04-11T18:32:09.233057Z"
        }
      },
      "outputs": [
        {
          "output_type": "stream",
          "name": "stdout",
          "text": [
            "Перша матриця:\n",
            " [[ 5  7]\n",
            " [10  9]]\n",
            "Друга матриця:\n",
            " [[ 1  5  9]\n",
            " [10  4  5]]\n",
            "Добуток матриць:\n",
            " [[ 75  53  80]\n",
            " [100  86 135]]\n"
          ]
        }
      ],
      "source": [
        "matrix_1 = np.random.randint(1, 11, (2, 2))\n",
        "matrix_2 = np.random.randint(1, 11, (2, 3))\n",
        "\n",
        "matrix_dot = np.dot(matrix_1, matrix_2)\n",
        "\n",
        "print(\"Перша матриця:\\n\", matrix_1)\n",
        "print(\"Друга матриця:\\n\", matrix_2)\n",
        "print(\"Добуток матриць:\\n\", matrix_dot)"
      ]
    },
    {
      "cell_type": "markdown",
      "id": "69ba9dffc5329a04",
      "metadata": {
        "collapsed": false,
        "id": "69ba9dffc5329a04"
      },
      "source": [
        "## 8 Створіть матрицю розміром 3x3, заповніть її випадковими цілими числами в діапазоні від 1 до 10 та знайдіть її обернену матрицю."
      ]
    },
    {
      "cell_type": "code",
      "execution_count": 32,
      "id": "f5ae44359c1b8158",
      "metadata": {
        "colab": {
          "base_uri": "https://localhost:8080/"
        },
        "id": "f5ae44359c1b8158",
        "outputId": "03eb368a-ec61-495b-c875-7480eb073408",
        "ExecuteTime": {
          "end_time": "2024-04-11T18:32:09.249652Z",
          "start_time": "2024-04-11T18:32:09.240403Z"
        }
      },
      "outputs": [
        {
          "output_type": "stream",
          "name": "stdout",
          "text": [
            "Матриця:\n",
            " [[ 1  2  9]\n",
            " [ 5 10  3]\n",
            " [ 8  1  7]]\n",
            "Обернена матриця:\n",
            " [[-1.06349206e-01  7.93650794e-03  1.33333333e-01]\n",
            " [ 1.74603175e-02  1.03174603e-01 -6.66666667e-02]\n",
            " [ 1.19047619e-01 -2.38095238e-02  8.26058798e-19]]\n"
          ]
        }
      ],
      "source": [
        "matrix = np.random.randint(1, 11, (3, 3))\n",
        "# matrix = np.array([[1, 0, 0], [0, 1, 0], [0, 0, 0]])  # не має оберненої\n",
        "\n",
        "try:\n",
        "    inverse_matrix = np.linalg.inv(matrix)\n",
        "except np.linalg.LinAlgError:\n",
        "    print(\"Матриця\\n\", matrix, \"\\nне має оберненої\")\n",
        "else:\n",
        "    print(\"Матриця:\\n\", matrix)\n",
        "    print(\"Обернена матриця:\\n\", inverse_matrix)\n"
      ]
    },
    {
      "cell_type": "markdown",
      "id": "5f405f4e9ca63234",
      "metadata": {
        "collapsed": false,
        "id": "5f405f4e9ca63234"
      },
      "source": [
        "## 9 Створіть матрицю розміром 4x4, заповніть її випадковими дійсними числами в діапазоні від 0 до 1 та транспонуйте її."
      ]
    },
    {
      "cell_type": "code",
      "execution_count": 33,
      "id": "728626747444e3f4",
      "metadata": {
        "colab": {
          "base_uri": "https://localhost:8080/"
        },
        "id": "728626747444e3f4",
        "outputId": "8db57745-b982-4248-c08e-656cc95b66e9",
        "ExecuteTime": {
          "end_time": "2024-04-11T18:32:09.259286Z",
          "start_time": "2024-04-11T18:32:09.255492Z"
        }
      },
      "outputs": [
        {
          "output_type": "stream",
          "name": "stdout",
          "text": [
            "Матриця:\n",
            " [[0.18981965 0.98868416 0.84643065 0.40564057]\n",
            " [0.43934195 0.11173959 0.69618677 0.39153742]\n",
            " [0.4008809  0.66707962 0.92036578 0.60957023]\n",
            " [0.65176162 0.84032086 0.71066203 0.06765947]]\n",
            "Обернена матриця:\n",
            " [[0.18981965 0.43934195 0.4008809  0.65176162]\n",
            " [0.98868416 0.11173959 0.66707962 0.84032086]\n",
            " [0.84643065 0.69618677 0.92036578 0.71066203]\n",
            " [0.40564057 0.39153742 0.60957023 0.06765947]]\n"
          ]
        }
      ],
      "source": [
        "matrix = np.random.rand(4, 4)\n",
        "matrix_T = matrix.T\n",
        "print(\"Матриця:\\n\", matrix)\n",
        "print(\"Обернена матриця:\\n\", matrix_T)"
      ]
    },
    {
      "cell_type": "markdown",
      "id": "ddee172b8cfb6717",
      "metadata": {
        "collapsed": false,
        "id": "ddee172b8cfb6717"
      },
      "source": [
        "## 10 Створіть матрицю розміром 3x4 та вектор розміром 4, заповніть їх випадковими цілими числами в діапазоні від 1 до 10 та перемножте матрицю на вектор."
      ]
    },
    {
      "cell_type": "code",
      "execution_count": 34,
      "id": "5754495eb07914ae",
      "metadata": {
        "colab": {
          "base_uri": "https://localhost:8080/"
        },
        "id": "5754495eb07914ae",
        "outputId": "d676749e-0c9a-40eb-8d96-97f9e2a788ac",
        "ExecuteTime": {
          "end_time": "2024-04-11T18:32:09.333101Z",
          "start_time": "2024-04-11T18:32:09.327903Z"
        }
      },
      "outputs": [
        {
          "output_type": "stream",
          "name": "stdout",
          "text": [
            "Матриця:\n",
            " [[ 1  9  3  4]\n",
            " [ 8  4  7  4]\n",
            " [10  9  4  3]]\n",
            "Вектор:\n",
            " [4 2 8 6]\n",
            "Добуток:\n",
            " [[ 4 18 24 24]\n",
            " [32  8 56 24]\n",
            " [40 18 32 18]]\n"
          ]
        }
      ],
      "source": [
        "matrix = np.random.randint(1, 11, (3, 4))\n",
        "vektor = np.random.randint(1, 11, 4)\n",
        "result = matrix * vektor\n",
        "\n",
        "print(\"Матриця:\\n\", matrix)\n",
        "print(\"Вектор:\\n\", vektor)\n",
        "print(\"Добуток:\\n\", result)\n"
      ]
    },
    {
      "cell_type": "markdown",
      "id": "996f137aa195f155",
      "metadata": {
        "collapsed": false,
        "id": "996f137aa195f155"
      },
      "source": [
        "## 11 Створіть матрицю розміром 2x3 та вектор розміром 3, заповніть їх випадковими дійсними числами в діапазоні від 0 до 1 та перемножте матрицю на вектор."
      ]
    },
    {
      "cell_type": "code",
      "execution_count": 35,
      "id": "7e625de1b7736318",
      "metadata": {
        "colab": {
          "base_uri": "https://localhost:8080/"
        },
        "id": "7e625de1b7736318",
        "outputId": "da3dd3c8-af3c-4f3a-fa98-304232ed7a40",
        "ExecuteTime": {
          "end_time": "2024-04-11T18:32:09.353674Z",
          "start_time": "2024-04-11T18:32:09.347959Z"
        }
      },
      "outputs": [
        {
          "output_type": "stream",
          "name": "stdout",
          "text": [
            "Матриця:\n",
            " [[0.24089822 0.65497569 0.15465379]\n",
            " [0.28442505 0.27825525 0.02876144]]\n",
            "Вектор:\n",
            " [0.89107732 0.58093812 0.36714457]\n",
            "Добуток:\n",
            " [[0.21465894 0.38050035 0.0567803 ]\n",
            " [0.25344471 0.16164908 0.01055961]]\n"
          ]
        }
      ],
      "source": [
        "matrix = np.random.rand(2, 3)\n",
        "vector = np.random.rand(3)\n",
        "result = matrix * vector\n",
        "\n",
        "print(\"Матриця:\\n\", matrix)\n",
        "print(\"Вектор:\\n\", vector)\n",
        "print(\"Добуток:\\n\", result)"
      ]
    },
    {
      "cell_type": "markdown",
      "id": "6c97a8707ab82e13",
      "metadata": {
        "collapsed": false,
        "id": "6c97a8707ab82e13"
      },
      "source": [
        "## 12 Створіть дві матриці розміром 2x2, заповніть їх випадковими цілими числами в діапазоні від 1 до 10 та виконайте їхнє поелементне множення."
      ]
    },
    {
      "cell_type": "code",
      "execution_count": 36,
      "id": "ecadecd7b3cb1a60",
      "metadata": {
        "colab": {
          "base_uri": "https://localhost:8080/"
        },
        "id": "ecadecd7b3cb1a60",
        "outputId": "4361bd71-9f29-4a24-a601-96672af625f6",
        "ExecuteTime": {
          "end_time": "2024-04-11T18:32:09.386568Z",
          "start_time": "2024-04-11T18:32:09.381882Z"
        }
      },
      "outputs": [
        {
          "output_type": "stream",
          "name": "stdout",
          "text": [
            "Перша матриця:\n",
            " [[ 5 10]\n",
            " [10  8]]\n",
            "Друга матриця:\n",
            " [[9 9]\n",
            " [8 5]]\n",
            "Поелементне множення матриць:\n",
            " [[45 90]\n",
            " [80 40]]\n"
          ]
        }
      ],
      "source": [
        "matrix_1 = np.random.randint(1, 11, (2, 2))\n",
        "matrix_2 = np.random.randint(1, 11, (2, 2))\n",
        "\n",
        "result = matrix_1 * matrix_2\n",
        "\n",
        "print(\"Перша матриця:\\n\", matrix_1)\n",
        "print(\"Друга матриця:\\n\", matrix_2)\n",
        "print(\"Поелементне множення матриць:\\n\", result)"
      ]
    },
    {
      "cell_type": "markdown",
      "id": "89cd55cdad5920c5",
      "metadata": {
        "collapsed": false,
        "id": "89cd55cdad5920c5"
      },
      "source": [
        "## 13 Створіть дві матриці розміром 2x2, заповніть їх випадковими цілими числами в діапазоні від 1 до 10 та знайдіть їх добуток."
      ]
    },
    {
      "cell_type": "code",
      "execution_count": 37,
      "id": "7692addf934bf864",
      "metadata": {
        "colab": {
          "base_uri": "https://localhost:8080/"
        },
        "id": "7692addf934bf864",
        "outputId": "56aadd78-428d-4b3d-df56-263e9d2829a4",
        "ExecuteTime": {
          "end_time": "2024-04-11T18:32:09.391970Z",
          "start_time": "2024-04-11T18:32:09.389137Z"
        }
      },
      "outputs": [
        {
          "output_type": "stream",
          "name": "stdout",
          "text": [
            "Перша матриця:\n",
            " [[3 5]\n",
            " [9 8]]\n",
            "Друга матриця:\n",
            " [[10  2]\n",
            " [ 2  5]]\n",
            "Добуток матриць:\n",
            " [[ 40  31]\n",
            " [106  58]]\n"
          ]
        }
      ],
      "source": [
        "matrix_1 = np.random.randint(1, 11, (2, 2))\n",
        "matrix_2 = np.random.randint(1, 11, (2, 2))\n",
        "\n",
        "result = np.dot(matrix_1, matrix_2)\n",
        "\n",
        "print(\"Перша матриця:\\n\", matrix_1)\n",
        "print(\"Друга матриця:\\n\", matrix_2)\n",
        "print(\"Добуток матриць:\\n\", result)"
      ]
    },
    {
      "cell_type": "markdown",
      "id": "9e011027a45f8c7e",
      "metadata": {
        "collapsed": false,
        "id": "9e011027a45f8c7e"
      },
      "source": [
        "## 14 Створіть матрицю розміром 5x5, заповніть її випадковими цілими числами в діапазоні від 1 до 100 та знайдіть суму елементів матриці."
      ]
    },
    {
      "cell_type": "code",
      "execution_count": 38,
      "id": "d335453e9f003691",
      "metadata": {
        "colab": {
          "base_uri": "https://localhost:8080/"
        },
        "id": "d335453e9f003691",
        "outputId": "a2b39fb2-f26f-4e68-8efb-efc830b5745c",
        "ExecuteTime": {
          "end_time": "2024-04-11T18:32:09.398055Z",
          "start_time": "2024-04-11T18:32:09.394838Z"
        }
      },
      "outputs": [
        {
          "output_type": "stream",
          "name": "stdout",
          "text": [
            "Матриця:\n",
            " [[48 85  8 43 63]\n",
            " [36 10 63 83 52]\n",
            " [94 46 99 77  6]\n",
            " [36 93 28 20 10]\n",
            " [80  6 85 63 23]]\n",
            "Сума елементів матриці: 1257\n"
          ]
        }
      ],
      "source": [
        "matrix = np.random.randint(1, 101, (5, 5))\n",
        "\n",
        "result = matrix.sum()\n",
        "\n",
        "print(\"Матриця:\\n\", matrix)\n",
        "print(\"Сума елементів матриці:\", result)"
      ]
    },
    {
      "cell_type": "markdown",
      "id": "a1d9a9ae8193ac3b",
      "metadata": {
        "collapsed": false,
        "id": "a1d9a9ae8193ac3b"
      },
      "source": [
        "## 15 Створіть дві матриці розміром 4x4, заповніть їх випадковими цілими числами в діапазоні від 1 до 10 та знайдіть їхню різницю."
      ]
    },
    {
      "cell_type": "code",
      "execution_count": 39,
      "id": "d7366d763ebbf396",
      "metadata": {
        "colab": {
          "base_uri": "https://localhost:8080/"
        },
        "id": "d7366d763ebbf396",
        "outputId": "eda13f3e-314a-4503-ee12-bc98b1fb2286",
        "ExecuteTime": {
          "end_time": "2024-04-11T18:32:09.404369Z",
          "start_time": "2024-04-11T18:32:09.400447Z"
        }
      },
      "outputs": [
        {
          "output_type": "stream",
          "name": "stdout",
          "text": [
            "Перша матриця:\n",
            " [[ 7  7  4  8]\n",
            " [10  1  1  4]\n",
            " [ 6  6  4  1]\n",
            " [ 5  3  2  8]]\n",
            "Друга матриця:\n",
            " [[ 7  6  4  2]\n",
            " [ 4 10 10  9]\n",
            " [ 9 10  6  5]\n",
            " [ 9  2  9  7]]\n",
            "Різниця матриць:\n",
            " [[ 0  1  0  6]\n",
            " [ 6 -9 -9 -5]\n",
            " [-3 -4 -2 -4]\n",
            " [-4  1 -7  1]]\n",
            "Різниця матриць (варіант 2):\n",
            " [[ 0  1  0  6]\n",
            " [ 6 -9 -9 -5]\n",
            " [-3 -4 -2 -4]\n",
            " [-4  1 -7  1]]\n"
          ]
        }
      ],
      "source": [
        "matrix_1 = np.random.randint(1, 11, (4, 4))\n",
        "matrix_2 = np.random.randint(1, 11, (4, 4))\n",
        "\n",
        "result = np.subtract(matrix_1, matrix_2)\n",
        "result2 = matrix_1 - matrix_2\n",
        "\n",
        "print(\"Перша матриця:\\n\", matrix_1)\n",
        "print(\"Друга матриця:\\n\", matrix_2)\n",
        "print(\"Різниця матриць:\\n\", result)\n",
        "print(\"Різниця матриць (варіант 2):\\n\", result2)\n"
      ]
    },
    {
      "cell_type": "markdown",
      "id": "a1423e5f0bc51aa9",
      "metadata": {
        "collapsed": false,
        "id": "a1423e5f0bc51aa9"
      },
      "source": [
        "## 16 Створіть матрицю розміром 3x3, заповніть її випадковими дійсними числами в діапазоні від 0 до 1 та знайдіть вектор-стовпчик, що містить суму елементів кожного рядка матриці."
      ]
    },
    {
      "cell_type": "code",
      "execution_count": 40,
      "id": "3800a4db8493d23",
      "metadata": {
        "colab": {
          "base_uri": "https://localhost:8080/"
        },
        "id": "3800a4db8493d23",
        "outputId": "eb1804ff-b284-43e3-ef33-f89ad878c560",
        "ExecuteTime": {
          "end_time": "2024-04-11T18:32:09.438313Z",
          "start_time": "2024-04-11T18:32:09.433871Z"
        }
      },
      "outputs": [
        {
          "output_type": "stream",
          "name": "stdout",
          "text": [
            "Матриця:\n",
            " [[0.01330532 0.11011603 0.73427921]\n",
            " [0.62720856 0.84550558 0.8413868 ]\n",
            " [0.95218843 0.78957243 0.95552942]]\n",
            "Вектор-стовпчик:\n",
            " [0.85770055 2.31410094 2.69729028]\n",
            "Вектор-стовпчик (варіант 2):\n",
            " [0.85770055 2.31410094 2.69729028]\n"
          ]
        }
      ],
      "source": [
        "matrix = np.random.rand(3, 3)\n",
        "\n",
        "sum_vector = np.sum(matrix, axis=1)\n",
        "sum_vector2 = np.array([matrix[0].sum(), matrix[1].sum(), matrix[2].sum()])\n",
        "\n",
        "print(\"Матриця:\\n\", matrix)\n",
        "print(\"Вектор-стовпчик:\\n\", sum_vector)\n",
        "print(\"Вектор-стовпчик (варіант 2):\\n\", sum_vector2)"
      ]
    },
    {
      "cell_type": "markdown",
      "id": "29a229bfa8ab5a58",
      "metadata": {
        "collapsed": false,
        "id": "29a229bfa8ab5a58"
      },
      "source": [
        "## 17 Створіть матрицю розміром 3x4 з довільними цілими числами і створінь матрицю з квадратами цих чисел."
      ]
    },
    {
      "cell_type": "code",
      "execution_count": 41,
      "id": "c811bf09bf000cd7",
      "metadata": {
        "colab": {
          "base_uri": "https://localhost:8080/"
        },
        "id": "c811bf09bf000cd7",
        "outputId": "4cb9938e-cbe1-4fe3-f0db-4d1cba77875e",
        "ExecuteTime": {
          "end_time": "2024-04-11T18:32:09.445949Z",
          "start_time": "2024-04-11T18:32:09.442799Z"
        }
      },
      "outputs": [
        {
          "output_type": "stream",
          "name": "stdout",
          "text": [
            "Матриця:\n",
            " [[9 3 1 6]\n",
            " [7 4 3 7]\n",
            " [7 7 6 7]]\n",
            "Матриця з квадратами чисел:\n",
            " [[81  9  1 36]\n",
            " [49 16  9 49]\n",
            " [49 49 36 49]]\n"
          ]
        }
      ],
      "source": [
        "matrix = np.random.randint(1, 11, (3, 4))\n",
        "\n",
        "result = np.square(matrix)\n",
        "\n",
        "print(\"Матриця:\\n\", matrix)\n",
        "print(\"Матриця з квадратами чисел:\\n\", result)"
      ]
    },
    {
      "cell_type": "markdown",
      "id": "9c5d4b7b74f1793b",
      "metadata": {
        "collapsed": false,
        "id": "9c5d4b7b74f1793b"
      },
      "source": [
        "## 18 Створіть вектор розміром 4, заповніть його випадковими цілими числами в діапазоні від 1 до 50 та знайдіть вектор з квадратними коренями цих чисел."
      ]
    },
    {
      "cell_type": "code",
      "execution_count": 42,
      "id": "24611d992952598",
      "metadata": {
        "colab": {
          "base_uri": "https://localhost:8080/"
        },
        "id": "24611d992952598",
        "outputId": "0791d2a0-2f26-419c-82f4-e52ce646d0d2",
        "ExecuteTime": {
          "end_time": "2024-04-11T18:32:09.451770Z",
          "start_time": "2024-04-11T18:32:09.448104Z"
        }
      },
      "outputs": [
        {
          "output_type": "stream",
          "name": "stdout",
          "text": [
            "Вектор:\n",
            " [27 39 40 25]\n",
            "Вектор з квадратними коренями:\n",
            " [5.19615242 6.244998   6.32455532 5.        ]\n"
          ]
        }
      ],
      "source": [
        "vector = np.random.randint(1, 51, 4)\n",
        "result = np.sqrt(vector)\n",
        "print(\"Вектор:\\n\", vector)\n",
        "print(\"Вектор з квадратними коренями:\\n\", result)"
      ]
    }
  ],
  "metadata": {
    "colab": {
      "provenance": []
    },
    "kernelspec": {
      "display_name": "Python 3",
      "language": "python",
      "name": "python3"
    },
    "language_info": {
      "codemirror_mode": {
        "name": "ipython",
        "version": 3
      },
      "file_extension": ".py",
      "mimetype": "text/x-python",
      "name": "python",
      "nbconvert_exporter": "python",
      "pygments_lexer": "ipython3",
      "version": "3.11.7"
    }
  },
  "nbformat": 4,
  "nbformat_minor": 5
}