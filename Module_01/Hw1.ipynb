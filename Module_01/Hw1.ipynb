{
  "cells": [
    {
      "cell_type": "markdown",
      "id": "49b4a591820b3018",
      "metadata": {
        "collapsed": false,
        "id": "49b4a591820b3018"
      },
      "source": [
        "# Module 1 homework"
      ]
    },
    {
      "cell_type": "code",
      "execution_count": 1,
      "id": "945c4e1ca2fc507a",
      "metadata": {
        "ExecuteTime": {
          "end_time": "2024-04-11T16:33:28.085992Z",
          "start_time": "2024-04-11T16:33:28.068267Z"
        },
        "id": "945c4e1ca2fc507a"
      },
      "outputs": [],
      "source": [
        "import numpy as np"
      ]
    },
    {
      "cell_type": "markdown",
      "id": "e8b2bd9eeea703a0",
      "metadata": {
        "collapsed": false,
        "id": "e8b2bd9eeea703a0"
      },
      "source": [
        "## 1 Створіть одновимірний масив (вектор) з першими 10-ма натуральними числами та виведіть його значення."
      ]
    },
    {
      "cell_type": "code",
      "execution_count": 2,
      "id": "4ecc1ec866f004de",
      "metadata": {
        "ExecuteTime": {
          "end_time": "2024-04-11T16:33:28.204137Z",
          "start_time": "2024-04-11T16:33:28.196059Z"
        },
        "colab": {
          "base_uri": "https://localhost:8080/"
        },
        "id": "4ecc1ec866f004de",
        "outputId": "e292146b-9153-4bc6-9229-338181a5f091"
      },
      "outputs": [
        {
          "output_type": "stream",
          "name": "stdout",
          "text": [
            "одновимірний масив (вектор) з першими 10-ма натуральними числами:\n"
          ]
        },
        {
          "output_type": "execute_result",
          "data": {
            "text/plain": [
              "array([ 1,  2,  3,  4,  5,  6,  7,  8,  9, 10])"
            ]
          },
          "metadata": {},
          "execution_count": 2
        }
      ],
      "source": [
        "# variant 1\n",
        "natural_numbers_list = np.array(range(1, 11), dtype=int)\n",
        "print(\"одновимірний масив (вектор) з першими 10-ма натуральними числами:\")\n",
        "natural_numbers_list"
      ]
    },
    {
      "cell_type": "code",
      "execution_count": 3,
      "id": "646b586c823c4f1d",
      "metadata": {
        "ExecuteTime": {
          "end_time": "2024-04-11T17:14:22.341723Z",
          "start_time": "2024-04-11T17:14:22.326095Z"
        },
        "colab": {
          "base_uri": "https://localhost:8080/"
        },
        "id": "646b586c823c4f1d",
        "outputId": "85d3febe-9fe8-4027-c2d8-28559d35ed0a"
      },
      "outputs": [
        {
          "output_type": "stream",
          "name": "stdout",
          "text": [
            "одновимірний масив (вектор) з першими 10-ма натуральними числами:\n"
          ]
        },
        {
          "output_type": "execute_result",
          "data": {
            "text/plain": [
              "array([ 1,  2,  3,  4,  5,  6,  7,  8,  9, 10])"
            ]
          },
          "metadata": {},
          "execution_count": 3
        }
      ],
      "source": [
        "# variant 2\n",
        "natural_numbers_list = np.arange(1, 11)\n",
        "print(\"одновимірний масив (вектор) з першими 10-ма натуральними числами:\")\n",
        "natural_numbers_list"
      ]
    },
    {
      "cell_type": "markdown",
      "id": "1974a51d429810a3",
      "metadata": {
        "collapsed": false,
        "id": "1974a51d429810a3"
      },
      "source": [
        "## 2 Створіть двовимірний масив (матрицю) розміром 3x3, заповніть його нулями та виведіть його значення."
      ]
    },
    {
      "cell_type": "code",
      "execution_count": 4,
      "id": "360b6805aee96b23",
      "metadata": {
        "ExecuteTime": {
          "end_time": "2024-04-11T16:33:28.238464Z",
          "start_time": "2024-04-11T16:33:28.232724Z"
        },
        "colab": {
          "base_uri": "https://localhost:8080/"
        },
        "id": "360b6805aee96b23",
        "outputId": "33b2c738-75bb-482e-9d98-d64689bf7b14"
      },
      "outputs": [
        {
          "output_type": "execute_result",
          "data": {
            "text/plain": [
              "array([[0, 0, 0],\n",
              "       [0, 0, 0],\n",
              "       [0, 0, 0]])"
            ]
          },
          "metadata": {},
          "execution_count": 4
        }
      ],
      "source": [
        "# variant 1\n",
        "two_dimension_array = np.array([[0, 0, 0], [0, 0, 0], [0, 0, 0]])\n",
        "two_dimension_array"
      ]
    },
    {
      "cell_type": "code",
      "execution_count": 5,
      "id": "7f92e5a74e547206",
      "metadata": {
        "ExecuteTime": {
          "end_time": "2024-04-11T17:15:10.845662Z",
          "start_time": "2024-04-11T17:15:10.827933Z"
        },
        "colab": {
          "base_uri": "https://localhost:8080/"
        },
        "id": "7f92e5a74e547206",
        "outputId": "746a8a17-b211-4441-ae9e-942c998bde05"
      },
      "outputs": [
        {
          "output_type": "stream",
          "name": "stdout",
          "text": [
            "Матриця розміром 3x3, заповнена нулями:\n",
            " [[0 0 0]\n",
            " [0 0 0]\n",
            " [0 0 0]]\n"
          ]
        }
      ],
      "source": [
        "# variant 2\n",
        "matrix_3 = np.zeros((3, 3), dtype=int)\n",
        "print(\"Матриця розміром 3x3, заповнена нулями:\\n\", matrix_3)"
      ]
    },
    {
      "cell_type": "markdown",
      "id": "4ef259a3c4c702cb",
      "metadata": {
        "collapsed": false,
        "id": "4ef259a3c4c702cb"
      },
      "source": [
        "## 3 Створіть масив розміром 5x5, заповніть його випадковими цілими числами в діапазоні від 1 до 10 та виведіть його значення."
      ]
    },
    {
      "cell_type": "code",
      "execution_count": 6,
      "id": "ba5a8f9e2309359c",
      "metadata": {
        "ExecuteTime": {
          "end_time": "2024-04-11T16:33:28.270746Z",
          "start_time": "2024-04-11T16:33:28.267034Z"
        },
        "colab": {
          "base_uri": "https://localhost:8080/"
        },
        "id": "ba5a8f9e2309359c",
        "outputId": "55376cdc-2474-4472-c3e1-9e5539f71989"
      },
      "outputs": [
        {
          "output_type": "stream",
          "name": "stdout",
          "text": [
            "Матриця розміром 5x5, заповнена випадковими цілими числами в діапазоні від 1 до 10:\n"
          ]
        },
        {
          "output_type": "execute_result",
          "data": {
            "text/plain": [
              "array([[ 8,  2,  3, 10,  1],\n",
              "       [ 9,  2,  1,  9, 10],\n",
              "       [ 9,  1,  8,  3,  8],\n",
              "       [ 9,  6,  2, 10,  4],\n",
              "       [ 5,  2,  5,  1, 10]])"
            ]
          },
          "metadata": {},
          "execution_count": 6
        }
      ],
      "source": [
        "random_matrix_int_5 = np.random.randint(1, 11, (5, 5))\n",
        "print(\"Матриця розміром 5x5, заповнена випадковими цілими числами в діапазоні від 1 до 10:\")\n",
        "random_matrix_int_5"
      ]
    },
    {
      "cell_type": "markdown",
      "id": "9644ccbf449d867f",
      "metadata": {
        "collapsed": false,
        "id": "9644ccbf449d867f"
      },
      "source": [
        "## 4 Створіть масив розміром 4x4, заповніть його випадковими дійсними числами в діапазоні від 0 до 1 та виведіть його значення."
      ]
    },
    {
      "cell_type": "code",
      "execution_count": 7,
      "id": "4cd3fb9ce71ed969",
      "metadata": {
        "ExecuteTime": {
          "end_time": "2024-04-11T16:33:28.273678Z",
          "start_time": "2024-04-11T16:33:28.271621Z"
        },
        "colab": {
          "base_uri": "https://localhost:8080/"
        },
        "id": "4cd3fb9ce71ed969",
        "outputId": "a524f80f-c017-4607-f0df-551f7e432b63"
      },
      "outputs": [
        {
          "output_type": "stream",
          "name": "stdout",
          "text": [
            "Матриця розміром 4x4, заповнена випадковими дійсними числами в діапазоні від 0 до 1:\n",
            "[[0.66412461 0.82404256 0.28558328 0.64630581]\n",
            " [0.13063167 0.1906694  0.32940777 0.21237753]\n",
            " [0.06860583 0.25824475 0.05894663 0.62838253]\n",
            " [0.60047537 0.09399463 0.0889237  0.21190901]]\n"
          ]
        }
      ],
      "source": [
        "random_matrix_4 = np.random.rand(4, 4)\n",
        "print(\"Матриця розміром 4x4, заповнена випадковими дійсними числами в діапазоні від 0 до 1:\")\n",
        "print(random_matrix_4)"
      ]
    },
    {
      "cell_type": "markdown",
      "id": "9a11f3e81d90b90",
      "metadata": {
        "collapsed": false,
        "id": "9a11f3e81d90b90"
      },
      "source": [
        "## 5 Створіть два одновимірних масиви розміром 5, заповніть їх випадковими цілими числами в діапазоні від 1 до 10 та виконайте на них поелементні операції додавання, віднімання та множення."
      ]
    },
    {
      "cell_type": "code",
      "execution_count": 8,
      "id": "c7dfc1194dc73615",
      "metadata": {
        "ExecuteTime": {
          "end_time": "2024-04-11T16:33:28.280832Z",
          "start_time": "2024-04-11T16:33:28.278125Z"
        },
        "colab": {
          "base_uri": "https://localhost:8080/"
        },
        "id": "c7dfc1194dc73615",
        "outputId": "3865bae8-22d4-47b3-f832-c4ef91393dc6"
      },
      "outputs": [
        {
          "output_type": "stream",
          "name": "stdout",
          "text": [
            "Перший масив: [7 1 1 3 2]\n",
            "Другий масив: [ 3  5 10  1  6]\n",
            "Сума: [10  6 11  4  8]\n",
            "Різниця: [ 4 -4 -9  2 -4]\n",
            "Добуток: [21  5 10  3 12]\n"
          ]
        }
      ],
      "source": [
        "first_arr_5 = np.random.randint(1, 11, 5)\n",
        "second_arr_5 = np.random.randint(1, 11, 5)\n",
        "\n",
        "arrays_sum = first_arr_5 + second_arr_5\n",
        "arrays_substr = first_arr_5 - second_arr_5\n",
        "arrays_mutl = first_arr_5 * second_arr_5\n",
        "\n",
        "print(\"Перший масив:\", first_arr_5)\n",
        "print(\"Другий масив:\", second_arr_5)\n",
        "print(\"Сума:\", arrays_sum)\n",
        "print(\"Різниця:\", arrays_substr)\n",
        "print(\"Добуток:\", arrays_mutl)"
      ]
    },
    {
      "cell_type": "markdown",
      "id": "d0aad858bed53151",
      "metadata": {
        "collapsed": false,
        "id": "d0aad858bed53151"
      },
      "source": [
        "## 6 Створіть два вектори розміром 7, заповніть довільними числами та знайдіть їх скалярний добуток."
      ]
    },
    {
      "cell_type": "code",
      "execution_count": 9,
      "id": "5ee181d8770841b",
      "metadata": {
        "ExecuteTime": {
          "end_time": "2024-04-11T16:33:28.311884Z",
          "start_time": "2024-04-11T16:33:28.306776Z"
        },
        "colab": {
          "base_uri": "https://localhost:8080/"
        },
        "id": "5ee181d8770841b",
        "outputId": "15f9e7f6-7224-4faa-a282-eff596358fe8"
      },
      "outputs": [
        {
          "output_type": "stream",
          "name": "stdout",
          "text": [
            "Вектор 1:\n",
            " [0.74006984 0.04080106 0.46848807 0.97280016 0.73956808 0.70199574\n",
            " 0.3832327 ]\n",
            "Вектор 2:\n",
            " [0.38774206 0.96877759 0.19552432 0.35395461 0.07658459 0.13199887\n",
            " 0.32914801]\n",
            "Скалярний добуток:\n",
            " 1.0378537094279316\n"
          ]
        }
      ],
      "source": [
        "vector1 = np.random.rand(7)\n",
        "vector2 = np.random.rand(7)\n",
        "\n",
        "scalar_dot = np.dot(vector1, vector2)\n",
        "print(\"Вектор 1:\\n\", vector1)\n",
        "print(\"Вектор 2:\\n\", vector2)\n",
        "print(\"Скалярний добуток:\\n\", scalar_dot)\n"
      ]
    },
    {
      "cell_type": "markdown",
      "id": "6f39b3702b2dbd42",
      "metadata": {
        "collapsed": false,
        "id": "6f39b3702b2dbd42"
      },
      "source": [
        "## 7 Створіть дві матриці розміром 2x2 та 2x3, заповніть їх випадковими цілими числами в діапазоні від 1 до 10 та перемножте їх між собою."
      ]
    },
    {
      "cell_type": "code",
      "execution_count": 10,
      "id": "3dc125b19bebbc43",
      "metadata": {
        "ExecuteTime": {
          "end_time": "2024-04-11T16:33:28.321628Z",
          "start_time": "2024-04-11T16:33:28.318917Z"
        },
        "colab": {
          "base_uri": "https://localhost:8080/"
        },
        "id": "3dc125b19bebbc43",
        "outputId": "3e9caa6d-5141-48a1-d496-d33a63a48ef7"
      },
      "outputs": [
        {
          "output_type": "stream",
          "name": "stdout",
          "text": [
            "Перша матриця:\n",
            " [[ 6  8]\n",
            " [ 1 10]]\n",
            "Друга матриця:\n",
            " [[8 9 6]\n",
            " [4 2 5]]\n",
            "Добуток матриць:\n",
            " [[80 70 76]\n",
            " [48 29 56]]\n"
          ]
        }
      ],
      "source": [
        "matrix_1 = np.random.randint(1, 11, (2, 2))\n",
        "matrix_2 = np.random.randint(1, 11, (2, 3))\n",
        "\n",
        "matrix_dot = np.dot(matrix_1, matrix_2)\n",
        "\n",
        "print(\"Перша матриця:\\n\", matrix_1)\n",
        "print(\"Друга матриця:\\n\", matrix_2)\n",
        "print(\"Добуток матриць:\\n\", matrix_dot)"
      ]
    },
    {
      "cell_type": "markdown",
      "id": "69ba9dffc5329a04",
      "metadata": {
        "collapsed": false,
        "id": "69ba9dffc5329a04"
      },
      "source": [
        "## 8 Створіть матрицю розміром 3x3, заповніть її випадковими цілими числами в діапазоні від 1 до 10 та знайдіть її обернену матрицю."
      ]
    },
    {
      "cell_type": "code",
      "execution_count": 11,
      "id": "f5ae44359c1b8158",
      "metadata": {
        "ExecuteTime": {
          "end_time": "2024-04-11T16:33:28.330323Z",
          "start_time": "2024-04-11T16:33:28.323439Z"
        },
        "colab": {
          "base_uri": "https://localhost:8080/"
        },
        "id": "f5ae44359c1b8158",
        "outputId": "053287c3-3189-4e14-a5c6-e9454f122e4b"
      },
      "outputs": [
        {
          "output_type": "stream",
          "name": "stdout",
          "text": [
            "Матриця:\n",
            " [[ 8  8 10]\n",
            " [ 2  5  5]\n",
            " [ 6  3  4]]\n",
            "Обернена матриця:\n",
            " [[-0.20833333  0.08333333  0.41666667]\n",
            " [-0.91666667  1.16666667  0.83333333]\n",
            " [ 1.         -1.         -1.        ]]\n"
          ]
        }
      ],
      "source": [
        "matrix = np.random.randint(1, 11, (3, 3))\n",
        "# matrix = np.array([[1, 0, 0], [0, 1, 0], [0, 0, 0]])  # не має оберненої\n",
        "\n",
        "try:\n",
        "    inverse_matrix = np.linalg.inv(matrix)\n",
        "except np.linalg.LinAlgError:\n",
        "    print(\"Матриця\\n\", matrix, \"\\nне має оберненої\")\n",
        "else:\n",
        "    print(\"Матриця:\\n\", matrix)\n",
        "    print(\"Обернена матриця:\\n\", inverse_matrix)\n"
      ]
    },
    {
      "cell_type": "markdown",
      "id": "5f405f4e9ca63234",
      "metadata": {
        "collapsed": false,
        "id": "5f405f4e9ca63234"
      },
      "source": [
        "## 9 Створіть матрицю розміром 4x4, заповніть її випадковими дійсними числами в діапазоні від 0 до 1 та транспонуйте її."
      ]
    },
    {
      "cell_type": "code",
      "execution_count": 12,
      "id": "728626747444e3f4",
      "metadata": {
        "ExecuteTime": {
          "end_time": "2024-04-11T16:33:28.334942Z",
          "start_time": "2024-04-11T16:33:28.332070Z"
        },
        "colab": {
          "base_uri": "https://localhost:8080/"
        },
        "id": "728626747444e3f4",
        "outputId": "4708f805-5aaa-4864-c417-ee32a13ed79e"
      },
      "outputs": [
        {
          "output_type": "stream",
          "name": "stdout",
          "text": [
            "Матриця:\n",
            " [[0.72826852 0.9540593  0.52700533 0.81528618]\n",
            " [0.81640826 0.61655698 0.4247058  0.02191956]\n",
            " [0.53807098 0.12604062 0.40760237 0.64922343]\n",
            " [0.06420939 0.27801644 0.45012582 0.27028556]]\n",
            "Обернена матриця:\n",
            " [[-0.35590834  0.9897007   1.0093203  -1.43108291]\n",
            " [ 1.30395683 -0.07729111 -1.65272017  0.04284677]\n",
            " [-1.25154251  0.62613218  0.4198113   2.71597733]\n",
            " [ 0.82757969 -1.19835536  0.76107517 -0.52742249]]\n"
          ]
        }
      ],
      "source": [
        "matrix = np.random.rand(4, 4)\n",
        "inverse_matrix = np.linalg.inv(matrix)\n",
        "print(\"Матриця:\\n\", matrix)\n",
        "print(\"Обернена матриця:\\n\", inverse_matrix)"
      ]
    },
    {
      "cell_type": "markdown",
      "id": "ddee172b8cfb6717",
      "metadata": {
        "collapsed": false,
        "id": "ddee172b8cfb6717"
      },
      "source": [
        "## 10 Створіть матрицю розміром 3x4 та вектор розміром 4, заповніть їх випадковими цілими числами в діапазоні від 1 до 10 та перемножте матрицю на вектор."
      ]
    },
    {
      "cell_type": "code",
      "execution_count": 13,
      "id": "5754495eb07914ae",
      "metadata": {
        "colab": {
          "base_uri": "https://localhost:8080/"
        },
        "id": "5754495eb07914ae",
        "outputId": "9b1228d8-0719-4676-f250-3d8a03c7016f",
        "ExecuteTime": {
          "end_time": "2024-04-11T17:35:35.544396Z",
          "start_time": "2024-04-11T17:35:35.490023Z"
        }
      },
      "outputs": [
        {
          "output_type": "stream",
          "name": "stdout",
          "text": [
            "Матриця:\n",
            " [[ 6  5  4  4]\n",
            " [ 4  5 10  9]\n",
            " [10 10  9  5]]\n",
            "Вектор:\n",
            " [6 1 8 1]\n",
            "Добуток:\n",
            " [ 77 118 147]\n"
          ]
        }
      ],
      "source": [
        "matrix = np.random.randint(1, 11, (3, 4))\n",
        "vektor = np.random.randint(1, 11, 4)\n",
        "result = np.dot(matrix, vektor)\n",
        "\n",
        "print(\"Матриця:\\n\", matrix)\n",
        "print(\"Вектор:\\n\", vektor)\n",
        "print(\"Добуток:\\n\", result)\n"
      ]
    },
    {
      "cell_type": "markdown",
      "id": "996f137aa195f155",
      "metadata": {
        "collapsed": false,
        "id": "996f137aa195f155"
      },
      "source": [
        "## 11 Створіть матрицю розміром 2x3 та вектор розміром 3, заповніть їх випадковими дійсними числами в діапазоні від 0 до 1 та перемножте матрицю на вектор."
      ]
    },
    {
      "cell_type": "code",
      "execution_count": 14,
      "id": "7e625de1b7736318",
      "metadata": {
        "ExecuteTime": {
          "end_time": "2024-04-11T17:21:43.972965Z",
          "start_time": "2024-04-11T17:21:43.962895Z"
        },
        "colab": {
          "base_uri": "https://localhost:8080/"
        },
        "id": "7e625de1b7736318",
        "outputId": "1ac1269f-ff92-4519-eb32-c2c406a2dfdd"
      },
      "outputs": [
        {
          "output_type": "stream",
          "name": "stdout",
          "text": [
            "Матриця:\n",
            " [[0.87874027 0.04421948 0.06367085]\n",
            " [0.38863188 0.34714573 0.0563435 ]]\n",
            "Вектор:\n",
            " [0.95037804 0.09232183 0.7178897 ]\n",
            "Добуток:\n",
            " [0.88492653 0.44184475]\n"
          ]
        }
      ],
      "source": [
        "matrix = np.random.rand(2, 3)\n",
        "vector = np.random.rand(3)\n",
        "result = np.dot(matrix, vector)\n",
        "\n",
        "print(\"Матриця:\\n\", matrix)\n",
        "print(\"Вектор:\\n\", vector)\n",
        "print(\"Добуток:\\n\", result)"
      ]
    },
    {
      "cell_type": "markdown",
      "id": "6c97a8707ab82e13",
      "metadata": {
        "collapsed": false,
        "id": "6c97a8707ab82e13"
      },
      "source": [
        "## 12 Створіть дві матриці розміром 2x2, заповніть їх випадковими цілими числами в діапазоні від 1 до 10 та виконайте їхнє поелементне множення."
      ]
    },
    {
      "cell_type": "code",
      "execution_count": 15,
      "id": "ecadecd7b3cb1a60",
      "metadata": {
        "ExecuteTime": {
          "end_time": "2024-04-11T17:22:55.588068Z",
          "start_time": "2024-04-11T17:22:55.579424Z"
        },
        "colab": {
          "base_uri": "https://localhost:8080/"
        },
        "id": "ecadecd7b3cb1a60",
        "outputId": "4a1d3c5c-a9f1-4eac-9085-34f0dce0a8c9"
      },
      "outputs": [
        {
          "output_type": "stream",
          "name": "stdout",
          "text": [
            "Перша матриця:\n",
            " [[3 2]\n",
            " [3 3]]\n",
            "Друга матриця:\n",
            " [[10  4]\n",
            " [ 6  6]]\n",
            "Поелементне множення матриць:\n",
            " [[30  8]\n",
            " [18 18]]\n"
          ]
        }
      ],
      "source": [
        "matrix_1 = np.random.randint(1, 11, (2, 2))\n",
        "matrix_2 = np.random.randint(1, 11, (2, 2))\n",
        "\n",
        "result = matrix_1 * matrix_2\n",
        "\n",
        "print(\"Перша матриця:\\n\", matrix_1)\n",
        "print(\"Друга матриця:\\n\", matrix_2)\n",
        "print(\"Поелементне множення матриць:\\n\", result)"
      ]
    },
    {
      "cell_type": "markdown",
      "id": "89cd55cdad5920c5",
      "metadata": {
        "collapsed": false,
        "id": "89cd55cdad5920c5"
      },
      "source": [
        "## 13 Створіть дві матриці розміром 2x2, заповніть їх випадковими цілими числами в діапазоні від 1 до 10 та знайдіть їх добуток."
      ]
    },
    {
      "cell_type": "code",
      "execution_count": 16,
      "id": "7692addf934bf864",
      "metadata": {
        "ExecuteTime": {
          "end_time": "2024-04-11T17:23:55.780605Z",
          "start_time": "2024-04-11T17:23:55.772741Z"
        },
        "colab": {
          "base_uri": "https://localhost:8080/"
        },
        "id": "7692addf934bf864",
        "outputId": "9219aba1-38e1-4d34-c4c1-d16fcc7049ba"
      },
      "outputs": [
        {
          "output_type": "stream",
          "name": "stdout",
          "text": [
            "Перша матриця:\n",
            " [[8 2]\n",
            " [5 4]]\n",
            "Друга матриця:\n",
            " [[10  6]\n",
            " [ 4  3]]\n",
            "Добуток матриць:\n",
            " [[88 54]\n",
            " [66 42]]\n"
          ]
        }
      ],
      "source": [
        "matrix_1 = np.random.randint(1, 11, (2, 2))\n",
        "matrix_2 = np.random.randint(1, 11, (2, 2))\n",
        "\n",
        "result = np.dot(matrix_1, matrix_2)\n",
        "\n",
        "print(\"Перша матриця:\\n\", matrix_1)\n",
        "print(\"Друга матриця:\\n\", matrix_2)\n",
        "print(\"Добуток матриць:\\n\", result)"
      ]
    },
    {
      "cell_type": "markdown",
      "id": "9e011027a45f8c7e",
      "metadata": {
        "collapsed": false,
        "id": "9e011027a45f8c7e"
      },
      "source": [
        "## 14 Створіть матрицю розміром 5x5, заповніть її випадковими цілими числами в діапазоні від 1 до 100 та знайдіть суму елементів матриці."
      ]
    },
    {
      "cell_type": "code",
      "execution_count": 17,
      "id": "d335453e9f003691",
      "metadata": {
        "ExecuteTime": {
          "end_time": "2024-04-11T16:33:28.450653Z",
          "start_time": "2024-04-11T16:33:28.445688Z"
        },
        "colab": {
          "base_uri": "https://localhost:8080/"
        },
        "id": "d335453e9f003691",
        "outputId": "0b3cc2f7-7298-4e7c-f4ee-41b41da34e7b"
      },
      "outputs": [
        {
          "output_type": "stream",
          "name": "stdout",
          "text": [
            "Матриця:\n",
            " [[31 60 94 42 92]\n",
            " [88 25 35 78 13]\n",
            " [53 87 40 97 50]\n",
            " [10 59 39 38 54]\n",
            " [64 25 45 84 13]]\n",
            "Сума елементів матриці: 1316\n"
          ]
        }
      ],
      "source": [
        "matrix = np.random.randint(1, 101, (5, 5))\n",
        "\n",
        "result = matrix.sum()\n",
        "\n",
        "print(\"Матриця:\\n\", matrix)\n",
        "print(\"Сума елементів матриці:\", result)"
      ]
    },
    {
      "cell_type": "markdown",
      "id": "a1d9a9ae8193ac3b",
      "metadata": {
        "collapsed": false,
        "id": "a1d9a9ae8193ac3b"
      },
      "source": [
        "## 15 Створіть дві матриці розміром 4x4, заповніть їх випадковими цілими числами в діапазоні від 1 до 10 та знайдіть їхню різницю."
      ]
    },
    {
      "cell_type": "code",
      "execution_count": 18,
      "id": "d7366d763ebbf396",
      "metadata": {
        "ExecuteTime": {
          "end_time": "2024-04-11T16:33:28.462806Z",
          "start_time": "2024-04-11T16:33:28.456450Z"
        },
        "colab": {
          "base_uri": "https://localhost:8080/"
        },
        "id": "d7366d763ebbf396",
        "outputId": "65ba7934-359c-4068-e0cf-0ff146e5d01d"
      },
      "outputs": [
        {
          "output_type": "stream",
          "name": "stdout",
          "text": [
            "Перша матриця:\n",
            " [[ 5  5  2  7]\n",
            " [ 3  9  4  3]\n",
            " [ 6  5  8  9]\n",
            " [10  7  8  3]]\n",
            "Друга матриця:\n",
            " [[ 4  6 10  3]\n",
            " [ 6  8  4  1]\n",
            " [ 1  7  5  6]\n",
            " [ 5 10  1  5]]\n",
            "Різниця матриць:\n",
            " [[ 1 -1 -8  4]\n",
            " [-3  1  0  2]\n",
            " [ 5 -2  3  3]\n",
            " [ 5 -3  7 -2]]\n"
          ]
        }
      ],
      "source": [
        "matrix_1 = np.random.randint(1, 11, (4, 4))\n",
        "matrix_2 = np.random.randint(1, 11, (4, 4))\n",
        "\n",
        "result = np.subtract(matrix_1, matrix_2)\n",
        "\n",
        "print(\"Перша матриця:\\n\", matrix_1)\n",
        "print(\"Друга матриця:\\n\", matrix_2)\n",
        "print(\"Різниця матриць:\\n\", result)\n"
      ]
    },
    {
      "cell_type": "markdown",
      "id": "a1423e5f0bc51aa9",
      "metadata": {
        "collapsed": false,
        "id": "a1423e5f0bc51aa9"
      },
      "source": [
        "## 16 Створіть матрицю розміром 3x3, заповніть її випадковими дійсними числами в діапазоні від 0 до 1 та знайдіть вектор-стовпчик, що містить суму елементів кожного рядка матриці."
      ]
    },
    {
      "cell_type": "code",
      "execution_count": 19,
      "id": "3800a4db8493d23",
      "metadata": {
        "ExecuteTime": {
          "end_time": "2024-04-11T16:33:28.470688Z",
          "start_time": "2024-04-11T16:33:28.465699Z"
        },
        "colab": {
          "base_uri": "https://localhost:8080/"
        },
        "id": "3800a4db8493d23",
        "outputId": "71b23579-5c63-433f-c033-5d8b5319e66a"
      },
      "outputs": [
        {
          "output_type": "stream",
          "name": "stdout",
          "text": [
            "Матриця:\n",
            " [[0.96296175 0.87650827 0.94305901]\n",
            " [0.6160101  0.99317394 0.66986187]\n",
            " [0.80998718 0.23401391 0.1642974 ]]\n",
            "Вектор-стовпчик:\n",
            " [2.78252903 2.27904592 1.20829849]\n"
          ]
        }
      ],
      "source": [
        "matrix = np.random.rand(3, 3)\n",
        "\n",
        "sum_vector = np.sum(matrix, axis=1)\n",
        "\n",
        "print(\"Матриця:\\n\", matrix)\n",
        "print(\"Вектор-стовпчик:\\n\", sum_vector)"
      ]
    },
    {
      "cell_type": "markdown",
      "id": "29a229bfa8ab5a58",
      "metadata": {
        "collapsed": false,
        "id": "29a229bfa8ab5a58"
      },
      "source": [
        "## 17 Створіть матрицю розміром 3x4 з довільними цілими числами і створінь матрицю з квадратами цих чисел."
      ]
    },
    {
      "cell_type": "code",
      "execution_count": 20,
      "id": "c811bf09bf000cd7",
      "metadata": {
        "ExecuteTime": {
          "end_time": "2024-04-11T16:33:28.477411Z",
          "start_time": "2024-04-11T16:33:28.472862Z"
        },
        "colab": {
          "base_uri": "https://localhost:8080/"
        },
        "id": "c811bf09bf000cd7",
        "outputId": "0d4d0952-756d-44d7-c764-08e2146dd098"
      },
      "outputs": [
        {
          "output_type": "stream",
          "name": "stdout",
          "text": [
            "Матриця:\n",
            " [[1 7 4 4]\n",
            " [6 9 5 9]\n",
            " [8 4 1 6]]\n",
            "Матриця з квадратами чисел:\n",
            " [[ 1 49 16 16]\n",
            " [36 81 25 81]\n",
            " [64 16  1 36]]\n"
          ]
        }
      ],
      "source": [
        "matrix = np.random.randint(1, 11, (3, 4))\n",
        "\n",
        "result = np.square(matrix)\n",
        "\n",
        "print(\"Матриця:\\n\", matrix)\n",
        "print(\"Матриця з квадратами чисел:\\n\", result)"
      ]
    },
    {
      "cell_type": "markdown",
      "id": "9c5d4b7b74f1793b",
      "metadata": {
        "collapsed": false,
        "id": "9c5d4b7b74f1793b"
      },
      "source": [
        "## 18 Створіть вектор розміром 4, заповніть його випадковими цілими числами в діапазоні від 1 до 50 та знайдіть вектор з квадратними коренями цих чисел."
      ]
    },
    {
      "cell_type": "code",
      "execution_count": 21,
      "id": "24611d992952598",
      "metadata": {
        "ExecuteTime": {
          "end_time": "2024-04-11T16:33:28.512888Z",
          "start_time": "2024-04-11T16:33:28.506720Z"
        },
        "colab": {
          "base_uri": "https://localhost:8080/"
        },
        "id": "24611d992952598",
        "outputId": "b04db09c-1ce5-4aad-9072-bb1477e42833"
      },
      "outputs": [
        {
          "output_type": "stream",
          "name": "stdout",
          "text": [
            "Вектор:\n",
            " [15 31 38 38]\n",
            "Вектор з квадратними коренями:\n",
            " [3.87298335 5.56776436 6.164414   6.164414  ]\n"
          ]
        }
      ],
      "source": [
        "vector = np.random.randint(1, 51, 4)\n",
        "result = np.sqrt(vector)\n",
        "print(\"Вектор:\\n\", vector)\n",
        "print(\"Вектор з квадратними коренями:\\n\", result)"
      ]
    }
  ],
  "metadata": {
    "colab": {
      "provenance": []
    },
    "kernelspec": {
      "display_name": "Python 3",
      "language": "python",
      "name": "python3"
    },
    "language_info": {
      "codemirror_mode": {
        "name": "ipython",
        "version": 3
      },
      "file_extension": ".py",
      "mimetype": "text/x-python",
      "name": "python",
      "nbconvert_exporter": "python",
      "pygments_lexer": "ipython3",
      "version": "3.11.7"
    }
  },
  "nbformat": 4,
  "nbformat_minor": 5
}