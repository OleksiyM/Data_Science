{
  "cells": [
    {
      "cell_type": "markdown",
      "id": "49b4a591820b3018",
      "metadata": {
        "collapsed": false,
        "id": "49b4a591820b3018"
      },
      "source": [
        "# Module 1 homework"
      ]
    },
    {
      "cell_type": "code",
      "execution_count": 24,
      "id": "945c4e1ca2fc507a",
      "metadata": {
        "id": "945c4e1ca2fc507a",
        "ExecuteTime": {
          "end_time": "2024-04-11T21:19:39.550402Z",
          "start_time": "2024-04-11T21:19:39.535363Z"
        }
      },
      "outputs": [],
      "source": [
        "import numpy as np"
      ]
    },
    {
      "cell_type": "markdown",
      "id": "e8b2bd9eeea703a0",
      "metadata": {
        "collapsed": false,
        "id": "e8b2bd9eeea703a0"
      },
      "source": [
        "## 1 Створіть одновимірний масив (вектор) з першими 10-ма натуральними числами та виведіть його значення."
      ]
    },
    {
      "cell_type": "code",
      "execution_count": 25,
      "id": "4ecc1ec866f004de",
      "metadata": {
        "colab": {
          "base_uri": "https://localhost:8080/"
        },
        "id": "4ecc1ec866f004de",
        "outputId": "36587c3d-c74a-4b83-8b1a-dbb1ecdb494a",
        "ExecuteTime": {
          "end_time": "2024-04-11T21:19:39.634508Z",
          "start_time": "2024-04-11T21:19:39.627899Z"
        }
      },
      "outputs": [
        {
          "output_type": "stream",
          "name": "stdout",
          "text": [
            "одновимірний масив (вектор) з першими 10-ма натуральними числами:\n",
            " [ 1  2  3  4  5  6  7  8  9 10]\n"
          ]
        }
      ],
      "source": [
        "# variant 1\n",
        "natural_numbers_list = np.array(range(1, 11), dtype=int)\n",
        "print(\"одновимірний масив (вектор) з першими 10-ма натуральними числами:\\n\", natural_numbers_list)"
      ]
    },
    {
      "cell_type": "code",
      "execution_count": 26,
      "id": "646b586c823c4f1d",
      "metadata": {
        "colab": {
          "base_uri": "https://localhost:8080/"
        },
        "id": "646b586c823c4f1d",
        "outputId": "cd0ec0fe-d5a1-4ff3-90c1-46037778d6bc",
        "ExecuteTime": {
          "end_time": "2024-04-11T21:19:39.639420Z",
          "start_time": "2024-04-11T21:19:39.635641Z"
        }
      },
      "outputs": [
        {
          "output_type": "stream",
          "name": "stdout",
          "text": [
            "одновимірний масив (вектор) з першими 10-ма натуральними числами:\n",
            " [ 1  2  3  4  5  6  7  8  9 10]\n"
          ]
        }
      ],
      "source": [
        "# variant 2\n",
        "natural_numbers_list = np.arange(1, 11)\n",
        "print(\"одновимірний масив (вектор) з першими 10-ма натуральними числами:\\n\", natural_numbers_list)"
      ]
    },
    {
      "cell_type": "markdown",
      "id": "1974a51d429810a3",
      "metadata": {
        "collapsed": false,
        "id": "1974a51d429810a3"
      },
      "source": [
        "## 2 Створіть двовимірний масив (матрицю) розміром 3x3, заповніть його нулями та виведіть його значення."
      ]
    },
    {
      "cell_type": "code",
      "execution_count": 27,
      "id": "360b6805aee96b23",
      "metadata": {
        "colab": {
          "base_uri": "https://localhost:8080/"
        },
        "id": "360b6805aee96b23",
        "outputId": "3685351c-9028-4e0e-e849-9e3d705ab39d",
        "ExecuteTime": {
          "end_time": "2024-04-11T21:19:39.650966Z",
          "start_time": "2024-04-11T21:19:39.640847Z"
        }
      },
      "outputs": [
        {
          "output_type": "execute_result",
          "data": {
            "text/plain": [
              "array([[0, 0, 0],\n",
              "       [0, 0, 0],\n",
              "       [0, 0, 0]])"
            ]
          },
          "metadata": {},
          "execution_count": 27
        }
      ],
      "source": [
        "# variant 1\n",
        "two_dimension_array = np.array([[0, 0, 0], [0, 0, 0], [0, 0, 0]])\n",
        "two_dimension_array"
      ]
    },
    {
      "cell_type": "code",
      "execution_count": 28,
      "id": "7f92e5a74e547206",
      "metadata": {
        "colab": {
          "base_uri": "https://localhost:8080/"
        },
        "id": "7f92e5a74e547206",
        "outputId": "22fc3493-6593-43ad-c334-1e2688ed4017",
        "ExecuteTime": {
          "end_time": "2024-04-11T21:19:39.659340Z",
          "start_time": "2024-04-11T21:19:39.655992Z"
        }
      },
      "outputs": [
        {
          "output_type": "stream",
          "name": "stdout",
          "text": [
            "Матриця розміром 3x3, заповнена нулями:\n",
            " [[0 0 0]\n",
            " [0 0 0]\n",
            " [0 0 0]]\n"
          ]
        }
      ],
      "source": [
        "# variant 2\n",
        "matrix_3 = np.zeros((3, 3), dtype=int)\n",
        "print(\"Матриця розміром 3x3, заповнена нулями:\\n\", matrix_3)"
      ]
    },
    {
      "cell_type": "markdown",
      "id": "4ef259a3c4c702cb",
      "metadata": {
        "collapsed": false,
        "id": "4ef259a3c4c702cb"
      },
      "source": [
        "## 3 Створіть масив розміром 5x5, заповніть його випадковими цілими числами в діапазоні від 1 до 10 та виведіть його значення."
      ]
    },
    {
      "cell_type": "code",
      "execution_count": 29,
      "id": "ba5a8f9e2309359c",
      "metadata": {
        "colab": {
          "base_uri": "https://localhost:8080/"
        },
        "id": "ba5a8f9e2309359c",
        "outputId": "c67f7745-ca9d-4583-8500-3783ece348d8",
        "ExecuteTime": {
          "end_time": "2024-04-11T21:19:39.664412Z",
          "start_time": "2024-04-11T21:19:39.660388Z"
        }
      },
      "outputs": [
        {
          "output_type": "stream",
          "name": "stdout",
          "text": [
            "Матриця розміром 5x5, заповнена випадковими цілими числами в діапазоні від 1 до 10:\n",
            " [[ 3  5  1  1  5]\n",
            " [ 7  5  7  2  1]\n",
            " [ 6  2  3  6  5]\n",
            " [ 1  4  8  9  4]\n",
            " [ 6  7  6 10  5]]\n"
          ]
        }
      ],
      "source": [
        "random_matrix_int_5 = np.random.randint(1, 11, (5, 5))\n",
        "print(\"Матриця розміром 5x5, заповнена випадковими цілими числами в діапазоні від 1 до 10:\\n\", random_matrix_int_5)\n"
      ]
    },
    {
      "cell_type": "markdown",
      "id": "9644ccbf449d867f",
      "metadata": {
        "collapsed": false,
        "id": "9644ccbf449d867f"
      },
      "source": [
        "## 4 Створіть масив розміром 4x4, заповніть його випадковими дійсними числами в діапазоні від 0 до 1 та виведіть його значення."
      ]
    },
    {
      "cell_type": "code",
      "execution_count": 30,
      "id": "4cd3fb9ce71ed969",
      "metadata": {
        "colab": {
          "base_uri": "https://localhost:8080/"
        },
        "id": "4cd3fb9ce71ed969",
        "outputId": "7e13a5cc-d2c8-4ee0-e32a-becd02b33794",
        "ExecuteTime": {
          "end_time": "2024-04-11T21:19:39.667954Z",
          "start_time": "2024-04-11T21:19:39.665420Z"
        }
      },
      "outputs": [
        {
          "output_type": "stream",
          "name": "stdout",
          "text": [
            "Матриця розміром 4x4, заповнена випадковими дійсними числами в діапазоні від 0 до 1:\n",
            "[[0.37707654 0.74771953 0.26298599 0.81313327]\n",
            " [0.49750191 0.51856266 0.4712323  0.78369771]\n",
            " [0.38330159 0.95011908 0.38919885 0.67023952]\n",
            " [0.24013442 0.64879821 0.15772766 0.68280711]]\n"
          ]
        }
      ],
      "source": [
        "random_matrix_4 = np.random.rand(4, 4)\n",
        "print(\"Матриця розміром 4x4, заповнена випадковими дійсними числами в діапазоні від 0 до 1:\")\n",
        "print(random_matrix_4)"
      ]
    },
    {
      "cell_type": "markdown",
      "id": "9a11f3e81d90b90",
      "metadata": {
        "collapsed": false,
        "id": "9a11f3e81d90b90"
      },
      "source": [
        "## 5 Створіть два одновимірних масиви розміром 5, заповніть їх випадковими цілими числами в діапазоні від 1 до 10 та виконайте на них поелементні операції додавання, віднімання та множення."
      ]
    },
    {
      "cell_type": "code",
      "execution_count": 31,
      "id": "c7dfc1194dc73615",
      "metadata": {
        "colab": {
          "base_uri": "https://localhost:8080/"
        },
        "id": "c7dfc1194dc73615",
        "outputId": "8c661ca0-41a4-4b93-c686-d693e268be30",
        "ExecuteTime": {
          "end_time": "2024-04-11T21:19:39.680488Z",
          "start_time": "2024-04-11T21:19:39.676296Z"
        }
      },
      "outputs": [
        {
          "output_type": "stream",
          "name": "stdout",
          "text": [
            "Перший масив: [6 8 3 2 7]\n",
            "Другий масив: [10  4  8  3  8]\n",
            "Сума: [16 12 11  5 15]\n",
            "Різниця: [-4  4 -5 -1 -1]\n",
            "Добуток: [60 32 24  6 56]\n"
          ]
        }
      ],
      "source": [
        "first_arr_5 = np.random.randint(1, 11, 5)\n",
        "second_arr_5 = np.random.randint(1, 11, 5)\n",
        "\n",
        "arrays_sum = first_arr_5 + second_arr_5\n",
        "arrays_substr = first_arr_5 - second_arr_5\n",
        "arrays_mutl = first_arr_5 * second_arr_5\n",
        "\n",
        "print(\"Перший масив:\", first_arr_5)\n",
        "print(\"Другий масив:\", second_arr_5)\n",
        "print(\"Сума:\", arrays_sum)\n",
        "print(\"Різниця:\", arrays_substr)\n",
        "print(\"Добуток:\", arrays_mutl)"
      ]
    },
    {
      "cell_type": "markdown",
      "id": "d0aad858bed53151",
      "metadata": {
        "collapsed": false,
        "id": "d0aad858bed53151"
      },
      "source": [
        "## 6 Створіть два вектори розміром 7, заповніть довільними числами та знайдіть їх скалярний добуток."
      ]
    },
    {
      "cell_type": "code",
      "execution_count": 32,
      "id": "5ee181d8770841b",
      "metadata": {
        "colab": {
          "base_uri": "https://localhost:8080/"
        },
        "id": "5ee181d8770841b",
        "outputId": "2ad13f80-1ffb-4552-bf04-e720736a9a5d",
        "ExecuteTime": {
          "end_time": "2024-04-11T21:19:39.690769Z",
          "start_time": "2024-04-11T21:19:39.686551Z"
        }
      },
      "outputs": [
        {
          "output_type": "stream",
          "name": "stdout",
          "text": [
            "Вектор 1:\n",
            " [0.20228842 0.86744585 0.39142297 0.97192699 0.67965531 0.55664683\n",
            " 0.2386193 ]\n",
            "Вектор 2:\n",
            " [0.53433455 0.77991592 0.52189386 0.57184541 0.75238551 0.18236229\n",
            " 0.74146612]\n",
            "Добуток векторів:\n",
            " [0.10808969 0.67653483 0.20428125 0.55579199 0.51136281 0.10151139\n",
            " 0.17692813]\n",
            "Скалярний добуток:\n",
            " 2.3345000811102437\n"
          ]
        }
      ],
      "source": [
        "vector1 = np.random.rand(7)\n",
        "vector2 = np.random.rand(7)\n",
        "\n",
        "scalar_dot = np.dot(vector1, vector2)\n",
        "vector_mult = vector1 * vector2\n",
        "\n",
        "print(\"Вектор 1:\\n\", vector1)\n",
        "print(\"Вектор 2:\\n\", vector2)\n",
        "print(\"Добуток векторів:\\n\", vector_mult)\n",
        "print(\"Скалярний добуток:\\n\", scalar_dot)\n"
      ]
    },
    {
      "cell_type": "markdown",
      "id": "6f39b3702b2dbd42",
      "metadata": {
        "collapsed": false,
        "id": "6f39b3702b2dbd42"
      },
      "source": [
        "## 7 Створіть дві матриці розміром 2x2 та 2x3, заповніть їх випадковими цілими числами в діапазоні від 1 до 10 та перемножте їх між собою."
      ]
    },
    {
      "cell_type": "code",
      "execution_count": 33,
      "id": "3dc125b19bebbc43",
      "metadata": {
        "colab": {
          "base_uri": "https://localhost:8080/"
        },
        "id": "3dc125b19bebbc43",
        "outputId": "b6b51044-2d27-4f3b-aa1f-261b08278638",
        "ExecuteTime": {
          "end_time": "2024-04-11T21:19:39.701567Z",
          "start_time": "2024-04-11T21:19:39.698384Z"
        }
      },
      "outputs": [
        {
          "output_type": "stream",
          "name": "stdout",
          "text": [
            "Перша матриця:\n",
            " [[7 7]\n",
            " [2 2]]\n",
            "Друга матриця:\n",
            " [[ 4  8 10]\n",
            " [ 9  1  2]]\n",
            "Добуток матриць:\n",
            " [[91 63 84]\n",
            " [26 18 24]]\n"
          ]
        }
      ],
      "source": [
        "matrix_1 = np.random.randint(1, 11, (2, 2))\n",
        "matrix_2 = np.random.randint(1, 11, (2, 3))\n",
        "\n",
        "matrix_dot = np.dot(matrix_1, matrix_2)\n",
        "\n",
        "print(\"Перша матриця:\\n\", matrix_1)\n",
        "print(\"Друга матриця:\\n\", matrix_2)\n",
        "print(\"Добуток матриць:\\n\", matrix_dot)"
      ]
    },
    {
      "cell_type": "markdown",
      "id": "69ba9dffc5329a04",
      "metadata": {
        "collapsed": false,
        "id": "69ba9dffc5329a04"
      },
      "source": [
        "## 8 Створіть матрицю розміром 3x3, заповніть її випадковими цілими числами в діапазоні від 1 до 10 та знайдіть її обернену матрицю."
      ]
    },
    {
      "cell_type": "code",
      "execution_count": 34,
      "id": "f5ae44359c1b8158",
      "metadata": {
        "colab": {
          "base_uri": "https://localhost:8080/"
        },
        "id": "f5ae44359c1b8158",
        "outputId": "0e45b27d-b93a-427d-b150-8d01c63956b8",
        "ExecuteTime": {
          "end_time": "2024-04-11T21:19:39.748324Z",
          "start_time": "2024-04-11T21:19:39.737313Z"
        }
      },
      "outputs": [
        {
          "output_type": "stream",
          "name": "stdout",
          "text": [
            "Матриця:\n",
            " [[3 7 2]\n",
            " [1 2 5]\n",
            " [7 1 4]]\n",
            "Обернена матриця:\n",
            " [[ 0.015 -0.13   0.155]\n",
            " [ 0.155 -0.01  -0.065]\n",
            " [-0.065  0.23  -0.005]]\n"
          ]
        }
      ],
      "source": [
        "matrix = np.random.randint(1, 11, (3, 3))\n",
        "# matrix = np.array([[1, 0, 0], [0, 1, 0], [0, 0, 0]])  # не має оберненої\n",
        "\n",
        "try:\n",
        "    inverse_matrix = np.linalg.inv(matrix)\n",
        "except np.linalg.LinAlgError:\n",
        "    print(\"Матриця\\n\", matrix, \"\\nне має оберненої\")\n",
        "else:\n",
        "    print(\"Матриця:\\n\", matrix)\n",
        "    print(\"Обернена матриця:\\n\", inverse_matrix)\n"
      ]
    },
    {
      "cell_type": "markdown",
      "id": "5f405f4e9ca63234",
      "metadata": {
        "collapsed": false,
        "id": "5f405f4e9ca63234"
      },
      "source": [
        "## 9 Створіть матрицю розміром 4x4, заповніть її випадковими дійсними числами в діапазоні від 0 до 1 та транспонуйте її."
      ]
    },
    {
      "cell_type": "code",
      "execution_count": 35,
      "id": "728626747444e3f4",
      "metadata": {
        "colab": {
          "base_uri": "https://localhost:8080/"
        },
        "id": "728626747444e3f4",
        "outputId": "d44b1d7d-4ae4-47dc-8fc0-81f3e070dfad",
        "ExecuteTime": {
          "end_time": "2024-04-11T21:19:39.757718Z",
          "start_time": "2024-04-11T21:19:39.753575Z"
        }
      },
      "outputs": [
        {
          "output_type": "stream",
          "name": "stdout",
          "text": [
            "Матриця:\n",
            " [[0.51859457 0.02028391 0.57152792 0.68825158]\n",
            " [0.13313839 0.44895422 0.10806108 0.50304907]\n",
            " [0.63223389 0.4825109  0.71353706 0.11527513]\n",
            " [0.18119045 0.99101944 0.75228572 0.376658  ]]\n",
            "Обернена матриця:\n",
            " [[0.51859457 0.13313839 0.63223389 0.18119045]\n",
            " [0.02028391 0.44895422 0.4825109  0.99101944]\n",
            " [0.57152792 0.10806108 0.71353706 0.75228572]\n",
            " [0.68825158 0.50304907 0.11527513 0.376658  ]]\n"
          ]
        }
      ],
      "source": [
        "matrix = np.random.rand(4, 4)\n",
        "matrix_T = matrix.T\n",
        "print(\"Матриця:\\n\", matrix)\n",
        "print(\"Обернена матриця:\\n\", matrix_T)"
      ]
    },
    {
      "cell_type": "markdown",
      "id": "ddee172b8cfb6717",
      "metadata": {
        "collapsed": false,
        "id": "ddee172b8cfb6717"
      },
      "source": [
        "## 10 Створіть матрицю розміром 3x4 та вектор розміром 4, заповніть їх випадковими цілими числами в діапазоні від 1 до 10 та перемножте матрицю на вектор."
      ]
    },
    {
      "cell_type": "code",
      "execution_count": 36,
      "id": "5754495eb07914ae",
      "metadata": {
        "colab": {
          "base_uri": "https://localhost:8080/"
        },
        "id": "5754495eb07914ae",
        "outputId": "6341eb92-e657-430b-92f8-ce449eefb420",
        "ExecuteTime": {
          "end_time": "2024-04-11T21:19:39.765724Z",
          "start_time": "2024-04-11T21:19:39.760191Z"
        }
      },
      "outputs": [
        {
          "output_type": "stream",
          "name": "stdout",
          "text": [
            "Матриця:\n",
            " [[10  6  3 10]\n",
            " [ 1  4  2  6]\n",
            " [ 2  5  5  5]]\n",
            "Вектор:\n",
            " [10  8  2  9]\n",
            "Добуток:\n",
            " [[100  48   6  90]\n",
            " [ 10  32   4  54]\n",
            " [ 20  40  10  45]]\n"
          ]
        }
      ],
      "source": [
        "matrix = np.random.randint(1, 11, (3, 4))\n",
        "vektor = np.random.randint(1, 11, 4)\n",
        "result = matrix * vektor\n",
        "\n",
        "print(\"Матриця:\\n\", matrix)\n",
        "print(\"Вектор:\\n\", vektor)\n",
        "print(\"Добуток:\\n\", result)\n"
      ]
    },
    {
      "cell_type": "markdown",
      "id": "996f137aa195f155",
      "metadata": {
        "collapsed": false,
        "id": "996f137aa195f155"
      },
      "source": [
        "## 11 Створіть матрицю розміром 2x3 та вектор розміром 3, заповніть їх випадковими дійсними числами в діапазоні від 0 до 1 та перемножте матрицю на вектор."
      ]
    },
    {
      "cell_type": "code",
      "execution_count": 37,
      "id": "7e625de1b7736318",
      "metadata": {
        "colab": {
          "base_uri": "https://localhost:8080/"
        },
        "id": "7e625de1b7736318",
        "outputId": "e1fbeb39-9a30-4497-e174-8df085cb3b25",
        "ExecuteTime": {
          "end_time": "2024-04-11T21:19:39.770699Z",
          "start_time": "2024-04-11T21:19:39.768028Z"
        }
      },
      "outputs": [
        {
          "output_type": "stream",
          "name": "stdout",
          "text": [
            "Матриця:\n",
            " [[0.73015701 0.89289589 0.38783842]\n",
            " [0.16056204 0.77443539 0.40494636]]\n",
            "Вектор:\n",
            " [0.9256982  0.93224954 0.52640657]\n",
            "Добуток:\n",
            " [[0.67590503 0.83240178 0.20416069]\n",
            " [0.14863199 0.72196704 0.21316642]]\n"
          ]
        }
      ],
      "source": [
        "matrix = np.random.rand(2, 3)\n",
        "vector = np.random.rand(3)\n",
        "result = matrix * vector\n",
        "\n",
        "print(\"Матриця:\\n\", matrix)\n",
        "print(\"Вектор:\\n\", vector)\n",
        "print(\"Добуток:\\n\", result)"
      ]
    },
    {
      "cell_type": "markdown",
      "id": "6c97a8707ab82e13",
      "metadata": {
        "collapsed": false,
        "id": "6c97a8707ab82e13"
      },
      "source": [
        "## 12 Створіть дві матриці розміром 2x2, заповніть їх випадковими цілими числами в діапазоні від 1 до 10 та виконайте їхнє поелементне множення."
      ]
    },
    {
      "cell_type": "code",
      "execution_count": 38,
      "id": "ecadecd7b3cb1a60",
      "metadata": {
        "colab": {
          "base_uri": "https://localhost:8080/"
        },
        "id": "ecadecd7b3cb1a60",
        "outputId": "7357617d-23b1-493b-b7df-d2c51f9f8ce8",
        "ExecuteTime": {
          "end_time": "2024-04-11T21:19:39.796245Z",
          "start_time": "2024-04-11T21:19:39.793334Z"
        }
      },
      "outputs": [
        {
          "output_type": "stream",
          "name": "stdout",
          "text": [
            "Перша матриця:\n",
            " [[6 4]\n",
            " [3 9]]\n",
            "Друга матриця:\n",
            " [[ 4  7]\n",
            " [ 9 10]]\n",
            "Поелементне множення матриць:\n",
            " [[24 28]\n",
            " [27 90]]\n"
          ]
        }
      ],
      "source": [
        "matrix_1 = np.random.randint(1, 11, (2, 2))\n",
        "matrix_2 = np.random.randint(1, 11, (2, 2))\n",
        "\n",
        "result = matrix_1 * matrix_2\n",
        "\n",
        "print(\"Перша матриця:\\n\", matrix_1)\n",
        "print(\"Друга матриця:\\n\", matrix_2)\n",
        "print(\"Поелементне множення матриць:\\n\", result)"
      ]
    },
    {
      "cell_type": "markdown",
      "id": "89cd55cdad5920c5",
      "metadata": {
        "collapsed": false,
        "id": "89cd55cdad5920c5"
      },
      "source": [
        "## 13 Створіть дві матриці розміром 2x2, заповніть їх випадковими цілими числами в діапазоні від 1 до 10 та знайдіть їх добуток."
      ]
    },
    {
      "cell_type": "code",
      "execution_count": 39,
      "id": "7692addf934bf864",
      "metadata": {
        "colab": {
          "base_uri": "https://localhost:8080/"
        },
        "id": "7692addf934bf864",
        "outputId": "61e7f15b-be07-4e1b-e15e-e16ec30f1ee4",
        "ExecuteTime": {
          "end_time": "2024-04-11T21:19:39.807874Z",
          "start_time": "2024-04-11T21:19:39.803984Z"
        }
      },
      "outputs": [
        {
          "output_type": "stream",
          "name": "stdout",
          "text": [
            "Перша матриця:\n",
            " [[7 4]\n",
            " [1 1]]\n",
            "Друга матриця:\n",
            " [[ 5  2]\n",
            " [10  2]]\n",
            "Добуток матриць:\n",
            " [[75 22]\n",
            " [15  4]]\n"
          ]
        }
      ],
      "source": [
        "matrix_1 = np.random.randint(1, 11, (2, 2))\n",
        "matrix_2 = np.random.randint(1, 11, (2, 2))\n",
        "\n",
        "result = np.dot(matrix_1, matrix_2)\n",
        "\n",
        "print(\"Перша матриця:\\n\", matrix_1)\n",
        "print(\"Друга матриця:\\n\", matrix_2)\n",
        "print(\"Добуток матриць:\\n\", result)"
      ]
    },
    {
      "cell_type": "markdown",
      "id": "9e011027a45f8c7e",
      "metadata": {
        "collapsed": false,
        "id": "9e011027a45f8c7e"
      },
      "source": [
        "## 14 Створіть матрицю розміром 5x5, заповніть її випадковими цілими числами в діапазоні від 1 до 100 та знайдіть суму елементів матриці."
      ]
    },
    {
      "cell_type": "code",
      "execution_count": 40,
      "id": "d335453e9f003691",
      "metadata": {
        "colab": {
          "base_uri": "https://localhost:8080/"
        },
        "id": "d335453e9f003691",
        "outputId": "3fe75ab8-7fd6-414b-a907-9f4e2b39e039",
        "ExecuteTime": {
          "end_time": "2024-04-11T21:19:39.812793Z",
          "start_time": "2024-04-11T21:19:39.809712Z"
        }
      },
      "outputs": [
        {
          "output_type": "stream",
          "name": "stdout",
          "text": [
            "Матриця:\n",
            " [[86 63 84 95 97]\n",
            " [32 10 49 80 89]\n",
            " [98 19 48 50 20]\n",
            " [82 94 46 43 23]\n",
            " [99 93  7 68 25]]\n",
            "Сума елементів матриці: 1500\n"
          ]
        }
      ],
      "source": [
        "matrix = np.random.randint(1, 101, (5, 5))\n",
        "\n",
        "result = matrix.sum()\n",
        "\n",
        "print(\"Матриця:\\n\", matrix)\n",
        "print(\"Сума елементів матриці:\", result)"
      ]
    },
    {
      "cell_type": "markdown",
      "id": "a1d9a9ae8193ac3b",
      "metadata": {
        "collapsed": false,
        "id": "a1d9a9ae8193ac3b"
      },
      "source": [
        "## 15 Створіть дві матриці розміром 4x4, заповніть їх випадковими цілими числами в діапазоні від 1 до 10 та знайдіть їхню різницю."
      ]
    },
    {
      "cell_type": "code",
      "execution_count": 41,
      "id": "d7366d763ebbf396",
      "metadata": {
        "colab": {
          "base_uri": "https://localhost:8080/"
        },
        "id": "d7366d763ebbf396",
        "outputId": "b68b1711-63c3-4183-aa23-7c1bbb69aa7e",
        "ExecuteTime": {
          "end_time": "2024-04-11T21:19:39.821375Z",
          "start_time": "2024-04-11T21:19:39.816645Z"
        }
      },
      "outputs": [
        {
          "output_type": "stream",
          "name": "stdout",
          "text": [
            "Перша матриця:\n",
            " [[ 3 10 10  2]\n",
            " [ 5  1  5  9]\n",
            " [ 6 10  9  1]\n",
            " [ 7  1  5 10]]\n",
            "Друга матриця:\n",
            " [[10  7  3  7]\n",
            " [ 7  5  3  8]\n",
            " [10  7  2  7]\n",
            " [ 3  3  2  6]]\n",
            "Різниця матриць:\n",
            " [[-7  3  7 -5]\n",
            " [-2 -4  2  1]\n",
            " [-4  3  7 -6]\n",
            " [ 4 -2  3  4]]\n",
            "Різниця матриць (варіант 2):\n",
            " [[-7  3  7 -5]\n",
            " [-2 -4  2  1]\n",
            " [-4  3  7 -6]\n",
            " [ 4 -2  3  4]]\n"
          ]
        }
      ],
      "source": [
        "matrix_1 = np.random.randint(1, 11, (4, 4))\n",
        "matrix_2 = np.random.randint(1, 11, (4, 4))\n",
        "\n",
        "result = np.subtract(matrix_1, matrix_2)\n",
        "result2 = matrix_1 - matrix_2\n",
        "\n",
        "print(\"Перша матриця:\\n\", matrix_1)\n",
        "print(\"Друга матриця:\\n\", matrix_2)\n",
        "print(\"Різниця матриць:\\n\", result)\n",
        "print(\"Різниця матриць (варіант 2):\\n\", result2)\n"
      ]
    },
    {
      "cell_type": "markdown",
      "id": "a1423e5f0bc51aa9",
      "metadata": {
        "collapsed": false,
        "id": "a1423e5f0bc51aa9"
      },
      "source": [
        "## 16 Створіть матрицю розміром 3x3, заповніть її випадковими дійсними числами в діапазоні від 0 до 1 та знайдіть вектор-стовпчик, що містить суму елементів кожного рядка матриці."
      ]
    },
    {
      "cell_type": "code",
      "execution_count": 42,
      "id": "3800a4db8493d23",
      "metadata": {
        "colab": {
          "base_uri": "https://localhost:8080/"
        },
        "id": "3800a4db8493d23",
        "outputId": "a39a803d-4b52-4cda-cdea-ca3451b4f485",
        "ExecuteTime": {
          "end_time": "2024-04-11T21:19:39.863335Z",
          "start_time": "2024-04-11T21:19:39.859201Z"
        }
      },
      "outputs": [
        {
          "output_type": "stream",
          "name": "stdout",
          "text": [
            "Матриця:\n",
            " [[0.30726409 0.08570105 0.04814289]\n",
            " [0.25069241 0.74485447 0.61283005]\n",
            " [0.3987995  0.42513871 0.20387572]]\n",
            "Вектор-стовпчик:\n",
            " [[0.44110803]\n",
            " [1.60837693]\n",
            " [1.02781393]]\n",
            "Вектор-стовпчик (варіант 2):\n",
            " [[0.44110803]\n",
            " [1.60837693]\n",
            " [1.02781393]]\n"
          ]
        }
      ],
      "source": [
        "matrix = np.random.rand(3, 3)\n",
        "\n",
        "sum_vector = np.sum(matrix, axis=1)\n",
        "sum_vector_col = sum_vector.reshape((-1, 1))\n",
        "sum_vector2 = np.reshape(np.array([matrix[0].sum(), matrix[1].sum(), matrix[2].sum()]), (3, 1))\n",
        "\n",
        "print(\"Матриця:\\n\", matrix)\n",
        "print(\"Вектор-стовпчик:\\n\", sum_vector_col)\n",
        "print(\"Вектор-стовпчик (варіант 2):\\n\", sum_vector2)"
      ]
    },
    {
      "cell_type": "markdown",
      "id": "29a229bfa8ab5a58",
      "metadata": {
        "collapsed": false,
        "id": "29a229bfa8ab5a58"
      },
      "source": [
        "## 17 Створіть матрицю розміром 3x4 з довільними цілими числами і створінь матрицю з квадратами цих чисел."
      ]
    },
    {
      "cell_type": "code",
      "execution_count": 43,
      "id": "c811bf09bf000cd7",
      "metadata": {
        "colab": {
          "base_uri": "https://localhost:8080/"
        },
        "id": "c811bf09bf000cd7",
        "outputId": "2418708d-d9e6-42b2-aaa5-ac4fb909fb96",
        "ExecuteTime": {
          "end_time": "2024-04-11T21:19:39.876700Z",
          "start_time": "2024-04-11T21:19:39.873346Z"
        }
      },
      "outputs": [
        {
          "output_type": "stream",
          "name": "stdout",
          "text": [
            "Матриця:\n",
            " [[ 5  9  9 10]\n",
            " [ 2  7  3  5]\n",
            " [ 7  4  3  6]]\n",
            "Матриця з квадратами чисел:\n",
            " [[ 25  81  81 100]\n",
            " [  4  49   9  25]\n",
            " [ 49  16   9  36]]\n"
          ]
        }
      ],
      "source": [
        "matrix = np.random.randint(1, 11, (3, 4))\n",
        "\n",
        "result = np.square(matrix)\n",
        "\n",
        "print(\"Матриця:\\n\", matrix)\n",
        "print(\"Матриця з квадратами чисел:\\n\", result)"
      ]
    },
    {
      "cell_type": "markdown",
      "id": "9c5d4b7b74f1793b",
      "metadata": {
        "collapsed": false,
        "id": "9c5d4b7b74f1793b"
      },
      "source": [
        "## 18 Створіть вектор розміром 4, заповніть його випадковими цілими числами в діапазоні від 1 до 50 та знайдіть вектор з квадратними коренями цих чисел."
      ]
    },
    {
      "cell_type": "code",
      "execution_count": 44,
      "id": "24611d992952598",
      "metadata": {
        "colab": {
          "base_uri": "https://localhost:8080/"
        },
        "id": "24611d992952598",
        "outputId": "416a1a08-d60e-42b1-dcc9-95906ca42b13",
        "ExecuteTime": {
          "end_time": "2024-04-11T21:19:39.895691Z",
          "start_time": "2024-04-11T21:19:39.890943Z"
        }
      },
      "outputs": [
        {
          "output_type": "stream",
          "name": "stdout",
          "text": [
            "Вектор:\n",
            " [ 9 47 37 46]\n",
            "Вектор з квадратними коренями:\n",
            " [3.         6.8556546  6.08276253 6.78232998]\n"
          ]
        }
      ],
      "source": [
        "vector = np.random.randint(1, 51, 4)\n",
        "result = np.sqrt(vector)\n",
        "print(\"Вектор:\\n\", vector)\n",
        "print(\"Вектор з квадратними коренями:\\n\", result)"
      ]
    }
  ],
  "metadata": {
    "colab": {
      "provenance": []
    },
    "kernelspec": {
      "display_name": "Python 3",
      "language": "python",
      "name": "python3"
    },
    "language_info": {
      "codemirror_mode": {
        "name": "ipython",
        "version": 3
      },
      "file_extension": ".py",
      "mimetype": "text/x-python",
      "name": "python",
      "nbconvert_exporter": "python",
      "pygments_lexer": "ipython3",
      "version": "3.11.7"
    }
  },
  "nbformat": 4,
  "nbformat_minor": 5
}